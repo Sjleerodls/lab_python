{
  "nbformat": 4,
  "nbformat_minor": 0,
  "metadata": {
    "colab": {
      "provenance": [],
      "toc_visible": true,
      "authorship_tag": "ABX9TyMYKzp0SXo9y6f2CMq2PXpl",
      "include_colab_link": true
    },
    "kernelspec": {
      "name": "python3",
      "display_name": "Python 3"
    },
    "language_info": {
      "name": "python"
    }
  },
  "cells": [
    {
      "cell_type": "markdown",
      "metadata": {
        "id": "view-in-github",
        "colab_type": "text"
      },
      "source": [
        "<a href=\"https://colab.research.google.com/github/Sjleerodls/lab_python/blob/main/python03_conditional.ipynb\" target=\"_parent\"><img src=\"https://colab.research.google.com/assets/colab-badge.svg\" alt=\"Open In Colab\"/></a>"
      ]
    },
    {
      "cell_type": "markdown",
      "source": [
        "# 조건문 (Conditional Statement)"
      ],
      "metadata": {
        "id": "8L186FxCRqnB"
      }
    },
    {
      "cell_type": "markdown",
      "source": [
        "## else 없는 조건문\n",
        "\n",
        "```\n",
        "if 조건식:\n",
        "    조건식을 만족할 때 실행할 코드 블록(문장들)\n",
        "```\n",
        "\n",
        "* `if 조건식` 뒤에는 반드시 콜론(:)을 사용해야 함. 조건식 블록이 시작한다는 의미.\n",
        "* if 블록은 반드시 들여쓰기(indentation)를 해야 함.\n",
        "* 들여쓰기의 크기는 반드시 일정해야 함. (2, 2, 2, 2, ... / 4, 4, 4, 4, ...)\n",
        "* (2, 4, 4, 2, 4, 2, ...) 이런 식으로 들여쓰기는 사용 x"
      ],
      "metadata": {
        "id": "oRFe3TKJQUXS"
      }
    },
    {
      "cell_type": "code",
      "source": [
        "age = int(input('나이 입력 >>> '))\n",
        "\n",
        "if age >= 0:\n",
        "    print(f'당신은 {age}살 이군요.')    # 왼쪽의 희미한 실선이 들여쓰기를 나타냄.\n",
        "print('--- end ---')"
      ],
      "metadata": {
        "colab": {
          "base_uri": "https://localhost:8080/"
        },
        "id": "rX5JJnLuRj0r",
        "outputId": "c50508d6-ac40-465d-82b4-0d9c61ae13f6"
      },
      "execution_count": 11,
      "outputs": [
        {
          "output_type": "stream",
          "name": "stdout",
          "text": [
            "나이 입력 >>> 12\n",
            "당신은 12살 이군요.\n",
            "--- end ---\n"
          ]
        }
      ]
    },
    {
      "cell_type": "markdown",
      "source": [
        "## else가 있는 조건문\n",
        "\n",
        "```\n",
        "if 조건식:\n",
        "    조건식을 만족할 때 실행할 코드 블록 (1)\n",
        "else:\n",
        "    조건식을 만족하지 못할 때 실행할 코드 블록 (2)\n",
        "```\n",
        "\n",
        "* 조건식을 만족할 때는 (1) 블록 실행.\n",
        "* 조건식을 만족하지 못할 때는 (2) 블록 실행.\n",
        "* `if 조건식`과 `else 조건식` 다음에는 반드시 콜론(:)을 써야 함.\n",
        "* if 블록과 else 블록은 반드시 들여쓰기(indentation)을 해야 함.\n",
        "* 들여쓰기 크기는 일정해야 함."
      ],
      "metadata": {
        "id": "LWEo9TjrXv7p"
      }
    },
    {
      "cell_type": "code",
      "source": [
        "age = int(input('나이를 입력하세요. >> '))\n",
        "\n",
        "if age >= 0:\n",
        "    print(f'당신은 {age}살 이군요...')    # (1)\n",
        "else:\n",
        "    print('나이는 0보다 크거나 같아야 합니다...')    # (2)\n",
        "print('--- end ---')"
      ],
      "metadata": {
        "colab": {
          "base_uri": "https://localhost:8080/"
        },
        "id": "0-A2OAyXXUfB",
        "outputId": "b38ae4b3-d793-4c95-b41c-6c0af81b9c5e"
      },
      "execution_count": 19,
      "outputs": [
        {
          "output_type": "stream",
          "name": "stdout",
          "text": [
            "나이를 입력하세요. >> -12\n",
            "나이는 0보다 크거나 같아야 합니다...\n",
            "--- end ---\n"
          ]
        }
      ]
    },
    {
      "cell_type": "markdown",
      "source": [
        "정수를 입력받아서, 짝수/홀수 를 출력하는 코드를 작성하세요."
      ],
      "metadata": {
        "id": "sBVFFFt9aI2h"
      }
    },
    {
      "cell_type": "code",
      "source": [
        "x = int(input('숫자를 입력하세요. >> '))\n",
        "\n",
        "if x % 2 == 0:\n",
        "    print(f'{x}는 짝수입니다.')\n",
        "else:\n",
        "    print(f'{x}는 홀수입니다.')"
      ],
      "metadata": {
        "colab": {
          "base_uri": "https://localhost:8080/"
        },
        "id": "VLwCCdqpaLgj",
        "outputId": "b61f050d-95b9-4a08-ecec-a15b62028692"
      },
      "execution_count": 22,
      "outputs": [
        {
          "output_type": "stream",
          "name": "stdout",
          "text": [
            "숫자를 입력하세요. >> 123\n",
            "123는 홀수입니다.\n"
          ]
        }
      ]
    },
    {
      "cell_type": "markdown",
      "source": [
        "Falsy value : 파이썬에서 False로 취급하는 값.\n",
        "\n",
        "* 숫자(int, float) : 0\n",
        "* 문자열 : 빈 문자열('')\n",
        "* 빈 리스트(list)\n",
        "* None : 변수에 값을 할당하지 않을 때 사용하는 파이썬 키워드."
      ],
      "metadata": {
        "id": "2MtJ2Lagb-uy"
      }
    },
    {
      "cell_type": "code",
      "source": [
        "x = int(input('숫자를 입력하세요. >> '))\n",
        "\n",
        "if x % 2:\n",
        "    print('odd number(홀수)')\n",
        "else:\n",
        "    print('even number(짝수)')"
      ],
      "metadata": {
        "colab": {
          "base_uri": "https://localhost:8080/"
        },
        "id": "KUZctTuLc0x6",
        "outputId": "c9ba29e5-87e0-4630-ec38-1183aa89d4fd"
      },
      "execution_count": 24,
      "outputs": [
        {
          "output_type": "stream",
          "name": "stdout",
          "text": [
            "숫자를 입력하세요. >> 24\n",
            "even number(짝수)\n"
          ]
        }
      ]
    },
    {
      "cell_type": "markdown",
      "source": [
        "## chained conditional (else if)\n",
        "\n",
        "```\n",
        "if 조건식1:\n",
        "    (조건식1)이 True인 경우 실행할 코드 블록\n",
        "elif 조건식2:\n",
        "    (조건식2)가 True인 경우 실행할 코드 블록\n",
        "...\n",
        "else:    # else 생략 가능\n",
        "    위의 모든 조건들이 False일 때 실행할 코드 블록\n",
        "```\n",
        "\n",
        "* elif 블록은 1개 이상이 있을 수 있음.\n",
        "* else 블록은 생략 가능.\n",
        "* 모든 블록 안에서 들여쓰기 크기는 같은 크기로 사용."
      ],
      "metadata": {
        "id": "p5bBtVH6d_gC"
      }
    },
    {
      "cell_type": "markdown",
      "source": [
        "숫자를 입력받아서, 양수/음수/0 인지를 출력."
      ],
      "metadata": {
        "id": "TvJOMmb6fRHS"
      }
    },
    {
      "cell_type": "code",
      "source": [
        "n = int(input('숫자를 입력하세요. >> '))\n",
        "\n",
        "if n > 0:\n",
        "    print(f'{n}은 양수입니다.')\n",
        "elif n < 0:\n",
        "    print(f'{n}은 음수입니다.')\n",
        "else:\n",
        "    print(f'{n}은 0 입니다.')"
      ],
      "metadata": {
        "colab": {
          "base_uri": "https://localhost:8080/"
        },
        "id": "hkmiwmcteyl8",
        "outputId": "fa71c75b-f20e-46e1-afb2-ce8667a9c7bc"
      },
      "execution_count": 31,
      "outputs": [
        {
          "output_type": "stream",
          "name": "stdout",
          "text": [
            "숫자를 입력하세요. >> 12\n",
            "12은 양수입니다.\n"
          ]
        }
      ]
    },
    {
      "cell_type": "markdown",
      "source": [
        "시험 점수를 3번 입력.\n",
        "\n",
        "총점, 평균 계산하고 출력\n",
        "\n",
        "평균 90점 이상이면 'A', 80점 이상이면 'B', 70점 이상이면 'C', 그 이외에는 'F'를 출력."
      ],
      "metadata": {
        "id": "VzkYfw_NfdB5"
      }
    },
    {
      "cell_type": "code",
      "source": [
        "x = int(input('첫번째 숫자를 입력하세요. >>> '))\n",
        "y = int(input('두번째 숫자를 입력하세요. >>> '))\n",
        "z = int(input('세번째 숫자를 입력하세요. >>> '))\n",
        "\n",
        "print('총점 :', (x+y+z))\n",
        "print('평균 :', (x+y+z)/3)\n",
        "\n",
        "if (x+y+z)/3 >= 90:\n",
        "    print('A')\n",
        "elif (x+y+z)/3 >= 80:\n",
        "    print('B')\n",
        "elif (x+y+z)/3 >= 70:\n",
        "    print('C')\n",
        "else:\n",
        "    print('F')"
      ],
      "metadata": {
        "colab": {
          "base_uri": "https://localhost:8080/"
        },
        "id": "6MLfDT8gffVZ",
        "outputId": "2126cf8a-cbff-48fa-c7c8-1c86a43e6ea7"
      },
      "execution_count": 46,
      "outputs": [
        {
          "output_type": "stream",
          "name": "stdout",
          "text": [
            "첫번째 숫자를 입력하세요. >>> 85\n",
            "두번째 숫자를 입력하세요. >>> 83\n",
            "세번째 숫자를 입력하세요. >>> 81\n",
            "총점 : 249\n",
            "평균 : 83.0\n",
            "B\n"
          ]
        }
      ]
    },
    {
      "cell_type": "code",
      "source": [
        "x, y, z= 20, 30, 40\n",
        "\n",
        "print(x, y, z)\n",
        "lis_a = [20, 30, 40]\n",
        "tup_a = (20, 30, 40)\n",
        "print(sum(lis_a))\n",
        "sum(tup_a)\n",
        "max(tup_a)"
      ],
      "metadata": {
        "colab": {
          "base_uri": "https://localhost:8080/"
        },
        "id": "0HLXl_5tg-qq",
        "outputId": "fe7e2d9a-7634-4ece-8e7b-5cfead72cc00"
      },
      "execution_count": 52,
      "outputs": [
        {
          "output_type": "stream",
          "name": "stdout",
          "text": [
            "20 30 40\n",
            "90\n"
          ]
        },
        {
          "output_type": "execute_result",
          "data": {
            "text/plain": [
              "40"
            ]
          },
          "metadata": {},
          "execution_count": 52
        }
      ]
    }
  ]
}
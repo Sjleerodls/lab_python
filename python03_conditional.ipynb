{
  "nbformat": 4,
  "nbformat_minor": 0,
  "metadata": {
    "colab": {
      "provenance": [],
      "toc_visible": true,
      "authorship_tag": "ABX9TyNB4x8LXpk5Zq4ihSwIfBRk",
      "include_colab_link": true
    },
    "kernelspec": {
      "name": "python3",
      "display_name": "Python 3"
    },
    "language_info": {
      "name": "python"
    }
  },
  "cells": [
    {
      "cell_type": "markdown",
      "metadata": {
        "id": "view-in-github",
        "colab_type": "text"
      },
      "source": [
        "<a href=\"https://colab.research.google.com/github/Sjleerodls/lab_python/blob/main/python03_conditional.ipynb\" target=\"_parent\"><img src=\"https://colab.research.google.com/assets/colab-badge.svg\" alt=\"Open In Colab\"/></a>"
      ]
    },
    {
      "cell_type": "markdown",
      "source": [
        "# 조건문 (Conditional Statement)"
      ],
      "metadata": {
        "id": "8L186FxCRqnB"
      }
    },
    {
      "cell_type": "markdown",
      "source": [
        "## else 없는 조건문\n",
        "\n",
        "```\n",
        "if 조건식:\n",
        "    조건식을 만족할 때 실행할 코드 블록(문장들)\n",
        "```\n",
        "\n",
        "* `if 조건식` 뒤에는 반드시 콜론(:)을 사용해야 함. 조건식 블록이 시작한다는 의미.\n",
        "* if 블록은 반드시 들여쓰기(indentation)를 해야 함.\n",
        "* 들여쓰기의 크기는 반드시 일정해야 함. (2, 2, 2, 2, ... / 4, 4, 4, 4, ...)\n",
        "* (2, 4, 4, 2, 4, 2, ...) 이런 식으로 들여쓰기는 사용 x"
      ],
      "metadata": {
        "id": "oRFe3TKJQUXS"
      }
    },
    {
      "cell_type": "code",
      "source": [
        "age = int(input('나이 입력 >>> '))\n",
        "\n",
        "if age >= 0:\n",
        "    print(f'당신은 {age}살 이군요.')    # 왼쪽의 희미한 실선이 들여쓰기를 나타냄.\n",
        "print('--- end ---')"
      ],
      "metadata": {
        "colab": {
          "base_uri": "https://localhost:8080/"
        },
        "id": "rX5JJnLuRj0r",
        "outputId": "c50508d6-ac40-465d-82b4-0d9c61ae13f6"
      },
      "execution_count": null,
      "outputs": [
        {
          "output_type": "stream",
          "name": "stdout",
          "text": [
            "나이 입력 >>> 12\n",
            "당신은 12살 이군요.\n",
            "--- end ---\n"
          ]
        }
      ]
    },
    {
      "cell_type": "markdown",
      "source": [
        "## else가 있는 조건문\n",
        "\n",
        "```\n",
        "if 조건식:\n",
        "    조건식을 만족할 때 실행할 코드 블록 (1)\n",
        "else:\n",
        "    조건식을 만족하지 못할 때 실행할 코드 블록 (2)\n",
        "```\n",
        "\n",
        "* 조건식을 만족할 때는 (1) 블록 실행.\n",
        "* 조건식을 만족하지 못할 때는 (2) 블록 실행.\n",
        "* `if 조건식`과 `else 조건식` 다음에는 반드시 콜론(:)을 써야 함.\n",
        "* if 블록과 else 블록은 반드시 들여쓰기(indentation)을 해야 함.\n",
        "* 들여쓰기 크기는 일정해야 함."
      ],
      "metadata": {
        "id": "LWEo9TjrXv7p"
      }
    },
    {
      "cell_type": "code",
      "source": [
        "age = int(input('나이를 입력하세요. >> '))\n",
        "\n",
        "if age >= 0:\n",
        "    print(f'당신은 {age}살 이군요...')    # (1)\n",
        "else:\n",
        "    print('나이는 0보다 크거나 같아야 합니다...')    # (2)\n",
        "print('--- end ---')"
      ],
      "metadata": {
        "colab": {
          "base_uri": "https://localhost:8080/"
        },
        "id": "0-A2OAyXXUfB",
        "outputId": "b38ae4b3-d793-4c95-b41c-6c0af81b9c5e"
      },
      "execution_count": null,
      "outputs": [
        {
          "output_type": "stream",
          "name": "stdout",
          "text": [
            "나이를 입력하세요. >> -12\n",
            "나이는 0보다 크거나 같아야 합니다...\n",
            "--- end ---\n"
          ]
        }
      ]
    },
    {
      "cell_type": "markdown",
      "source": [
        "정수를 입력받아서, 짝수/홀수 를 출력하는 코드를 작성하세요."
      ],
      "metadata": {
        "id": "sBVFFFt9aI2h"
      }
    },
    {
      "cell_type": "code",
      "source": [
        "x = int(input('숫자를 입력하세요. >> '))\n",
        "\n",
        "if x % 2 == 0:\n",
        "    print(f'{x}는 짝수입니다.')\n",
        "else:\n",
        "    print(f'{x}는 홀수입니다.')"
      ],
      "metadata": {
        "colab": {
          "base_uri": "https://localhost:8080/"
        },
        "id": "VLwCCdqpaLgj",
        "outputId": "b61f050d-95b9-4a08-ecec-a15b62028692"
      },
      "execution_count": null,
      "outputs": [
        {
          "output_type": "stream",
          "name": "stdout",
          "text": [
            "숫자를 입력하세요. >> 123\n",
            "123는 홀수입니다.\n"
          ]
        }
      ]
    },
    {
      "cell_type": "markdown",
      "source": [
        "Falsy value : 파이썬에서 False로 취급하는 값.\n",
        "\n",
        "* 숫자(int, float) : 0\n",
        "* 문자열 : 빈 문자열('')\n",
        "* 빈 리스트(list)\n",
        "* None : 변수에 값을 할당하지 않을 때 사용하는 파이썬 키워드."
      ],
      "metadata": {
        "id": "2MtJ2Lagb-uy"
      }
    },
    {
      "cell_type": "code",
      "source": [
        "x = int(input('숫자를 입력하세요. >> '))\n",
        "\n",
        "if x % 2:\n",
        "    print('odd number(홀수)')\n",
        "else:\n",
        "    print('even number(짝수)')"
      ],
      "metadata": {
        "colab": {
          "base_uri": "https://localhost:8080/"
        },
        "id": "KUZctTuLc0x6",
        "outputId": "c9ba29e5-87e0-4630-ec38-1183aa89d4fd"
      },
      "execution_count": null,
      "outputs": [
        {
          "output_type": "stream",
          "name": "stdout",
          "text": [
            "숫자를 입력하세요. >> 24\n",
            "even number(짝수)\n"
          ]
        }
      ]
    },
    {
      "cell_type": "markdown",
      "source": [
        "## chained conditional (else if)\n",
        "\n",
        "```\n",
        "if 조건식1:\n",
        "    (조건식1)이 True인 경우 실행할 코드 블록\n",
        "elif 조건식2:\n",
        "    (조건식2)가 True인 경우 실행할 코드 블록\n",
        "...\n",
        "else:    # else 생략 가능\n",
        "    위의 모든 조건들이 False일 때 실행할 코드 블록\n",
        "```\n",
        "\n",
        "* elif 블록은 1개 이상이 있을 수 있음.\n",
        "* else 블록은 생략 가능.\n",
        "* 모든 블록 안에서 들여쓰기 크기는 같은 크기로 사용."
      ],
      "metadata": {
        "id": "p5bBtVH6d_gC"
      }
    },
    {
      "cell_type": "markdown",
      "source": [
        "숫자를 입력받아서, 양수/음수/0 인지를 출력."
      ],
      "metadata": {
        "id": "TvJOMmb6fRHS"
      }
    },
    {
      "cell_type": "code",
      "source": [
        "n = float(input('숫자를 입력하세요. >> '))\n",
        "\n",
        "if n > 0:\n",
        "    print(f'{n}은 양수입니다.')\n",
        "elif n < 0:\n",
        "    print(f'{n}은 음수입니다.')\n",
        "else:\n",
        "    print(f'{n}은 zero 입니다.')"
      ],
      "metadata": {
        "colab": {
          "base_uri": "https://localhost:8080/"
        },
        "id": "hkmiwmcteyl8",
        "outputId": "eae22619-b5f6-4911-a01a-7f364e47e035"
      },
      "execution_count": null,
      "outputs": [
        {
          "output_type": "stream",
          "name": "stdout",
          "text": [
            "숫자를 입력하세요. >> -14.51\n",
            "-14.51은 음수입니다.\n"
          ]
        }
      ]
    },
    {
      "cell_type": "markdown",
      "source": [
        "시험 점수를 3번 입력.\n",
        "\n",
        "총점, 평균 계산하고 출력\n",
        "\n",
        "평균 90점 이상이면 'A', 80점 이상이면 'B', 70점 이상이면 'C', 그 이외에는 'F'를 출력."
      ],
      "metadata": {
        "id": "VzkYfw_NfdB5"
      }
    },
    {
      "cell_type": "code",
      "source": [
        "x = int(input('첫번째 숫자를 입력하세요. >>> '))\n",
        "y = int(input('두번째 숫자를 입력하세요. >>> '))\n",
        "z = int(input('세번째 숫자를 입력하세요. >>> '))\n",
        "\n",
        "sum_t = x+y+z\n",
        "avg_t = sum_t/3\n",
        "print('총점 :', sum_t)\n",
        "print('평균 :', avg_t)\n",
        "\n",
        "if avg_t >= 90:\n",
        "    print('A')\n",
        "elif avg_t >= 80:\n",
        "    print('B')\n",
        "elif avg_t >= 70:\n",
        "    print('C')\n",
        "else:\n",
        "    print('F')"
      ],
      "metadata": {
        "colab": {
          "base_uri": "https://localhost:8080/"
        },
        "id": "6MLfDT8gffVZ",
        "outputId": "af8dc2a9-caec-4d2d-ac1d-bbfedf2a7f0e"
      },
      "execution_count": null,
      "outputs": [
        {
          "output_type": "stream",
          "name": "stdout",
          "text": [
            "첫번째 숫자를 입력하세요. >>> 123\n",
            "두번째 숫자를 입력하세요. >>> 245\n",
            "세번째 숫자를 입력하세요. >>> 22\n",
            "총점 : 390\n",
            "평균 : 130.0\n",
            "A\n"
          ]
        }
      ]
    },
    {
      "cell_type": "markdown",
      "source": [
        "## 중첩 조건문\n",
        "\n",
        "* if, elif, else 블록 안에서 또다른 조건문을 사용하는 것.\n",
        "* 들여쓰기를 특히 주의!\n",
        "* 들여쓰기 방식에 따라서 전혀 다른 로직이 될 수도 있음.\n",
        "* 중첩 조건문을 논리 연산자(and, or)를 사용하는 조건문 또는 elif 블록으로 바꿀 수도 있음."
      ],
      "metadata": {
        "id": "H0mKgG_6pqBp"
      }
    },
    {
      "cell_type": "code",
      "source": [
        "number = float(input('숫자를 입력해주세요. >>> '))\n",
        "\n",
        "if number >= 0: # number > 0 or number == 0\n",
        "    if number > 0:\n",
        "        print('양수')\n",
        "    else:\n",
        "        print('영')\n",
        "else:\n",
        "    print('음수')"
      ],
      "metadata": {
        "colab": {
          "base_uri": "https://localhost:8080/"
        },
        "id": "0HLXl_5tg-qq",
        "outputId": "bcc870ac-620f-4788-e9e9-df9340ef661a"
      },
      "execution_count": null,
      "outputs": [
        {
          "output_type": "stream",
          "name": "stdout",
          "text": [
            "숫자를 입력해주세요. >>> 0.0000000\n",
            "영\n"
          ]
        }
      ]
    },
    {
      "cell_type": "markdown",
      "source": [
        "# 난수 (random number)를 만드는 방법"
      ],
      "metadata": {
        "id": "tNpNq8gGtW-L"
      }
    },
    {
      "cell_type": "code",
      "source": [
        "import random   # 난수 생성 기능을 가지고 있는 random 모듈을 사용."
      ],
      "metadata": {
        "id": "_8XkZTpMteZp"
      },
      "execution_count": null,
      "outputs": []
    },
    {
      "cell_type": "code",
      "source": [
        "random.random() # [0, 1) : 0 이상 1 미만 범위의 난수를 리턴"
      ],
      "metadata": {
        "colab": {
          "base_uri": "https://localhost:8080/"
        },
        "id": "YQ-ZitEztpCa",
        "outputId": "50d7333a-2eab-4c13-a248-daca21222f9f"
      },
      "execution_count": null,
      "outputs": [
        {
          "output_type": "execute_result",
          "data": {
            "text/plain": [
              "0.2625823479762205"
            ]
          },
          "metadata": {},
          "execution_count": 92
        }
      ]
    },
    {
      "cell_type": "code",
      "source": [
        "random.randrange(0, 5)  # [0, 5) 범위의 난수를 리턴."
      ],
      "metadata": {
        "colab": {
          "base_uri": "https://localhost:8080/"
        },
        "id": "bFeHkX_huORJ",
        "outputId": "c1450333-ea77-4f5d-fede-e3449844da5f"
      },
      "execution_count": null,
      "outputs": [
        {
          "output_type": "execute_result",
          "data": {
            "text/plain": [
              "3"
            ]
          },
          "metadata": {},
          "execution_count": 113
        }
      ]
    },
    {
      "cell_type": "code",
      "source": [
        "random.randrange(5) # 시작값을 지정하지 않으면 0 이상 5 미만 범위의 정수 난수를 리턴."
      ],
      "metadata": {
        "colab": {
          "base_uri": "https://localhost:8080/"
        },
        "id": "utqUBeU0uowL",
        "outputId": "993324fb-32c4-4d85-b686-18e7515ac383"
      },
      "execution_count": null,
      "outputs": [
        {
          "output_type": "execute_result",
          "data": {
            "text/plain": [
              "0"
            ]
          },
          "metadata": {},
          "execution_count": 179
        }
      ]
    },
    {
      "cell_type": "markdown",
      "source": [
        "## 연습문제\n",
        "\n",
        "가위, 바위, 보 게임의 승패를 출력\n",
        "* 가위 = 1, 바위 = 2, 보 = 3\n",
        "* 컴퓨터 : 1이상 3이하 (4 미만)의 정수 난수를 저장.\n",
        "* 사용자 : 1이상 3이하의 정수를 입력받아서 저장.\n",
        "* 결과(조건문 사용) 출력 (예) 컴퓨터 승, 사용자 승."
      ],
      "metadata": {
        "id": "4kB9u5fFx6CL"
      }
    },
    {
      "cell_type": "code",
      "source": [
        "import random\n",
        "\n",
        "# 가위 = 1, 바위 = 2, 보 = 3\n",
        "\n",
        "computer = random.randrange(1, 4)\n",
        "user = int(input('1 ~ 3 사이의 정수를 입력하세요. >>> '))\n",
        "\n",
        "\n",
        "if computer == 1:\n",
        "    print('컴퓨터 = 가위')\n",
        "elif computer == 2:\n",
        "    print('컴퓨터 = 바위')\n",
        "else:\n",
        "    print('컴퓨터 = 보')\n",
        "\n",
        "\n",
        "if user == 1:\n",
        "    print('사용자 = 가위')\n",
        "elif user == 2:\n",
        "    print('사용자 = 바위')\n",
        "elif user == 3:\n",
        "    print('사용자 = 보')\n",
        "else:\n",
        "    print('사용자가 가위, 바위, 보를 선택하지 못했습니다.')\n",
        "    user = int(input('1 ~ 3 사이의 정수를 입력하세요. >>> !!! '))\n",
        "\n",
        "\n",
        "if computer == 3 and user == 1:\n",
        "    print('사용자 승')\n",
        "elif computer == 3 and user == 2:\n",
        "    print('컴퓨터 승')\n",
        "elif computer == 3 and user == 3:\n",
        "    print('무승부 입니다.')\n",
        "elif computer == 2 and user == 1:\n",
        "    print('컴퓨터 승')\n",
        "elif computer == 2 and user == 2:\n",
        "    print('무승부 입니다.')\n",
        "elif computer == 2 and user == 3:\n",
        "    print('사용자 승')\n",
        "elif computer == 1 and user == 1:\n",
        "    print('무승부 입니다.')\n",
        "elif computer == 1 and user == 2:\n",
        "    print('사용자 승')\n",
        "elif computer == 1 and user == 3:\n",
        "    print('컴퓨터 승')\n",
        "else:\n",
        "    print('사용자 가위바위보 실격. 페어 플레이 요청합니다.')"
      ],
      "metadata": {
        "colab": {
          "base_uri": "https://localhost:8080/"
        },
        "id": "_CuKz_jQyKx7",
        "outputId": "6b93f503-162f-4d50-926a-e7e379524067"
      },
      "execution_count": null,
      "outputs": [
        {
          "output_type": "stream",
          "name": "stdout",
          "text": [
            "1 ~ 3 사이의 정수를 입력하세요. >>> 123\n",
            "컴퓨터 = 가위\n",
            "사용자가 가위, 바위, 보를 선택하지 못했습니다.\n",
            "1 ~ 3 사이의 정수를 입력하세요. >>> !!! 123\n",
            "사용자 가위바위보 실격. 페어 플레이 요청합니다.\n"
          ]
        }
      ]
    },
    {
      "cell_type": "code",
      "source": [
        "import random\n",
        "\n",
        "# answer\n",
        "print('=== 가위/바위/보 ===')\n",
        "print('[1] 가위')\n",
        "print('[2] 바위')\n",
        "print('[3] 보')\n",
        "print('=====================')\n",
        "user = int(input('선택 >>> '))\n",
        "\n",
        "computer = random.randrange(1, 4)\n",
        "print(f'user={user}, computer={computer}')\n",
        "\n",
        "if user == 1:   # user = 가위\n",
        "    if computer == 1:   # computer = 가위\n",
        "        print('비김')\n",
        "    elif computer == 2: # computer = 바위\n",
        "        print('패')\n",
        "    else:               # computer = 보\n",
        "        print('승')\n",
        "elif user == 2: # user = 바위\n",
        "    if computer == 1:   # computer = 가위\n",
        "        print('승')\n",
        "    elif computer == 2: # computer = 바위\n",
        "        print('비김')\n",
        "    else:               # computer = 보\n",
        "        print('패')\n",
        "else:   # user = 보\n",
        "    if computer == 1:   # computer = 가위\n",
        "        print('패')\n",
        "    elif computer == 2: # computer = 바위\n",
        "        print('승')\n",
        "    else:               # computer = 보\n",
        "        print('비김')"
      ],
      "metadata": {
        "colab": {
          "base_uri": "https://localhost:8080/"
        },
        "id": "s88pPCB1b1pA",
        "outputId": "aea586db-50e7-4208-a109-9cc6f258aaf7"
      },
      "execution_count": 8,
      "outputs": [
        {
          "output_type": "stream",
          "name": "stdout",
          "text": [
            "=== 가위/바위/보 ===\n",
            "[1] 가위\n",
            "[2] 바위\n",
            "[3] 보\n",
            "=====================\n",
            "선택 >>> 2\n",
            "user=2, computer=3\n",
            "패\n"
          ]
        }
      ]
    },
    {
      "cell_type": "code",
      "source": [
        "import random\n",
        "\n",
        "# answer (2)\n",
        "print('=== 가위/바위/보 ===')\n",
        "print('[1] 가위')\n",
        "print('[2] 바위')\n",
        "print('[3] 보')\n",
        "print('=====================')\n",
        "user = int(input('선택 >>> '))\n",
        "\n",
        "computer = random.randrange(1, 4)\n",
        "print(f'user={user}, computer={computer}')\n",
        "\n",
        "if user == computer:\n",
        "    print('비김')\n",
        "elif user == 1: # user = 가위\n",
        "    if computer == 2:   # computer = 바위\n",
        "        print('computer 승')\n",
        "    else:               # computer = 보\n",
        "        print('user 승')\n",
        "elif user == 2: # user = 바위\n",
        "    if computer == 3:   # computer = 보\n",
        "        print('computer 승')\n",
        "    else:               # computer = 가위\n",
        "        print('user 승')\n",
        "else:           # user = 보\n",
        "    if computer == 1:   # computer = 가위\n",
        "        print('computer 승')\n",
        "    elif computer == 2: # computer = 바위\n",
        "        print('user 승')"
      ],
      "metadata": {
        "colab": {
          "base_uri": "https://localhost:8080/"
        },
        "id": "et2IYTvEe39Z",
        "outputId": "613acaa8-1834-40a1-e7a9-e115d11db8de"
      },
      "execution_count": 13,
      "outputs": [
        {
          "output_type": "stream",
          "name": "stdout",
          "text": [
            "=== 가위/바위/보 ===\n",
            "[1] 가위\n",
            "[2] 바위\n",
            "[3] 보\n",
            "=====================\n",
            "선택 >>> 2\n",
            "user=2, computer=2\n",
            "비김\n"
          ]
        }
      ]
    },
    {
      "cell_type": "code",
      "source": [
        "import random\n",
        "\n",
        "# answer (3)\n",
        "print('=== 가위/바위/보 ===')\n",
        "print('[1] 가위')\n",
        "print('[2] 바위')\n",
        "print('[3] 보')\n",
        "print('=====================')\n",
        "user = int(input('선택 >>> '))\n",
        "\n",
        "computer = random.randrange(1, 4)\n",
        "print(f'user={user}, computer={computer}')\n",
        "\n",
        "# user가 이기는 경우들\n",
        "user_win = (user == 1 and computer == 3) or (user == 2 and computer == 1) or (user == 3 and computer == 2)\n",
        "\n",
        "if user == computer:\n",
        "    print('Tie')\n",
        "elif user_win:\n",
        "    print('User Win')\n",
        "else:\n",
        "    print('Computer Win')"
      ],
      "metadata": {
        "colab": {
          "base_uri": "https://localhost:8080/"
        },
        "id": "7d_NNZoLg37A",
        "outputId": "5473fc31-ad93-4e1f-c47e-b7a7a8d5378f"
      },
      "execution_count": 20,
      "outputs": [
        {
          "output_type": "stream",
          "name": "stdout",
          "text": [
            "=== 가위/바위/보 ===\n",
            "[1] 가위\n",
            "[2] 바위\n",
            "[3] 보\n",
            "=====================\n",
            "선택 >>> 3\n",
            "user=3, computer=2\n",
            "User Win\n"
          ]
        }
      ]
    },
    {
      "cell_type": "code",
      "source": [
        "import random\n",
        "\n",
        "# answer (4)\n",
        "print('=== 가위/바위/보 ===')\n",
        "print('[1] 가위')\n",
        "print('[2] 바위')\n",
        "print('[3] 보')\n",
        "print('=====================')\n",
        "user = int(input('선택 >>> '))\n",
        "\n",
        "computer = random.randrange(1, 4)\n",
        "print(f'user={user}, computer={computer}')\n",
        "\n",
        "game = user - computer\n",
        "if game == 0:\n",
        "    print('tie')\n",
        "elif game == 1 or -2:\n",
        "    print('user win')\n",
        "else:\n",
        "    print('computer win')"
      ],
      "metadata": {
        "colab": {
          "base_uri": "https://localhost:8080/"
        },
        "id": "x2rl3HpWmOKw",
        "outputId": "4a1a9d4f-df0f-46f6-8aaf-6f8c90e31a99"
      },
      "execution_count": 69,
      "outputs": [
        {
          "output_type": "stream",
          "name": "stdout",
          "text": [
            "=== 가위/바위/보 ===\n",
            "[1] 가위\n",
            "[2] 바위\n",
            "[3] 보\n",
            "=====================\n",
            "선택 >>> 2\n",
            "user=2, computer=2\n",
            "tie\n"
          ]
        }
      ]
    },
    {
      "cell_type": "markdown",
      "source": [
        "# match 문\n",
        "\n",
        "```\n",
        "match 변수(또는 식):\n",
        "    case 값1:\n",
        "        변수(또는 식)의 값이 (값1)과 같은 경우 실행할 코드 블록\n",
        "    case 값2:\n",
        "        변수(또는 식)의 값이 (값2)와 같은 경우 실행할 코드 블록\n",
        "    ...\n",
        "```"
      ],
      "metadata": {
        "id": "pxGDNgcDnhyQ"
      }
    },
    {
      "cell_type": "code",
      "source": [
        "user = int(input('1 ~ 3 선택하세요 >>> '))\n",
        "\n",
        "match user:\n",
        "    case 1:\n",
        "        print('가위')\n",
        "    case 2:\n",
        "        print('바위')\n",
        "    case 3:\n",
        "        print('보')"
      ],
      "metadata": {
        "colab": {
          "base_uri": "https://localhost:8080/"
        },
        "id": "Fwhe35Z2oP4A",
        "outputId": "a193b4b7-f139-4dec-9527-21e29798a2c9"
      },
      "execution_count": 72,
      "outputs": [
        {
          "output_type": "stream",
          "name": "stdout",
          "text": [
            "1 ~ 3 선택하세요 >>> 3\n",
            "보\n"
          ]
        }
      ]
    },
    {
      "cell_type": "code",
      "source": [
        "# 0(일요일), 1(월요일), ... , (5)금요일, (6)토요일\n",
        "day = int(input('0 ~ 6 선택하세요 >>> '))\n",
        "\n",
        "match day:\n",
        "    case 1|2|3|4|5:\n",
        "        print('학원')\n",
        "    case 0|6:\n",
        "        print('휴일')"
      ],
      "metadata": {
        "colab": {
          "base_uri": "https://localhost:8080/"
        },
        "id": "CStBPakupC9Q",
        "outputId": "76966eee-c633-4208-9b4e-07b659e6dab1"
      },
      "execution_count": 75,
      "outputs": [
        {
          "output_type": "stream",
          "name": "stdout",
          "text": [
            "0 ~ 6 선택하세요 >>> 3\n",
            "학원\n"
          ]
        }
      ]
    }
  ]
}
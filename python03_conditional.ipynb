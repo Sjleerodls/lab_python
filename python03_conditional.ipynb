{
  "nbformat": 4,
  "nbformat_minor": 0,
  "metadata": {
    "colab": {
      "provenance": [],
      "toc_visible": true,
      "authorship_tag": "ABX9TyNwPIvFp6PVyzh5Qea8sIGv",
      "include_colab_link": true
    },
    "kernelspec": {
      "name": "python3",
      "display_name": "Python 3"
    },
    "language_info": {
      "name": "python"
    }
  },
  "cells": [
    {
      "cell_type": "markdown",
      "metadata": {
        "id": "view-in-github",
        "colab_type": "text"
      },
      "source": [
        "<a href=\"https://colab.research.google.com/github/Sjleerodls/lab_python/blob/main/python03_conditional.ipynb\" target=\"_parent\"><img src=\"https://colab.research.google.com/assets/colab-badge.svg\" alt=\"Open In Colab\"/></a>"
      ]
    },
    {
      "cell_type": "markdown",
      "source": [
        "# 조건문 (Conditional Statement)"
      ],
      "metadata": {
        "id": "8L186FxCRqnB"
      }
    },
    {
      "cell_type": "markdown",
      "source": [
        "## else 없는 조건문\n",
        "\n",
        "```\n",
        "if 조건식:\n",
        "    조건식을 만족할 때 실행할 코드 블록(문장들)\n",
        "```\n",
        "\n",
        "* `if 조건식` 뒤에는 반드시 콜론(:)을 사용해야 함. 조건식 블록이 시작한다는 의미.\n",
        "* if 블록은 반드시 들여쓰기(indentation)를 해야 함.\n",
        "* 들여쓰기의 크기는 반드시 일정해야 함. (2, 2, 2, 2, ... / 4, 4, 4, 4, ...)\n",
        "* (2, 4, 4, 2, 4, 2, ...) 이런 식으로 들여쓰기는 사용 x"
      ],
      "metadata": {
        "id": "oRFe3TKJQUXS"
      }
    },
    {
      "cell_type": "code",
      "source": [
        "age = int(input('나이 입력 >>> '))\n",
        "\n",
        "if age >= 0:\n",
        "    print(f'당신은 {age}살 이군요.')    # 왼쪽의 희미한 실선이 들여쓰기를 나타냄.\n",
        "print('--- end ---')"
      ],
      "metadata": {
        "colab": {
          "base_uri": "https://localhost:8080/"
        },
        "id": "rX5JJnLuRj0r",
        "outputId": "c50508d6-ac40-465d-82b4-0d9c61ae13f6"
      },
      "execution_count": 11,
      "outputs": [
        {
          "output_type": "stream",
          "name": "stdout",
          "text": [
            "나이 입력 >>> 12\n",
            "당신은 12살 이군요.\n",
            "--- end ---\n"
          ]
        }
      ]
    }
  ]
}
{
  "nbformat": 4,
  "nbformat_minor": 0,
  "metadata": {
    "colab": {
      "provenance": [],
      "toc_visible": true,
      "authorship_tag": "ABX9TyN7/qlTFAW0gDEIBybhqIhI",
      "include_colab_link": true
    },
    "kernelspec": {
      "name": "python3",
      "display_name": "Python 3"
    },
    "language_info": {
      "name": "python"
    }
  },
  "cells": [
    {
      "cell_type": "markdown",
      "metadata": {
        "id": "view-in-github",
        "colab_type": "text"
      },
      "source": [
        "<a href=\"https://colab.research.google.com/github/Sjleerodls/lab_python/blob/main/python13_oop.ipynb\" target=\"_parent\"><img src=\"https://colab.research.google.com/assets/colab-badge.svg\" alt=\"Open In Colab\"/></a>"
      ]
    },
    {
      "cell_type": "markdown",
      "source": [
        "# 객체지향 프로그래밍 배경"
      ],
      "metadata": {
        "id": "0uhOxk-ZxleJ"
      }
    },
    {
      "cell_type": "code",
      "execution_count": 73,
      "metadata": {
        "id": "otiINhhHxfJk"
      },
      "outputs": [],
      "source": [
        "students = [\n",
        "    {'id' : 1, 'name' : '홍길동', 'korean' : 100, 'english' : 80, 'math' : 95},\n",
        "    {'id' : 2, 'name' : '오쌤', 'kor' : 50, 'eng' : 45, 'math' : 61},   # 다른 데이터와 병합 과정에서 다른 key 값이 들어옴.\n",
        "    {'id' : 3, 'name' : 'Scott', 'korean' : 70, 'english' : 99, 'math' : 78}\n",
        "]"
      ]
    },
    {
      "cell_type": "code",
      "source": [
        "print(students[1].keys())\n",
        "students[2].keys()"
      ],
      "metadata": {
        "colab": {
          "base_uri": "https://localhost:8080/"
        },
        "id": "zCNTh5Is5rkQ",
        "outputId": "d4ce398e-0de3-4f52-9a8e-6fd2f1d82bff"
      },
      "execution_count": 69,
      "outputs": [
        {
          "output_type": "stream",
          "name": "stdout",
          "text": [
            "dict_keys(['id', 'name', 'kor', 'eng', 'math'])\n"
          ]
        },
        {
          "output_type": "execute_result",
          "data": {
            "text/plain": [
              "dict_keys(['id', 'name', 'korean', 'english', 'math'])"
            ]
          },
          "metadata": {},
          "execution_count": 69
        }
      ]
    },
    {
      "cell_type": "code",
      "source": [
        "len(students)\n",
        "students[0]"
      ],
      "metadata": {
        "colab": {
          "base_uri": "https://localhost:8080/"
        },
        "id": "SgQY_o3WzgDA",
        "outputId": "88524710-e01c-4cfc-b088-4f22b5911a61"
      },
      "execution_count": 7,
      "outputs": [
        {
          "output_type": "execute_result",
          "data": {
            "text/plain": [
              "{'id': 1, 'name': '홍길동', 'korean': 100, 'english': 80, 'math': 95}"
            ]
          },
          "metadata": {},
          "execution_count": 7
        }
      ]
    },
    {
      "cell_type": "code",
      "source": [
        "# 번호, 이름, 총점, 평균을 출력\n",
        "def students_info(id):\n",
        "    result = []\n",
        "    id -= 1\n",
        "    if students[id]['korean'] in students[id].keys():\n",
        "        total = students[id]['korean'] + students[id]['english'] + students[id]['math']\n",
        "    elif students[id]['kor'] in students[id].keys():\n",
        "        total = students[id]['kor'] + students[id]['english'] + students[id]['math']\n",
        "\n",
        "\n",
        "\n",
        "    # total = students[id]['korean'] + students[id]['english'] + students[id]['math']\n",
        "    mean = total / len(students)\n",
        "\n",
        "    result.append(students[id]['id'])\n",
        "    result.append(students[id]['name'])\n",
        "    result.append(total)\n",
        "    result.append(mean)\n",
        "\n",
        "    return result"
      ],
      "metadata": {
        "id": "qM4trFjIyyRb"
      },
      "execution_count": 66,
      "outputs": []
    },
    {
      "cell_type": "code",
      "source": [
        "print(students_info(1))\n",
        "print(students_info(2))\n",
        "print(students_info(3))"
      ],
      "metadata": {
        "colab": {
          "base_uri": "https://localhost:8080/"
        },
        "id": "1I16ApPRzPkT",
        "outputId": "228f8939-a1db-41c3-88f5-fda9b85de0c9"
      },
      "execution_count": 71,
      "outputs": [
        {
          "output_type": "stream",
          "name": "stdout",
          "text": [
            "[1, '홍길동', 275, 91.66666666666667]\n",
            "[2, '오쌤', 156, 52.0]\n",
            "[3, 'Scott', 247, 82.33333333333333]\n"
          ]
        }
      ]
    },
    {
      "cell_type": "code",
      "source": [
        "# 번호, 이름, 총점, 평균을 출력\n",
        "# 오쌤\n",
        "for s in students:\n",
        "    total = s['korean'] + s['english'] + s['math']\n",
        "    mean = total/3\n",
        "    print()\n",
        "    print(f\"번호 : {s['id']}, 이름 : {s['name']}, 총점 : {total}, 평균 : {mean}\")"
      ],
      "metadata": {
        "colab": {
          "base_uri": "https://localhost:8080/",
          "height": 257
        },
        "id": "TUYHN3Qz2aIA",
        "outputId": "f5bd62be-f833-481a-e720-956f7b5e72b3"
      },
      "execution_count": 74,
      "outputs": [
        {
          "output_type": "stream",
          "name": "stdout",
          "text": [
            "\n",
            "번호 : 1, 이름 : 홍길동, 총점 : 275, 평균 : 91.66666666666667\n"
          ]
        },
        {
          "output_type": "error",
          "ename": "KeyError",
          "evalue": "'korean'",
          "traceback": [
            "\u001b[0;31m---------------------------------------------------------------------------\u001b[0m",
            "\u001b[0;31mKeyError\u001b[0m                                  Traceback (most recent call last)",
            "\u001b[0;32m<ipython-input-74-271637262>\u001b[0m in \u001b[0;36m<cell line: 0>\u001b[0;34m()\u001b[0m\n\u001b[1;32m      2\u001b[0m \u001b[0;31m# 오쌤\u001b[0m\u001b[0;34m\u001b[0m\u001b[0;34m\u001b[0m\u001b[0m\n\u001b[1;32m      3\u001b[0m \u001b[0;32mfor\u001b[0m \u001b[0ms\u001b[0m \u001b[0;32min\u001b[0m \u001b[0mstudents\u001b[0m\u001b[0;34m:\u001b[0m\u001b[0;34m\u001b[0m\u001b[0;34m\u001b[0m\u001b[0m\n\u001b[0;32m----> 4\u001b[0;31m     \u001b[0mtotal\u001b[0m \u001b[0;34m=\u001b[0m \u001b[0ms\u001b[0m\u001b[0;34m[\u001b[0m\u001b[0;34m'korean'\u001b[0m\u001b[0;34m]\u001b[0m \u001b[0;34m+\u001b[0m \u001b[0ms\u001b[0m\u001b[0;34m[\u001b[0m\u001b[0;34m'english'\u001b[0m\u001b[0;34m]\u001b[0m \u001b[0;34m+\u001b[0m \u001b[0ms\u001b[0m\u001b[0;34m[\u001b[0m\u001b[0;34m'math'\u001b[0m\u001b[0;34m]\u001b[0m\u001b[0;34m\u001b[0m\u001b[0;34m\u001b[0m\u001b[0m\n\u001b[0m\u001b[1;32m      5\u001b[0m     \u001b[0mmean\u001b[0m \u001b[0;34m=\u001b[0m \u001b[0mtotal\u001b[0m\u001b[0;34m/\u001b[0m\u001b[0;36m3\u001b[0m\u001b[0;34m\u001b[0m\u001b[0;34m\u001b[0m\u001b[0m\n\u001b[1;32m      6\u001b[0m     \u001b[0mprint\u001b[0m\u001b[0;34m(\u001b[0m\u001b[0;34m)\u001b[0m\u001b[0;34m\u001b[0m\u001b[0;34m\u001b[0m\u001b[0m\n",
            "\u001b[0;31mKeyError\u001b[0m: 'korean'"
          ]
        }
      ]
    },
    {
      "cell_type": "markdown",
      "source": [
        "위 코드의 문제점은 dict의 키는 중복되지만 않게 만들면 되기 때문에, 반복문에서 총점과 평균을 계산하는 코드가 제대로 동작하지 않을 수도 있음."
      ],
      "metadata": {
        "id": "7IJdeNt72SFD"
      }
    },
    {
      "cell_type": "markdown",
      "source": [
        "## 함수형 프로그래밍(Functional Programming)"
      ],
      "metadata": {
        "id": "MZaO2VY53cKg"
      }
    },
    {
      "cell_type": "code",
      "source": [
        "def create_students(id, name, korean, english, math):\n",
        "    student = {'id' : id,\n",
        "               'name' : name,\n",
        "               'korean' : korean,\n",
        "               'english' : english,\n",
        "               'math' : math}\n",
        "\n",
        "    return student"
      ],
      "metadata": {
        "id": "Af3zBNU51UiZ"
      },
      "execution_count": 76,
      "outputs": []
    },
    {
      "cell_type": "code",
      "source": [
        "students = [\n",
        "    create_students(1, '홍길동', 100, 95, 98),\n",
        "    create_students(2, '오쌤', 50, 45, 62),\n",
        "    create_students(3, 'Scott', 97, 85, 51),\n",
        "    create_students(4, 'Tiger', 15, 39, 74)\n",
        "]\n",
        "students"
      ],
      "metadata": {
        "colab": {
          "base_uri": "https://localhost:8080/"
        },
        "id": "YZiJ1_6P7d7J",
        "outputId": "f4b4d61b-8ad8-454b-d906-44503087c64d"
      },
      "execution_count": 78,
      "outputs": [
        {
          "output_type": "execute_result",
          "data": {
            "text/plain": [
              "[{'id': 1, 'name': '홍길동', 'korean': 100, 'english': 95, 'math': 98},\n",
              " {'id': 2, 'name': '오쌤', 'korean': 50, 'english': 45, 'math': 62},\n",
              " {'id': 3, 'name': 'Scott', 'korean': 97, 'english': 85, 'math': 51},\n",
              " {'id': 4, 'name': 'Tiger', 'korean': 15, 'english': 39, 'math': 74}]"
            ]
          },
          "metadata": {},
          "execution_count": 78
        }
      ]
    },
    {
      "cell_type": "code",
      "source": [
        "def get_total(student):\n",
        "    return student['korean'] + student['english'] + student['math']"
      ],
      "metadata": {
        "id": "4Oiyuwh68T6T"
      },
      "execution_count": 79,
      "outputs": []
    },
    {
      "cell_type": "code",
      "source": [
        "def get_mean(student):\n",
        "    return get_total(student) / 3"
      ],
      "metadata": {
        "id": "Jl3lE8z78bCB"
      },
      "execution_count": 95,
      "outputs": []
    },
    {
      "cell_type": "code",
      "source": [
        "for s in students:\n",
        "    total = get_total(s)\n",
        "    mean = get_mean(s)\n",
        "\n",
        "    print(f\"번호 : {s['id']}, 이름 : {s['name']}, 총점 : {total}, 평균 : {mean}\")"
      ],
      "metadata": {
        "colab": {
          "base_uri": "https://localhost:8080/"
        },
        "id": "XWuJlFYI80Yw",
        "outputId": "d1464493-a40c-4c78-9ca0-e6023bb072ff"
      },
      "execution_count": 97,
      "outputs": [
        {
          "output_type": "stream",
          "name": "stdout",
          "text": [
            "번호 : 1, 이름 : 홍길동, 총점 : 293, 평균 : 97.66666666666667\n",
            "번호 : 2, 이름 : 오쌤, 총점 : 157, 평균 : 52.333333333333336\n",
            "번호 : 3, 이름 : Scott, 총점 : 233, 평균 : 77.66666666666667\n",
            "번호 : 4, 이름 : Tiger, 총점 : 128, 평균 : 42.666666666666664\n"
          ]
        }
      ]
    },
    {
      "cell_type": "markdown",
      "source": [
        "get_total 함수와 get_mean 함수는 학생 객체(dict)의 데이터와 매우 밀접한 관계를 가지고 있음.\n",
        "\n",
        "데이터(국어, 영어, 수학 점수)와 기능(총점 계산, 평균 계산)이 매우 밀접하게 연결되어 있음.\n",
        "\n",
        "데이터와 기능을 하나의 자료 타입으로 묶을 수 없을까?"
      ],
      "metadata": {
        "id": "Ms2mN3Fw9h3Y"
      }
    },
    {
      "cell_type": "markdown",
      "source": [
        "## 객체 지향 프로그래밍(OOP: Object-Oriented Programming)"
      ],
      "metadata": {
        "id": "7vLXcNlv-9HI"
      }
    },
    {
      "cell_type": "code",
      "source": [
        "class Student:\n",
        "    # 생성자\n",
        "    def __init__(self, id, name, korean, english, math):\n",
        "        self.id = id\n",
        "        self.name = name\n",
        "        self.korean = korean\n",
        "        self.english = english\n",
        "        self.math = math\n",
        "\n",
        "    # 메서드(method)\n",
        "    def get_total(self):\n",
        "        return self.korean + self.english + self.math\n",
        "\n",
        "    def get_mean(self):\n",
        "        return self.get_total() / 3\n"
      ],
      "metadata": {
        "id": "fgl9fEuV_CwZ"
      },
      "execution_count": 105,
      "outputs": []
    },
    {
      "cell_type": "code",
      "source": [
        "student1 = Student(1, '홍길동', 100, 98, 96)\n",
        "print(student1)\n",
        "print(student1.id)\n",
        "print(student1.name)\n",
        "print(student1.korean)\n",
        "print(student1.get_total())\n",
        "print(student1.get_mean())"
      ],
      "metadata": {
        "colab": {
          "base_uri": "https://localhost:8080/"
        },
        "id": "WXpnvz1V9gza",
        "outputId": "b301e7b8-0208-4d34-c34a-aeebbfd84fae"
      },
      "execution_count": 107,
      "outputs": [
        {
          "output_type": "stream",
          "name": "stdout",
          "text": [
            "<__main__.Student object at 0x7c12409a6710>\n",
            "1\n",
            "홍길동\n",
            "100\n",
            "294\n",
            "98.0\n"
          ]
        }
      ]
    },
    {
      "cell_type": "code",
      "source": [
        "students = [\n",
        "    Student(1, '홍길동', 100, 98, 96),\n",
        "    Student(2, '오쌤', 55, 65, 77),\n",
        "    Student(3, 'Scott', 88, 99, 86)\n",
        "]\n",
        "students"
      ],
      "metadata": {
        "colab": {
          "base_uri": "https://localhost:8080/"
        },
        "id": "XKWiUWDqBEi5",
        "outputId": "de2d54f3-d070-42e6-c538-3371365da502"
      },
      "execution_count": 109,
      "outputs": [
        {
          "output_type": "execute_result",
          "data": {
            "text/plain": [
              "[<__main__.Student at 0x7c123fd642d0>,\n",
              " <__main__.Student at 0x7c123fd65290>,\n",
              " <__main__.Student at 0x7c123fd66550>]"
            ]
          },
          "metadata": {},
          "execution_count": 109
        }
      ]
    },
    {
      "cell_type": "code",
      "source": [
        "for s in students:\n",
        "    print(f'번호 : {s.id}, 이름 : {s.name}, 총점 : {s.get_total()}, 평균 : {s.get_mean()}')"
      ],
      "metadata": {
        "colab": {
          "base_uri": "https://localhost:8080/"
        },
        "id": "BT85-vUdChrh",
        "outputId": "738c21dd-61c1-4977-828a-988e5686e5ca"
      },
      "execution_count": 111,
      "outputs": [
        {
          "output_type": "stream",
          "name": "stdout",
          "text": [
            "번호 : 1, 이름 : 홍길동, 총점 : 294, 평균 : 98.0\n",
            "번호 : 2, 이름 : 오쌤, 총점 : 197, 평균 : 65.66666666666667\n",
            "번호 : 3, 이름 : Scott, 총점 : 273, 평균 : 91.0\n"
          ]
        }
      ]
    }
  ]
}
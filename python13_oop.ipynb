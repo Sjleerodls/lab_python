{
  "nbformat": 4,
  "nbformat_minor": 0,
  "metadata": {
    "colab": {
      "provenance": [],
      "toc_visible": true,
      "authorship_tag": "ABX9TyNwQRVIhe15ESDgVUx2t09H",
      "include_colab_link": true
    },
    "kernelspec": {
      "name": "python3",
      "display_name": "Python 3"
    },
    "language_info": {
      "name": "python"
    }
  },
  "cells": [
    {
      "cell_type": "markdown",
      "metadata": {
        "id": "view-in-github",
        "colab_type": "text"
      },
      "source": [
        "<a href=\"https://colab.research.google.com/github/Sjleerodls/lab_python/blob/main/python13_oop.ipynb\" target=\"_parent\"><img src=\"https://colab.research.google.com/assets/colab-badge.svg\" alt=\"Open In Colab\"/></a>"
      ]
    },
    {
      "cell_type": "markdown",
      "source": [
        "# 객체지향 프로그래밍 배경"
      ],
      "metadata": {
        "id": "0uhOxk-ZxleJ"
      }
    },
    {
      "cell_type": "code",
      "execution_count": 4,
      "metadata": {
        "id": "otiINhhHxfJk"
      },
      "outputs": [],
      "source": [
        "students = [\n",
        "    {'id' : 1, 'name' : '홍길동', 'korean' : 100, 'english' : 80, 'math' : 95},\n",
        "    {'id' : 2, 'name' : '오쌤', 'kor' : 50, 'eng' : 45, 'math' : 61},   # 다른 데이터와 병합 과정에서 다른 key 값이 들어옴.\n",
        "    {'id' : 3, 'name' : 'Scott', 'korean' : 70, 'english' : 99, 'math' : 78}\n",
        "]"
      ]
    },
    {
      "cell_type": "code",
      "source": [
        "print(students[0].keys())\n",
        "students[1].keys()"
      ],
      "metadata": {
        "colab": {
          "base_uri": "https://localhost:8080/"
        },
        "id": "zCNTh5Is5rkQ",
        "outputId": "dee4dd4e-836d-40ef-cbc3-bc94b6ed6b01"
      },
      "execution_count": 5,
      "outputs": [
        {
          "output_type": "stream",
          "name": "stdout",
          "text": [
            "dict_keys(['id', 'name', 'korean', 'english', 'math'])\n"
          ]
        },
        {
          "output_type": "execute_result",
          "data": {
            "text/plain": [
              "dict_keys(['id', 'name', 'kor', 'eng', 'math'])"
            ]
          },
          "metadata": {},
          "execution_count": 5
        }
      ]
    },
    {
      "cell_type": "code",
      "source": [
        "# 번호, 이름, 총점, 평균을 출력\n",
        "def students_info(id):\n",
        "    result = []\n",
        "    student_idx = id - 1\n",
        "    student = students[student_idx] # 중복 방지\n",
        "\n",
        "    if 'korean' in student and 'english' in student and 'math' in student:\n",
        "        total = student['korean'] + student['english'] + student['math']\n",
        "    elif 'kor' in student and 'eng' in student and 'math' in student:\n",
        "        total = student['kor'] + student['eng'] + student['math']\n",
        "    else:\n",
        "        total = 0   # 예외 처리\n",
        "\n",
        "\n",
        "    mean = total / 3\n",
        "\n",
        "    result.append(student['id'])\n",
        "    result.append(student['name'])\n",
        "    result.append(total)\n",
        "    result.append(mean)\n",
        "\n",
        "    return result"
      ],
      "metadata": {
        "id": "qM4trFjIyyRb"
      },
      "execution_count": 6,
      "outputs": []
    },
    {
      "cell_type": "code",
      "source": [
        "students[2]"
      ],
      "metadata": {
        "colab": {
          "base_uri": "https://localhost:8080/"
        },
        "id": "1X6VH9xpVEGR",
        "outputId": "0981b420-d68d-4163-80cc-23d346315914"
      },
      "execution_count": 7,
      "outputs": [
        {
          "output_type": "execute_result",
          "data": {
            "text/plain": [
              "{'id': 3, 'name': 'Scott', 'korean': 70, 'english': 99, 'math': 78}"
            ]
          },
          "metadata": {},
          "execution_count": 7
        }
      ]
    },
    {
      "cell_type": "code",
      "source": [
        "print(students_info(1)) # 1-1 = 0 --> 2\n",
        "print(students_info(2)) # 2-1 = 1 --> 3\n",
        "print(students_info(3)) # 3-1 = 2 --> indexError : list index out of range"
      ],
      "metadata": {
        "colab": {
          "base_uri": "https://localhost:8080/"
        },
        "id": "1I16ApPRzPkT",
        "outputId": "95b481f6-c880-49a3-980f-5290e46d5d12"
      },
      "execution_count": 8,
      "outputs": [
        {
          "output_type": "stream",
          "name": "stdout",
          "text": [
            "[1, '홍길동', 275, 91.66666666666667]\n",
            "[2, '오쌤', 156, 52.0]\n",
            "[3, 'Scott', 247, 82.33333333333333]\n"
          ]
        }
      ]
    },
    {
      "cell_type": "code",
      "source": [
        "# 번호, 이름, 총점, 평균을 출력\n",
        "# 오쌤\n",
        "for s in students:\n",
        "    total = s['korean'] + s['english'] + s['math']\n",
        "    mean = total/3\n",
        "    print()\n",
        "    print(f\"번호 : {s['id']}, 이름 : {s['name']}, 총점 : {total}, 평균 : {mean}\")"
      ],
      "metadata": {
        "colab": {
          "base_uri": "https://localhost:8080/",
          "height": 257
        },
        "id": "TUYHN3Qz2aIA",
        "outputId": "5d18b5a9-e7a2-4ae9-f42a-ccf3878cea2d"
      },
      "execution_count": 9,
      "outputs": [
        {
          "output_type": "stream",
          "name": "stdout",
          "text": [
            "\n",
            "번호 : 1, 이름 : 홍길동, 총점 : 275, 평균 : 91.66666666666667\n"
          ]
        },
        {
          "output_type": "error",
          "ename": "KeyError",
          "evalue": "'korean'",
          "traceback": [
            "\u001b[0;31m---------------------------------------------------------------------------\u001b[0m",
            "\u001b[0;31mKeyError\u001b[0m                                  Traceback (most recent call last)",
            "\u001b[0;32m<ipython-input-9-271637262>\u001b[0m in \u001b[0;36m<cell line: 0>\u001b[0;34m()\u001b[0m\n\u001b[1;32m      2\u001b[0m \u001b[0;31m# 오쌤\u001b[0m\u001b[0;34m\u001b[0m\u001b[0;34m\u001b[0m\u001b[0m\n\u001b[1;32m      3\u001b[0m \u001b[0;32mfor\u001b[0m \u001b[0ms\u001b[0m \u001b[0;32min\u001b[0m \u001b[0mstudents\u001b[0m\u001b[0;34m:\u001b[0m\u001b[0;34m\u001b[0m\u001b[0;34m\u001b[0m\u001b[0m\n\u001b[0;32m----> 4\u001b[0;31m     \u001b[0mtotal\u001b[0m \u001b[0;34m=\u001b[0m \u001b[0ms\u001b[0m\u001b[0;34m[\u001b[0m\u001b[0;34m'korean'\u001b[0m\u001b[0;34m]\u001b[0m \u001b[0;34m+\u001b[0m \u001b[0ms\u001b[0m\u001b[0;34m[\u001b[0m\u001b[0;34m'english'\u001b[0m\u001b[0;34m]\u001b[0m \u001b[0;34m+\u001b[0m \u001b[0ms\u001b[0m\u001b[0;34m[\u001b[0m\u001b[0;34m'math'\u001b[0m\u001b[0;34m]\u001b[0m\u001b[0;34m\u001b[0m\u001b[0;34m\u001b[0m\u001b[0m\n\u001b[0m\u001b[1;32m      5\u001b[0m     \u001b[0mmean\u001b[0m \u001b[0;34m=\u001b[0m \u001b[0mtotal\u001b[0m\u001b[0;34m/\u001b[0m\u001b[0;36m3\u001b[0m\u001b[0;34m\u001b[0m\u001b[0;34m\u001b[0m\u001b[0m\n\u001b[1;32m      6\u001b[0m     \u001b[0mprint\u001b[0m\u001b[0;34m(\u001b[0m\u001b[0;34m)\u001b[0m\u001b[0;34m\u001b[0m\u001b[0;34m\u001b[0m\u001b[0m\n",
            "\u001b[0;31mKeyError\u001b[0m: 'korean'"
          ]
        }
      ]
    },
    {
      "cell_type": "markdown",
      "source": [
        "위 코드의 문제점은 dict의 키는 중복되지만 않게 만들면 되기 때문에, 반복문에서 총점과 평균을 계산하는 코드가 제대로 동작하지 않을 수도 있음."
      ],
      "metadata": {
        "id": "7IJdeNt72SFD"
      }
    },
    {
      "cell_type": "markdown",
      "source": [
        "## 함수형 프로그래밍(Functional Programming)"
      ],
      "metadata": {
        "id": "MZaO2VY53cKg"
      }
    },
    {
      "cell_type": "code",
      "source": [
        "def create_students(id, name, korean, english, math):\n",
        "    student = {'id' : id,\n",
        "               'name' : name,\n",
        "               'korean' : korean,\n",
        "               'english' : english,\n",
        "               'math' : math}\n",
        "\n",
        "    return student"
      ],
      "metadata": {
        "id": "Af3zBNU51UiZ"
      },
      "execution_count": null,
      "outputs": []
    },
    {
      "cell_type": "code",
      "source": [
        "students = [\n",
        "    create_students(1, '홍길동', 100, 95, 98),\n",
        "    create_students(2, '오쌤', 50, 45, 62),\n",
        "    create_students(3, 'Scott', 97, 85, 51),\n",
        "    create_students(4, 'Tiger', 15, 39, 74)\n",
        "]\n",
        "students"
      ],
      "metadata": {
        "colab": {
          "base_uri": "https://localhost:8080/"
        },
        "id": "YZiJ1_6P7d7J",
        "outputId": "f4b4d61b-8ad8-454b-d906-44503087c64d"
      },
      "execution_count": null,
      "outputs": [
        {
          "output_type": "execute_result",
          "data": {
            "text/plain": [
              "[{'id': 1, 'name': '홍길동', 'korean': 100, 'english': 95, 'math': 98},\n",
              " {'id': 2, 'name': '오쌤', 'korean': 50, 'english': 45, 'math': 62},\n",
              " {'id': 3, 'name': 'Scott', 'korean': 97, 'english': 85, 'math': 51},\n",
              " {'id': 4, 'name': 'Tiger', 'korean': 15, 'english': 39, 'math': 74}]"
            ]
          },
          "metadata": {},
          "execution_count": 78
        }
      ]
    },
    {
      "cell_type": "code",
      "source": [
        "def get_total(student):\n",
        "    return student['korean'] + student['english'] + student['math']"
      ],
      "metadata": {
        "id": "4Oiyuwh68T6T"
      },
      "execution_count": null,
      "outputs": []
    },
    {
      "cell_type": "code",
      "source": [
        "def get_mean(student):\n",
        "    return get_total(student) / 3"
      ],
      "metadata": {
        "id": "Jl3lE8z78bCB"
      },
      "execution_count": null,
      "outputs": []
    },
    {
      "cell_type": "code",
      "source": [
        "for s in students:\n",
        "    total = get_total(s)\n",
        "    mean = get_mean(s)\n",
        "\n",
        "    print(f\"번호 : {s['id']}, 이름 : {s['name']}, 총점 : {total}, 평균 : {mean}\")"
      ],
      "metadata": {
        "colab": {
          "base_uri": "https://localhost:8080/"
        },
        "id": "XWuJlFYI80Yw",
        "outputId": "d1464493-a40c-4c78-9ca0-e6023bb072ff"
      },
      "execution_count": null,
      "outputs": [
        {
          "output_type": "stream",
          "name": "stdout",
          "text": [
            "번호 : 1, 이름 : 홍길동, 총점 : 293, 평균 : 97.66666666666667\n",
            "번호 : 2, 이름 : 오쌤, 총점 : 157, 평균 : 52.333333333333336\n",
            "번호 : 3, 이름 : Scott, 총점 : 233, 평균 : 77.66666666666667\n",
            "번호 : 4, 이름 : Tiger, 총점 : 128, 평균 : 42.666666666666664\n"
          ]
        }
      ]
    },
    {
      "cell_type": "markdown",
      "source": [
        "get_total 함수와 get_mean 함수는 학생 객체(dict)의 데이터와 매우 밀접한 관계를 가지고 있음.\n",
        "\n",
        "데이터(국어, 영어, 수학 점수)와 기능(총점 계산, 평균 계산)이 매우 밀접하게 연결되어 있음.\n",
        "\n",
        "데이터와 기능을 하나의 자료 타입으로 묶을 수 없을까?"
      ],
      "metadata": {
        "id": "Ms2mN3Fw9h3Y"
      }
    },
    {
      "cell_type": "markdown",
      "source": [
        "## 객체 지향 프로그래밍(OOP: Object-Oriented Programming)"
      ],
      "metadata": {
        "id": "7vLXcNlv-9HI"
      }
    },
    {
      "cell_type": "markdown",
      "source": [
        "* 객체(object) : 속성을 가지고 있는 대상.\n",
        "* 클래스(class) : 객체를 만들기 위한 설계도(코드)\n",
        "    * 속성(property) : 객체가 가져야 하는 값(들). 변수.\n",
        "    * 기능(method) : 클래스 안에서 선언하는 함수.\n",
        "        * 메서드를 선언할 때 첫번째 아규먼트는 self.\n",
        "* 인스턴스(instance) : 메모리에 생성된 객체.\n",
        "* 생성자(constructor) : 클래스 이름과 동일한 함수. 객체를 생성해 주는 함수.\n",
        "    * 생성자를 호출하면 클래스에서 선언한 특별한 이름의 메서드를 호출함 `__init__()`"
      ],
      "metadata": {
        "id": "e3vR5HvroJgF"
      }
    },
    {
      "cell_type": "code",
      "source": [
        "class Student:\n",
        "    # 생성자 : 객체 초기화\n",
        "    def __init__(self, id, name, korean, english, math):\n",
        "        self.id = id                # self라는 객체에 id변수 = 1을 저장. 메모리 안에\n",
        "        self.name = name            # self라는 객체에 name변수 = '홍길동'을 저장. 메모리 안에\n",
        "        self.korean = korean        # self(메모리) 객체 안에 korean변수 = 100 을 저장.\n",
        "        self.english = english      # self(메모리) 객체 안에 english변수 = 98 을 저장.\n",
        "        self.math = math            # self(메모리) 객체 안에 math변수 = 96 을 저장.\n",
        "\n",
        "    # 메서드(method)\n",
        "    def get_total(self):\n",
        "        return self.korean + self.english + self.math\n",
        "\n",
        "    def get_mean(self):\n",
        "        return self.get_total() / 3\n"
      ],
      "metadata": {
        "id": "fgl9fEuV_CwZ"
      },
      "execution_count": 10,
      "outputs": []
    },
    {
      "cell_type": "code",
      "source": [
        "student1 = Student(1, '홍길동', 100, 98, 96)    # 생성자 호출 -> __init__ 메서드 호출.\n",
        "print(student1)         # 인스턴스\n",
        "print(student1.id)      # . 참조 연산자\n",
        "print(student1.name)\n",
        "print(student1.korean)\n",
        "print(student1.get_total())     # 메서드 호출\n",
        "print(student1.get_mean())"
      ],
      "metadata": {
        "colab": {
          "base_uri": "https://localhost:8080/"
        },
        "id": "WXpnvz1V9gza",
        "outputId": "29408f24-e6d7-4919-f102-cc15df1c428b"
      },
      "execution_count": 11,
      "outputs": [
        {
          "output_type": "stream",
          "name": "stdout",
          "text": [
            "<__main__.Student object at 0x7d62ae2659d0>\n",
            "1\n",
            "홍길동\n",
            "100\n",
            "294\n",
            "98.0\n"
          ]
        }
      ]
    },
    {
      "cell_type": "code",
      "source": [
        "students = [\n",
        "    Student(1, '홍길동', 100, 98, 96),\n",
        "    Student(2, '오쌤', 55, 65, 77),\n",
        "    Student(3, 'Scott', 88, 99, 86)\n",
        "]\n",
        "students"
      ],
      "metadata": {
        "colab": {
          "base_uri": "https://localhost:8080/"
        },
        "id": "XKWiUWDqBEi5",
        "outputId": "85dd0170-6dae-4987-b848-8bd05f73b258"
      },
      "execution_count": null,
      "outputs": [
        {
          "output_type": "execute_result",
          "data": {
            "text/plain": [
              "[<__main__.Student at 0x7c123fd8e4d0>,\n",
              " <__main__.Student at 0x7c123fd8e7d0>,\n",
              " <__main__.Student at 0x7c123fd8f010>]"
            ]
          },
          "metadata": {},
          "execution_count": 121
        }
      ]
    },
    {
      "cell_type": "code",
      "source": [
        "for s in students:\n",
        "    print(f'번호 : {s.id}, 이름 : {s.name}, 총점 : {s.get_total()}, 평균 : {s.get_mean()}')"
      ],
      "metadata": {
        "colab": {
          "base_uri": "https://localhost:8080/"
        },
        "id": "BT85-vUdChrh",
        "outputId": "036fa6b3-1315-4f69-88e5-775410f3e7dc"
      },
      "execution_count": null,
      "outputs": [
        {
          "output_type": "stream",
          "name": "stdout",
          "text": [
            "번호 : 1, 이름 : 홍길동, 총점 : 294, 평균 : 98.0\n",
            "번호 : 2, 이름 : 오쌤, 총점 : 197, 평균 : 65.66666666666667\n",
            "번호 : 3, 이름 : Scott, 총점 : 273, 평균 : 91.0\n"
          ]
        }
      ]
    },
    {
      "cell_type": "markdown",
      "source": [
        "# 클래스 연습"
      ],
      "metadata": {
        "id": "w9Tp3TPYzgA4"
      }
    },
    {
      "cell_type": "markdown",
      "source": [
        "## Ex 1."
      ],
      "metadata": {
        "id": "ypWppQnf6aU0"
      }
    },
    {
      "cell_type": "code",
      "source": [
        "class Circle:\n",
        "    # 객체 초기화 생성자\n",
        "    def __init__(self, radius):\n",
        "        self.radius = radius\n",
        "\n",
        "    # 메서드 생성(클래스의 함수)\n",
        "    def area(self):\n",
        "        return self.radius ** 2 * 3.14\n",
        "\n",
        "    def perimeter(self):\n",
        "        return 2 * 3.14 * self.radius"
      ],
      "metadata": {
        "id": "TqDBoPpAzjki"
      },
      "execution_count": 17,
      "outputs": []
    },
    {
      "cell_type": "code",
      "source": [
        "c1 = Circle(1)  # 생성자 호출 -> 객체 생성 & 초기화\n",
        "print(c1)\n",
        "print(c1.radius)    # 객체가 가지고 있는 변수\n",
        "print(c1.area())    # 객체의 메서드\n",
        "print(c1.perimeter())   # 객체의 메서드"
      ],
      "metadata": {
        "colab": {
          "base_uri": "https://localhost:8080/"
        },
        "id": "rCfuD0dF1yyw",
        "outputId": "0cc34108-9dd3-4fef-d333-e21a85ab4c77"
      },
      "execution_count": 25,
      "outputs": [
        {
          "output_type": "stream",
          "name": "stdout",
          "text": [
            "<__main__.Circle object at 0x7d62ae2e1a10>\n",
            "1\n",
            "3.14\n",
            "6.28\n"
          ]
        }
      ]
    },
    {
      "cell_type": "code",
      "source": [
        "c2 = Circle(10)      # 초기화 & 새로운 객체 생성\n",
        "print(c2)           # 클래스 및 메모리 저장 주소 출력\n",
        "print(c2.radius)    # c2 객체의 변수 출력\n",
        "print(c2.area())        # c2 객체의 메서드\n",
        "print(c2.perimeter())   # c2 객체의 다른 메서드"
      ],
      "metadata": {
        "colab": {
          "base_uri": "https://localhost:8080/"
        },
        "id": "OBQ33Kxh4mmF",
        "outputId": "7939d445-f091-4722-9dba-f402aa029159"
      },
      "execution_count": 35,
      "outputs": [
        {
          "output_type": "stream",
          "name": "stdout",
          "text": [
            "<__main__.Circle object at 0x7d62ae2896d0>\n",
            "10\n",
            "314.0\n",
            "62.800000000000004\n"
          ]
        }
      ]
    },
    {
      "cell_type": "markdown",
      "source": [
        "## Ex 2.\n",
        "\n",
        "직사각형(Rectangle) 클래스\n",
        "* 기능 : 넓이(area), 둘레길이(perimeter), 크기변경(resize)\n",
        "* 속성 : 가로(width), 세로(height)"
      ],
      "metadata": {
        "id": "AObfaQQH6d3r"
      }
    },
    {
      "cell_type": "code",
      "source": [
        "class Rectangle:\n",
        "    def __init__(self, x, y):\n",
        "        self.x = x\n",
        "        self.y = y\n",
        "\n",
        "    def c_width(self):\n",
        "        return self.x * self.y\n",
        "\n",
        "    def c_around(self):\n",
        "        return self.x * 2 + self.y * 2"
      ],
      "metadata": {
        "id": "lkHWVCTI5mP9"
      },
      "execution_count": 37,
      "outputs": []
    },
    {
      "cell_type": "code",
      "source": [
        "r1 = Rectangle(4, 3)\n",
        "print(r1)\n",
        "print(r1.c_width())\n",
        "print(r1.c_around())"
      ],
      "metadata": {
        "colab": {
          "base_uri": "https://localhost:8080/"
        },
        "id": "ARKO7Lrk7P_c",
        "outputId": "ad9a20c1-28b8-4c91-f5cc-ba91d092def1"
      },
      "execution_count": 47,
      "outputs": [
        {
          "output_type": "stream",
          "name": "stdout",
          "text": [
            "<__main__.Rectangle object at 0x7d62ae2a20d0>\n",
            "12\n",
            "14\n"
          ]
        }
      ]
    },
    {
      "cell_type": "code",
      "source": [
        "# 오쌤\n",
        "class Rectangle2:\n",
        "    def __init__(self, width=0, height=0):\n",
        "        self.width = width\n",
        "        self.height = height\n",
        "\n",
        "    def area(self):\n",
        "        return self.width * self.height\n",
        "\n",
        "    def perimeter(self):\n",
        "        return 2 * (self.width + self.height)\n",
        "\n",
        "    def resize(self, new_width, new_height):\n",
        "        self.width = new_width\n",
        "        self.height = new_height"
      ],
      "metadata": {
        "id": "CP3f5ze8AZFy"
      },
      "execution_count": 74,
      "outputs": []
    },
    {
      "cell_type": "code",
      "source": [
        "rect1 = Rectangle2(3, 4)\n",
        "print(rect1)\n",
        "print(f'가로 = {rect1.width}, 세로 = {rect1.height}')\n",
        "# print(rect1.area())\n",
        "# print(rect1.perimeter())\n",
        "print(f'넓이 = {rect1.area()}, 둘레 = {rect1.perimeter()}')"
      ],
      "metadata": {
        "colab": {
          "base_uri": "https://localhost:8080/"
        },
        "id": "gOs_ugUJA1ca",
        "outputId": "78de4348-5157-42fc-af89-fefae06e0e60"
      },
      "execution_count": 75,
      "outputs": [
        {
          "output_type": "stream",
          "name": "stdout",
          "text": [
            "<__main__.Rectangle2 object at 0x7d62c01e9ad0>\n",
            "가로 = 3, 세로 = 4\n",
            "넓이 = 12, 둘레 = 14\n"
          ]
        }
      ]
    },
    {
      "cell_type": "code",
      "source": [
        "rect2 = Rectangle2(3, 6)\n",
        "print(rect2)\n",
        "print(f'가로 = {rect2.width}, 세로 = {rect2.height}')\n",
        "print(f'넓이 = {rect2.area()}, 둘레 = {rect2.perimeter()}')"
      ],
      "metadata": {
        "colab": {
          "base_uri": "https://localhost:8080/"
        },
        "id": "kkX9DU1FA8KR",
        "outputId": "7001486e-64c8-4505-ed88-99395d7533fe"
      },
      "execution_count": 76,
      "outputs": [
        {
          "output_type": "stream",
          "name": "stdout",
          "text": [
            "<__main__.Rectangle2 object at 0x7d62ae1240d0>\n",
            "가로 = 3, 세로 = 6\n",
            "넓이 = 18, 둘레 = 18\n"
          ]
        }
      ]
    },
    {
      "cell_type": "code",
      "source": [
        "rect3 = Rectangle2()        # __init__ 메서드에서 default argument가 설정되어 있는 경우.\n",
        "print(f'가로 = {rect3.width}, 세로 = {rect3.height}')"
      ],
      "metadata": {
        "colab": {
          "base_uri": "https://localhost:8080/"
        },
        "id": "kKpYAKxiDDz3",
        "outputId": "43021a2c-377f-401b-a3a5-214697145f63"
      },
      "execution_count": 77,
      "outputs": [
        {
          "output_type": "stream",
          "name": "stdout",
          "text": [
            "가로 = 0, 세로 = 0\n"
          ]
        }
      ]
    },
    {
      "cell_type": "code",
      "source": [
        "rect4 = Rectangle2(height=10)\n",
        "print(f'가로 = {rect4.width}, 세로 = {rect4.height}')"
      ],
      "metadata": {
        "colab": {
          "base_uri": "https://localhost:8080/"
        },
        "id": "KR7Yl5qdGZXk",
        "outputId": "a1e3d06d-fa41-4bce-e2c2-2e23b52cbf93"
      },
      "execution_count": 80,
      "outputs": [
        {
          "output_type": "stream",
          "name": "stdout",
          "text": [
            "가로 = 0, 세로 = 10\n"
          ]
        }
      ]
    },
    {
      "cell_type": "code",
      "source": [
        "rect4.resize(5, 12)\n",
        "print(f'가로 = {rect4.width}, 세로 = {rect4.height}')\n",
        "print(f'넓이 = {rect4.area()}, 둘레 = {rect4.perimeter()}')"
      ],
      "metadata": {
        "colab": {
          "base_uri": "https://localhost:8080/"
        },
        "id": "DuiFd_28H9gN",
        "outputId": "6322f1a5-7f5c-4fc1-9272-39e669aa8d19"
      },
      "execution_count": 82,
      "outputs": [
        {
          "output_type": "stream",
          "name": "stdout",
          "text": [
            "가로 = 5, 세로 = 12\n",
            "넓이 = 60, 둘레 = 34\n"
          ]
        }
      ]
    }
  ]
}
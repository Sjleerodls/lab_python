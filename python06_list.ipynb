{
  "nbformat": 4,
  "nbformat_minor": 0,
  "metadata": {
    "colab": {
      "provenance": [],
      "toc_visible": true,
      "authorship_tag": "ABX9TyP496P1S/wj1N1xiJLganpi",
      "include_colab_link": true
    },
    "kernelspec": {
      "name": "python3",
      "display_name": "Python 3"
    },
    "language_info": {
      "name": "python"
    }
  },
  "cells": [
    {
      "cell_type": "markdown",
      "metadata": {
        "id": "view-in-github",
        "colab_type": "text"
      },
      "source": [
        "<a href=\"https://colab.research.google.com/github/Sjleerodls/lab_python/blob/main/python06_list.ipynb\" target=\"_parent\"><img src=\"https://colab.research.google.com/assets/colab-badge.svg\" alt=\"Open In Colab\"/></a>"
      ]
    },
    {
      "cell_type": "markdown",
      "source": [
        "# 리스트(list)\n",
        "\n",
        "* `list` : 여러 개의 값들을 하나의 변수에 저장하기 위한 데이터 타입.\n",
        "* 원소(element), 아이템(item): 리스트에 저장된 각각의 값.\n",
        "* 인덱스(index): 리스트에 원소들이 저장된 위치를 표시하는 정수.\n",
        "    * 리스트의 인덱스는 **0** 부터 시작.\n",
        "    * 리스트에서 마지막 원소의 인덱스는 (원소 개수 - 1).\n",
        "* 리스트는 원소들을 추가, 변경, 삭제할 수 있음.\n",
        "    * `tuple`과 다른 점."
      ],
      "metadata": {
        "id": "cKyFVOtq8v3_"
      }
    },
    {
      "cell_type": "code",
      "execution_count": null,
      "metadata": {
        "colab": {
          "base_uri": "https://localhost:8080/"
        },
        "id": "8ip88WU78sK0",
        "outputId": "18c6328d-0d4c-47bd-e3b1-9ff96d08b93e"
      },
      "outputs": [
        {
          "output_type": "stream",
          "name": "stdout",
          "text": [
            "<class 'list'>\n",
            "[1, 2, 10, 20, -1, -2]\n"
          ]
        },
        {
          "output_type": "execute_result",
          "data": {
            "text/plain": [
              "[1, 2, 10, 20, -1, -2]"
            ]
          },
          "metadata": {},
          "execution_count": 4
        }
      ],
      "source": [
        "# 숫자들을 저장하는 list\n",
        "numbers = [1, 2, 10, 20, -1, -2]\n",
        "print(type(numbers))\n",
        "print(numbers)\n",
        "numbers"
      ]
    },
    {
      "cell_type": "code",
      "source": [
        "# 파이썬의 리스트는 여러 타입의 값들을 하나의 변수에 저장할 수 있음.\n",
        "values = [1, 2, '안녕', '파이썬', True, False, [1, 2, 3]]\n",
        "print(type(values))\n",
        "values"
      ],
      "metadata": {
        "colab": {
          "base_uri": "https://localhost:8080/"
        },
        "id": "wOkIivd0_wx3",
        "outputId": "9a20b332-8af2-4177-9d37-a674f4c6e54c"
      },
      "execution_count": null,
      "outputs": [
        {
          "output_type": "stream",
          "name": "stdout",
          "text": [
            "<class 'list'>\n"
          ]
        },
        {
          "output_type": "execute_result",
          "data": {
            "text/plain": [
              "[1, 2, '안녕', '파이썬', True, False, [1, 2, 3]]"
            ]
          },
          "metadata": {},
          "execution_count": 6
        }
      ]
    },
    {
      "cell_type": "markdown",
      "source": [
        "# Indexing\n",
        "\n",
        "인덱스를 사용해서 리스트의 아이템을 사용하는 방법."
      ],
      "metadata": {
        "id": "kOTvqgtBjgP9"
      }
    },
    {
      "cell_type": "code",
      "source": [
        "numbers = [1, -2, 3, 10, -20, 100]\n",
        "numbers"
      ],
      "metadata": {
        "colab": {
          "base_uri": "https://localhost:8080/"
        },
        "id": "qSNBPuO6jwee",
        "outputId": "7d9c12a2-8de1-4dab-b70c-180c3479bbe6"
      },
      "execution_count": 11,
      "outputs": [
        {
          "output_type": "execute_result",
          "data": {
            "text/plain": [
              "[1, -2, 3, 10, -20, 100]"
            ]
          },
          "metadata": {},
          "execution_count": 11
        }
      ]
    },
    {
      "cell_type": "code",
      "source": [
        "numbers[0]  # 리스트 numbers의 첫번째 아이템"
      ],
      "metadata": {
        "colab": {
          "base_uri": "https://localhost:8080/"
        },
        "id": "Gray2w9nkpZz",
        "outputId": "fd86ed82-5e30-49d8-b945-db1f51067e7d"
      },
      "execution_count": 13,
      "outputs": [
        {
          "output_type": "execute_result",
          "data": {
            "text/plain": [
              "1"
            ]
          },
          "metadata": {},
          "execution_count": 13
        }
      ]
    },
    {
      "cell_type": "code",
      "source": [
        "numbers[5]  # 리스트 numbers의 인덱스 5번 위치의 원소(마지막 원소)"
      ],
      "metadata": {
        "colab": {
          "base_uri": "https://localhost:8080/"
        },
        "id": "LBkd06Rvkwp3",
        "outputId": "18b3f9a4-a53f-4da1-fe89-5689a2b7a4b4"
      },
      "execution_count": 15,
      "outputs": [
        {
          "output_type": "execute_result",
          "data": {
            "text/plain": [
              "100"
            ]
          },
          "metadata": {},
          "execution_count": 15
        }
      ]
    },
    {
      "cell_type": "code",
      "source": [
        "numbers[-1] # 리스트 numbers의 마지막 아이템"
      ],
      "metadata": {
        "colab": {
          "base_uri": "https://localhost:8080/"
        },
        "id": "oLoGtkxclWY0",
        "outputId": "cfe9fd1f-337e-4828-ae6d-9056fee47d89"
      },
      "execution_count": 23,
      "outputs": [
        {
          "output_type": "execute_result",
          "data": {
            "text/plain": [
              "100"
            ]
          },
          "metadata": {},
          "execution_count": 23
        }
      ]
    },
    {
      "cell_type": "code",
      "source": [
        "numbers[-2] # 리스트 numbers의 끝에서 두번째 아이템"
      ],
      "metadata": {
        "colab": {
          "base_uri": "https://localhost:8080/"
        },
        "id": "40vGjnf7mK1r",
        "outputId": "95183c35-b3e8-42d7-9091-7754088d3c7a"
      },
      "execution_count": 24,
      "outputs": [
        {
          "output_type": "execute_result",
          "data": {
            "text/plain": [
              "-20"
            ]
          },
          "metadata": {},
          "execution_count": 24
        }
      ]
    },
    {
      "cell_type": "markdown",
      "source": [
        "# Slicing\n",
        "\n",
        "`list[start:end]`\n",
        "* list에서 인덱스 start <= index < end 범위의 아이템들을 잘라내는 방법\n",
        "* 시작 인덱스 start는 생략하면 첫번째 원소부터 잘라냄. start의 기본값은 0.\n",
        "* 종료 인덱스 end를 생략하면 마지막 원소까지 잘라냄.\n",
        "* slicing의 결과는 **새로운 리스트**"
      ],
      "metadata": {
        "id": "goIxbNl4mTPw"
      }
    },
    {
      "cell_type": "code",
      "source": [
        "numbers[1:4]    # end - start = 출력 개수"
      ],
      "metadata": {
        "colab": {
          "base_uri": "https://localhost:8080/"
        },
        "id": "Eg1SbxD1nS9J",
        "outputId": "03566e1f-94b0-421d-e6e2-b6b0c10c5000"
      },
      "execution_count": 27,
      "outputs": [
        {
          "output_type": "execute_result",
          "data": {
            "text/plain": [
              "[-2, 3, 10]"
            ]
          },
          "metadata": {},
          "execution_count": 27
        }
      ]
    },
    {
      "cell_type": "code",
      "source": [
        "# 리스트 numbers에서 첫번째 원소부터 3개의 원소를 잘라냄\n",
        "numbers[:3] # numbers[0:3]"
      ],
      "metadata": {
        "colab": {
          "base_uri": "https://localhost:8080/"
        },
        "id": "CExeHX4coAkb",
        "outputId": "f8aabc1e-a450-4677-9895-3643befb7aaa"
      },
      "execution_count": 31,
      "outputs": [
        {
          "output_type": "execute_result",
          "data": {
            "text/plain": [
              "[1, -2, 3]"
            ]
          },
          "metadata": {},
          "execution_count": 31
        }
      ]
    },
    {
      "cell_type": "code",
      "source": [
        "# 리스트 numbers에서 인덱스 4번 위치부터 마지막 원소까지 잘라냄.\n",
        "numbers[4:6]    # 6 - 4 = 2\n",
        "numbers[4:]"
      ],
      "metadata": {
        "colab": {
          "base_uri": "https://localhost:8080/"
        },
        "id": "zlyLnSMkoeJ8",
        "outputId": "9e0603bb-32a3-45ad-fab1-c75dadfd6863"
      },
      "execution_count": 43,
      "outputs": [
        {
          "output_type": "execute_result",
          "data": {
            "text/plain": [
              "[-20, 100]"
            ]
          },
          "metadata": {},
          "execution_count": 43
        }
      ]
    },
    {
      "cell_type": "code",
      "source": [
        "# 리스트 numbers에서 끝에서 2개 아이템들을 잘라냄.\n",
        "numbers[-2:]    # 0 - (-2) = 2"
      ],
      "metadata": {
        "colab": {
          "base_uri": "https://localhost:8080/"
        },
        "id": "hklIaIRhpAXb",
        "outputId": "d5c7fee1-1825-4176-d9d9-2eed247a2e0a"
      },
      "execution_count": 45,
      "outputs": [
        {
          "output_type": "execute_result",
          "data": {
            "text/plain": [
              "[-20, 100]"
            ]
          },
          "metadata": {},
          "execution_count": 45
        }
      ]
    },
    {
      "cell_type": "code",
      "source": [
        "print(numbers[0])   # 원소(아이템)을 꺼냄, 리스트의 원소\n",
        "print(numbers[0:1]) # 리스트 내에서 부분 집합처럼 잘라서 가져옴, 또 다른 리스트 생성(슬라이싱), 리스트(부분집합)"
      ],
      "metadata": {
        "colab": {
          "base_uri": "https://localhost:8080/"
        },
        "id": "aUBTUGuop1QH",
        "outputId": "51bba8cb-1671-4c9a-f0a2-9e8d1748fc2e"
      },
      "execution_count": 47,
      "outputs": [
        {
          "output_type": "stream",
          "name": "stdout",
          "text": [
            "1\n",
            "[1]\n"
          ]
        }
      ]
    },
    {
      "cell_type": "code",
      "source": [
        "print(numbers[6][2])\n",
        "numbers"
      ],
      "metadata": {
        "colab": {
          "base_uri": "https://localhost:8080/"
        },
        "id": "NEdB6WSJq2VK",
        "outputId": "73d73e14-1735-4495-90ee-a468a713387d"
      },
      "execution_count": 70,
      "outputs": [
        {
          "output_type": "stream",
          "name": "stdout",
          "text": [
            "3\n"
          ]
        },
        {
          "output_type": "execute_result",
          "data": {
            "text/plain": [
              "[1, -2, 3, 10, -20, 100, [1, -2, 3], [1, -2]]"
            ]
          },
          "metadata": {},
          "execution_count": 70
        }
      ]
    },
    {
      "cell_type": "markdown",
      "source": [
        "# 문자열 (String)\n",
        "\n",
        "문자열\n",
        "* 문자열 : 문자들의 리스트.\n",
        "* 인덱스를 사용할 수 있음.\n",
        "    * indexing\n",
        "    * slicing"
      ],
      "metadata": {
        "id": "r03ElYo9wCIU"
      }
    },
    {
      "cell_type": "code",
      "source": [
        "message = '안녕, Python!'\n",
        "message"
      ],
      "metadata": {
        "colab": {
          "base_uri": "https://localhost:8080/",
          "height": 35
        },
        "id": "g8wCXJeUwXkB",
        "outputId": "25f71a19-9d4a-4d30-ae33-0f6231b22b79"
      },
      "execution_count": 73,
      "outputs": [
        {
          "output_type": "execute_result",
          "data": {
            "text/plain": [
              "'안녕, Python!'"
            ],
            "application/vnd.google.colaboratory.intrinsic+json": {
              "type": "string"
            }
          },
          "metadata": {},
          "execution_count": 73
        }
      ]
    },
    {
      "cell_type": "code",
      "source": [
        "message[0] # 문자열 message의 첫번째 문자"
      ],
      "metadata": {
        "colab": {
          "base_uri": "https://localhost:8080/",
          "height": 35
        },
        "id": "FFfCrSqqwde5",
        "outputId": "53d66738-9bd5-4235-d7f6-4b281b5d9d5f"
      },
      "execution_count": 75,
      "outputs": [
        {
          "output_type": "execute_result",
          "data": {
            "text/plain": [
              "'안'"
            ],
            "application/vnd.google.colaboratory.intrinsic+json": {
              "type": "string"
            }
          },
          "metadata": {},
          "execution_count": 75
        }
      ]
    },
    {
      "cell_type": "code",
      "source": [
        "message[-1] # 문자열의 마지막 문자"
      ],
      "metadata": {
        "colab": {
          "base_uri": "https://localhost:8080/",
          "height": 35
        },
        "id": "-opp1SyFwnmn",
        "outputId": "d551fc97-da79-4d5b-b8f8-85863a07a07a"
      },
      "execution_count": 78,
      "outputs": [
        {
          "output_type": "execute_result",
          "data": {
            "text/plain": [
              "'!'"
            ],
            "application/vnd.google.colaboratory.intrinsic+json": {
              "type": "string"
            }
          },
          "metadata": {},
          "execution_count": 78
        }
      ]
    },
    {
      "cell_type": "code",
      "source": [
        "message[:2] # 문자열에서 첫 두 글자"
      ],
      "metadata": {
        "colab": {
          "base_uri": "https://localhost:8080/",
          "height": 35
        },
        "id": "48x9rM9nwsxG",
        "outputId": "8dd96cbe-0a46-4268-e1f0-091a38afd47f"
      },
      "execution_count": 80,
      "outputs": [
        {
          "output_type": "execute_result",
          "data": {
            "text/plain": [
              "'안녕'"
            ],
            "application/vnd.google.colaboratory.intrinsic+json": {
              "type": "string"
            }
          },
          "metadata": {},
          "execution_count": 80
        }
      ]
    },
    {
      "cell_type": "code",
      "source": [
        "message[-2:]    # 문자열에서 마지막 두 글자"
      ],
      "metadata": {
        "colab": {
          "base_uri": "https://localhost:8080/",
          "height": 35
        },
        "id": "6mtWZYZqw2ol",
        "outputId": "8e2f7163-743a-43a1-90e6-709d8e9c15f5"
      },
      "execution_count": 82,
      "outputs": [
        {
          "output_type": "execute_result",
          "data": {
            "text/plain": [
              "'n!'"
            ],
            "application/vnd.google.colaboratory.intrinsic+json": {
              "type": "string"
            }
          },
          "metadata": {},
          "execution_count": 82
        }
      ]
    },
    {
      "cell_type": "markdown",
      "source": [
        "# 리스트의 산술 연산\n",
        "\n",
        "* `list + list` : concatenate. 2개의 리스트의 원소들을 합쳐서 하나의 리스트로 만듦.\n",
        "* `list * int` : replicate. 리스트의 원소들을 정수만큼 복사해서 원소의 개수를 늘림."
      ],
      "metadata": {
        "id": "Dp5CWggNxhXA"
      }
    },
    {
      "cell_type": "code",
      "source": [
        "print('안녕' + 'Python')\n",
        "print('안녕' * 3)"
      ],
      "metadata": {
        "colab": {
          "base_uri": "https://localhost:8080/"
        },
        "id": "3r4FCj0e2t0n",
        "outputId": "fdf388b6-1ce9-4e40-e314-408307917960"
      },
      "execution_count": 217,
      "outputs": [
        {
          "output_type": "stream",
          "name": "stdout",
          "text": [
            "안녕Python\n",
            "안녕안녕안녕\n"
          ]
        }
      ]
    },
    {
      "cell_type": "code",
      "source": [
        "[1, 2, 3] + [10, 20, 30]"
      ],
      "metadata": {
        "colab": {
          "base_uri": "https://localhost:8080/"
        },
        "id": "RSxaIk88xCS7",
        "outputId": "08c3ff3d-9902-4b62-adbe-ce06d617737d"
      },
      "execution_count": 92,
      "outputs": [
        {
          "output_type": "execute_result",
          "data": {
            "text/plain": [
              "[1, 2, 3, 10, 20, 30]"
            ]
          },
          "metadata": {},
          "execution_count": 92
        }
      ]
    },
    {
      "cell_type": "code",
      "source": [
        "[1, 2, 3] * 3"
      ],
      "metadata": {
        "colab": {
          "base_uri": "https://localhost:8080/"
        },
        "id": "FhiUnum52Cmq",
        "outputId": "3f132cb7-8d6f-4745-e3a9-25e0d2c872df"
      },
      "execution_count": 93,
      "outputs": [
        {
          "output_type": "execute_result",
          "data": {
            "text/plain": [
              "[1, 2, 3, 1, 2, 3, 1, 2, 3]"
            ]
          },
          "metadata": {},
          "execution_count": 93
        }
      ]
    },
    {
      "cell_type": "markdown",
      "source": [
        "# list의 기능들 - 함수(메서드)"
      ],
      "metadata": {
        "id": "rnqQ0Q62z852"
      }
    },
    {
      "cell_type": "markdown",
      "source": [
        "## 원소 추가"
      ],
      "metadata": {
        "id": "GS4QPw3w5ygi"
      }
    },
    {
      "cell_type": "code",
      "source": [
        "numbers = [1, 2, 3, 4, 5]\n",
        "numbers"
      ],
      "metadata": {
        "colab": {
          "base_uri": "https://localhost:8080/"
        },
        "id": "UkwlkLdV0C5m",
        "outputId": "df92d204-9262-4eb7-fef1-74ff412907e8"
      },
      "execution_count": 87,
      "outputs": [
        {
          "output_type": "execute_result",
          "data": {
            "text/plain": [
              "[1, 2, 3, 4, 5]"
            ]
          },
          "metadata": {},
          "execution_count": 87
        }
      ]
    },
    {
      "cell_type": "code",
      "source": [
        "# list.append(값): list의 가장 마지막에 (값)을 추가\n",
        "numbers.append(100)\n",
        "numbers"
      ],
      "metadata": {
        "colab": {
          "base_uri": "https://localhost:8080/"
        },
        "id": "3lqSKvyR0F81",
        "outputId": "c464cdb6-9840-40e2-ffc8-5361aa493583"
      },
      "execution_count": 88,
      "outputs": [
        {
          "output_type": "execute_result",
          "data": {
            "text/plain": [
              "[1, 2, 3, 4, 5, 100]"
            ]
          },
          "metadata": {},
          "execution_count": 88
        }
      ]
    },
    {
      "cell_type": "code",
      "source": [
        "# list.insert(idx, val) : 인덱스 idx 바로 앞에 val을 원소로 추가.\n",
        "numbers.insert(0, -1)\n",
        "numbers"
      ],
      "metadata": {
        "colab": {
          "base_uri": "https://localhost:8080/"
        },
        "id": "Of55-MAD0JdV",
        "outputId": "384edc63-7e42-4360-d813-57246ea7864b"
      },
      "execution_count": 89,
      "outputs": [
        {
          "output_type": "execute_result",
          "data": {
            "text/plain": [
              "[-1, 1, 2, 3, 4, 5, 100]"
            ]
          },
          "metadata": {},
          "execution_count": 89
        }
      ]
    },
    {
      "cell_type": "code",
      "source": [
        "numbers.insert(-1, -100)\n",
        "numbers"
      ],
      "metadata": {
        "colab": {
          "base_uri": "https://localhost:8080/"
        },
        "id": "BsNu2HPl0luy",
        "outputId": "87db6a7f-3d43-4e4c-9752-6a7deec13edd"
      },
      "execution_count": 90,
      "outputs": [
        {
          "output_type": "execute_result",
          "data": {
            "text/plain": [
              "[-1, 1, 2, 3, 4, 5, -100, 100]"
            ]
          },
          "metadata": {},
          "execution_count": 90
        }
      ]
    },
    {
      "cell_type": "code",
      "source": [
        "# list.extend(iterable) : iterable의 원소들을 하나씩 리스트의 끝에 append.\n",
        "numbers.extend([11, 22, 33])\n",
        "numbers"
      ],
      "metadata": {
        "colab": {
          "base_uri": "https://localhost:8080/"
        },
        "id": "pERkq2QS1N5g",
        "outputId": "e8141bdc-e1f0-4acd-f0bd-b518be6a4143"
      },
      "execution_count": 91,
      "outputs": [
        {
          "output_type": "execute_result",
          "data": {
            "text/plain": [
              "[-1, 1, 2, 3, 4, 5, -100, 100, 11, 22, 33]"
            ]
          },
          "metadata": {},
          "execution_count": 91
        }
      ]
    },
    {
      "cell_type": "code",
      "source": [
        "# (주의) append와 extend의 차이점:\n",
        "numbers.append([-1, -2, -3])\n",
        "numbers"
      ],
      "metadata": {
        "colab": {
          "base_uri": "https://localhost:8080/"
        },
        "id": "knqFg5wg1eIu",
        "outputId": "1602586c-9674-4519-a3ea-f1165ee85bed"
      },
      "execution_count": 96,
      "outputs": [
        {
          "output_type": "execute_result",
          "data": {
            "text/plain": [
              "[-1, 1, 2, 3, 4, 5, -100, 100, 11, 22, 33, [-1, -2, -3]]"
            ]
          },
          "metadata": {},
          "execution_count": 96
        }
      ]
    },
    {
      "cell_type": "markdown",
      "source": [
        "## 원소 삭제"
      ],
      "metadata": {
        "id": "SCfXtiMN3HWr"
      }
    },
    {
      "cell_type": "code",
      "source": [
        "numbers = [1, 2, 3, 10, 20, 30, 1, 2, 3]\n",
        "numbers"
      ],
      "metadata": {
        "colab": {
          "base_uri": "https://localhost:8080/"
        },
        "id": "L6NLkAvq2Ur4",
        "outputId": "29aa0c92-7644-4fd5-cff1-759d3cb2714b"
      },
      "execution_count": 98,
      "outputs": [
        {
          "output_type": "execute_result",
          "data": {
            "text/plain": [
              "[1, 2, 3, 10, 20, 30, 1, 2, 3]"
            ]
          },
          "metadata": {},
          "execution_count": 98
        }
      ]
    },
    {
      "cell_type": "code",
      "source": [
        "# list.pop(): list의 가장 마지막 원소를 삭제.\n",
        "numbers.pop()\n",
        "numbers"
      ],
      "metadata": {
        "colab": {
          "base_uri": "https://localhost:8080/"
        },
        "id": "oRMzOzDZ3O6L",
        "outputId": "0b3b4db9-d5c4-4acf-fe57-d114dac06fbc"
      },
      "execution_count": 99,
      "outputs": [
        {
          "output_type": "execute_result",
          "data": {
            "text/plain": [
              "[1, 2, 3, 10, 20, 30, 1, 2]"
            ]
          },
          "metadata": {},
          "execution_count": 99
        }
      ]
    },
    {
      "cell_type": "code",
      "source": [
        "# list.pop(index) : list에서 index 위치의 아이템을 삭제.\n",
        "numbers.pop(0)\n",
        "numbers"
      ],
      "metadata": {
        "colab": {
          "base_uri": "https://localhost:8080/"
        },
        "id": "DbJACyUR3v0x",
        "outputId": "36eb05c8-abbd-426d-ec84-fe077551fda6"
      },
      "execution_count": 100,
      "outputs": [
        {
          "output_type": "execute_result",
          "data": {
            "text/plain": [
              "[2, 3, 10, 20, 30, 1, 2]"
            ]
          },
          "metadata": {},
          "execution_count": 100
        }
      ]
    },
    {
      "cell_type": "code",
      "source": [
        "# list.remove(value) : list에서 첫번째로 등장하는 value를 삭제.\n",
        "numbers.remove(2)\n",
        "numbers"
      ],
      "metadata": {
        "colab": {
          "base_uri": "https://localhost:8080/"
        },
        "id": "s1G9IVy54FMI",
        "outputId": "cb037990-74ad-423f-b6aa-4fdca9e698dc"
      },
      "execution_count": 101,
      "outputs": [
        {
          "output_type": "execute_result",
          "data": {
            "text/plain": [
              "[3, 10, 20, 30, 1, 2]"
            ]
          },
          "metadata": {},
          "execution_count": 101
        }
      ]
    },
    {
      "cell_type": "code",
      "source": [
        "# list.clear(): list의 모든 원소들을 삭제.\n",
        "numbers.clear()\n",
        "numbers"
      ],
      "metadata": {
        "colab": {
          "base_uri": "https://localhost:8080/"
        },
        "id": "KFZzUQE74rcN",
        "outputId": "b9dcf233-a5d0-46af-ac8c-b74e53bfec97"
      },
      "execution_count": 102,
      "outputs": [
        {
          "output_type": "execute_result",
          "data": {
            "text/plain": [
              "[]"
            ]
          },
          "metadata": {},
          "execution_count": 102
        }
      ]
    },
    {
      "cell_type": "markdown",
      "source": [
        "## 원소 변경"
      ],
      "metadata": {
        "id": "9v-et-1S5STj"
      }
    },
    {
      "cell_type": "code",
      "source": [
        "numbers = [1, 2, 3]\n",
        "numbers"
      ],
      "metadata": {
        "colab": {
          "base_uri": "https://localhost:8080/"
        },
        "id": "qoKZOtst5Hej",
        "outputId": "0d5c0527-292f-4e5a-f4a3-bc9c6db47459"
      },
      "execution_count": 103,
      "outputs": [
        {
          "output_type": "execute_result",
          "data": {
            "text/plain": [
              "[1, 2, 3]"
            ]
          },
          "metadata": {},
          "execution_count": 103
        }
      ]
    },
    {
      "cell_type": "code",
      "source": [
        "# list[index] = value\n",
        "numbers[1] = 3.14\n",
        "numbers"
      ],
      "metadata": {
        "colab": {
          "base_uri": "https://localhost:8080/"
        },
        "id": "MiqDXLQs5ana",
        "outputId": "3c65c882-47af-4853-d2e9-d13bd7511fe0"
      },
      "execution_count": 104,
      "outputs": [
        {
          "output_type": "execute_result",
          "data": {
            "text/plain": [
              "[1, 3.14, 3]"
            ]
          },
          "metadata": {},
          "execution_count": 104
        }
      ]
    },
    {
      "cell_type": "markdown",
      "source": [
        "# list와 for 반복문"
      ],
      "metadata": {
        "id": "dv3F-qD_9wMk"
      }
    },
    {
      "cell_type": "code",
      "source": [
        "numbers = [1, 2, 3, 10, 20, 30]\n",
        "for x in numbers:\n",
        "    print(x, end='\\t')"
      ],
      "metadata": {
        "colab": {
          "base_uri": "https://localhost:8080/"
        },
        "id": "eX7f782-9yQs",
        "outputId": "73f12ee5-7721-4181-ddbd-97574cbd5a80"
      },
      "execution_count": 108,
      "outputs": [
        {
          "output_type": "stream",
          "name": "stdout",
          "text": [
            "1\t2\t3\t10\t20\t30\t"
          ]
        }
      ]
    },
    {
      "cell_type": "code",
      "source": [
        "for index, value in enumerate(numbers):\n",
        "    print(f'{index} : {value}')"
      ],
      "metadata": {
        "colab": {
          "base_uri": "https://localhost:8080/"
        },
        "id": "9qi0BCaZ93Mc",
        "outputId": "ab0c8be0-a0fd-443b-8699-af8fe639ffc0"
      },
      "execution_count": 110,
      "outputs": [
        {
          "output_type": "stream",
          "name": "stdout",
          "text": [
            "0 : 1\n",
            "1 : 2\n",
            "2 : 3\n",
            "3 : 10\n",
            "4 : 20\n",
            "5 : 30\n"
          ]
        }
      ]
    },
    {
      "cell_type": "markdown",
      "source": [
        "# 연습문제"
      ],
      "metadata": {
        "id": "GlgXXFBS_Tkp"
      }
    },
    {
      "cell_type": "markdown",
      "source": [
        "## Ex 1.\n",
        "\n",
        "* 빈 리스트 numbers를 만듦.\n",
        "* 리스트에 numbers에 100 미만의 정수 난수 10개 저장. (append 10번 수행)\n",
        "* numbers를 출력.\n",
        "* numbers의 원소들 중에서 짝수들로만 이루어진 새로운 리스트 evens를 만들고 출력.\n",
        "* numbers의 원소들 중에서 홀수들로만 이루어진 새로운 리스트 odds를 만들고 출력."
      ],
      "metadata": {
        "id": "vGtTfo1N_WZ_"
      }
    },
    {
      "cell_type": "code",
      "source": [
        "import random\n",
        "\n",
        "numbers = []        # 난수들을 저장하기 위한 빈 리스트\n",
        "for _ in range(10):\n",
        "    numbers.append(random.randrange(100))\n",
        "\n",
        "\n",
        "print(numbers)\n",
        "\n",
        "evens = []  # 짝수들을 저장하기 위한 빈 리스트\n",
        "odds = []   # 홀수들을 저장하기 위한 빈 리스트\n",
        "for x in numbers:   # 리스트 number의 원소들을 순서대로 반복하면서\n",
        "    if x % 2 == 0:  # 리스트의 원소가 짝수면\n",
        "        evens.append(x) # 리스트 evens에 추가.\n",
        "    else:\n",
        "        odds.append(x)\n",
        "\n",
        "print(evens)\n",
        "print(odds)"
      ],
      "metadata": {
        "colab": {
          "base_uri": "https://localhost:8080/"
        },
        "id": "xn3R1PKN_S-_",
        "outputId": "01ec8a5e-7f9e-4343-97ce-e1ee9ad55ee0"
      },
      "execution_count": 180,
      "outputs": [
        {
          "output_type": "stream",
          "name": "stdout",
          "text": [
            "[26, 37, 61, 5, 12, 3, 92, 98, 34, 92]\n",
            "[26, 12, 92, 98, 34, 92]\n",
            "[37, 61, 5, 3]\n"
          ]
        }
      ]
    },
    {
      "cell_type": "markdown",
      "source": [
        "## Ex2.\n",
        "\n",
        "* integers 이름의 빈 리스트를 만듦.\n",
        "* 리스트 integers에 -10 이상 10 이하의 정수 난수 10개를 저장하고 출력.\n",
        "* is_positives 이름의 빈 리스트를 만듦.\n",
        "* integers의 원소가 양수이면 True, 그렇지 않으면 False를 is_positives에 저장하고 출력"
      ],
      "metadata": {
        "id": "Y6IZQ9mUW5np"
      }
    },
    {
      "cell_type": "code",
      "source": [
        "import random\n",
        "\n",
        "integers = []\n",
        "\n",
        "for _ in range(10):\n",
        "    integers.append(random.randrange(-10, 11))\n",
        "\n",
        "print(integers)\n",
        "\n",
        "is_positives = []\n",
        "\n",
        "for x in integers:\n",
        "    if x > 0 :\n",
        "        is_positives.append(True)\n",
        "    else:\n",
        "        is_positives.append(False)\n",
        "\n",
        "print(is_positives)"
      ],
      "metadata": {
        "colab": {
          "base_uri": "https://localhost:8080/"
        },
        "id": "NFvIRBbKXK0w",
        "outputId": "b46160b3-9c99-4cac-bd3a-7d6c65aaba3a"
      },
      "execution_count": 214,
      "outputs": [
        {
          "output_type": "stream",
          "name": "stdout",
          "text": [
            "[8, -8, 4, -6, -3, 7, 3, 5, 1, 7]\n",
            "[True, False, True, False, False, True, True, True, True, True]\n"
          ]
        }
      ]
    },
    {
      "cell_type": "markdown",
      "source": [
        "## Ex 3.\n"
      ],
      "metadata": {
        "id": "SrxFgkjHaEnP"
      }
    },
    {
      "cell_type": "code",
      "source": [
        "names = ['Python', 'SQL', 'R', 'Java', 'JavaScript']\n",
        "name_lengths = []   # names의 저장된 문자열의 길이들을 저장할 리스트\n",
        "\n",
        "for x in names:\n",
        "    name_lengths.append(len(x))\n",
        "\n",
        "print(name_lengths)"
      ],
      "metadata": {
        "colab": {
          "base_uri": "https://localhost:8080/"
        },
        "id": "xOgf_ZPMaIxG",
        "outputId": "a4b8c431-74d3-4718-b832-933f5042deb9"
      },
      "execution_count": 215,
      "outputs": [
        {
          "output_type": "stream",
          "name": "stdout",
          "text": [
            "[6, 3, 1, 4, 10]\n"
          ]
        }
      ]
    },
    {
      "cell_type": "markdown",
      "source": [
        "# List Comprehension"
      ],
      "metadata": {
        "id": "ODwBzkdXbxju"
      }
    },
    {
      "cell_type": "code",
      "source": [
        "# 1 ~ 10 정수들을 순서대로 저장하는 리스트\n",
        "numbers = []\n",
        "\n",
        "for x in range(10):\n",
        "    numbers.append(x)\n",
        "\n",
        "print(numbers)"
      ],
      "metadata": {
        "colab": {
          "base_uri": "https://localhost:8080/"
        },
        "id": "-m_M89wbb0kV",
        "outputId": "4e2b68e4-2322-47b0-ce5d-92320da6862f"
      },
      "execution_count": 225,
      "outputs": [
        {
          "output_type": "stream",
          "name": "stdout",
          "text": [
            "[0, 1, 2, 3, 4, 5, 6, 7, 8, 9]\n"
          ]
        }
      ]
    },
    {
      "cell_type": "code",
      "source": [
        "numbers2 = [x for x in range(1, 11)]\n",
        "numbers2"
      ],
      "metadata": {
        "colab": {
          "base_uri": "https://localhost:8080/"
        },
        "id": "POwnI_a7cUOT",
        "outputId": "b35b2f98-d564-4976-c273-66c8eb7c260d"
      },
      "execution_count": 227,
      "outputs": [
        {
          "output_type": "execute_result",
          "data": {
            "text/plain": [
              "[1, 2, 3, 4, 5, 6, 7, 8, 9, 10]"
            ]
          },
          "metadata": {},
          "execution_count": 227
        }
      ]
    },
    {
      "cell_type": "code",
      "source": [
        "# 1 ~ 20 사이의 홀수들을 저장하는 리스트\n",
        "numbers3 = [x for x in range(1, 21) if x % 2==1]\n",
        "numbers3 = [x for x in range(1, 21, 2)]\n",
        "numbers3\n",
        "\n",
        "# odds = []\n",
        "# for x in range(1, 21, 2):\n",
        "#     odds.append(x)\n",
        "# odds"
      ],
      "metadata": {
        "colab": {
          "base_uri": "https://localhost:8080/"
        },
        "id": "I6E-F_oOc1wd",
        "outputId": "b5c07ff4-83a8-47ff-e3ce-e0dba7986244"
      },
      "execution_count": 237,
      "outputs": [
        {
          "output_type": "execute_result",
          "data": {
            "text/plain": [
              "[1, 3, 5, 7, 9, 11, 13, 15, 17, 19]"
            ]
          },
          "metadata": {},
          "execution_count": 237
        }
      ]
    },
    {
      "cell_type": "code",
      "source": [
        "# 1 ~ 10 정수들의 제곱을 저장하는 리스트 :\n",
        "numbers4 = [x ** 2 for x in range(1, 11)]\n",
        "numbers4\n",
        "\n",
        "# squares = []\n",
        "# for x in range(1, 11):\n",
        "#     squares.append(x ** 2)\n",
        "\n",
        "# print(squares)"
      ],
      "metadata": {
        "colab": {
          "base_uri": "https://localhost:8080/"
        },
        "id": "co4ae2Zqdvgt",
        "outputId": "030cae91-d295-48df-c10e-798ca622a5a8"
      },
      "execution_count": 257,
      "outputs": [
        {
          "output_type": "execute_result",
          "data": {
            "text/plain": [
              "[1, 4, 9, 16, 25, 36, 49, 64, 81, 100]"
            ]
          },
          "metadata": {},
          "execution_count": 257
        }
      ]
    },
    {
      "cell_type": "code",
      "source": [
        "# 0 이상 100 미만의 정수 난수 10개를 저장하는 리스트\n",
        "numbers5 = [random.randrange(0, 100) for _ in range(1, 11)]\n",
        "numbers5\n",
        "\n",
        "# rand_numbers = []\n",
        "# for _ in range(1,11):\n",
        "#     rand_numbers.append(random.randrange(0, 100))\n",
        "# rand_numbers"
      ],
      "metadata": {
        "colab": {
          "base_uri": "https://localhost:8080/"
        },
        "id": "OgseQ0Xre-ve",
        "outputId": "ce5645e8-2196-4c4d-d27a-e7253930089e"
      },
      "execution_count": 296,
      "outputs": [
        {
          "output_type": "execute_result",
          "data": {
            "text/plain": [
              "[10, 98, 54, 29, 52, 64, 30, 9, 45, 16]"
            ]
          },
          "metadata": {},
          "execution_count": 296
        }
      ]
    },
    {
      "cell_type": "code",
      "source": [
        "# rand_numbers의 원소들 중에서 짝수들로만 이루어진 리스트\n",
        "rand_numbers = [x for x in numbers5 if x % 2 == 0]\n",
        "rand_numbers\n",
        "\n",
        "# evens = []\n",
        "# for x in numbers5:\n",
        "#     if x % 2 == 0:\n",
        "#         evens.append(x)\n",
        "# evens"
      ],
      "metadata": {
        "colab": {
          "base_uri": "https://localhost:8080/"
        },
        "id": "qDWYlebWgO48",
        "outputId": "4a2392a2-f8e3-46c4-b7cc-9101eb0fca1d"
      },
      "execution_count": 302,
      "outputs": [
        {
          "output_type": "execute_result",
          "data": {
            "text/plain": [
              "[10, 98, 54, 52, 64, 30, 16]"
            ]
          },
          "metadata": {},
          "execution_count": 302
        }
      ]
    },
    {
      "cell_type": "code",
      "source": [
        "# rand_numbers의 원소들 중에서 홀수들로만 이루어진 리스트\n",
        "rand_odd_numbers = [x for x in numbers5 if x % 2]\n",
        "rand_odd_numbers\n",
        "\n",
        "# odds = []\n",
        "# for x in numbers5:\n",
        "#     if x % 2:\n",
        "#         odds.append(x)\n",
        "# odds"
      ],
      "metadata": {
        "colab": {
          "base_uri": "https://localhost:8080/"
        },
        "id": "TA0cj-74gVAc",
        "outputId": "512fa2ee-bfab-490c-bbaf-a2425a633019"
      },
      "execution_count": 306,
      "outputs": [
        {
          "output_type": "execute_result",
          "data": {
            "text/plain": [
              "[29, 9, 45]"
            ]
          },
          "metadata": {},
          "execution_count": 306
        }
      ]
    },
    {
      "cell_type": "markdown",
      "source": [
        "## if-else 표현식\n",
        "\n",
        "`값1 if 조건식 else 값2` : 조건식이 참일 때는 (값1)을 선택, 그렇지 않으면 (값2)를 선택."
      ],
      "metadata": {
        "id": "mdeO-1JQmDmE"
      }
    },
    {
      "cell_type": "code",
      "source": [
        "x = 13\n",
        "is_even = True if x % 2 == 0 else False\n",
        "is_even"
      ],
      "metadata": {
        "colab": {
          "base_uri": "https://localhost:8080/"
        },
        "id": "7AZ-DUbBhxp9",
        "outputId": "6dadfce1-0e53-4a45-f568-6d18e2fbe600"
      },
      "execution_count": 309,
      "outputs": [
        {
          "output_type": "execute_result",
          "data": {
            "text/plain": [
              "False"
            ]
          },
          "metadata": {},
          "execution_count": 309
        }
      ]
    },
    {
      "cell_type": "code",
      "source": [
        "# rand_numbers의 원소가 짝수이면 True 그렇지 않으면 False를 저장하는 리스트\n",
        "result = [True if x % 2 == 0 else False for x in numbers5]\n",
        "print(result)\n",
        "numbers5\n",
        "\n",
        "# result = []\n",
        "# for x in numbers5:\n",
        "#     if x % 2 == 0:\n",
        "#         result.append(True)\n",
        "#     else:\n",
        "#         result.append(False)\n",
        "# result"
      ],
      "metadata": {
        "colab": {
          "base_uri": "https://localhost:8080/"
        },
        "id": "PE2jE8Wqm0jj",
        "outputId": "7670de3d-795e-4318-cd1d-31c4c6cfefa6"
      },
      "execution_count": 316,
      "outputs": [
        {
          "output_type": "stream",
          "name": "stdout",
          "text": [
            "[True, True, True, False, True, True, True, False, False, True]\n"
          ]
        },
        {
          "output_type": "execute_result",
          "data": {
            "text/plain": [
              "[10, 98, 54, 29, 52, 64, 30, 9, 45, 16]"
            ]
          },
          "metadata": {},
          "execution_count": 316
        }
      ]
    },
    {
      "cell_type": "code",
      "source": [
        "gender_codes = [random.randrange(2) for _ in range(10)]\n",
        "print(gender_codes)\n",
        "\n",
        "# gender_codes의 원소가 0이면 '남성', 그렇지 않으면 '여성'을 저장하는 리스트.\n",
        "genders = ['남성' if x == 0 else '여성' for x in gender_codes]\n",
        "genders\n",
        "\n",
        "# genders = []\n",
        "# for x in gender_codes:\n",
        "#     if x == 0:\n",
        "#         genders.append('남성')\n",
        "#     else:\n",
        "#         genders.append('여성')\n",
        "\n",
        "# genders"
      ],
      "metadata": {
        "colab": {
          "base_uri": "https://localhost:8080/"
        },
        "id": "6adN-OmMoqp9",
        "outputId": "931fe575-edd2-4855-baa9-08944422bc05"
      },
      "execution_count": 324,
      "outputs": [
        {
          "output_type": "stream",
          "name": "stdout",
          "text": [
            "[1, 1, 0, 0, 0, 0, 1, 0, 1, 0]\n"
          ]
        },
        {
          "output_type": "execute_result",
          "data": {
            "text/plain": [
              "['여성', '여성', '남성', '남성', '남성', '남성', '여성', '남성', '여성', '남성']"
            ]
          },
          "metadata": {},
          "execution_count": 324
        }
      ]
    },
    {
      "cell_type": "markdown",
      "source": [
        "# `zip()` 함수와 for 반복문"
      ],
      "metadata": {
        "id": "0jPlBv8xqA8c"
      }
    },
    {
      "cell_type": "code",
      "source": [
        "numbers1 = [1, 2, 3, 4, 5]\n",
        "numbers2 = [1, 3, 5, 7, 9]\n",
        "\n",
        "# 두 리스트 numbers1과 numbers2의 같은 인덱스에 있는 원소들끼리 덧셈 결과를 저장하는 리스트.\n",
        "adds = []\n",
        "\n",
        "for i in range(len(numbers1)):\n",
        "    plus = numbers1[i] + numbers2[i]\n",
        "    adds.append(plus)\n",
        "adds"
      ],
      "metadata": {
        "colab": {
          "base_uri": "https://localhost:8080/"
        },
        "id": "4r-p3zBkqDAO",
        "outputId": "6922018e-0836-4b71-e25d-b0b1dd46606a"
      },
      "execution_count": 335,
      "outputs": [
        {
          "output_type": "execute_result",
          "data": {
            "text/plain": [
              "[2, 5, 8, 11, 14]"
            ]
          },
          "metadata": {},
          "execution_count": 335
        }
      ]
    },
    {
      "cell_type": "code",
      "source": [
        "adds2 = []\n",
        "for x, y in zip(numbers1, numbers2):\n",
        "    adds2.append(x + y)\n",
        "\n",
        "adds2"
      ],
      "metadata": {
        "colab": {
          "base_uri": "https://localhost:8080/"
        },
        "id": "iZm85Q6hsdl7",
        "outputId": "aa347b40-c401-448e-c94f-ba9d63e0282e"
      },
      "execution_count": 338,
      "outputs": [
        {
          "output_type": "execute_result",
          "data": {
            "text/plain": [
              "[2, 5, 8, 11, 14]"
            ]
          },
          "metadata": {},
          "execution_count": 338
        }
      ]
    },
    {
      "cell_type": "code",
      "source": [
        "adds3 = [x + y for x,y in zip(numbers1, numbers2)]\n",
        "adds3"
      ],
      "metadata": {
        "colab": {
          "base_uri": "https://localhost:8080/"
        },
        "id": "D-qa07CatzDz",
        "outputId": "c7bb0d83-7338-4298-ebad-3aa2ac43ba63"
      },
      "execution_count": 344,
      "outputs": [
        {
          "output_type": "execute_result",
          "data": {
            "text/plain": [
              "[2, 5, 8, 11, 14]"
            ]
          },
          "metadata": {},
          "execution_count": 344
        }
      ]
    },
    {
      "cell_type": "code",
      "source": [
        "# numbers1 과 numbers2의 같은 인덱스에 있는 원소들의 뺄셈\n",
        "subtracts = [x - y for x,y in zip(numbers1,numbers2)]\n",
        "subtracts\n",
        "\n",
        "# subtracts = []\n",
        "# for i in range(len(numbers1)):\n",
        "#     minus = numbers1[i] - numbers2[i]\n",
        "#     subtracts.append(minus)\n",
        "# subtracts\n",
        "\n",
        "# subtracts = []\n",
        "# for x , y in zip(numbers1, numbers2):\n",
        "#     subtracts.append(x - y)\n",
        "# subtracts"
      ],
      "metadata": {
        "colab": {
          "base_uri": "https://localhost:8080/"
        },
        "id": "y-xTujxIuPHi",
        "outputId": "d7ffbd03-a7ea-4ce7-884b-87c16b109e00"
      },
      "execution_count": 350,
      "outputs": [
        {
          "output_type": "execute_result",
          "data": {
            "text/plain": [
              "[0, -1, -2, -3, -4]"
            ]
          },
          "metadata": {},
          "execution_count": 350
        }
      ]
    },
    {
      "cell_type": "markdown",
      "source": [
        "# 다차원 리스트\n",
        "\n",
        "리스트를 원소로 갖는 리스트."
      ],
      "metadata": {
        "id": "-sqDnZ_ezcYj"
      }
    },
    {
      "cell_type": "code",
      "source": [
        "matrix = [\n",
        "    [1, 2, 3],\n",
        "    [4, 5, 6, 7],\n",
        "    [8,9]\n",
        "]\n",
        "matrix"
      ],
      "metadata": {
        "colab": {
          "base_uri": "https://localhost:8080/"
        },
        "id": "5h2gKM3fzgvK",
        "outputId": "a57d6fc6-ad87-4182-bf8c-f0a43d539495"
      },
      "execution_count": 352,
      "outputs": [
        {
          "output_type": "execute_result",
          "data": {
            "text/plain": [
              "[[1, 2, 3], [4, 5, 6, 7], [8, 9]]"
            ]
          },
          "metadata": {},
          "execution_count": 352
        }
      ]
    },
    {
      "cell_type": "code",
      "source": [
        "len(matrix)"
      ],
      "metadata": {
        "colab": {
          "base_uri": "https://localhost:8080/"
        },
        "id": "koGNbYiE0eMr",
        "outputId": "bbcabe7d-2716-4292-be98-73c7ebf419f8"
      },
      "execution_count": 354,
      "outputs": [
        {
          "output_type": "execute_result",
          "data": {
            "text/plain": [
              "3"
            ]
          },
          "metadata": {},
          "execution_count": 354
        }
      ]
    },
    {
      "cell_type": "code",
      "source": [
        "print(matrix[0][0])\n",
        "matrix[0]"
      ],
      "metadata": {
        "colab": {
          "base_uri": "https://localhost:8080/"
        },
        "id": "lmI3UYcp0tXq",
        "outputId": "724aeeac-7122-4988-a3fe-f1f5c30c5006"
      },
      "execution_count": 359,
      "outputs": [
        {
          "output_type": "stream",
          "name": "stdout",
          "text": [
            "1\n"
          ]
        },
        {
          "output_type": "execute_result",
          "data": {
            "text/plain": [
              "[1, 2, 3]"
            ]
          },
          "metadata": {},
          "execution_count": 359
        }
      ]
    },
    {
      "cell_type": "code",
      "source": [
        "matrix[1][3]"
      ],
      "metadata": {
        "colab": {
          "base_uri": "https://localhost:8080/"
        },
        "id": "Py8vpisT1KF6",
        "outputId": "49d14bac-f304-4b65-8b88-515465bc7ad2"
      },
      "execution_count": 363,
      "outputs": [
        {
          "output_type": "execute_result",
          "data": {
            "text/plain": [
              "7"
            ]
          },
          "metadata": {},
          "execution_count": 363
        }
      ]
    },
    {
      "cell_type": "code",
      "source": [
        "matrix[-1][-1]"
      ],
      "metadata": {
        "colab": {
          "base_uri": "https://localhost:8080/"
        },
        "id": "Pa3_b_Cw1gSL",
        "outputId": "57ccd9c1-4798-464d-fe9d-3e96ad719ade"
      },
      "execution_count": 366,
      "outputs": [
        {
          "output_type": "execute_result",
          "data": {
            "text/plain": [
              "9"
            ]
          },
          "metadata": {},
          "execution_count": 366
        }
      ]
    },
    {
      "cell_type": "markdown",
      "source": [
        "## 다차원 리스트와 for 반복문"
      ],
      "metadata": {
        "id": "rZbqtEga2DwT"
      }
    },
    {
      "cell_type": "code",
      "source": [
        "for x in matrix:\n",
        "    print(x)"
      ],
      "metadata": {
        "colab": {
          "base_uri": "https://localhost:8080/"
        },
        "id": "rohMosrM1eIj",
        "outputId": "33b6f739-87a5-4dc5-a181-bfd90fb80e3e"
      },
      "execution_count": 368,
      "outputs": [
        {
          "output_type": "stream",
          "name": "stdout",
          "text": [
            "[1, 2, 3]\n",
            "[4, 5, 6, 7]\n",
            "[8, 9]\n"
          ]
        }
      ]
    },
    {
      "cell_type": "code",
      "source": [
        "for row in matrix:\n",
        "    for x in row:\n",
        "        print(x, end='\\t')\n",
        "    print()"
      ],
      "metadata": {
        "colab": {
          "base_uri": "https://localhost:8080/"
        },
        "id": "hGVqaGr32nUr",
        "outputId": "cb6e5ed3-1187-408d-bf94-814244d2c566"
      },
      "execution_count": 371,
      "outputs": [
        {
          "output_type": "stream",
          "name": "stdout",
          "text": [
            "1\t2\t3\t\n",
            "4\t5\t6\t7\t\n",
            "8\t9\t\n"
          ]
        }
      ]
    },
    {
      "cell_type": "code",
      "source": [
        "matrix_3d = [\n",
        "    [\n",
        "        [1, 2, 3],\n",
        "        [4, 5, 6]\n",
        "    ],\n",
        "    [\n",
        "        [7, 8, 9],\n",
        "        [0, 1, 2]\n",
        "    ]\n",
        "]\n",
        "matrix_3d"
      ],
      "metadata": {
        "colab": {
          "base_uri": "https://localhost:8080/"
        },
        "id": "JZk2qyIZ3--C",
        "outputId": "25386ba1-1e62-41b9-80fb-c4d45796f9d0"
      },
      "execution_count": 374,
      "outputs": [
        {
          "output_type": "execute_result",
          "data": {
            "text/plain": [
              "[[[1, 2, 3], [4, 5, 6]], [[7, 8, 9], [0, 1, 2]]]"
            ]
          },
          "metadata": {},
          "execution_count": 374
        }
      ]
    },
    {
      "cell_type": "code",
      "source": [
        "len(matrix_3d)"
      ],
      "metadata": {
        "colab": {
          "base_uri": "https://localhost:8080/"
        },
        "id": "hYq68FKw4l_M",
        "outputId": "aa094a6a-af62-480e-ba8c-1b700334fb33"
      },
      "execution_count": 376,
      "outputs": [
        {
          "output_type": "execute_result",
          "data": {
            "text/plain": [
              "2"
            ]
          },
          "metadata": {},
          "execution_count": 376
        }
      ]
    },
    {
      "cell_type": "code",
      "source": [
        "matrix_3d[0]"
      ],
      "metadata": {
        "colab": {
          "base_uri": "https://localhost:8080/"
        },
        "id": "qKgJR0G74d4q",
        "outputId": "ff3ffd8e-f9be-4343-990d-11b0b2674744"
      },
      "execution_count": 378,
      "outputs": [
        {
          "output_type": "execute_result",
          "data": {
            "text/plain": [
              "[[1, 2, 3], [4, 5, 6]]"
            ]
          },
          "metadata": {},
          "execution_count": 378
        }
      ]
    },
    {
      "cell_type": "code",
      "source": [
        "matrix_3d[0][0]"
      ],
      "metadata": {
        "colab": {
          "base_uri": "https://localhost:8080/"
        },
        "id": "hkJIbMD44uoy",
        "outputId": "558a26c9-019e-4f15-c721-608ab0b6a644"
      },
      "execution_count": 380,
      "outputs": [
        {
          "output_type": "execute_result",
          "data": {
            "text/plain": [
              "[1, 2, 3]"
            ]
          },
          "metadata": {},
          "execution_count": 380
        }
      ]
    },
    {
      "cell_type": "code",
      "source": [
        "matrix_3d[0][0][2]"
      ],
      "metadata": {
        "colab": {
          "base_uri": "https://localhost:8080/"
        },
        "id": "AxJQu-z14yty",
        "outputId": "41669922-a0c5-4c2d-fd51-ebe7aa75f1f4"
      },
      "execution_count": 383,
      "outputs": [
        {
          "output_type": "execute_result",
          "data": {
            "text/plain": [
              "3"
            ]
          },
          "metadata": {},
          "execution_count": 383
        }
      ]
    }
  ]
}
{
  "nbformat": 4,
  "nbformat_minor": 0,
  "metadata": {
    "colab": {
      "provenance": [],
      "toc_visible": true,
      "authorship_tag": "ABX9TyP08o1B+PR+IfoT2H7kBxhw",
      "include_colab_link": true
    },
    "kernelspec": {
      "name": "python3",
      "display_name": "Python 3"
    },
    "language_info": {
      "name": "python"
    }
  },
  "cells": [
    {
      "cell_type": "markdown",
      "metadata": {
        "id": "view-in-github",
        "colab_type": "text"
      },
      "source": [
        "<a href=\"https://colab.research.google.com/github/Sjleerodls/lab_python/blob/main/python16_str.ipynb\" target=\"_parent\"><img src=\"https://colab.research.google.com/assets/colab-badge.svg\" alt=\"Open In Colab\"/></a>"
      ]
    },
    {
      "cell_type": "markdown",
      "source": [
        "# `str` 클래스 메서드"
      ],
      "metadata": {
        "id": "zyzIrgqtJN7Q"
      }
    },
    {
      "cell_type": "code",
      "source": [
        "s = 'heLLo, pyTHon! hello PYTHON! 안녕하세요...'"
      ],
      "metadata": {
        "id": "4Nhj0ewmJP4x"
      },
      "execution_count": 10,
      "outputs": []
    },
    {
      "cell_type": "code",
      "execution_count": 11,
      "metadata": {
        "colab": {
          "base_uri": "https://localhost:8080/"
        },
        "id": "zq_URdJ8Huge",
        "outputId": "0aa5dcd4-f707-4ba4-8e1c-14058876c8a4"
      },
      "outputs": [
        {
          "output_type": "execute_result",
          "data": {
            "text/plain": [
              "str"
            ]
          },
          "metadata": {},
          "execution_count": 11
        }
      ],
      "source": [
        "type(s)"
      ]
    },
    {
      "cell_type": "code",
      "source": [
        "isinstance(s, str)"
      ],
      "metadata": {
        "colab": {
          "base_uri": "https://localhost:8080/"
        },
        "id": "PiRNvRGMJlzp",
        "outputId": "750db609-0571-40f8-b1ba-723e7c76bd32"
      },
      "execution_count": 12,
      "outputs": [
        {
          "output_type": "execute_result",
          "data": {
            "text/plain": [
              "True"
            ]
          },
          "metadata": {},
          "execution_count": 12
        }
      ]
    },
    {
      "cell_type": "code",
      "source": [
        "print(s)    # print 함수는 객체(s)의 __str__ 메서드가 리턴하는 문자열을 콘솔에 출력"
      ],
      "metadata": {
        "colab": {
          "base_uri": "https://localhost:8080/"
        },
        "id": "V_5xwc7UJuIe",
        "outputId": "90d2a3f6-c447-4080-df51-ea70e0d5b666"
      },
      "execution_count": 13,
      "outputs": [
        {
          "output_type": "stream",
          "name": "stdout",
          "text": [
            "heLLo, pyTHon! hello PYTHON! 안녕하세요...\n"
          ]
        }
      ]
    },
    {
      "cell_type": "code",
      "source": [
        "s   # 노트북의 코드 셀 출력(expression)은 __repr__ 메서드가 리턴하는 문자열을 콘솔에 출력"
      ],
      "metadata": {
        "colab": {
          "base_uri": "https://localhost:8080/",
          "height": 35
        },
        "id": "MMxh_I1gJ1b6",
        "outputId": "5aaf95dd-e608-4ed0-f154-f744a4ada758"
      },
      "execution_count": 14,
      "outputs": [
        {
          "output_type": "execute_result",
          "data": {
            "text/plain": [
              "'heLLo, pyTHon! hello PYTHON! 안녕하세요...'"
            ],
            "application/vnd.google.colaboratory.intrinsic+json": {
              "type": "string"
            }
          },
          "metadata": {},
          "execution_count": 14
        }
      ]
    },
    {
      "cell_type": "code",
      "source": [
        "result = s.upper()  # str.upper() : 대문자로 변환한 \"새로운\" 문자열을 리턴.\n",
        "print(result)\n",
        "print(s)    # 원본 문자열 s는 변경되지 않음!"
      ],
      "metadata": {
        "colab": {
          "base_uri": "https://localhost:8080/"
        },
        "id": "f8V0xwfLKOI-",
        "outputId": "e7ab7047-a801-40d6-fbba-279aeb4ab8fe"
      },
      "execution_count": 15,
      "outputs": [
        {
          "output_type": "stream",
          "name": "stdout",
          "text": [
            "HELLO, PYTHON! HELLO PYTHON! 안녕하세요...\n",
            "heLLo, pyTHon! hello PYTHON! 안녕하세요...\n"
          ]
        }
      ]
    },
    {
      "cell_type": "code",
      "source": [
        "s.lower()"
      ],
      "metadata": {
        "colab": {
          "base_uri": "https://localhost:8080/",
          "height": 35
        },
        "id": "IfADM9xMKa8Z",
        "outputId": "17fc7a4f-08ac-41fd-f05e-c2a87a1bbb12"
      },
      "execution_count": 16,
      "outputs": [
        {
          "output_type": "execute_result",
          "data": {
            "text/plain": [
              "'hello, python! hello python! 안녕하세요...'"
            ],
            "application/vnd.google.colaboratory.intrinsic+json": {
              "type": "string"
            }
          },
          "metadata": {},
          "execution_count": 16
        }
      ]
    },
    {
      "cell_type": "code",
      "source": [
        "s.capitalize()  # 문자열의 첫번째 글자만 대문자, 나머지는 소문자로 변환한 문자열을 리턴."
      ],
      "metadata": {
        "colab": {
          "base_uri": "https://localhost:8080/",
          "height": 35
        },
        "id": "I-ZQNAaKKe3m",
        "outputId": "028ddf0d-ad30-4614-c19a-b209184f944f"
      },
      "execution_count": 18,
      "outputs": [
        {
          "output_type": "execute_result",
          "data": {
            "text/plain": [
              "'Hello, python! hello python! 안녕하세요...'"
            ],
            "application/vnd.google.colaboratory.intrinsic+json": {
              "type": "string"
            }
          },
          "metadata": {},
          "execution_count": 18
        }
      ]
    },
    {
      "cell_type": "code",
      "source": [
        "print(s)\n",
        "print(s.count('L'))     # .count를 사용해 해당 문자의 개수 확인 가능\n",
        "print(s.count('l'))\n",
        "print(s.count('LL'))"
      ],
      "metadata": {
        "colab": {
          "base_uri": "https://localhost:8080/"
        },
        "id": "aTU8jdA4Klcu",
        "outputId": "dd972eea-d391-4b64-8cfb-c03c7f844517"
      },
      "execution_count": 20,
      "outputs": [
        {
          "output_type": "stream",
          "name": "stdout",
          "text": [
            "heLLo, pyTHon! hello PYTHON! 안녕하세요...\n",
            "2\n",
            "2\n",
            "1\n"
          ]
        }
      ]
    },
    {
      "cell_type": "code",
      "source": [
        "# 대/소문자 구분 없이 'py' 문자열이 몇 번 등장하는 지\n",
        "print(s)\n",
        "s.lower().count('py')"
      ],
      "metadata": {
        "colab": {
          "base_uri": "https://localhost:8080/"
        },
        "id": "4vCwO6yYKs3O",
        "outputId": "8aaf3f4e-82ae-46d3-cfd5-b33dc4ddd340"
      },
      "execution_count": 22,
      "outputs": [
        {
          "output_type": "stream",
          "name": "stdout",
          "text": [
            "heLLo, pyTHon! hello PYTHON! 안녕하세요...\n"
          ]
        },
        {
          "output_type": "execute_result",
          "data": {
            "text/plain": [
              "2"
            ]
          },
          "metadata": {},
          "execution_count": 22
        }
      ]
    },
    {
      "cell_type": "code",
      "source": [
        "print(s)\n",
        "print(s.find('py'))    # .find를 사용해 해당 문자의 index 값 확인.\n",
        "\n",
        "aa = 'wonder to py to py and ppy end of py'\n",
        "aa.find('py')"
      ],
      "metadata": {
        "colab": {
          "base_uri": "https://localhost:8080/"
        },
        "id": "-dWGhkDSK46I",
        "outputId": "b5c4a3b1-9943-460d-c9fb-6ae55b4cdaa2"
      },
      "execution_count": 27,
      "outputs": [
        {
          "output_type": "stream",
          "name": "stdout",
          "text": [
            "heLLo, pyTHon! hello PYTHON! 안녕하세요...\n",
            "7\n"
          ]
        },
        {
          "output_type": "execute_result",
          "data": {
            "text/plain": [
              "10"
            ]
          },
          "metadata": {},
          "execution_count": 27
        }
      ]
    },
    {
      "cell_type": "code",
      "source": [
        "email = 'gildong@itwill.com'\n",
        "\n",
        "# 문자열 email에서 '@' 문자열이 등장하는 인덱스\n",
        "idx = email.find('@')\n",
        "print(idx)\n",
        "\n",
        "# 문자열 email에서 아이디(gildong)와 도메인(itwill.com)을 구분해서 출력\n",
        "print(email[:idx])\n",
        "print(email[(idx + 1):])"
      ],
      "metadata": {
        "colab": {
          "base_uri": "https://localhost:8080/"
        },
        "id": "lUZJHMEaK7BW",
        "outputId": "db0284ca-6890-41fb-d0ed-d9cb830efb41"
      },
      "execution_count": 28,
      "outputs": [
        {
          "output_type": "stream",
          "name": "stdout",
          "text": [
            "7\n",
            "gildong\n",
            "itwill.com\n"
          ]
        }
      ]
    },
    {
      "cell_type": "code",
      "source": [
        "msg = '파이썬 참 쉽죠? 파이썬 열심히 공부합시다.'\n",
        "result = msg.split()\n",
        "# str.split() : 문자열 str을 공백(space, 줄바꿈, 탭)으로 구분한 문자열들의 리스트를 리턴.\n",
        "result"
      ],
      "metadata": {
        "colab": {
          "base_uri": "https://localhost:8080/"
        },
        "id": "ixmFDaYHLRMG",
        "outputId": "f8c0d3d9-850f-4bf0-c1f3-e6ce34b6b88c"
      },
      "execution_count": 29,
      "outputs": [
        {
          "output_type": "execute_result",
          "data": {
            "text/plain": [
              "['파이썬', '참', '쉽죠?', '파이썬', '열심히', '공부합시다.']"
            ]
          },
          "metadata": {},
          "execution_count": 29
        }
      ]
    },
    {
      "cell_type": "code",
      "source": [
        "data_str = '2025-06-16'\n",
        "data_str.split('-')\n",
        "# str.split(sep) : 문자열 str을 구분자 sep로 구분한 문자열들의 리스트를 리턴."
      ],
      "metadata": {
        "colab": {
          "base_uri": "https://localhost:8080/"
        },
        "id": "PZm26ahaLcpG",
        "outputId": "193f52ea-a2fe-47b5-df2c-dbeebaebb090"
      },
      "execution_count": 19,
      "outputs": [
        {
          "output_type": "execute_result",
          "data": {
            "text/plain": [
              "['2025', '06', '16']"
            ]
          },
          "metadata": {},
          "execution_count": 19
        }
      ]
    },
    {
      "cell_type": "code",
      "source": [
        "csv_str = '1,홍길동,100,90,80'\n",
        "csv_str.split(sep=',')"
      ],
      "metadata": {
        "colab": {
          "base_uri": "https://localhost:8080/"
        },
        "id": "GkPhRaf8LoAW",
        "outputId": "7090681f-1ae4-401f-e8a4-5cf6bebb2f1d"
      },
      "execution_count": 20,
      "outputs": [
        {
          "output_type": "execute_result",
          "data": {
            "text/plain": [
              "['1', '홍길동', '100', '90', '80']"
            ]
          },
          "metadata": {},
          "execution_count": 20
        }
      ]
    },
    {
      "cell_type": "code",
      "source": [
        "email = 'gildong@itwill.com'\n",
        "result = email.split(sep='@')\n",
        "print(result[0])\n",
        "print(result[1])\n",
        "result"
      ],
      "metadata": {
        "colab": {
          "base_uri": "https://localhost:8080/"
        },
        "id": "_wL7Gqf8LsUG",
        "outputId": "33472e4b-d578-4f33-c7fc-2c6537b99b63"
      },
      "execution_count": 30,
      "outputs": [
        {
          "output_type": "stream",
          "name": "stdout",
          "text": [
            "gildong\n",
            "itwill.com\n"
          ]
        },
        {
          "output_type": "execute_result",
          "data": {
            "text/plain": [
              "['gildong', 'itwill.com']"
            ]
          },
          "metadata": {},
          "execution_count": 30
        }
      ]
    },
    {
      "cell_type": "code",
      "source": [
        "print('/'.join(['2025', '06', '16']))\n",
        "# s.join(iterable) : iterable의 원소들을 문자열 s로 연결한 문자열을 리턴\n",
        "\n",
        "print('::'.join(['2025', '01', '17']))"
      ],
      "metadata": {
        "colab": {
          "base_uri": "https://localhost:8080/"
        },
        "id": "5PWU_KD4LPTm",
        "outputId": "d5af22fe-882b-43ae-9518-37da2717d020"
      },
      "execution_count": 32,
      "outputs": [
        {
          "output_type": "stream",
          "name": "stdout",
          "text": [
            "2025/06/16\n",
            "2025::01::17\n"
          ]
        }
      ]
    },
    {
      "cell_type": "code",
      "source": [
        "':'.join(['홍길동', 'Scott', '오쌤'])"
      ],
      "metadata": {
        "colab": {
          "base_uri": "https://localhost:8080/",
          "height": 35
        },
        "id": "G9P-dqcgKrZP",
        "outputId": "55e0ca18-6d9b-4aa4-a0e8-8963c8fc93be"
      },
      "execution_count": 24,
      "outputs": [
        {
          "output_type": "execute_result",
          "data": {
            "text/plain": [
              "'홍길동:Scott:오쌤'"
            ],
            "application/vnd.google.colaboratory.intrinsic+json": {
              "type": "string"
            }
          },
          "metadata": {},
          "execution_count": 24
        }
      ]
    },
    {
      "cell_type": "code",
      "source": [
        "csv_str = 'hello,python,안녕,오쌤,12345'\n",
        "csv_str.replace(',', '::')\n",
        "# str.replace(old, new) : 문자열 str에서 등장하는 모든 old 문자열을 new 문자열로 대체한 문자열을 리턴."
      ],
      "metadata": {
        "colab": {
          "base_uri": "https://localhost:8080/",
          "height": 35
        },
        "id": "FLkhDSn3KqAP",
        "outputId": "4e6dd2a3-c805-4b55-e400-fe264d398b21"
      },
      "execution_count": 1,
      "outputs": [
        {
          "output_type": "execute_result",
          "data": {
            "text/plain": [
              "'hello::python::안녕::오쌤::12345'"
            ],
            "application/vnd.google.colaboratory.intrinsic+json": {
              "type": "string"
            }
          },
          "metadata": {},
          "execution_count": 1
        }
      ]
    },
    {
      "cell_type": "code",
      "source": [
        "msg = '안녕? 안녕하세요! Hello, Python.'\n",
        "# 문자열 msg에서 문장부호(? , ! .)들을 제거한 단어들로만 이루어진 리스트\n",
        "print(msg.replace('?', ' ').replace('!', ' ').replace(',', ' ').replace('.', ' '))\n",
        "msg.replace('?', ' ').replace('!', ' ').replace(',', ' ').replace('.', ' ').split()     # 새로운 문자열 리스트 생성"
      ],
      "metadata": {
        "colab": {
          "base_uri": "https://localhost:8080/"
        },
        "id": "yk5BC1ZkJwjY",
        "outputId": "3e624e03-ae27-42e7-e690-5564bcdd02c7"
      },
      "execution_count": 33,
      "outputs": [
        {
          "output_type": "stream",
          "name": "stdout",
          "text": [
            "안녕  안녕하세요  Hello  Python \n"
          ]
        },
        {
          "output_type": "execute_result",
          "data": {
            "text/plain": [
              "['안녕', '안녕하세요', 'Hello', 'Python']"
            ]
          },
          "metadata": {},
          "execution_count": 33
        }
      ]
    },
    {
      "cell_type": "code",
      "source": [
        "sentence = '        Hello, Python!      안녕하세요.         '\n",
        "print(sentence)\n",
        "print(sentence.lstrip())\n",
        "print(sentence.rstrip())\n",
        "print(sentence.strip())     # .strip() 으로 문자열 내 공백 제거"
      ],
      "metadata": {
        "colab": {
          "base_uri": "https://localhost:8080/"
        },
        "id": "rTLwuL9r7euo",
        "outputId": "e25b1ebf-d96b-47a0-e4eb-86385a4649f1"
      },
      "execution_count": 9,
      "outputs": [
        {
          "output_type": "stream",
          "name": "stdout",
          "text": [
            "        Hello, Python!      안녕하세요.         \n",
            "Hello, Python!      안녕하세요.         \n",
            "        Hello, Python!      안녕하세요.\n",
            "Hello, Python!      안녕하세요.\n"
          ]
        }
      ]
    }
  ]
}
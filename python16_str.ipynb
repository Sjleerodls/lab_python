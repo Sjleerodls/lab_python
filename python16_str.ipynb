{
  "nbformat": 4,
  "nbformat_minor": 0,
  "metadata": {
    "colab": {
      "provenance": [],
      "toc_visible": true,
      "authorship_tag": "ABX9TyOApyszWj4cxk0OdK5iCdSj",
      "include_colab_link": true
    },
    "kernelspec": {
      "name": "python3",
      "display_name": "Python 3"
    },
    "language_info": {
      "name": "python"
    }
  },
  "cells": [
    {
      "cell_type": "markdown",
      "metadata": {
        "id": "view-in-github",
        "colab_type": "text"
      },
      "source": [
        "<a href=\"https://colab.research.google.com/github/Sjleerodls/lab_python/blob/main/python16_str.ipynb\" target=\"_parent\"><img src=\"https://colab.research.google.com/assets/colab-badge.svg\" alt=\"Open In Colab\"/></a>"
      ]
    },
    {
      "cell_type": "markdown",
      "source": [
        "# `str` 클래스 메서드"
      ],
      "metadata": {
        "id": "zyzIrgqtJN7Q"
      }
    },
    {
      "cell_type": "code",
      "source": [
        "s = 'heLLo, pyTHon! hello PYTHON! 안녕하세요...'"
      ],
      "metadata": {
        "id": "4Nhj0ewmJP4x"
      },
      "execution_count": 2,
      "outputs": []
    },
    {
      "cell_type": "code",
      "execution_count": 3,
      "metadata": {
        "colab": {
          "base_uri": "https://localhost:8080/"
        },
        "id": "zq_URdJ8Huge",
        "outputId": "2f880c73-ba4d-427b-e431-68cfba29349f"
      },
      "outputs": [
        {
          "output_type": "execute_result",
          "data": {
            "text/plain": [
              "str"
            ]
          },
          "metadata": {},
          "execution_count": 3
        }
      ],
      "source": [
        "type(s)"
      ]
    },
    {
      "cell_type": "code",
      "source": [
        "isinstance(s, str)"
      ],
      "metadata": {
        "colab": {
          "base_uri": "https://localhost:8080/"
        },
        "id": "PiRNvRGMJlzp",
        "outputId": "f71b6929-17bf-49ae-e95b-5ec664e37475"
      },
      "execution_count": 4,
      "outputs": [
        {
          "output_type": "execute_result",
          "data": {
            "text/plain": [
              "True"
            ]
          },
          "metadata": {},
          "execution_count": 4
        }
      ]
    },
    {
      "cell_type": "code",
      "source": [
        "print(s)    # print 함수는 객체(s)의 __str__ 메서드가 리턴하는 문자열을 콘솔에 출력"
      ],
      "metadata": {
        "colab": {
          "base_uri": "https://localhost:8080/"
        },
        "id": "V_5xwc7UJuIe",
        "outputId": "84923a76-c7ce-4347-c908-4ab762716b53"
      },
      "execution_count": 6,
      "outputs": [
        {
          "output_type": "stream",
          "name": "stdout",
          "text": [
            "heLLo, pyTHon! hello PYTHON! 안녕하세요...\n"
          ]
        }
      ]
    },
    {
      "cell_type": "code",
      "source": [
        "s   # 노트북의 코드 셀 출력(expression)은 __repr__ 메서드가 리턴하는 문자열을 콘솔에 출력"
      ],
      "metadata": {
        "colab": {
          "base_uri": "https://localhost:8080/",
          "height": 35
        },
        "id": "MMxh_I1gJ1b6",
        "outputId": "e7f353a9-dfb4-4635-882c-8ead6e807e4a"
      },
      "execution_count": 7,
      "outputs": [
        {
          "output_type": "execute_result",
          "data": {
            "text/plain": [
              "'heLLo, pyTHon! hello PYTHON! 안녕하세요...'"
            ],
            "application/vnd.google.colaboratory.intrinsic+json": {
              "type": "string"
            }
          },
          "metadata": {},
          "execution_count": 7
        }
      ]
    },
    {
      "cell_type": "code",
      "source": [
        "result = s.upper()  # str.upper() : 대문자로 변환한 \"새로운\" 문자열을 리턴.\n",
        "print(result)\n",
        "print(s)    # 원본 문자열 s는 변경되지 않음!"
      ],
      "metadata": {
        "colab": {
          "base_uri": "https://localhost:8080/"
        },
        "id": "f8V0xwfLKOI-",
        "outputId": "d3e049e6-0988-478c-81a0-51af2645dc47"
      },
      "execution_count": 8,
      "outputs": [
        {
          "output_type": "stream",
          "name": "stdout",
          "text": [
            "HELLO, PYTHON! HELLO PYTHON! 안녕하세요...\n",
            "heLLo, pyTHon! hello PYTHON! 안녕하세요...\n"
          ]
        }
      ]
    },
    {
      "cell_type": "code",
      "source": [
        "s.lower()"
      ],
      "metadata": {
        "colab": {
          "base_uri": "https://localhost:8080/",
          "height": 35
        },
        "id": "IfADM9xMKa8Z",
        "outputId": "e5a78fd2-69cf-4a3f-c062-868b3f919d9a"
      },
      "execution_count": 9,
      "outputs": [
        {
          "output_type": "execute_result",
          "data": {
            "text/plain": [
              "'hello, python! hello python! 안녕하세요...'"
            ],
            "application/vnd.google.colaboratory.intrinsic+json": {
              "type": "string"
            }
          },
          "metadata": {},
          "execution_count": 9
        }
      ]
    },
    {
      "cell_type": "code",
      "source": [
        "s.capitalize()  # 문자열의 첫번째 글자만 대문자, 나머지는 소문자로 변환한 문자열을 리턴."
      ],
      "metadata": {
        "colab": {
          "base_uri": "https://localhost:8080/",
          "height": 35
        },
        "id": "I-ZQNAaKKe3m",
        "outputId": "39fc934c-86c6-4d0e-9e9b-827f341e48f4"
      },
      "execution_count": 10,
      "outputs": [
        {
          "output_type": "execute_result",
          "data": {
            "text/plain": [
              "'Hello, python! hello python! 안녕하세요...'"
            ],
            "application/vnd.google.colaboratory.intrinsic+json": {
              "type": "string"
            }
          },
          "metadata": {},
          "execution_count": 10
        }
      ]
    },
    {
      "cell_type": "code",
      "source": [
        "print(s)\n",
        "print(s.count('L'))\n",
        "print(s.count('l'))\n",
        "print(s.count('LL'))"
      ],
      "metadata": {
        "colab": {
          "base_uri": "https://localhost:8080/"
        },
        "id": "aTU8jdA4Klcu",
        "outputId": "e834f8b5-5604-4dd8-f9a0-608cb3b4aad2"
      },
      "execution_count": 13,
      "outputs": [
        {
          "output_type": "stream",
          "name": "stdout",
          "text": [
            "heLLo, pyTHon! hello PYTHON! 안녕하세요...\n",
            "2\n",
            "2\n",
            "1\n"
          ]
        }
      ]
    },
    {
      "cell_type": "code",
      "source": [
        "# 대/소문자 구분 없이 'py' 문자열이 몇 번 등장하는 지\n",
        "s.lower().count('py')"
      ],
      "metadata": {
        "colab": {
          "base_uri": "https://localhost:8080/"
        },
        "id": "4vCwO6yYKs3O",
        "outputId": "50fe9234-ffb6-489f-c8ad-09c9f38e7fcc"
      },
      "execution_count": 14,
      "outputs": [
        {
          "output_type": "execute_result",
          "data": {
            "text/plain": [
              "2"
            ]
          },
          "metadata": {},
          "execution_count": 14
        }
      ]
    },
    {
      "cell_type": "code",
      "source": [
        "print(s)\n",
        "s.find('py')"
      ],
      "metadata": {
        "colab": {
          "base_uri": "https://localhost:8080/"
        },
        "id": "-dWGhkDSK46I",
        "outputId": "a68b43a7-b348-4b04-ec52-df13ec339d93"
      },
      "execution_count": 15,
      "outputs": [
        {
          "output_type": "stream",
          "name": "stdout",
          "text": [
            "heLLo, pyTHon! hello PYTHON! 안녕하세요...\n"
          ]
        },
        {
          "output_type": "execute_result",
          "data": {
            "text/plain": [
              "7"
            ]
          },
          "metadata": {},
          "execution_count": 15
        }
      ]
    },
    {
      "cell_type": "code",
      "source": [
        "email = 'gildong@itwill.com'\n",
        "\n",
        "# 문자열 email에서 '@' 문자열이 등장하는 인덱스\n",
        "idx = email.find('@')\n",
        "print(idx)\n",
        "\n",
        "# 문자열 email에서 아이디(gildong)와 도메인(itwill.com)을 구분해서 출력\n",
        "print(email[:idx])\n",
        "print(email[(idx + 1):])"
      ],
      "metadata": {
        "colab": {
          "base_uri": "https://localhost:8080/"
        },
        "id": "lUZJHMEaK7BW",
        "outputId": "e7b0bd96-48e3-4d2e-f128-94356a71e1aa"
      },
      "execution_count": 21,
      "outputs": [
        {
          "output_type": "stream",
          "name": "stdout",
          "text": [
            "7\n",
            "gildong\n",
            "itwill.com\n"
          ]
        }
      ]
    },
    {
      "cell_type": "code",
      "source": [
        "msg = '파이썬 참 쉽죠? 파이썬 열심히 공부합시다.'\n",
        "result = msg.split()\n",
        "# str.split() : 문자열 str을 공백(space, 줄바꿈, 탭)으로 구분한 문자열들의 리스트를 리턴.\n",
        "result"
      ],
      "metadata": {
        "colab": {
          "base_uri": "https://localhost:8080/"
        },
        "id": "ixmFDaYHLRMG",
        "outputId": "b4c96919-4e21-448e-aa8c-ede34584963c"
      },
      "execution_count": 18,
      "outputs": [
        {
          "output_type": "execute_result",
          "data": {
            "text/plain": [
              "['파이썬', '참', '쉽죠?', '파이썬', '열심히', '공부합시다.']"
            ]
          },
          "metadata": {},
          "execution_count": 18
        }
      ]
    },
    {
      "cell_type": "code",
      "source": [
        "data_str = '2025-06-16'\n",
        "data_str.split('-')\n",
        "# str.split(sep) : 문자열 str을 구분자 sep로 구분한 문자열들의 리스트를 리턴."
      ],
      "metadata": {
        "colab": {
          "base_uri": "https://localhost:8080/"
        },
        "id": "PZm26ahaLcpG",
        "outputId": "193f52ea-a2fe-47b5-df2c-dbeebaebb090"
      },
      "execution_count": 19,
      "outputs": [
        {
          "output_type": "execute_result",
          "data": {
            "text/plain": [
              "['2025', '06', '16']"
            ]
          },
          "metadata": {},
          "execution_count": 19
        }
      ]
    },
    {
      "cell_type": "code",
      "source": [
        "csv_str = '1,홍길동,100,90,80'\n",
        "csv_str.split(sep=',')"
      ],
      "metadata": {
        "colab": {
          "base_uri": "https://localhost:8080/"
        },
        "id": "GkPhRaf8LoAW",
        "outputId": "7090681f-1ae4-401f-e8a4-5cf6bebb2f1d"
      },
      "execution_count": 20,
      "outputs": [
        {
          "output_type": "execute_result",
          "data": {
            "text/plain": [
              "['1', '홍길동', '100', '90', '80']"
            ]
          },
          "metadata": {},
          "execution_count": 20
        }
      ]
    },
    {
      "cell_type": "code",
      "source": [
        "email = 'gildong@itwill.com'\n",
        "result = email.split(sep='@')\n",
        "print(result[0])\n",
        "print(result[1])"
      ],
      "metadata": {
        "colab": {
          "base_uri": "https://localhost:8080/"
        },
        "id": "_wL7Gqf8LsUG",
        "outputId": "e8866aba-9c90-40dd-feff-70fc6b79b4f5"
      },
      "execution_count": 22,
      "outputs": [
        {
          "output_type": "stream",
          "name": "stdout",
          "text": [
            "gildong\n",
            "itwill.com\n"
          ]
        }
      ]
    },
    {
      "cell_type": "code",
      "source": [
        "'/'.join(['2025', '06', '16'])\n",
        "# s.join(iterable) : iterable의 원소들을 문자열 s로 연결한 문자열을 리턴"
      ],
      "metadata": {
        "colab": {
          "base_uri": "https://localhost:8080/",
          "height": 35
        },
        "id": "5PWU_KD4LPTm",
        "outputId": "2480361c-7d11-44b3-8958-c45d9576ce57"
      },
      "execution_count": 23,
      "outputs": [
        {
          "output_type": "execute_result",
          "data": {
            "text/plain": [
              "'2025/06/16'"
            ],
            "application/vnd.google.colaboratory.intrinsic+json": {
              "type": "string"
            }
          },
          "metadata": {},
          "execution_count": 23
        }
      ]
    },
    {
      "cell_type": "code",
      "source": [
        "':'.join(['홍길동', 'Scott', '오쌤'])"
      ],
      "metadata": {
        "colab": {
          "base_uri": "https://localhost:8080/",
          "height": 35
        },
        "id": "G9P-dqcgKrZP",
        "outputId": "55e0ca18-6d9b-4aa4-a0e8-8963c8fc93be"
      },
      "execution_count": 24,
      "outputs": [
        {
          "output_type": "execute_result",
          "data": {
            "text/plain": [
              "'홍길동:Scott:오쌤'"
            ],
            "application/vnd.google.colaboratory.intrinsic+json": {
              "type": "string"
            }
          },
          "metadata": {},
          "execution_count": 24
        }
      ]
    },
    {
      "cell_type": "code",
      "source": [
        "csv_str = 'hello,python,안녕,오쌤,12345'\n",
        "csv_str.replace(',', '::')\n",
        "# str.replace(old, new) : 문자열 str에서 등장하는 모든 old 문자열을 new 문자열로 대체한 문자열을 리턴."
      ],
      "metadata": {
        "colab": {
          "base_uri": "https://localhost:8080/",
          "height": 35
        },
        "id": "FLkhDSn3KqAP",
        "outputId": "4e6dd2a3-c805-4b55-e400-fe264d398b21"
      },
      "execution_count": 1,
      "outputs": [
        {
          "output_type": "execute_result",
          "data": {
            "text/plain": [
              "'hello::python::안녕::오쌤::12345'"
            ],
            "application/vnd.google.colaboratory.intrinsic+json": {
              "type": "string"
            }
          },
          "metadata": {},
          "execution_count": 1
        }
      ]
    },
    {
      "cell_type": "code",
      "source": [
        "msg = '안녕? 안녕하세요! Hello, Python.'\n",
        "# 문자열 msg에서 문장부호(? , ! .)들을 제거한 단어들로만 이루어진 리스트\n",
        "msg.replace('?', ' ').replace('!', ' ').replace(',', ' ').replace('.', ' ').split()"
      ],
      "metadata": {
        "colab": {
          "base_uri": "https://localhost:8080/"
        },
        "id": "yk5BC1ZkJwjY",
        "outputId": "7e406dee-719f-4d98-e199-4ff81f6d2a5a"
      },
      "execution_count": 5,
      "outputs": [
        {
          "output_type": "execute_result",
          "data": {
            "text/plain": [
              "['안녕', '안녕하세요', 'Hello', 'Python']"
            ]
          },
          "metadata": {},
          "execution_count": 5
        }
      ]
    },
    {
      "cell_type": "code",
      "source": [
        "sentence = '        Hello, Python!      안녕하세요.         '\n",
        "print(sentence)\n",
        "print(sentence.lstrip())\n",
        "print(sentence.rstrip())\n",
        "print(sentence.strip())"
      ],
      "metadata": {
        "colab": {
          "base_uri": "https://localhost:8080/"
        },
        "id": "rTLwuL9r7euo",
        "outputId": "e25b1ebf-d96b-47a0-e4eb-86385a4649f1"
      },
      "execution_count": 9,
      "outputs": [
        {
          "output_type": "stream",
          "name": "stdout",
          "text": [
            "        Hello, Python!      안녕하세요.         \n",
            "Hello, Python!      안녕하세요.         \n",
            "        Hello, Python!      안녕하세요.\n",
            "Hello, Python!      안녕하세요.\n"
          ]
        }
      ]
    }
  ]
}
{
  "nbformat": 4,
  "nbformat_minor": 0,
  "metadata": {
    "colab": {
      "provenance": [],
      "toc_visible": true,
      "authorship_tag": "ABX9TyO3ffHV1Ip38O/8TYPfpeV0",
      "include_colab_link": true
    },
    "kernelspec": {
      "name": "python3",
      "display_name": "Python 3"
    },
    "language_info": {
      "name": "python"
    }
  },
  "cells": [
    {
      "cell_type": "markdown",
      "metadata": {
        "id": "view-in-github",
        "colab_type": "text"
      },
      "source": [
        "<a href=\"https://colab.research.google.com/github/Sjleerodls/lab_python/blob/main/python15_inheritance.ipynb\" target=\"_parent\"><img src=\"https://colab.research.google.com/assets/colab-badge.svg\" alt=\"Open In Colab\"/></a>"
      ]
    },
    {
      "cell_type": "markdown",
      "source": [
        "# Inheritance(상속)"
      ],
      "metadata": {
        "id": "JjQt94TC1P6B"
      }
    },
    {
      "cell_type": "markdown",
      "source": [
        "* super class(상위 클래스), parent class(부모 클래스)\n",
        "* sub class(하위 클래스), child class(자식 클래스)\n",
        "* 상속 : 상위 클래스의 여러 속성(변수)들과 기능(메서드)들을 하위 클래스에서 재사용하는 것.\n",
        "* IS-A 관계가 성립하는 객체들을 상속 관계로 구현.\n",
        "    * 학생은 사람이다. (Student IS A Person.)\n",
        "        * 사람 - 상위 클래스\n",
        "        * 학생 - 하위 클래스\n",
        "    * 상위 클래스를 하위 클래스에서 확장하는 것.\n",
        "* HAS-A 관계가 성립하는 객체들은 일반적으로 상속이 아니라 속성을 사용해서 클래스를 구현함.\n",
        "    * 학생은 시험점수를 가지고 있다. (Student Has A Score.)\n",
        "        * 학생 클래스에서 변수들 중 하나로 Score 클래스 타입을 선언(self.score).\n",
        "\n",
        "* 문법\n",
        "    ```\n",
        "    class SubClass(SuperClass):\n",
        "        클래스 몸체 (body)\n",
        "    ```\n"
      ],
      "metadata": {
        "id": "-8kfrIQy1W05"
      }
    },
    {
      "cell_type": "code",
      "source": [
        "class Person:\n",
        "    def __init__(self, name):\n",
        "        self.name = name\n",
        "\n",
        "    def say_hello(self):\n",
        "        print(f'안녕하세요, 저는 {self.name}입니다.')"
      ],
      "metadata": {
        "id": "ICq5GyHk1hLw"
      },
      "execution_count": 1,
      "outputs": []
    },
    {
      "cell_type": "code",
      "source": [
        "oh_ssam = Person('오쌤')\n",
        "oh_ssam.say_hello()"
      ],
      "metadata": {
        "colab": {
          "base_uri": "https://localhost:8080/"
        },
        "id": "oMA7uOew8nHu",
        "outputId": "5c4a7b27-af93-4c74-fb33-7626551823c1"
      },
      "execution_count": 2,
      "outputs": [
        {
          "output_type": "stream",
          "name": "stdout",
          "text": [
            "안녕하세요, 저는 오쌤입니다.\n"
          ]
        }
      ]
    },
    {
      "cell_type": "code",
      "execution_count": 6,
      "metadata": {
        "id": "BbTJgUHz1JBm"
      },
      "outputs": [],
      "source": [
        "# Person을 상속(확장)하는 Student 클래스 선언 :\n",
        "class Student(Person):\n",
        "    def say_hello2(self):\n",
        "        print('저는 학생입니다.')"
      ]
    },
    {
      "cell_type": "code",
      "source": [
        "stu = Student('오쌤')"
      ],
      "metadata": {
        "id": "eWWffqIf9XSV"
      },
      "execution_count": 8,
      "outputs": []
    },
    {
      "cell_type": "code",
      "source": [
        "stu.say_hello2()"
      ],
      "metadata": {
        "colab": {
          "base_uri": "https://localhost:8080/"
        },
        "id": "FU9cEYAB-FBs",
        "outputId": "b992cfc2-be65-4bae-fd20-4bd1d8d88ccd"
      },
      "execution_count": 9,
      "outputs": [
        {
          "output_type": "stream",
          "name": "stdout",
          "text": [
            "저는 학생입니다.\n"
          ]
        }
      ]
    },
    {
      "cell_type": "markdown",
      "source": [
        "# Method Override\n",
        "\n",
        "* 상위 클래스의 메서드를 하위 클래스에서 *같은 이름으로* 재정의하는 것.\n",
        "* 하위 클래스에서 override된 상위 클래스의 메서드를 호출하기 위해서는 `super().method_name(arg)` 형식으로 사용함."
      ],
      "metadata": {
        "id": "cGI8hYSU_DG0"
      }
    },
    {
      "cell_type": "code",
      "source": [
        "# 회사원은 사람이다.(회사원 - 하위 클래스, 사람 - 상위 클래스)\n",
        "class BusinessPerson(Person):\n",
        "    # __init__ 메서드 override\n",
        "    def __init__(self, name, company):\n",
        "        # 상위 클래스의 생성자인 __init__ 메서드 호출 :\n",
        "        super().__init__(name)\n",
        "\n",
        "        self.company = company\n",
        "\n",
        "    # say_hello 메서드 override\n",
        "    def say_hello(self):\n",
        "        # 상위 클래스(Person)의 say_hello() 메서드 호출 :\n",
        "        super().say_hello()\n",
        "        print(f'그리고 저는 {self.company}에 다닙니다.')"
      ],
      "metadata": {
        "id": "b5xH4sRa_vJM"
      },
      "execution_count": 19,
      "outputs": []
    },
    {
      "cell_type": "code",
      "source": [
        "# Businessperson 타입 객체 생성\n",
        "gildong = BusinessPerson('홍길동', '아이티윌')"
      ],
      "metadata": {
        "id": "ayQvmQgKBnIN"
      },
      "execution_count": 20,
      "outputs": []
    },
    {
      "cell_type": "code",
      "source": [
        "print(gildong.name, gildong.company)"
      ],
      "metadata": {
        "colab": {
          "base_uri": "https://localhost:8080/"
        },
        "id": "aSNCNX79CYV0",
        "outputId": "b4a79875-6b55-4a45-cec1-e03e0211c52f"
      },
      "execution_count": 21,
      "outputs": [
        {
          "output_type": "stream",
          "name": "stdout",
          "text": [
            "홍길동 아이티윌\n"
          ]
        }
      ]
    },
    {
      "cell_type": "code",
      "source": [
        "gildong.say_hello()"
      ],
      "metadata": {
        "colab": {
          "base_uri": "https://localhost:8080/"
        },
        "id": "uc_JojBeC5O6",
        "outputId": "dfafa7ba-27d6-4ce7-f2ee-a245bb52cc4f"
      },
      "execution_count": 22,
      "outputs": [
        {
          "output_type": "stream",
          "name": "stdout",
          "text": [
            "안녕하세요, 저는 홍길동입니다.\n",
            "그리고 저는 아이티윌에 다닙니다.\n"
          ]
        }
      ]
    },
    {
      "cell_type": "code",
      "source": [
        "class Parent:\n",
        "    def __init__(self, name):\n",
        "        self.name = name\n",
        "\n",
        "    # def say_hello(self):\n",
        "    #     print(f'나는 {self.name}')\n",
        "\n",
        "    def daddy(self):\n",
        "        print(f'아빠 이름 {self.name}')\n",
        "\n",
        "class Child(Parent):\n",
        "    def __init__(self, daddy_name, my_name):\n",
        "        super().__init__(daddy_name)\n",
        "        self.name = my_name            # 마지막 name으로 덮여쓰여짐.\n",
        "        # super().__init__('허균')\n",
        "\n",
        "    def its_me(self):\n",
        "        print(f'내 이름 {self.name}')"
      ],
      "metadata": {
        "id": "4qQnKl9wCVbN"
      },
      "execution_count": 79,
      "outputs": []
    },
    {
      "cell_type": "code",
      "source": [
        "ch = Child('허균', '길동')\n",
        "print(ch.name)\n",
        "ch.daddy()\n",
        "ch.its_me()"
      ],
      "metadata": {
        "colab": {
          "base_uri": "https://localhost:8080/"
        },
        "id": "QAf563c0EzJ6",
        "outputId": "b8e35920-562a-4bf5-d271-dbfa7612f8aa"
      },
      "execution_count": 81,
      "outputs": [
        {
          "output_type": "stream",
          "name": "stdout",
          "text": [
            "길동\n",
            "아빠 이름 길동\n",
            "내 이름 길동\n"
          ]
        }
      ]
    },
    {
      "cell_type": "code",
      "source": [
        "class Parent:\n",
        "    def __init__(self, name):\n",
        "        self.name = name\n",
        "\n",
        "class Child(Parent):\n",
        "    def __init__(self, name):\n",
        "        super().__init__('허균')\n",
        "        self.child_name = name  # 자식 클래스의 이름을 다른 변수에 저장\n",
        "\n",
        "    def __str__(self):\n",
        "        return f'child.name={self.child_name}, parent.name={self.name}' # 부모 클래스의 name에 접근"
      ],
      "metadata": {
        "id": "SWFGCdCKF6ES"
      },
      "execution_count": 76,
      "outputs": []
    },
    {
      "cell_type": "code",
      "source": [
        "t_ch = Child('길동')\n",
        "print(t_ch.name)\n",
        "print(t_ch)"
      ],
      "metadata": {
        "colab": {
          "base_uri": "https://localhost:8080/"
        },
        "id": "PclaQcU9PeU7",
        "outputId": "bc21e186-5929-4f9c-f671-46bc59201fe2"
      },
      "execution_count": 77,
      "outputs": [
        {
          "output_type": "stream",
          "name": "stdout",
          "text": [
            "허균\n",
            "child.name=길동, parent.name=허균\n"
          ]
        }
      ]
    },
    {
      "cell_type": "code",
      "source": [
        "class Parent:\n",
        "    def __init__(self, name):\n",
        "        self.name = name\n",
        "\n",
        "class Child(Parent):\n",
        "    def __init__(self, name):\n",
        "        super().__init__(name) # 자식 클래스의 이름으로 부모 클래스 초기화\n",
        "\n",
        "    def __str__(self):\n",
        "        return f'child.name={self.name}, parent.name={self.name}' # 부모 클래스의 name에 접근"
      ],
      "metadata": {
        "id": "hH7fM2ERF9Rx"
      },
      "execution_count": 74,
      "outputs": []
    }
  ]
}
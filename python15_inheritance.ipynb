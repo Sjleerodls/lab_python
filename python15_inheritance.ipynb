{
  "nbformat": 4,
  "nbformat_minor": 0,
  "metadata": {
    "colab": {
      "provenance": [],
      "toc_visible": true,
      "authorship_tag": "ABX9TyMljK7W2FhWYz5YJ252oF5Q",
      "include_colab_link": true
    },
    "kernelspec": {
      "name": "python3",
      "display_name": "Python 3"
    },
    "language_info": {
      "name": "python"
    }
  },
  "cells": [
    {
      "cell_type": "markdown",
      "metadata": {
        "id": "view-in-github",
        "colab_type": "text"
      },
      "source": [
        "<a href=\"https://colab.research.google.com/github/Sjleerodls/lab_python/blob/main/python15_inheritance.ipynb\" target=\"_parent\"><img src=\"https://colab.research.google.com/assets/colab-badge.svg\" alt=\"Open In Colab\"/></a>"
      ]
    },
    {
      "cell_type": "markdown",
      "source": [
        "# Inheritance(상속)"
      ],
      "metadata": {
        "id": "JjQt94TC1P6B"
      }
    },
    {
      "cell_type": "markdown",
      "source": [
        "* super class(상위 클래스), parent class(부모 클래스)\n",
        "* sub class(하위 클래스), child class(자식 클래스)\n",
        "* 상속 : 상위 클래스의 여러 속성(변수)들과 기능(메서드)들을 하위 클래스에서 재사용하는 것.\n",
        "* IS-A 관계가 성립하는 객체들을 상속 관계로 구현.\n",
        "    * 학생은 사람이다. (Student IS A Person.)\n",
        "        * 사람 - 상위 클래스\n",
        "        * 학생 - 하위 클래스\n",
        "    * 상위 클래스를 하위 클래스에서 확장하는 것.\n",
        "* HAS-A 관계가 성립하는 객체들은 일반적으로 상속이 아니라 속성을 사용해서 클래스를 구현함.\n",
        "    * 학생은 시험점수를 가지고 있다. (Student Has A Score.)\n",
        "        * 학생 클래스에서 변수들 중 하나로 Score 클래스 타입을 선언(self.score).\n",
        "\n",
        "* 문법\n",
        "    ```\n",
        "    class SubClass(SuperClass):\n",
        "        클래스 몸체 (body)\n",
        "    ```\n"
      ],
      "metadata": {
        "id": "-8kfrIQy1W05"
      }
    },
    {
      "cell_type": "code",
      "source": [
        "class Person:\n",
        "    def __init__(self, name):\n",
        "        self.name = name\n",
        "\n",
        "    def say_hello(self):\n",
        "        print(f'안녕하세요, 저는 {self.name}입니다.')"
      ],
      "metadata": {
        "id": "ICq5GyHk1hLw"
      },
      "execution_count": 1,
      "outputs": []
    },
    {
      "cell_type": "code",
      "source": [
        "oh_ssam = Person('오쌤')\n",
        "oh_ssam.say_hello()"
      ],
      "metadata": {
        "colab": {
          "base_uri": "https://localhost:8080/"
        },
        "id": "oMA7uOew8nHu",
        "outputId": "5c4a7b27-af93-4c74-fb33-7626551823c1"
      },
      "execution_count": 2,
      "outputs": [
        {
          "output_type": "stream",
          "name": "stdout",
          "text": [
            "안녕하세요, 저는 오쌤입니다.\n"
          ]
        }
      ]
    },
    {
      "cell_type": "code",
      "execution_count": 6,
      "metadata": {
        "id": "BbTJgUHz1JBm"
      },
      "outputs": [],
      "source": [
        "# Person을 상속(확장)하는 Student 클래스 선언 :\n",
        "class Student(Person):\n",
        "    def say_hello2(self):\n",
        "        print('저는 학생입니다.')"
      ]
    },
    {
      "cell_type": "code",
      "source": [
        "stu = Student('오쌤')"
      ],
      "metadata": {
        "id": "eWWffqIf9XSV"
      },
      "execution_count": 8,
      "outputs": []
    },
    {
      "cell_type": "code",
      "source": [
        "stu.say_hello()"
      ],
      "metadata": {
        "colab": {
          "base_uri": "https://localhost:8080/"
        },
        "id": "0pAEcOCBaQm_",
        "outputId": "17d82a69-6636-4cb0-cfa6-26dab1ab26a7"
      },
      "execution_count": 82,
      "outputs": [
        {
          "output_type": "stream",
          "name": "stdout",
          "text": [
            "안녕하세요, 저는 오쌤입니다.\n"
          ]
        }
      ]
    },
    {
      "cell_type": "code",
      "source": [
        "stu.say_hello2()"
      ],
      "metadata": {
        "colab": {
          "base_uri": "https://localhost:8080/"
        },
        "id": "FU9cEYAB-FBs",
        "outputId": "b992cfc2-be65-4bae-fd20-4bd1d8d88ccd"
      },
      "execution_count": 9,
      "outputs": [
        {
          "output_type": "stream",
          "name": "stdout",
          "text": [
            "저는 학생입니다.\n"
          ]
        }
      ]
    },
    {
      "cell_type": "markdown",
      "source": [
        "# Method Override\n",
        "\n",
        "* 상위 클래스의 메서드를 하위 클래스에서 *같은 이름으로* 재정의하는 것.\n",
        "* 하위 클래스에서 override된 상위 클래스의 메서드를 호출하기 위해서는 `super().method_name(arg)` 형식으로 사용함."
      ],
      "metadata": {
        "id": "cGI8hYSU_DG0"
      }
    },
    {
      "cell_type": "code",
      "source": [
        "# 회사원은 사람이다.(회사원 - 하위 클래스, 사람 - 상위 클래스)\n",
        "class BusinessPerson(Person):\n",
        "    # __init__ 메서드 override\n",
        "    def __init__(self, name, company):\n",
        "        # 상위 클래스의 생성자인 __init__ 메서드 호출 :\n",
        "        super().__init__(name)\n",
        "\n",
        "        self.company = company\n",
        "\n",
        "    # say_hello 메서드 override\n",
        "    def say_hello(self):\n",
        "        # 상위 클래스(Person)의 say_hello() 메서드 호출 :\n",
        "        super().say_hello()\n",
        "        print(f'그리고 저는 {self.company}에 다닙니다.')"
      ],
      "metadata": {
        "id": "b5xH4sRa_vJM"
      },
      "execution_count": 19,
      "outputs": []
    },
    {
      "cell_type": "code",
      "source": [
        "# Businessperson 타입 객체 생성\n",
        "gildong = BusinessPerson('홍길동', '아이티윌')"
      ],
      "metadata": {
        "id": "ayQvmQgKBnIN"
      },
      "execution_count": 20,
      "outputs": []
    },
    {
      "cell_type": "code",
      "source": [
        "print(gildong.name, gildong.company)"
      ],
      "metadata": {
        "colab": {
          "base_uri": "https://localhost:8080/"
        },
        "id": "aSNCNX79CYV0",
        "outputId": "b4a79875-6b55-4a45-cec1-e03e0211c52f"
      },
      "execution_count": 21,
      "outputs": [
        {
          "output_type": "stream",
          "name": "stdout",
          "text": [
            "홍길동 아이티윌\n"
          ]
        }
      ]
    },
    {
      "cell_type": "code",
      "source": [
        "gildong.say_hello()"
      ],
      "metadata": {
        "colab": {
          "base_uri": "https://localhost:8080/"
        },
        "id": "uc_JojBeC5O6",
        "outputId": "dfafa7ba-27d6-4ce7-f2ee-a245bb52cc4f"
      },
      "execution_count": 22,
      "outputs": [
        {
          "output_type": "stream",
          "name": "stdout",
          "text": [
            "안녕하세요, 저는 홍길동입니다.\n",
            "그리고 저는 아이티윌에 다닙니다.\n"
          ]
        }
      ]
    },
    {
      "cell_type": "code",
      "source": [
        "class Parent:\n",
        "    def __init__(self, name):\n",
        "        self.name = name\n",
        "\n",
        "    # def say_hello(self):\n",
        "    #     print(f'나는 {self.name}')\n",
        "\n",
        "    def daddy(self):\n",
        "        print(f'아빠 이름 {self.name}')\n",
        "\n",
        "class Child(Parent):\n",
        "    def __init__(self, daddy_name, my_name):\n",
        "        super().__init__(daddy_name)\n",
        "        self.my_name = my_name\n",
        "        # super().__init__('허균')\n",
        "\n",
        "    def its_me(self):\n",
        "        print(f'내 이름 {self.my_name}')"
      ],
      "metadata": {
        "id": "4qQnKl9wCVbN"
      },
      "execution_count": 87,
      "outputs": []
    },
    {
      "cell_type": "code",
      "source": [
        "ch = Child('허균', '길동')\n",
        "print(ch.name)\n",
        "ch.daddy()\n",
        "ch.its_me()"
      ],
      "metadata": {
        "colab": {
          "base_uri": "https://localhost:8080/"
        },
        "id": "QAf563c0EzJ6",
        "outputId": "c1a1be32-6ac9-47a8-f6fd-bb7657b349c8"
      },
      "execution_count": 88,
      "outputs": [
        {
          "output_type": "stream",
          "name": "stdout",
          "text": [
            "허균\n",
            "아빠 이름 허균\n",
            "내 이름 길동\n"
          ]
        }
      ]
    },
    {
      "cell_type": "code",
      "source": [
        "# 부모 클래스\n",
        "class Parent:\n",
        "    def __init__(self, name):\n",
        "        self.name = name\n",
        "\n",
        "# 자녀 클래스\n",
        "class Child(Parent):\n",
        "    def __init__(self, name):\n",
        "        super().__init__('허균')\n",
        "        self.child_name = name  # 자식 클래스의 이름을 다른 변수에 저장\n",
        "\n",
        "    def __str__(self):\n",
        "        return f'child.name={self.child_name}, parent.name={self.name}' # 부모 클래스의 name에 접근"
      ],
      "metadata": {
        "id": "SWFGCdCKF6ES"
      },
      "execution_count": 93,
      "outputs": []
    },
    {
      "cell_type": "code",
      "source": [
        "t_ch = Child('길동')\n",
        "print(t_ch.name)\n",
        "print(t_ch)"
      ],
      "metadata": {
        "colab": {
          "base_uri": "https://localhost:8080/"
        },
        "id": "PclaQcU9PeU7",
        "outputId": "5186f7ce-034e-4bee-b12e-f8f7914d7cdf"
      },
      "execution_count": 94,
      "outputs": [
        {
          "output_type": "stream",
          "name": "stdout",
          "text": [
            "허균\n",
            "child.name=길동, parent.name=허균\n"
          ]
        }
      ]
    },
    {
      "cell_type": "code",
      "source": [
        "class Parent:\n",
        "    def __init__(self, name):\n",
        "        self.name = name\n",
        "\n",
        "class Child(Parent):\n",
        "    def __init__(self, name):\n",
        "        super().__init__(name) # 자식 클래스의 이름으로 부모 클래스 초기화\n",
        "\n",
        "    def __str__(self):\n",
        "        return f'child.name={self.name}, parent.name={self.name}' # 부모 클래스의 name에 접근"
      ],
      "metadata": {
        "id": "hH7fM2ERF9Rx"
      },
      "execution_count": 91,
      "outputs": []
    },
    {
      "cell_type": "markdown",
      "source": [
        "# `isinstance(object, ClassName)` 함수\n",
        "\n",
        "객체(object)가 어떤 클래스 타입의 인스턴스인 지(True) 아닌 지(False)를 리턴하는 함수."
      ],
      "metadata": {
        "id": "M4TXW8F8kKDS"
      }
    },
    {
      "cell_type": "code",
      "source": [
        "numbers = [1, 2, 3]\n",
        "print(isinstance(numbers, list))    # True\n",
        "print(isinstance(numbers, dict))    # False\n",
        "print(isinstance(numbers, tuple))   # False"
      ],
      "metadata": {
        "colab": {
          "base_uri": "https://localhost:8080/"
        },
        "id": "KvdkqrS5kpWa",
        "outputId": "f15fae19-22ce-4452-87bc-ffde0b262d3e"
      },
      "execution_count": 99,
      "outputs": [
        {
          "output_type": "stream",
          "name": "stdout",
          "text": [
            "True\n",
            "False\n",
            "False\n"
          ]
        }
      ]
    },
    {
      "cell_type": "markdown",
      "source": [
        "## `isinstance` 함수와 상속"
      ],
      "metadata": {
        "id": "Qu36xdp2lCWJ"
      }
    },
    {
      "cell_type": "code",
      "source": [
        "# 전기 자동차는 자동차다.(자동차 - 상위 클래스, 전기 자동차 - 하위 클래스)\n",
        "class Car:\n",
        "    pass\n",
        "\n",
        "class ElectricCar(Car):\n",
        "    pass"
      ],
      "metadata": {
        "id": "tMN9NuJ2lHG8"
      },
      "execution_count": 100,
      "outputs": []
    },
    {
      "cell_type": "code",
      "source": [
        "sonata = Car()  # Car 타입의 객체 생성\n",
        "print(isinstance(sonata, Car))\n",
        "print(isinstance(sonata, ElectricCar))"
      ],
      "metadata": {
        "colab": {
          "base_uri": "https://localhost:8080/"
        },
        "id": "yXtEtqEylvdZ",
        "outputId": "77fd90e5-ded6-4627-d70f-a985de9c6fa2"
      },
      "execution_count": 103,
      "outputs": [
        {
          "output_type": "stream",
          "name": "stdout",
          "text": [
            "True\n",
            "False\n"
          ]
        }
      ]
    },
    {
      "cell_type": "code",
      "source": [
        "ionic9 = ElectricCar()  # ElectricCar 타입의 객체 생성\n",
        "print(isinstance(ionic9, Car))\n",
        "print(isinstance(ionic9, ElectricCar))"
      ],
      "metadata": {
        "colab": {
          "base_uri": "https://localhost:8080/"
        },
        "id": "9LW9FXN9mL9Z",
        "outputId": "f1f2447e-d1e0-47aa-8544-456a58f6968e"
      },
      "execution_count": 107,
      "outputs": [
        {
          "output_type": "stream",
          "name": "stdout",
          "text": [
            "True\n",
            "True\n"
          ]
        }
      ]
    },
    {
      "cell_type": "markdown",
      "source": [
        "## `isinstance` 함수 활용"
      ],
      "metadata": {
        "id": "6rYj46ssnPAZ"
      }
    },
    {
      "cell_type": "code",
      "source": [
        "# 강아지는 동물이다. 물고기는 동물이다. (동물 - 상위 클래스, 강아지/물고기 - 하위 클래스)\n",
        "class Animal:\n",
        "    def move(self):\n",
        "        pass\n",
        "\n",
        "class Dog(Animal):\n",
        "    # method override\n",
        "    def move(self):\n",
        "        print('강아지가 총총총...')\n",
        "\n",
        "class Fish(Animal):\n",
        "    def move(self):\n",
        "        print('물고기 스윔스윔...')\n",
        "\n",
        "class Tree:\n",
        "    pass"
      ],
      "metadata": {
        "id": "6iLZlRsRnT_q"
      },
      "execution_count": 108,
      "outputs": []
    },
    {
      "cell_type": "code",
      "source": [
        "dog = Dog()     # Dog 타입의 객체 생성\n",
        "fish = Fish()   # Fish 타입의 객체 생성\n",
        "tree = Tree()   # Tree 타입의 객체 생성\n",
        "arr = [dog, fish, tree]\n",
        "for x in arr:\n",
        "    if isinstance(x, Animal):\n",
        "        x.move()"
      ],
      "metadata": {
        "colab": {
          "base_uri": "https://localhost:8080/"
        },
        "id": "cDI1UxP4mwGp",
        "outputId": "1dd0ab60-8adb-4779-c7a9-52023737e831"
      },
      "execution_count": 110,
      "outputs": [
        {
          "output_type": "stream",
          "name": "stdout",
          "text": [
            "강아지가 총총총...\n",
            "물고기 스윔스윔...\n"
          ]
        }
      ]
    },
    {
      "cell_type": "markdown",
      "source": [
        "# 상속 관계 클래스 작성 연습"
      ],
      "metadata": {
        "id": "HuBm0LgKqarP"
      }
    },
    {
      "cell_type": "markdown",
      "source": [
        "![Inheritance.png](data:image/png;base64,iVBORw0KGgoAAAANSUhEUgAAAuAAAAK8CAYAAACukgqFAACAAElEQVR4XuydB5wWVZqvC5AcRMAEIhgw54CioqhjHjM66ijqmMUcMCvmgDnnHDCLinEQc0BRQUybZnZ3djbMvbt7997dvXt3d+rW/3RXf1Xn/bppsD6g+32e3+/5SVedr762+vyr3z7fqVNJAgAAAAAAAAAAAAAAAAAAAAAAAAAAAAAAAAAAAAAAAAAAAAAAAAAAAAAAAAAAAAAAAAAAAAAAAAAAAAAAAAAAAAAAAAAAAAAAAAAAAAAAAAAAAAAAAAAAAAAAAAAAAAAAAAAAAAAAAAAAAAAAAAAAAAAAAAAAAAAAAAAAAAAAAAAAAAAAAAAAAAAAAAAAAAAAAAAAAAAAAAAAAAAAAAAAAAAAAAAAAAAAAAAAAAAAAAAAAAAAAAAAAAAAAAAASw59+vb5h+w/KaJ3u3Tp8tsEoJkBS/f/x6ROP0H05NIDB/xTAgANIf3xH75BdK+yEIcDXGP6CKI3lYM4GABQDSZwiB5VFuJwgGtMH0H0pnIQBwMAqsEEDtGjykIcDnCN6SOI3lQO4mAAQDWYwCF6VFmIwwGuMX0E0ZvKQRwMAKgGEzhEjyoLcTjANaaPIHpTOYiDAQDVYAKH6FFlIQ4HuMb0EURvKgdxMACgGkzgED2qLMThANeYPoLoTeUgDgYAVIMJHKJHlYU4HOAa00cQvakcxMEAgGowgUP0qLIQhwNcY/oIojeVgzgYAFANJnCIHlUW4nCAa0wfQfSmchAHAwCqwQQO0aPKQhwOcI3pI4jeVA7iYABANZjAIXpUWYjDAa4xfQTRm8pBHAwAqAYTOESPKgtxOMA1po8gelM5iIMBANVgAofoUWUhDge4xvQRRG8qB3EwAKAaTOAQPaosxOEA15g+guhN5SAOBgBUgwkcokeVhTgc4BrTRxC9qRzEwQCAajCBQ/SoshCHA1xj+giiN5WDOBgAUA0mcIgeVRbicIBrTB9B9KZyEAcDAKrBBA4XnU+//kTaf0C/dI99dzP7Ftbv/naO2YbzV1mIwwGuMX0E23bml2+lP/z9XLP9+ruuTYcNH5pO/+Alsw+XbJWDOBgAUA0mcFj26luvCL88io4Zu0V6xY2T0+//7qcVuxdfc364wA0eMsjsWxgPOfKgdN0N1jbbcf7q5xCHA1xj+ghab33wxnSDTdZPu3TpkmcoHbrS0PTNT15taXPplIvD9pfeeda8Hpdsm3+mANAATOCw7IVXnRcuQqdMmphec9sV6aTJZ6abbrFJ2LbfQXub9gviN7+bHYrwF379jNm3MG6Z/WGw+pqrme04f/XzjLIBvjF9BMtqcELnSQMSl99wSXrno7emV91yeXr4cYelb302vaUdBXjHVT+3KBcAUBEmcFg2L8BfnFEuknfe42dh+yvvvWBe88LbT6c33nNdOnX6Y+ncv/7C7P/8Tz9O35n9ZosffvOOaSM/+f799KN5M1v+fccjt6QPP39/Ou93X7a0mfNXX7QcZ+PNN0pHrDqidGx9LBwfF636WUbZAN+YPoJlVx21SrrSysPS737/tdlXNC/Ap818Lgw6PPrCA6FY//xPPjJt5Wc/fpA+9tJD6XV3XBXafv2Xn5s27371driO6t+6xt3+8M3ps288adrlfvWbz9IHnr47vC/XxParn1scDACoBhM4LNtaAa4CW9v133ybinGNQGt77qDBy6R3P3576bUnn31iqc36G69n3lfu8vOdQlF91c2Xpb169WxpP2qt1dMv/uyT0EbHLh4rVnPM4+Oitfl8AeSYPoJlhyw3JB2xysrzve8kL8BvuPvaMD1F/5YDlu6fPv/W1FLbo0/6Vd1r2D1P3FF+72UHp0eeMCH91YmHl6a/bL/zduYPAhXyffv1Tbv36J727NkztB//y/3Sb//mK/O9Ytnm8woADcAEDsu2VoBPvu7CsF0j0vpaoznLLr9sOnK1Eelzbz4Vtmlqyag1Vw/F89uzXmt5bXEEfI21R7VZgPfu3Svt07dP+CUy68cP07MvPj2879mXnBHaMAJejTqn5WiAc0wfwbK650TnaevtxqSvf/Sy2Z+bF+Aqfg87+pD04+/eSx978cHw9Tbbb11qqxs29Unfe1//OnytAn25FZYLxX6x0FcBrsJc2+967LZwzCOOnxDeR/fn5O0en/Zw2rVr13TCMb8Mo+86Rn5NP/Xck8z3imV1nkqpAIDKMIHDsvUKcH38qZEfjebk00HOmXxWaPfMG0+UXq/XafsxJ//KHFuuu+E6bRbg3bp1TR989t6WbfoFopGcPcfvYdozB3zh1c+oHA1wjukjWFbT61SEa0RZbjNuK/Npn8wL8KMnHlnaPnaHbdp1A/qJZxwXXq/rbr5NBfjAZQaWbvbUtXjAwAGlol7/1nU6Hu3ebMtNwvb4vbCsznuUCwCoCBM4LJsX4OtttG46euvN04032zAUwPoFkI90yx133T58pBq/XmqURqNE8XY5vwJcU1ji7fqlpTno8XYK8IVXP+M4HOAa00ewvm98/Ep66FEHhxFpnbettt0yzOPO97d2E6YGETQ1JD6e7nvR6iq66V3utvcu4fW//vz1lja6/ta7Bur6PHzESuHfWhJRnz7q2p0fK1fXch2z3j06WFPnqJQKAKgMEzgsWyzAt/vZ2LDyySXXXtAyBzt38zGbhukn8eulRss1PSTeLinAlwz1M84cHeUD/GL6CLatron5tBQVzfn2BSnATzvv5LTbUt3CSPaGm2wQCuWVRw5vdwGugY4Vh60Q/q3peXqd3iNeSjZXbeJjYE2dv1IqAKAyTOCwbL0pKPX82W47hBHw+EEUmjKiedzFX0hFKcCXDPUzbvbPMy/LXLcYFHCH6SPYPnVNUwGdf93eAjyfrrfn/ruH+dr5dt3vou3tKcBXW2PVMAqef60R8NauvTh/dd7LsQCAqjCBw7LtLcC1Prja6Yag4nZ9lKrt195+pXmNrLIA1zSYpZdZ2sx3xPmrn1Hm75r/mzs38/zMkU1xAUeYPoLzVyuQaApI8dPA9hbgU+68OrTTkoItx/vbOe2egqIpgWqnUfR8mwYldE3UDezFttg+dT5LqQCAyjCBw7LtLcC1CsryKy4XRsEvuvr8cJf/BVeem/br3y9MXykWxSrS87mI+hhUa+nmXxcfyrOgBXj+ZM0ddhmX3vbQTeldj94avpe4HVp13jK7ZI7LvCfzD83bcrdsigw4wfQRrPnpD++nO+2+Y3rupWe3XLu0MlT+kLLLrr+kpW17C3CteKJ2ukFSq0vddO+UMDihNtoeF+Ca2qeHAelaqwcB6V6bVVYfmc7+89r0QK0jrhvZ9cmgBkHUVqrYr3fDKJbVeS+lAgAqwwQOy7a3AJdaalB39msOo17Tu0/vsN5s/MCJtddbq1jYlTz+tGNa2i1oAa7RoqNOPKLlZiipZQnjdmhtPl9FumfulvlI5p9mdivvhk6O6SNYU9c0PY8gv9ZJLfenedsqnItt21uAy1PPOSlM2VN7XT8POvyAsH64vo4LcLVbqvtSYZ8GPn4xYXz4wyD+XvUAHhXy+fcpNSquAZK4LZZtPl8A0ABM4PCnq0L4/TkzzPZFab2nx2HrKgtxONrBCpmvZB6a2TfaBx0b00ewvlq1RM8ciO9/WVi//7s56cwv3zTbi9abgjI/9Slkld+nB5WDOBgAUA0mcIgeVRbicLSDU5LaqNq/Zk7N3CezZ7ERdEhMH8Elx4UpwHHBVQ7iYABANZjAIXpUWYjD0Q6GZB6f+W7mH5NaMf7PmQ9lbtTSEjoapo/gkiMF+KJROYiDAQDVYAKH6FFlIQ7HArJS5pmZs5JaIT6+1AI6EqaP4JKjHi3PDeaNVzmIgwEA1WACh+hRZSEOx09gtcwLM3vHO5oZGW+AJQ7TRxC9qRzEwQCAajCBQ/SoshCHo0H0z/y3zB8zJ2euWdoLSwqmjyB6UzmIgwEA1WACh+hRZSEOR4PYPPP3SW2aivwyc1LmyoV2sHgxfQTRm8pBHAwAqAYTOESPKgtxOBpI18wdMu/P/MekXIzfXGgHiw/TRxC9qRzEwQCAajCBQ/SoshCHYxHRI3PPzCcy/0/mMeXdsJgwfQTRm8pBHAwAqAYTOESPKgtxOBYDfZqth5Y7PChpfT9Ui+kjiN5UDuJgAEA1mMAhelRZiMOxBNE9838mTd+jRsk1Wq5Rc42eQ2MwfQTRm8pBHAwAqAYTOESPKgtxOJYgNOo9MfODpOn7zNX8cc0j13xyqBbTRxC9qRzEwQCAajCBQ/SoshCHYwlFK6VoxRStnJJ/31+VWkAVmD6C6E3lIA4GAFSDCRyiR5WFOBwdAK0hPjnziPLmFpiisvCYPoLoTeUgDgYAVIMJHKJHlYU4HJ2AazO/y7woaXo6J7Qf00cQvakcxMEAgGowgUP0qLIQh6MT8HlSm6YiZ2WemblSsRHUxfQRRG8qB3EwAKAaTOAQPaosxOHoBHTL3Cnzocx/TmqF+B8z380c0tISYkwfQfSmchAHAwAqoEePHv+dlEfIEF3apUuX/0w6Nz0z98mcmvmvmb/J7FJqAS307t2bayO6t3ef3vpjHQAaQPrjjz8iuldZiMPRiembuXG8sZmhmeMze8U7nGH6CKI3lYM4GABQDSZwiB5VFuJwOOXcpOlc/O/MRzJ3S5oeBOQN00cQvakcxMEAgGowgUP0qLIQh8Mpetz9J0n5o+g/ZN6TOS7xM23F9BFEbyoHcTAAoBpM4BA9qizE4XDOyMzzM+cm5WJcI+IeMH0E0ZvKQRwMAKgGEzhEjyoLcTighXUzL0ualjH0Mh3F9BFEbyoHcTAAoBpM4BA9qizE4YB2MzhzdtI0Yj6yvKvDYvoIojeVgzgYAFANJnCIHlUW4nBAuzkmKU9T0RzyUzNXLDbqYJg+guhN5SAOBgBUgwkcokeVhTgc0G40LUVzw7VqilZPyc+n1tJ+J3PnWtMOg+kjiN5UDuJgAEA1mMAhelRZiMMBC4XWD9c64s9l/nvSdF4PLbXoGJg+guhN5SAOBgBUgwkcokeVhTgc8JPpnzkhs1+8o5nNkqYndC6JmD6C6E3lIA4GAFSDCRyiR5WFOBzQUHpn/kvmP2c+lLlTZrdSi8WL6SOI3lQO4mAAQDWYwCF6VFmIwwENZVTStKxhfu7l32fekTm20G5xYfoIojeVgzgYAFANJnCIHlUW4nDAImG1zIsyv0vKxfgLxUaLAdNHEL2pHMTBAIBqMIFD9KiyEIcDFjkbZF6V+ZvMk6N9ixrTRxC9qRzEwQCAajCBQ/SoshCHAxYrPeINzZyeOSlz5XhHxZg+guhN5SAOBgBUgwkcokeVhTgcsMShmzT/NqlNU/kgc2Lm8sVGFWH6CKI3lYM4GABQDSZwiB5VFuJwwBKHCvA9M5/I/D9JrRD/r8y3M49sblMFpo8gelM5iIMBANVgAofoUWUhDgcs0fTJPCjzpcz/mzT9/L4vtfhpmD6C6E3lIA4GAFSDCRyiR5WFOBzQYVg6aRr9PiTe0YweCNTanPLWMH0E0ZvKQRwMAKgGEzhEjyoLcTig03Bp5j9m3p+5Q2bX8u66mD6C6E3lIA4GAFSDCRyiR5WFOBzQaXg+afr55v4+85bMMcVGEaaPIHpTOYiDAQDVYAKH6FFlIQ4HdCrWzJyc+WNSLsZ/kzmypVUN00cQvakcxMEAgGowgUP0qLIQhwM6LZtkXpf5V5l/k9SfkmL6CKI3lYM4GABQDSZwiB5VFuJwgAtGxhuaSc8555z0vffeM30F0YvKQRwMAKgGEzhEjyoLcTjANaFPdOnSJR09enQ6efLk9NNPPzX9BrEz25wDAGgAJnCIHlUW4nCAa9Ldd9897d27d9430qWWWiodO3Zseu2116Zffvml6UP1/O6779Lvv//ebEfsCDb3fQBoACZwiB5VFuJwgGtCv/j666/TKVOmpNtvv33avXv3lmL8tttuM32ono899lg6ZsyY9KOPPjL7EJd0m/s7ADQAEzhEjyoLcTjANaaPzJo1K73iiivS7bbbLp07d67ZX8+jjz469K0hQ4akjzzyiNmPuCSrvhsHAwCqwQSuno8//nh6zTXXpG+//XZp+7fffhs+jr3pppvMaxA7kspCHA5wjekj83P27NnpCiuskP7iF78II98//PBDusYaa7SMmnfr1i09+eSTmZKCHcbmvgsADcAErp6vvvpq2qtXr3SttdZK582b17J94sSJIaAaFYpfg9iRVD+OwwGuMX1kft56660txbbUqLf+269fv3CtVAGur5mSgh3F5r4MAA3ABK41VWSr/fHHHx++fuGFF8JNSXvttZdpi9jRVN+OwwGuMX2kPWqw4sQTT0yHDx/eUojvtNNOYZ+moORFOVNSsCPY3IcBoAGYwLXlnnvuGUZx9PGqPlpdddVV06+++sq0Q+xoKgtxOMA1po8sqFq+UMe5/PLLW7Zp5Fsj4NrOlBRc0lU/jXIBABVhAteWKrZHjhwZVgPQ8lwa7YnbIHZElYU4HOAa00cWRN0fo6knWkc8fpjPzJkz0x122KFlhJwpKbik2txHAaABmMDNz/333z+Ect111w1r3Mb7ETui6tNxOMA1po8siPqUUMfo2bNnOm7cuHC9XH755VuK7limpOCSaHP/BIAGYALXljfccEMIpOY06r9HHnmkaYPYEVV/jrIBvjF9ZEHMlx+spwpxFeQqzMePHx+moegem3vvvZfpKLhE2dxnAaABmMC1pqabaNrJFltsEX5JHHzwwSGcN998s2mL2NFUX47DAa4xfWRBPPPMM1sK67vvvjt9/vnn03fffde0m58ff/xxeBhQvB1xUagcxMEAgGowgaunHrusGy4HDBjQ8ktEvxS0rU+fPswFxw6vshCHA1xj+siidurUqeFGzREjRlQ23e+dd94x2xBbUzmIgwEA1WACV88LLrgg3NGvdW6L27UUobbrwRN66ET8OsSOorIQhwNcY/rIova+++4L/XLppZcON3XG+xdUTXcZNGiQ2Y7Ymup/cTAAoBpM4BA9qizE4QDXmD6yOHz22WfDqinx9oVxjz32oADHBVI5iIMBANVgAofoUWUhDge4xvSRempKxzXXXJPOmTMn/fTTT8Oa35r7/cQTT5i2Uku56mZ2tTn33HPTN954w7TRNh0zN/7kMffpp59O77jjjvDvl19+OT399NPTSZMmpTNmzGhp88knn7QcZ8MNN0z79u1bOrbkxk9sTeUgDgYAVIMJHKJHlYU4HOAa00fqmT9+XoWspoqowO3fv3/Yds4555TaPvXUU2G5QT1HYdiwYeGm9q5du4YnZxbbTZ48Oe+PwaFDh5r3lboRXk/cPOOMM8Jc8RVWWCG01/cwffr00EZFevFY9Zw3b545NqJs7iMA0ABM4BA9qizE4QDXmD5Sz7wAVwGsQlrFrEa5N9poo7AGuEbF1e7zzz8P0z/WWWed9IMPPgjbdCP7brvtFl6v+d7xseW2227bZgGuAn7gwIHpo48+GrY9+eST4eE/2he3ZwoKLqjqm1EuAKAiTOAQPaosxOEA15g+Us+8AD/22GPrbs+Xab344ovD1xoFL7ZTYa5CXYV4fGw5vwJcx9RqKcXtar/lllua9hTguKCqf5VSAQCVYQKH6FFlIQ4HuMb0kXrmhXb8FMtp06aF7WeffXb4et999w2j5PWWE9RDeUaNGmW2y/YU4PEKVDrWZpttZtpTgOOCqv5VjgUAVIUJHKJHlYU4HOAa00fq2VoBrhsptV03RerrXXbZJTxHIX691M2Rq6yyitkuKcBxcar+VY4FAFSFCRyiR5WFOBzgGtNH6tlaAa6nX2r7bbfdFr4+9NBDw9zsWbNmldqpeFZRrEI7PrasugBfZpllzHbE1lT/KscCAKrCBA7Ro8pCHA5wjekj9axXgGtZv2222SaMeM+ePTtsu/POO0O7U089tfT6G2+8MWy/8sorzbFllQX4L3/5y3DTZn4TKOL8VP8qpQIAKsMEDtGjykIcDnCN6SP1zAvwzTffPMz3vuSSS8K/Nd9b633n7VSU68ZIjYLvvffe6VVXXRVGxbUkoZ4mXJwbPmXKlLBOuNRj6FXI51/fddddLe0WtADXSil6/5VXXjk96aSTwvEOOOCAuvPSEaX6V5QLAKgIEzhEjyoLcTjANaaP1DMvwNdcc82wtrfW5dZUj3hlEqmH9UycODEUyGq7xhprpKeddlrYXmx31FFHhaK8nvmccnneeeeFbfH77L///umECRPMdqnvV38g6P2l/iigAMfWVN+OgwEA1WACh+hRZSEOB7jG9JF61puCgthZVN+OgwEA1WACV0/9ktFcxXi7vP/++8NHpvF2xI6kshCHA1xj+kg9KcCxM6u+HQcDAKrBBK6eBx54YAjiSy+9VNquJ7npccrbbbedeQ1iR1L9Ow4HuMb0kXpSgGNnVn07DgYAVIMJXD2ff/75EMTDDjustF0j39quX0LxaxA7kurHUTbAN6aP1HP69OnhZsYZM2aYfYgdXeUgDgYAVIMJXGvqaW0DBw5Mv/nmm5ZtY8eODevKzps3z7RH7EgqC3E4wDWmjyB6UzmIgwEA1WAC15qXXnppCOPNN98cvv7oo4/CUlut3W2P2JFU347DAa4xfQTRm8pBHAwAqAYTuNb88ssv0z59+oQHTOjrCy64IIRz2rRppi1iR1N9OQ4HuMb0EURvKgdxMACgGkzg2lI3Y2rU+7333ks32GCDMC0lboPYEVUW4nCAa0wfQfSmchAHAwCqwQSuLfObMfMnsF100UWmDWJHVP05ygb4xvQRRG8qB3EwAKAaTODmp0a99Tjjnj17prNmzTL7ETuiykIcDnCN6SOI3lQO4mAAQDWYwM3PfO73PvvsY/YhdlTVp+NwgGtMH0H0pnIQBwMAqsEEbn6OGzcu7dq1a1j/Nt6H2FFVFuJwgGtMH0H0pnIQBwMAqsEErjW//fbb9IQTTgiBPPzww81+xI6s+nUcDnCN6SOI3lQO4mAAQDWYwMV+99136bBhw9K+ffuGMO6xxx5hW9wOsSOrvh2HA1xj+giiN5WDOBgAUA0mcLHff/99eNTy6aefnk6dOtXsR+wMKgtxOMA1po8gelM5iIMBANVgAofoUWUhDge4xvQRRG8qB3EwAKAaTOAQPaosxOEA15g+guhN5SAOBgBUgwkcokeVhTgc4BrTRxC9qRzEwQCAajCBQ/SoshCHA1xj+giiN5WDOBgAUA0mcIgeVRbicIBrTB9B9KZyEAcDAKrBBA7Ro8pCHA5wjekjiN5UDuJgAEA1mMAhelRZiMMBrjF9BNGbykEcDACoBhM4RI8qC3E4wDWmjyB6UzmIgwEA1WACh+hRZSEOB7jG9BFEbyoHcTAAoBpM4BA9qizE4QDXmD6C6E3lIA4GAFSDCRyiR5WFOBzgGtNHEL2pHMTBAIBqMIFD9KiyEIcDXGP6CKI3lYM4GABQDSZwiB5VFuJwgGtMH0H0pnIQBwMAqsEEDtGjykIcDnCN6SOI3lQO4mAAQDWYwCF6VFmIwwGuMX0E0ZvKQRwMAKgGEzhEjyoLcTjANaaPIHpTOYiDAQDVYAKH6FFlIQ4HuMb0EURvKgdxMACgGkzgED2qLMThANeYPoLoTeUgDgYAVIMJHKJHlYU4HOAa00cQvakcxMEAgGowgUP0qLIQhwNcY/oIojeVgzgYAFAB/fv3/++kKWCIru3Spct/JgDNDBo06I9JnX6C6MnBgwcrBwDQAMxfvIgeVRbicIBrTB9B9KZyEAcDAKrBBA7Ro8pCHA5wjekjiN5UDuJgAEA1mMAhelRZiMMBrjF9BNGbykEcDACoBhM4RI8qC3E4wDWmjyB6UzmIgwEA1WACh+hRZSEOB7jG9BFEbyoHcTAAoBpM4BA9qizE4QDXmD6C6E3lIA4GAFSDCRyiR5WFOBzgGtNHEL2pHMTBAIBqMIFD9KiyEIcDXGP6CKI3lYM4GABQDSZwiB5VFuJwgGtMH0H0pnIQBwMAqsEEDtGjykIcDnCN6SOI3lQO4mAAQDWYwCF6VFmIwwGuMX0E0ZvKQRwMAKgGEzhEjyoLcTjANaaPIHpTOYiDAQDVYAKH6FFlIQ4HuMb0kc7k999/n3722Wdmu/z000/NNvSpchAHAwCqwQQO0aPKQhwOcI3pI53FH374IR0/fny61lprhX8X982ZMycdPnx4esQRR5jXoT+VgzgYAFANJnCIHlUW4nCAa0wf6SyeeuqpadeuXdM777zT7JMXX3xxyMMFF1xg9qEv1Q/iYABANZjAIXpUWYjDAa4xfaQzOHXq1LRbt27piSeeaPYV3XfffdPu3bun06ZNM/vQj8pBHAwAqAYTOESPKgtxOMA1po90dDXdZJ111klHjhyZzps3z+wv+vnnn6cDBw5MR48ebfahH5WDOBgAUA0mcIgeVRbicIBrTB+p5yqrrJI+9NBD6eabbx5Gli+99NL0vvvuSwcMGJAOGTIkffPNN1vafvfdd+nJJ5+crrDCCqG/9erVK91pp53St99+u6XNpEmT0mHDhqWPP/64ea/jjjsuXWmlldL33nuvZdu7776b7rrrrmmPHj3CMVdbbbX0uuuuM6+V999/f2hzzTXXmH311FQVtX/22WfNPvShfv6lVABAZZjAIXpUWYjDAa4xfaSePXv2TNdff/10r732SnfZZZd01KhRoUi+4oor0r59+6bHHHNMS1sVyirSjzrqqPTWW29NzzzzzJZC/aOPPgpt3njjjbRLly7pfvvtV3ofjVgvs8wypRFpjVIPHTo0vOdtt92WPvjgg+kee+wR+vLVV19tvte99947FP1ff/212VfPmTNnhmNxQ6Zf9fOPcgEAFWECh+hRZSEOB7jG9JF6qgBffvnlQ1GroluvmzhxYtinVUZU9Orfjz76aNh39tlnl17/8MMPh+0nnHBCyzaNpqt4LxbKKrDVbsqUKS3bVNxrnnZxBF3TTNZdd9105ZVXLr2PHDFixAJPKdFx9AdGvB19qD5XSgUAVIYJHKJHlYU4HOAa00fqqQL82GOPDf/WqLNel49mqxDec889w781iqx99dbe1ij2xhtv3PK1ppCobXEqyQ477BBGy+fOnduyTdNNiq/L1Qi7Xh+v5927d++w/GDcvi3Hjh0b5oLH29GH6kelVABAZZjAIXpUWYjDAa4xfaSeKsBPOeWU8O+8AJ89e3b4uliAa3pKv379zOvlpptuGkan86+1FreK7a222ip8/fHHH6dLLbVUethhh5Vep4Ja79ea77zzTktbjaZrW3yM+anvW+8Tb0cfNvclAGgAJnCIHlUW4nCAa0wfqWd7C3DNEdeNkroRMz7Gqquumq633nqlbYceemhYq1s3WZ5//vnhuC+//HKpjUamN9poo/Sxxx6ra3GlEz35UvPP9X3E79+W+iNgueWWM9vRh+p3US4AoCJM4BA9qizE4QDXmD5Sz/YW4Jr7rX3x6ibvv/9+KIwnTJhQ2q71t9Ver1NxvuGGG5r31lzxZZddNv3222/NvnpqxZa1117bbG9LzW8fM2aM2Y4+VB8sxwIAqsIEDtGjykIcDnCN6SP1bG8BrkK7T58+Yd729OnTW7bppkitTPLWW2+ZY+vmRy1JqFVRdINnvP/6668P76eVT/J551Lv/+tf/9q0P/jgg8Oo+gcffGD21fPVV18Nx9dqLfE+9KF+/uVYAEBVmMAhelRZiMMBrjF9pJ7tLcCl1gfXtBG1UdGt/w4ePDiszx0fV15++eWhjVZE+eqrr8x+qSdaaiUUtdNyhv379w//zldfKfrMM8+EfSeddJLZV0+NymvueXHdcfSl+kstEgBQJSZwiB5VFuJwgGtMH6mnppRovWz9W6PQmnudz/N+4YUX0tdee63UXjdD3nXXXeFhOPfcc0+ba3LrZkwd76WXXjL7iup9ta64jqlRcT1uvrXjbrPNNqFIL46Y13PGjBnhjwuNmsf70I/KQRwMAKgGEzhEjyoLcTjANaaPdAY11UWrmowbNy6sGR7vl/oDQvPLdfOlHvYT70c/KgdxMACgGkzgED2qLMThANeYPtJZvPHGG8O88qOPPtrskxr11ootGkmP96EvlYM4GABQDSZwiB5VFuJwgGtMH+lMXnjhhWGNby1PWNz+zTffhBtD77zzTvMa9KdyEAcDAKrBBA7Ro8pCHA5wjekjiN5UDuJgAEA1mMAhelRZiMMBrjF9BNGbykEcDACoBhM4RI8qC3E4wDWmjyB6UzmIgwEA1WACh+hRZSEOB7jG9BFEbyoHcTAAoBpM4DqbrT1EQg+2+OKLL8x29KmyEIcDXGP6SGdSSw22tha4npTZ2hKF6EvlIA4GAFSDCVxn8qKLLgpr3uqRz/G+nXfeOd1ggw3SL7/80uxDfyoLcTjANaaPdBa18snPf/7zdNSoUXVXQRk6dGj6i1/8wrwO/akcxMEAgGowgess3n333WnXrl3Tk08+2eyTerpcnz590u23357RHuQXDcSYPtJZPO6449Ju3bqlDzzwgNknr7rqqpCHM8880+xDX6ofxMEAgGowgesM6qPVZZZZJt12223bLK712GadA62JG+9DX6ofxOEA15g+0hl89NFHw8DEaaedZvYVPeigg0KR/txzz5l96EflIA4GAFSDCdz8/Prrr0tfz54927TJ1fSOOXPmmO0/xU8++cRsiz3wwAPTnj17pjNnzjT7Yrfeeut0wIAB6WeffWb2oR+VhTgc4BrTR+an/th/9913zfbWnDt3rrmexupelfZcQ3Wc+V0bNd1E006k5oDH+4vq2j1kyJB04403NvvQj8pBHAwAqAYTuHruueee6XnnnRcKW71GT1B744030uWXXz6Mkmgkudj+8ssvT4cPH56HN11zzTXTu+66q2X/k08+mQ4bNiw9++yzzXvdcsstYZ+mkOTb9EtIIzKaz63j9evXLz3iiCPCL7D49R9//HHavXv38DjleF899b3omHzc6tvmvgqQY/pIa5544onpyiuv3HK969WrV5hj/fnnn5fa7b///unuu++efvjhh+lOO+0URqL1SHhdT+NC/KGHHgrXzfyY6623XvrYY4+V2mi+tu5lGThwYEu7QYMGhWl39T750zVYbeLrdWvqmqj2Tz31lNmHPmzuVwDQAEzg6rnVVlula621VhgNOeuss8IvjU033TQU0NpWHCXJL9r77LNPmGN40003hdfql00+51CjLyuuuGK60kormV8U+Yh0PuqjUZstt9wyHTx4cDplypT0hRdeCO+rwl9/GMTf6+TJk8P7T5061exrTf2xsM4665jt6Ef1mSgb4BvTR1pz7733TidOnBiudY888kj6q1/9KvQnbS+2GzduXDpixIhQrOuaeuutt6aHHXZYaFucEqJCW9e3PfbYI33mmWfCdVPXWA0sTJs2raWdRqm32GKLMDiiR8ffe++96XbbbReOd/XVV5vvU9dLDWLUG7iop25e17Ve32O8D32ovlSOBQBUhQlcPfXLQr8QXn/99aBeN3bs2LDv0EMPDSPW+remcWj0RyM6xddrJGjppZcuFeonnXRSOE5xVEdLBqpQ1zHzbbfffntop19WxWPql5zaxtNM9t133/A9zO8j1qIamdKx4lEo9KP6WDka4BzTRxbE0aNHh9Ho4jYV4Drufvvt17L6iAYglltuuTDIkLdbd911zTSRWbNmheJZAxvxexXVNaxHjx5hpD3ep8K/+D7tUX8w6PuJt6MP1V/jYABANZjA1VMF+GabbRb+/dZbb4VQ3nbbbeHrCRMmhGWr9G8VydpXnG6Sq18cKuLz0RcVzvpaxW/e5owzzgivL47yjB8/PrR7880303feeafFK664ovR9FL/XVVdd1bx/W55++unhWNOnTzf70If6+ReDAe4xfWR+6ubv/PqkqSEqmIv7VYBrusi3335b2n7ZZZeFaXv6t6an6L01ha54vZP6JHG11VYz7yuL7ZZddtl0hx12MG00MHHAAQeY7W2pG9k1eBJvRx+qL8bBAIBqMIGrp4paqX/nBbg+7tTXxQL8ggsuCPtefvllc4xjjz027Cs+/EGj6JrPnY88r7LKKun6669fet0222yTXwTqqmkpxfaaSrL22mub92/L888/PxxL01vifejD5v4EkGP6SGtquoem1Ok1ResV4Brtjl9fVKuOxMcpml9rpQp5fRKo5VTjdnEBrmusthc/XWyP+jQz/v9APzb3JwBoACZw9WxvAa5RHO2rN/86H8ku3tGfj5jrpiC9Rv/OR4Jyf/azn4VfMPFoUG48bWTzzTcv/ZJqj7ppSe89Y8YMsw99qJ9/MRjgHtNH6qkpdGqrgvfVV19tGd3WJ35x4dqeAlzH0PE0YBFf62TxoWK6+VNtNf+8OBVvhRVWMAW4pry0dt9MW44ZMyYcL96OPlT/KscCAKrCBK6e7S3An3322bAvfviN5jJq/uFGG21U2q5fVlrqSjcOaWRGhXb8ZEr9ctEx642q11NPcNN87ngFgrbcdddd0759+y7QvHHsXKqPlaMBzjF9pJ75J3u6N6a4XQ/4WpgCXCubaKpIXEDXU0/yjY+nAQk9A6He61dfffV0jTXWMNvbUtNZ9ClkvB19qL4dBwMAqsEErp7tLcClppDoF4+WE1RBq5uHNM9br9Gd+vGxjz766HB3v1Y5qTc/UaPSOp5+eWjJwHz7F198kT7//POm/c033xze64YbbjD76jlv3rwwL3PHHXc0+9CP6jPlaIBzTB+p57nnnhv6jqbf6WtdHzVtQ9sWpgCXGozQ6zXCretnvl33wRTXGdfxdO3Mp87pITuaJ67X1ivAtZqJVjWJb1xvTd2Lo2NNmjTJ7EMf6udfDAUAVIcJXD0XpADXxV1r1qpNrka2L774YnPc/Hj6paB2WnIr3i/vv//+MFJePKbMV18pqikuKqjzm0bnZ/40zHo3jqIfm/sUQI7pI/X89NNP05EjR5auS1oaUMXuwhbguobttddeLdfFoldeeWVLuyeeeCJ8cpfv0xQTva9WYKlXgKtQVzs9ij7eV0/dCKoVVYr37aAvm/sWADQAE7h6aiQkX5lEvxw07zEfmVEB/fTTT5vXvPjii2EU+sEHHwwP0on3F9X878cff9xsL6qPZlWgq2C+5557wnvG01VytU64/t/mV1RrRRYts6U/GOL1yNGX6i9xOMA1po+0pj5F03VO16ZXXnklbNNItQrkYjvtq3d/TGvqGLrW6UZzXXM1Ah630dKvWqpV5qPjmq6nueRxW6nCXAMiWvI13ldU76XRdQ2wxPvQj8pBHAwAqAYTuM6gfiFqNRQ9qVNPxoz35+qXi37J6I+FeB/6UlmIwwGuMX2kM6gbOfv37x8+0WztnhddP3W/jj7ZbG2QA32oHMTBAIBqMIHrLL799tthKooe/hOvlCLzFVu0Bm+8D/2pvhCHA1xj+khnUffi6Eb1Qw45xOzTJ4H5w8xYlhWVgzgYAFANJnCdSa2pq/mY9VZE0eoFegBPvB19qizE4QDXmD7SmdRc8uITOXM11U9z1R944AHzGvSnchAHAwCqwQQO0aPKQhwOcI3pI4jeVA7iYABANZjAIXpUWYjDAa4xfQTRm8pBHAwAqAYTOESPKgtxOMA1po8gelM5iIMBANVgAofoUWUhDge4xvQRRG8qB3EwAKAaTOAQPaosxOEA15g+gkuueh5FvE3qBnw9LCneju1TOYiDAQDVYAKH6FFlIQ4HuMb0kSVVrWSip1buuuuu833oWWf0rLPOSnv27Fn34UI77rhjutZaa9VdCQvnr3IQBwMAqsEEDtGjykIcDnCN6SNLqjNnzsz77yJdPvCTTz5J99xzz/TGG280+xaVt9xyS9qlS5d00qRJZp987bXXwoOHtt56a7PkIs7f5n4FAA3ABA7Ro8pCHA5wjekjS7J6psGRRx4ZnmIZ72uU06dPD7mZPHmy2bcofP/999MBAwakO+20k9lX9NZbbw3fZ2tFOrauzluUCwCoCBM4RI8qC3E4wDWmj7RHTQHR497j7UU1Eqs2s2bNMvvqqSf5apQ73r6g6tHzH330UcvXX3zxRauPmm/P97igBbiOpWO2dyRaBfbs2bPN9lw9sbN3797phx9+aPbFbr/99mnfvn3DqH28D1tXP984GABQDSZwiB5VFuJwgGtMH6lnPrr66quvpnvttVe61FJLha+HDx+evvTSS6W2esy7Rqo1aqs2csyYMekbb7xRanf22WeHaRUqvDW3u3v37qHtiBEjQtGbt9N75sfJrVf8d+vWLb3tttvS1VdfPbTR8adMmRK+1z59+qQvv/xy6Xs89dRTW75HfR9bbbVV6SbHbbbZxrxv0RNOOKH0/vo+N9tss5b9gwYNSs855xzzfer7Oe2009KHH344/L+qrbYdf/zxpu0HH3wQ/r8mTJhg9tXzmWeeCcfT/1u8D1u3+WcGAA3ABA7Ro8pCHA5wjekj9cwL8JEjR6ajRo0K86Gvu+66UMCqiNSoc972xBNPDEXjeeedl/76179O77vvvnTYsGHpCiusUBqJVoGsY44ePTpdY401wjznq666Koz2alveTjcWXnPNNUHdgKnXtFaAq/g+4ogj0r333jtdddVVw/veeeedYX700Ucf3dL2uOOOC0XvBRdckM6YMSO955570qFDh6Yrrrhiyw2eDz74YHhP/TGh99xnn31avg/54osvthxPo9gDBw5MN9100/TZZ58Nc7IPPfTQ8LoLL7yw9H3qfTfZZJO0V69e6THHHJM+9NBD6dixY0Pbp556qtT2oosuCtufe+458//bmvp5rLnmmmY7tq7OcS0SAFAlJnCIHlUW4nCAa0wfqWdegK+33nqlIlojvNr+2GOPha8//vjjMJJ92GGHlV7/yCOPhHaXXXZZy7a8AN9www1Lq5rohkcVqcWiPlcrgeg1rRXg+R8Dl156aWinPwK0TwW+pnLo35qeouMffvjhpder4NZrrrzyytL29kxBOeSQQ8IfDsWpL3LjjTcOhX1xm967a9eu4Zzm21Sw6z3OOOOMUlv9IaHjtnc6ixw/fnwY0fe4UszCqnOfBwIAqsUEDtGjykIcDnCN6SP1zAtwFanF7U8//XTYrpFkfX399deHrzU6riI5V9NPtP2ggw5qeW1egBenhkitcHLyySen3377rfk+5leAn3TSSeHfV1xxRWiXL8unJfo0gq1/63vTPn2vxe8xL7RVTBeP254CfKWVVgp/SBSPJw844IDw2uIa3SrAd9ttt9Lr58yZE/6f9YdKcbum7mhUP36/tlQRr/fUlJh4H9ZX5yukAQAqxwQO0aPKQhwOcI3pI/XMC/C4QHzzzTfD9jPPPDN8rRU49HVr5qPQMi/AW3u4TD3nV4BrbrX+nRfgml+ur4sFeH6M1tx///1Lx21PAd6jRw9znKLFtbtVgBfPQ1uus8466dprr222t6VG/fWexSky2LbNPycAaAAmcIgeVRbicIBrTB+pZ2sF+NSpU8N2Fbz6WkWqvr799tvNaLD87LPPWl67uArwfF71XXfdZb4/Ga+I0p4CfOmll0633HJLc6zc4hSSBSnANRde89Lj7W05ceLE8P1WsaKMF3W+8kAAQLWYwCF6VFmIwwGuMX2knq0V4FoJRPON8yI6L8jzEfG2XFwF+JNPPhn26f3jY9RTN5KqvW7GjPflbrHFFmHVE00liffFLkgBrtVhdH7jPwracueddw43nS7IvHHv6udbiwQAVIkJHKJHlYU4HOAa00fqmRfgKnB1o6Fu8Lv88svD1ItiManl/dZff/2wwoduuNQa3NqumzOfeOKJ0nrX7S3AdYx8JFmrhug1KqL1tVYfydu1twDX97juuuuGmxvVLv+e9D0+/vjj5uZF3dQ5ePDgMBL96KOPhvd9/fXXw/SbvM0dd9wR3k9LF06bNi1s08OC1O6FF14oHW9BCvD8vGveeryvnt98801YmWaXXXYx+7B1dY4LmQCACjGBQ/SoshCHA1xj+kg980KwqFY7+eUvf5nOnTu31FZFsaZOxO1lceS6vQV4vgxgPbXqSd6uvQW41JzszTff3BxPo83vvvuu+R7uvvvu0rrmMl4HXMsN9uvXzxxTN2IW2y1IAa6CWsX/RhttZPbV8+qrrw7vef/995t92LrNPysAaAAmcIgeVRbicIBrTB+pZ16Aa+UQLTmo0ezWni6Zq2JbbaUeEJOPhudq5Flt6i03WLQ4Ah5bHAHXnOf8PfIndWq0W1/rgTbFlUhytQZ4W99jUU0v0aovaqtR7by4j9toGk5+zOIoea6+z3rfS2tqhRmd++KyhfXU96N1z7XGeLwP21bnN8oFAFSECRyiR5WFOBzgGtNH6tnaHHBsvPoDRUscDhkypPQHR6xG2jX1h+UHF1z17TgYAFANJnCIHlUW4nCAa0wfqScF+OJVo+YqwDV3vd4ovZYe1PSZKVOmmH04f9W342AAQDWYwCF6VFmIwwGuMX2knvfee2+Y3qDpFfE+XDTqgUU77LCDuUlUnnrqqS0PQ8IFVzmIgwEA1WACh+hRZSEOB7jG9BFEbyoHcTAAoBpM4BA9qizE4QDXmD6C6E3lIA4GAFSDCRyiR5WFOBzgGtNHEL2pHMTBAIBqMIFD9KiyEIcDXGP6CKI3lYM4GABQDSZwiB5VFuJwgGtMH0H0pnIQBwMAqsEEDtGjykIcDnCN6SOI3lQO4mAAQDWYwCF6VFmIwwGuMX0E0ZvKQRwMAKgGEzhEjyoLcTjANaaPIHpTOYiDAQDVYAKH6FFlIQ4HuMb0EURvKgdxMACgAnr37v13SVPAEF3bpUuX3yYAzfTt2/cPSZ1+gujJfv36/Y8EAAAAADo8XTM3yjwx89HMH5Ny4TejuY04LvPBzEsyf5W5S+a6mUs37wcAAAAAgDrslnlV5juZ/zupM9ra7L9krtD8GtEr85M67fK232W+ldSK9AlNLwMAAAAA8M0DSbl4/mP0db5tx/wFBZbL/E1i29dT7wMAAAAA4J5VM/9fYgvmope3tLasnfnPiX1N0f9Mmt4HAAAAAAASOwpe9P2kNu+7NTQ6riI7fm0uo98AAAAAAM30z7w9sUWz1IozxXnfbaEbMePX516X2b3WFAAAAADAH90yj85sbcnb/87coaV1+7g6scfJ/SFzp1pTAAAAAAA/qBCem9SK4w8y903Kc8EvaWndfrpkPpvUjqHjHZI0rYiSb3s+c0T+AgAAAACAzoxumHwtqRXDf555QGF/Phe8uN73gqLlCWclTcfJ535r+smZSdPyhNr+r5kXZvZo3g8AAAAA0KkYknlnUrtR8p8yz0psAayVSv4qaf+879bQ8oR/ktiVT4ZmPp7U/gD408zdSy0AAAAAADowKrAnJbVlAjUlRDdcDi42ivipxXfOgHhDgW2T8hSYaZmrlFoAAAAAAHQwfpH5F0mtyH0lc61Si8XLUpmnJrU/Dv49aZp3riksAAAAAAAdhi0yP0pqhfecpP5TLJcUls98OKk9gVPz0vcqNgAAAAAAWBIZkflEUiu8f595VLLwN1MuarbO/Cqpff/TM1crtQAAAAAAWALQXOsrk6YpHCpc/y3zssx+xUYdBK1NPjHzH5Om/5f/mzT9v/QpNgIAAAAAWByoWD028++TpmJVUzgezRxebNRBWTZpWsIwn5by28z9ig0AAAAAABYlO2fOS2rTNd7P3KzUonOwZeYXSe3/883MNUotAAAAAAAayDqZbyS1glTraO9fatH50Bz24zL/Z9L0//wfSdMj7/sWGwEAAAAAVImmZNyd1B6koznSZyT2QTqdGa1dfk/mfydN50APDDqw1AIAAAAA4CfSM/O8zP+VNBWdepDOrUnbD9Lp7GiqzadJ7VOAGZlrl1oAAAAAACwEB2f+JqkVmi9nrllq4ZcuSdMSi39Ian+YTMnsX2wEAAAAANAexmR+ktQKb62NvX2pBeQsk3lH5n8lTefqbzIPKbUAAAAAAGiFkZlPJbXCW8XkkUnHeZDO4mTjpPz0z3cz1ys2AAAAAADI0YN0rkmaHjqj4vFfMycnrPKxMBye1NZF1w2rNyVN5xcAAAAAIFkq8/jMf0iaCkat7vFw5rBCG1hwls68JamtGPO3mRNKLQAAAADAHbtmfpuUp0xsUmwAP5kNkqYHFOXn+IPMDUstAAAAAKDTo3nJeppjXhT+Sea+pRZQNYdm/j6pTUu5LXNgqQUAAAAAdDqWy7w3qa3Woac6npbZvdgIGobmgd+QNC1XqPOvaT+6wVXLGQIAAABAJ6JX5vlJ+UE6N2cOKjaCRcY6mTOT2icQWu5x01ILAAAAAOiwaD3q3ya1Yu+lzFHFBrDYOCjzd0nTz0WfStyV8EcRAAAAQIdl66T8qPTZmeOKDWCJoF/mtZn/kTT9nP5H5jEJ664DAAAAdBhWyXw6qRXeGmE9PGGe8ZLOmplvJ7Wf26zM0aUWAAAAALBEoXWnr0tqD9L5P5mXZPYpNoIlnvGZf5k0/Qy1Jvt9mYNLLQAAAABgsaIH6ZyY+YekVrQ9lDm02Ag6FPqj6cqkNi1Fq9WckNmt2AgAAAAAFj27Z36X1KYtvJO5cakFdGR0s+zrSXke/5hSCwAAAABYJKyflOcL/5i5d6kFdCb2yfxN0vSz/mPS9AmH1nQHAAAAgAazQtI0Jzh/kI5WzDgl4UE6HuideWnmvydNP/t/yjw5YVoKAAAAQENQ8XVh5r8kTcWX5gbfmLlMsRG4YNXMV5Lapx9zMseWWgAAAADAQqOlAw/N/KukVnA9n7l6sRG45OeZf5bU+sWjSdMnJAAAAACwkGyTNK0FnRdYX2RuW2oB3umZeXHmvyVNfeR/ZZ6eNK2MAwAAAADtZLXMZ5Na4f3XmRMSHqQDrTMy88Wk1mfmJTz1FAAAAGC+DMycktTWfv7fSdPopuZ/A7SHXTL/JKkV4k9mDiu1AAAAAIAwXeCkpGlFExVNWuHkgcwVi40A2kmPzPOTpiehqj/pxt1JCSvlAAAAAAR0I90PSW3EckbmhqUWAAvH8Mxnklrf+j5zx1ILAAAAAEeoyFaxnRdHKsJVjANUjYpuFd95X1NRruIcAAAAwAWaVqLpJcUH6Wj6CatWQCPR9BNNQ8nXkdf0FE1T0XQVAAAAgE6JbqTUDZW6sVIFkG601A2XuvESYFGhGzJ1Y2Y+Gq4bNnXjJgAAAECnQUsHaglBLSWYFz1aYlBLDQIsLsYlTUsV5n1SSxiOLOwHAAAA6JDooTl6eE5e5OihOnq4DsCSgKY96aE9eniP+qce5qNPafRwHwAAAIAOhR4Tr8fF54W3HiOvx8nzIB1YEtHj6/UY+7y/6vH23BAMAAAAHYJlMm9Mag/S0Q1vFyY8SAc6BmMz5yS1QvyVzFVLLQAAAACWELTCxClJ+UE69yVNI4sAHYlumSdn/lPS1Jf/PfPShD8iAQAAYAli78wfk9qo4duZ65daAHQ8lst8KPOPSVO//k3mPqUWAAAAAIuYjTPfSWqF93eZu5daAHR8xmTOTmr9/PXMUaUWAAAAAA1maNI0MvjfSVNB8ofMExMepAOdF01LOSHzfyZNfV73OFyZ2afYCAAAAKBqVGxckjQ9QVBFyP/NvC5z6WIjgE7M4KTp3ob8j8+/zBxfagEAAABQAVo68PDM3yW1j+Gfzlyl2AjAEaOTpjXt8zzovoc1Sy0AAAAAFpJxSXn+66eZWxcbADila+YxSW3lH01LuTazX7ERAAAAQHvRTWYvJbXC+7eZhxQbAEBgUOZdSdPSm8qKPik6qNQCAAAAoA1UTNyc+f+SpmJCj+g+P7NXsREAGDbN/CSp/dE6M3OdUgsAAACAAnqQzmlJbZUHjebdmzSthQwA7UP3SxyZ+Q9JU470h+wNmQOKjQAAAAD2zfyTpDZy92bmeqUWALAgDMy8LfM/k6ZM/T7z0FILAAAAcMkmme8mtcL728xdiw0A4CexYeYHSS1j72duUGoBAAAALhiW+XBSW8tYH5cfn/AgHYBGMSHzb5OmvGlU/JaE9fMBAABc0Ddzcua/Jk2FgB6kc03C/FSARYFydlNSm5by90nT+voAAADQCdF6xbox7G+S2kfhT2WOLLQBgEWD7q94N6ll8aPMjYsNAAAAoGOzfeZXSe2XvZZJG1NqAQCLA62rn/9RrFWH7shcptQCAAAAOhR6LPbLSa3w/k3mwaUWALC46Z85Jamtu/+HzKOSpuUMAQAAoIMwOPPWpPwgnfMyexYbAcASxdqZM5LaH8yfZm5WagEAAABLHD0yz8j8x6S20sLdmcsWGwHAEs2BmX+VNGVYqxTdkzT9UQ0AAABLGPtn/mlSGz17I+ER2AAdFa1WdHXmfyRNedbTaY9Lmm6mBgAAgMWMPqLWgz3ywnte5s6lFgDQUVkjaXoqbZ7vLzK3LLUAAACARcbwzEcz/5g0/WLWesLHZnYrNgKATsF+mb9NmrKuzD+QMLUMAABgkdEv87LMf0uafhn/e+aVCQ/SAejs9Emasq+HZyn7utdjYsIf3QAAAA1Dcz+1NNnvk9rH0U9kjig2AoBOz2qZ05PadUBr/G9dagEAAAA/mR0z5yS1X7h6at4WpRYA4I29Mv88qU1LeThz+WIDAAAAWHDWynwlqRXef5H5i1ILAPBMr8xLkqapaLpG/HPmqZlLFRsBAADA/NGav7cntQfp6JfqpKRpnW8AgJhVMqcltT/W52ZuW2oBAAAAdVGBfVbmPyVNv0T1IJ07M4cUGwEAtMLuSfl5AI9nDi21AAAAgBYOSGrzOeVrSdOjqQEAFgT9IX9h5r8mTdeSf8k8M7N7sREAAIBnRmd+kJQ/Ot6p1AIAYMEZkfl8Uru2fJe5fakFAACAQ+5Jag/S+bvMoxPW9AWAatEf9D8ktUL84dJeAABYNHTt2vUvk9rFGNGtS/VY6ncJLBK47iA2yXUHwC/pj//wDS5mv/7trHTml2+Z7bjoVBbicEDDMOcfF63vff3rdO5ff2G246JVWYjDAQA+MBcERI8qC3E4oGGY84/oUWUhDgcA+MBcEBA9qizE4YCGYc4/okeVhTgcAOADc0FA9KiyEIcDGoY5/4geVRbicACAD8wFAdGjykIcDmgY5vwjelRZiMMBAD4wFwREjyoLcTigYZjzj+hRZSEOBwD4wFwQED2qLMThgIZhzj+iR5WFOBwA4ANzQUD0qLIQhwMahjn/iB5VFuJwAIAPzAUB0aPKQhwOaBjm/CN6VFmIwwEAPjAXBESPKgtxOKBhmPOP6FFlIQ4HAPjAXBAQPaosxOGAhmHOP6JHlYU4HADgA3NBQPSoshCHAxqGOf+IHlUW4nAAgA/MBQHRo8pCHA5oGOb8I3pUWYjDAQA+MBcERI8qC3E4oGGY84/oUWUhDgcA+MBcEBA9qizE4YCGYc4/okeVhTgcAOADc0FA9KiyEIcDGoY5/4geVRbicACAD8wFAdGjykIcDmgY5vwjelRZiMMBAD4wFwREjyoLcTigYZjzj+hRZSEOBwD4wFwQcMF84+NX0q223TI9Z/JZZl+jPPjwA9PRW2/e4jW3XWHa4IKpLMThgIZhzj92bh989t7SNWuHXcaZNh5VFuJwAIAPzAUBv0k//9OP01MmTUw33WKTdNjwoela666Z/mLC+FBsx21PO+/kcBEdPGSQ2dco9b3td9De6e777Bre++SzTzRtcMHUeYyyAY3DnP+O7h2P3FIqMLffebuQyw+/ece0bYRf/3ZWutf4n6eXTrnY7FsSnDr9sXDNkrqmLr3M0qaNR5WFOBwA4ANzQfDu6x+9nC6/4nJpt25d02223zo96PAD0p/vt3u63ArLpZddf4lpr1+wKs5vuneK2ddoP/r2XQrwitR5jMMBDcOc/47uxdecH/qQCm8VmfpUTNeQZQYtk7496zXTvmo//u698P6nnnuS2bekudveu1CAN6ufWZQNAHCCuSB49tu/+Spdfc3V0r79+qZPvfpoad93v/86/ezHD8xrFtQ5f/VF+s7sN8Px4n1FNQr/wdwZZnvR9hbgP/z93PCeah/vwyZ1HuNwQMMw57+jmxfgz781tWXb3Y/fHrZNOPZQ015q1Fq5/PIvPjX7Yr//uzmh7dy//sLskwtagL/39a/D8eb97kuzL1bXPbWNtxf96jefhTZf/+XnZl9sewvwT394PxxT1+V4X2dRP7NyNADAC+aC4Nmb77s+XBDPvuQMsy/22FOOyi+ewc223MS0kbc+cEPY/9anr6YnnnFc2rt3r/C1pqw89uKDpr1G0ldbY9WW4/bq1TM96ewTTDvZngJ88pSL0iHLDm453jrrr50+/foTpp13m88PLBrM+e/o1ivAv/vbOWmXLl3CVLFiWxWpBxy6f9qzZ8/wmqW6L5XuutfOoeCMj6tCWQVr3lausvrI9Is/+yTs33P/3UvXoVjdL1I83jbjtkp79+ndsl/H1ad8xUL8gWfuCfuefePJdM/xe4SRfH09dKUV05feebZ0PP3xENos1c28t6xX4M+vAH/zk1fTLcdu0XKM/gP6hWug/giJ23Z0m/8fAcAh5oLg2f0P2TdcEN+f0/bIs3zh7afDzY9SU1bmV4BvPmbTMPdxyp1Xp7c+eGMoioeuNDSMTudtL7n2gtB24802DG0eeu6+9IIrzkknTT7THFfOrwDXfFDt1y+vtz6bHkb1VYBrhH/ml22PaHlT56kYDGgo5vx3dOsV4Hkhe8YFp5bajttp23TgMgPDtUEjvLom9OvfL9xzUmynfK84bIW0T98+6ennnxL+YNcgwfhf7pd+/icfhTaPT3s4XIMuvOq88F477/GzluuSnPra4+a99b0+8vz94XiaLqPXnXXR6eb71vVp3Q3XSe967Lb0qlsuD4MHG2yyful4e+y7W9q9R/f0+ruuDdPxdN1SUb/+xuuF4xevb7ltFeD6I0TT/fS+GihQMX7C6ce2eZ3ryOr/q5ALAHCEuSB4dvRWm4XiNN4+P0etufp8C/CVRw4vTQE58czjwvb8o119zKuRKf3iqjdqVM+2CvBvfjc7zD/92W47lLZrPqpG5Y4/7RjzGs/qPJajAQ3EnP+Obl6A634Q5fHAw8aHT6/0B+/sP28arZYqStXuqpsvK73+/Msnhe3FT6cOPuIXIauPvvCAeb/YBZ2CkqtR+kGDl0m33m5My7a8ANdAQHFKyT4H7pV27do1XFv0taaGaPReI+DFY+oPBI2a5+1i2yrAdV3SMWd88UZp+3Y/G5sOGDggfL/xazqyOs/FYACAH8wFwbMqfjUyFW+fn+0pwO989NbSdn28q1/U+sWprzX1RO0W5GbOtgrwJ195JOzTyJaK/KL6f9x2x23Mazyrc1VKBjQSc/47unkBrtFb/eGrf6swjf+YPvqkX4V9+gStmEmtoqLt+hQsb7vs8sumG226gXmvei5IAa77UF59/8Xwx4BcaeVhpetXXoDreyq+TsWxts/68cPwtQpsFdpafaXYTp8kakpKa/PV2yrA9QeLpuDF16xfnXh4eG99khe/piOr/6eWVACAK8wFwbMaBdIvjtZGblqzPQW4fqnF+4pqHXG10y/meF9rtlWA5/PZW3OLbUab13i2+bzAosGc/45ucQqKRmkPPergMHp9/9S7Su1UrKpda5532dmhnW7S1uvj4rY121OAa8T6sKMPCSPz8fvWK8DjQYN8KkjxZnTNXe/Ro0cYONB89VvuvyFMQdH2+P1z2yrAi/er1FN/OMSv6cg2/38BgEPMBcGzRxw/IVwQ690c2ZZVFOCTr7swtHv4+fvNvtZsqwC/98k7wz4VBvFokmRFlLI6V8VgQEMx57+jG88B1+ivRsO1qlLx5kHdFKl2Wu40zqQsroiiQlZztuP3qmd7CnDNRVcb3RNSfJ9Ra5WvXwtSgO+46/bpkOWGhGkj2qcBDI38F6fdxLZVgA8fsVK63kbrmvOSO7/VozqaOme1WACAJ8wFwbO6SVHnRHfgL8hcwyoKcP3iVjvN+4z3tWZbBbhGozSCphUO4n1o1XksJQMaiTn/Hd24AJdaTUnbdGNivi2/MfqeJ+4wx4jVTZm6J6Xe6iixKnh1XA0ixPty9Qmf7jMpbtMcb61usjAF+MvvPh++vitrp08NVSBrOcL4fWPbKsB1E6luOs1vMu3s6vzVYgEAnjAXBO/qrn6dFz3NTr+AXvtwWrgJSk+fLP5C0kop+ajMyNVGhPnj+df5EmGyvQW4VOGvm5yOOflX6asfvBiOpddphYG8jf4wyN8nL9oPP+6wlm3F6TO77LlzOJ6e1pmPeH/y/fthZYRF9YS+jqLOYzka0EDM+e/o1ivANco8YOn+YV5zvk3r+2uahUaNb3/45pabHLUqUTxdRauP6I/odTdYO33g6btDvqfNfC5MV6u3driWJ9T9HVp/XG315N7ilI19f7F3OJ7mdut99X4a/da2hSnAdW3Ua3Xt0yCAps9o5RW9f/wJm647+TVKo/o6L/nX2pe306ePumZtMnrj9Jk3ngifHujTBH1ioK+Lx+wM6nyWowEAXjAXBO9qnqRulIrnSWqZMP1CzNutOmqV0v6ip55T+xh4QQpwjfpodEi/1IrH03zSvI0ezhO/X1HdfJm31aiY5mLGbeQTL9faIb8IFzHm/Hd06xXgMr9xUVPC8m0vzngmfGqm7UVVlMbHVUGrZwYU22lUXIV83FaZVmFfbFtcB1x/1GtaTL5P00X0x7umkSxMAS532n3HsE1LrGoueH5s/fva269sabfLz3cqfV9F43XS9f+sPyTidro2Ftt1Bpv/3wDAIeaCgE1q1EUjxRqR0ShS/DS24gh4bHEEXCNN2qaVB+L3aE0V4mGFgpcealklJbc4Al7PejeQ6hj5igf6f8pXMcCaykIcDmgY5vx3dDUirfzFq57oOqLt9TKnEeQ8lxrZbm3VEI0Cv/DrZ0K7V957oc150Hp//RGgtnpN/GTKcF2b/ljYn488678fzZvZ0iZ/Wm/8WhX92p7PadcIvn6WF119fqmdvket4CLzbcUR8NjiCHiurrfPvflUy/nReuBxm86gzl8cDgDwgbkgIHpUWYjDAQ3DnH/seOr+Ev0s4+lsKtA1tUVzy+PXYFmdvzgcAOADc0FA9KiyEIcDGoY5/9jx1NMx9bPU9BWt4qSbTa+4cXK6zfZbh+2Tp1xkXoNldZ6ibACAE8wFAdGjykIcDmgY5vxjx3TKnVeH1VX02Ho9lEdzwfX03fbc84JcdwA8Yy4IiB5VFuJwQMMw5x/Ro8pCHA4A8IG5ICB6VFmIwwENw5x/RI8qC3E4AMAH5oKA6FFlIQ4HNAxz/hE9qizE4QAAH5gLAqJHlYU4HNAwzPlH9KiyEIcDAHxgLgiIHlUW4nBAwzDnH9GjykIcDgDwgbkgIHpUWYjDAQ3DnH9EjyoLcTgAwAfmgoDoUWUhDgc0DHP+ET2qLMThAAAfmAsCokeVhTgc0DDM+Uf0qLIQhwMAfGAuCIgeVRbicEDDMOcf0aPKQhwOAPCBuSAgelRZiMMBDcOcf0SPKgtxOADAB+aCgOhRZSEOBzQMc/4RPaosxOEAAB+YCwKiR5WFOBzQMMz5R/SoshCHAwB8YC4IiB5VFuJwQMMw5x/Ro8pCHA4AcECXLl3+K2m6ACC6tmvXrsoCLAKy685/JnV+Boje7Nat238nAOCS9Mcff0R0r7IQhwMahjn/iB5VFuJwAIAPzAUB0aPKQhwOaBjm/CN6VFmIwwEAPjAXBESPKgtxOKBhmPOP6FFlIQ4HAPjAXBAQPaosxOGAhmHOP6JHlYU4HADgA3NBQPSoshCHAxqGOf+IHlUW4nAAgA/MBQHRo8pCHA5oGOb8I3pUWYjDAQA+MBcERI8qC3E4oGGY84/oUWUhDgcA+MBcEBA9qizE4YCGYc4/okeVhTgcAOADc0FA9KiyEIcDGoY5/4geVRbicACAD8wFAdGjykIcDmgY5vwjelRZiMMBAD4wFwREjyoLcTigYZjzj+hRZSEOBwD4wFwQED2qLMThgIZhzj+iR5WFOBwA4ANzQUD0qLIQhwMahjn/iB5VFuJwAIAPzAUB0aPKQhwOaBjm/CN6VFmIwwEAPjAXBESPKgtxOKBhmPOP6FFlIQ4HAPjAXBAQPaosxOGAhmHOP6JHlYU4HADgA3NBQPSoshCHAxqGOf+IHlUW4nAAgA/MBQHRo8pCHA5oGOb8I3pUWYjDAQA+MBcERI8qC3E4oGGY84/oUWUhDgcA+MBcEBA9qizE4YCGYc4/okeVhTgcAOADc0FA9KiyEIcDGoY5/4geVRbicACAD8wFAdGjykIcDmgY5vwjelRZiMMBAD4wFwREjyoLcTigYZjzj+hRZSEOBwD4wFwQED2qLMThgIZhzj+iR5WFOBwA4ANzQUD0qLIQhwMahjn/iB5VFuJwAIAPzAUB0aPKQhwOaBjm/FfpXnvtlQ4fPjx99dVXzb7WPO+889Jhw4aln332mdk3P/fff/90k002MdsR56eyEIcDAHxgLgiIHlUW4nBAwzDnvyp/+OGHtHfv3uHnefnll5v9rTlx4sTwmo8//ri0/ZVXXklHjRqV3nXXXeY1udttt106dOhQsx1xfqrPRdkAACeYCwKiR5WFOBzQMMz5r9IHH3wwPeecc9K5c+eafa3ZWgGuY2k7BTg2QvWtKBsA4ARzQUD0qLIQhwMahjn/9fzwww/Tjz76yGyvt18j3++8807J+RXgX3zxRfrss8+GUe6jjz66VIB/8MEH4RjXXXdd2H7FFVeUjv3ll1+2HKdYgGv7Y489lr7wwgvhe4rfE7Go+laUDQBwgrkgIHpUWYjDAQ3DnP96jh07Nl1rrbXM9tyVVlop3WWXXcK/VWzruEUfeeQR8xr5+eefp3vssUfarVs385q8ANe0k3hf0cmTJ7ccTwX4yJEj0+uvvz7t06dPS5vRo0en33zzjXl/xNzmvgIADjEXBESPKgtxOKBhmPNfz8MOOywdMGCA2S41uty9e/f0uOOOa/k6H52+5JJLws+zXgH+/fffpxtvvHE6aNCg9Kabbgrtp0+fnu64446lAvy5554LI9mTJk0K208//fTwda5GyPNjqgDv1atXmHuuwlzHzEfUL7vsMvM9IOaqj5SSAQBuMBcERI8qC3E4oGGY81/PCy+8MPxcNGKtr3fdddf0l7/8Zfi3pp5o39VXX21ed+utt7ZagN99991h3y233FLa/lPngGs0/d57723Z9vXXX6ddunRJDzzwQNMeMVd9q5ALAHCEuSAgelRZiMMBDcOc/3red9994ecybdq09NNPPw1FrqZ4qLjVCLX2Pfnkk+Z1bRXgRx55ZCiMdYzi9p9agNe7CVPfq5ZEjLcj5qpvFYMBAH4wFwREjyoLcTigYZjzX8+33nqrpfi98sorQ5GraR433HBDevvtt9ctmGVbBbgKYh0j3k4BjotD9a1iMADAD+aCgOhRZSEOBzQMc/7r+d1336VLLbVUesEFF4QiV6PXO+20Uzpu3LiwrX///uY1sq0C/IADDki7du2afvvtt6XtRx11FAU4LnLVt8rRAAAvmAsCokeVhTgc0DDM+W/NESNGpOPHj0979OiRPvPMM+HGSRXlevrkeuutZ9rLtgrwc889N+x76qmnWrZpycD84T1xAT516tSw/dJLLzXHyqUAx4VVfauUDABwg7kgLG5POeWU8EjoefPmmX0PPPBAOnDgwLDCQLwP8aeoLMThgIZhzn9rqrhVIatrglY60dxtFctadeTnP/95S7sZM2ak11xzTVA3auo9dJ3It+Xt3n333VDMr7322uF6oqktWmlFj5LXa+ICXO+n/cstt1y44VMroNxxxx3piy++WPoeKcBxYVSfi7IBAE4wF4TF7YQJE8JFqd76uccff3zYpzV6432IP0X1qygb0DjM+W/N/HqgKSL5tt133z1s07ztfJtGxrWtnppyUjym2mr6ivapuNZ0Fs0r19dxAS4ffvjhdOWVVy4dc8qUKS37KcBxYW3uTwDgEHNBWNy2VYDryXVnnXVW+vLLL5t9iD9F9bk4HNAwzPlf1M6ZMyes113vk7bW1NKH7XnCJmJ7VRbicACAD8wFoTW/+uqr8MtHD7LQ16+++mqYY1l8IEXRmTNnho9rH3roofCgi3h/0U8++SS0ff7558O6ufq+igX4Z599VnoMdL1RKqlfkPW+H71m1qxZZrveQ4+i1o1Wev8333yTx0c7VX0uDgc0DHP+ET2qLMThAAAfmAtCa1511VXhYvHaa6+l2267bctHsXoanW56KrYdPnx4y/5cPX1OhXSx3Ycfflg6VtFiAX7wwQeX9u2www7m+5Oax7nGGmuUtukPBr0mf4BHrlY1GDx4sHlfzRGNj4ud3+afPywazPlH9KiyEIcDAHxgLgitmRfgWpVgzJgx4SYkjYLr5qjll1++1FZztTWirAJbI+fnnHNOeK2WEcvb6KNfzeVeccUVwxPkNHKt4n7s2LGmAC+OgA8ZMuQnF+D5jVyjR49O33777bBN3+sTTzxhHtCBPlQfKSUDGok5/4geVRbicACAD8wFoTXzAnyrrbYqraF77LHHhu2a/hG/puhKK62UbrbZZi1f6yYmvU5TVIrt2poDLlXs/9QC/I033gjbWE0Fc9UfCrmAxmLOP6JHlYU4HADgA3NBaM28AC+unytfeeWVsMyXRrqL2zWarZUF8mXAtErARhtt1LJf6/hqKTE9bKP4ukVRgGubpsTokdQ777xzeuedd4absuLjoR/VR8rRgAZizj+iR5WFOBwA4ANzQWjNvADXgynifUVnz56dbr311qHtsssuG6aoSM0VLxbgKqK1P379oijApb5PjYAPGjQo7O/Xr1963HHHmT8I0IfqA8VgQEMx5x/Ro8pCHA4A8IG5ILRmewvwY445JrS7/vrrS9v14ItiAb7bbruFdXLj1+upd3r9whbg8RrhKqj/f3vn/WVHda7pVgAlQAiRkwEjgkGATTYiygaMSSZLZIxJAgQCMeScMQpEkUFgsGSDScZkI8CIZATC2DBrZtZc35m7rmf+gPnhemYP75bqUOf7ujrI2i25v+dZ61nQVXXqHO3ud5/v7LNrl85nC/D6fq3zO27cuHzc5MmT3THY/9Xvvh4MKIprf8SIKgs2HAAQA9chNNnTAlyrmgwZMqRtmy6w1Gh3vQA/55xz8vmee+651rbZs2fn20xr+5IU4LqAU3fKrJZKlGeeeWaXBXilCnHdIW/8+PFuH/Z/9TfSlgwoiWt/xIgqCzYcABAD1yE02dMCvJpCopHkJ598Mt9lbtSoUXnVkXoBrjW3Bw0alMaOHZtvCX3JJZfkY3bccUdXgM+YMaM1l1x3rtNoevWz5ppXx+k59diTTjopr8KieeZ67hEjRrQV4M8880yaMmVKfl4dp8L/xBNPzI/V67X/Juz/6ndfDwYUxbV/k/pGrN5vLE21OpOuQ1HfZvf1RvUz+vbNbu/K+iABxlVZsOEAgBi4DqHJnhbgukmOVjvRsVLLBl5zzTXpwAMPdG+kt956a557XR13yy235GP1c70A177qfNbLL7+8dZwuBK2WMZRbbbVVXipRSyfWC3BNORk5cmTbeTRCr7ts8sYY08V/B9A3uPZvUt922WVOl5Z77bVX/r0feuihbl9vbLoVfZP6UNHbgh37p/r7s+EAgBi4DmFp+f777/fopjZaD1x3zbTb/xH13N0tiyh1d0ytLd7Z3TMxlsqCDQcUw7V/kyULcPU7+uatJ31FV/a2ANcKTFtvvbXbjvFUFmw4ACAGrkNAjKiyYMMBxXDt32S9ANcHa93B9oknnmhcrUjb9S2d7s6rb7/sfqmbblU39pIfffSRO6aubjo2bdq09Ktf/artcdVrqBfg8+fPz69RN/Wqv0bd4Kt6nL6Z23zzzdvO1ZPBCux/Kgs2HAAQA9chIEZUWbDhgGK49m9SBfiGG26Ybrjhhnxxtx4rNYJs71o7d+7cXAhrv64n0X91t1sVxfXjtt1229Z55KRJk9zzSo2Mb7PNNvkYnVf3Dag/ToW8jlMBvtFGG6Vrr7227TXqsdVr1HUs9cdaO1uSFfu/i3//ABAQ1yEgRlRZsOGAYrj2b1IFuIpaFdS66Fqj4Oedd17+fdWv/1CxrOs6dKdeHaNtushaj7OrJlUj4LoYW+dpKsB1ky49XoW9ftaUleq+Bm+88UbbCHj1GnVdi57/3HPPzee+6qqr8jGMgGNn6m+kPRoAEAXXISBGVFmw4YBiuPZvUsWzliZ95JFHWtt03YhWUNLqI9U2FdEaobbXk5xyyil5e2fzvDUyrtfSVIDrPgX77bdf27Zq+dR58+a1tqkA12vUakrVtoULF6aBAwemI4880p2XOeBYqb8lkw0ACILrEBAjqizYcEAxXPs32XQRppYj1cpK1c9avlQj4NXypJUq0vV8mjduz9FdAa7Vl1Qs17cdddRRufivzxtvughTBfzBBx/stlOAY6X+/kw2ACAIrkNAjKiyYMMBxXDt32RPC/DNNtssrbDCCq0pItbOlk/trgCvRrsnTpyYp7PoZ41010feJQU4Lqn6+zLZAIAguA4BMaLKgg0HFMO1f5M9LcA1Aq5C2x7Xld0V4DvvvHPaYost8o2/NLq+6aab5iL8iy++aDuOAhyXVP392XAAQAxch4AYUWXBhgOK4dq/yZ4W4Keddlqe662lAu2xTXZVgL/66qt5n6ax2H3W3hbg48aNy6uecNMv1N+YyQYABMF1CIgRVRZsOKAYrv2b7GkB/vbbb+dR6tGjR6fLLrssPf7449m77rqr7Vbzn332WWt++BVXXJF/7+PHj29tqy7W1Bxv3aVX59SFmIcddlhWq5toOkr9tfS2AJ86dWp+3v333z/dc889adasWfkOwPY47P/q78BkAwCC4DoExIgqCzYcUAzX/k32tACXuvGORpc1F1zPIbU0YH3OtpYgrPZ1Zv1izYMOOiifS2uJS63rrefVcRMmTGgd19sCXFNYjj/++DRixIjW82pZQnsc9n8X//4BICCuQ0CMqLJgwwHFcO2/tNXa2vZGPb1x+vTp+W9C63rXt6t4ViGulVDsXPAlsbu7cGL/Vn9jNhwAEAPXISBGVFmw4YBiuPZf3jzjjDPy34SdU/7555+nMWPG5CUK7WMQe6v+xmw4ACAGrkNAjKiyYMMBxXDtv7ypwlt3t9Sc8qOPPjqvfnLyySenjTfeOE9LmTlzpnsMYm9VFmw4ACAGrkNAjKiyYMMBxXDtvzz68ssvp9NPPz3P8dYccM0v18i4VkixxyIuicqCDQcAxMB1CIgRVRZsOKAYrv0RI6os2HAAQAxch4AYUWXBhgOK4dofMaLKgg0HAMTAdQiIEVUWbDigGK79ESOqLNhwAEAMXIeAGFFlwYYDiuHaHzGiyoINBwDEwHUIiBFVFmw4oBiu/REjqizYcABADFyHgBhRZcGGA4rh2h8xosqCDQcAxMB1CIgRVRZsOKAYrv0RI6os2HAAQAxch4AYUWXBhgOK4dofMaLKgg0HAMTAdQiIEVUWbDigGK79ESOqLNhwAEAMXIeAGFFlwYYDiuHaHzGiyoINBwDEwHUIiBFVFmw4oBiu/REjqizYcABADFyHgBhRZcGGA4rh2h8xosqCDQcAxMB1CIgRVRZsOKAYrv0RI6os2HAAQAxch4AYUWXBhgOK4dofMaLKgg0HAMTAdQiIEVUWbDigGK79ESOqLNhwAEAMXIeAGFFlwYYDiuHaHzGiyoINBwDEwHUIiBFVFmw4oBiu/REjqizYcABADFyHgBhRZcGGA4rh2h8xosqCDQcAxMB1CIgRVRZsOKAYrv0RI6os2HAAQAxch4AYUWXBhgOK4dofMaLKgg0HAARg8ODBf+9Y1AEghnbo0KHKAvQBgwYN+o+OTn4HiNEcNmwY/Q5AUNwncsSIKgs2HFAM1/6IEVUWbDgAIAauQ0CMqLJgwwHFcO2PGFFlwYYDAGLgOgTEiCoLNhxQDNf+iBFVFmw4ACAGrkNAjKiyYMMBxXDtjxhRZcGGAwBi4DoExIgqCzYcUAzX/ogRVRZsOAAgBq5DQIyosmDDAcVw7Y8YUWXBhgMAYuA6BMSIKgs2HFAM1/6IEVUWbDgAIAauQ0CMqLJgwwHFcO2PGFFlwYYDAGLgOgTEiCoLNhxQDNf+iBFVFmw4ACAGrkNAjKiyYMMBxXDtjxhRZcGGAwBi4DoExIgqCzYcUAzX/ogRVRZsOAAgBq5DQIyosmDDAcVw7Y8YUWXBhgMAYuA6BMSIKgs2HFAM1/6IEVUWbDgAIAauQ0CMqLJgwwHFcO2PGFFlwYYDAGLgOgTEiCoLNhxQDNf+iBFVFmw4ACAGrkNAjKiyYMMBxXDtjxhRZcGGAwBi4DoExIgqCzYcUAzX/ogRVRZsOAAgBq5DQIyosmDDAcVw7Y8YUWXBhgMAYuA6BMSIKgs2HFAM1/6IEVUWbDgAIAauQ0CMqLJgwwHFcO2PGFFlwYYDAGLgOgTEiCoLNhxQDNf+iBFVFmw4ACAGrkNAjKiyYMMBxXDtjxhRZcGGAwBi4DoExIgqCzYcUAzX/ogRVRZsOAAgBq5D6G/++c9/dtt6sg9jqSzYcEAxXPv3N7vqW7rah7FUFmw4ACAGrkPoT3700Udp7Nix6Y477nD7Hn300TRmzJj09ttvu30YT2XBhgOK4dq/P7lgwYK0/fbbpxtvvNHtmzNnTtpkk03S66+/7vZhPJUFGw4AiIHrEPqLX3zxRdppp53Smmuumd544w23/6233krrrrtu2nzzzfMbpt2PsVQWbDigGK79+4t/+ctf0p577plWXXXV9NJLL7n98+fPT9/61reyH374oduPsVQWbDgAIAauQ+gvnnbaaWnQoEHpl7/8pdtX+cwzz6QVVlghHX744W4fxlJZsOGAYrj27y9OmTIlDRgwID300ENuX6UK82HDhqX99tvP7cNYKgs2HAAQA9ch9Af1Bqfi+5RTTnH7rGeddVbuBJ966im3D+OovwEbDiiGa//+4O9///u04oorpqOOOsrts06dOjX/zd1///1uH8ZRfwM2HAAQA9chNPn+++/nYnXcuHFpgw02yF+hHnDAAXkUuX7cu+++m6d+PPHEE+nll19OBx10UNpwww3Tbrvtln7zm9+482p+ts653nrr5cddd9116csvv2w75vnnn0/HHXdc+u53v5uP22yzzfLP7733njufPPjgg/MIU0++4v3kk0/SKqusknbffXe3D+OoLNhwQDFc+zf5xz/+MZ1zzjk5n+pz1Jdo5Nh+s/Xxxx/n/uOBBx5Ib775Zjr00EPz8dpmj5UqfPfaa6/cn+ywww7piiuucBdHqv868cQT83xuHadrRo455pg0b948dz557LHHpsGDB6d33nnH7bMuXLgwrb766rlPs/swjsqCDQcAxMB1CE3qTWyNNdZIBx54YJo0aVI69dRT06hRo3KhW59jrYuLdN7jjz8+DR8+PBfXP/3pT3ORO3r06PTpp5+2jj3//PPz17VHHHFEuummm9IhhxySH6viuv7c5513Xn7zO/roo/ObsY7XCLfmb9s3TZ1/6NCh+Q3Y/hua1HkHDhyY/vCHP7h9GEP93ZlsQDlc+zf54osv5n5DH/Y1AKB+R/2QRpq1rzpOAwQ6rwrkkSNH5sJbx6622mpp5ZVXbvswrmJbx2pw4Oabb879ifJv+wwdt9FGG6Ujjzwy9zsTJkzIz6sPAZ9//nnbseqH1MeNHz/e/Rua1OvT63j11VfdPoyhfv/t0QCAKLgOoUn7hiO1kojOoa9Tq21VAS71BlZtv+GGG/K2Bx98MP+sNx0V0XoTqp9ThbveDF977bUun/uMM87I57Mj8LNnz87bb7vtNveYJjUKr8fMmDHD7cMYLv6bhb7BtX+TuphaFzbWtz399NP596WCvNpWFeBSH+yr7TNnzszbpk+fnn/WN3QqolWo189ZTUV79tlnW9s663cuvPDCfJz6mfp29UPaftVVV7nHNPnwww/nx1x//fVuH8Zw8d8sAATEdQi9Ucv86Rw/+9nPWtuqAtzOg9RolUal9Kajn3Wxko6rF9ryySefzNs7W8Kr7p133pmPq85XqREtbbeFeVdqzrgeM3nyZLcPY6jf/zexgMK49u+NmqKmc2hEutpWFeAaKa8fq/5I/c7dd9+df77yyivzcXY63AsvvJC3X3LJJe756j7yyCP5OLu0qc6v7Y899ph7TJNaAlWPsYMQGEf9/r+JBQBEwnUITWoU6vLLL0/bbbddWnvttauOI9tZAX7BBRe4c9Q97LDD8nGaW1lXywZq+0UXXdQ6VoW+LqjUNBRNe6k/ty3Aq4ubXnnlFfecTWrOph7DG2FcF/89Qd/g2r9JFdvXXnttnoetZUP12MrOCnCtfmTPUfeEE07Ix+lc9X6n6tPqo+q6PkTftGmqm6bB1J/bFuDXXHNN3q7RefucTWq6nP13YCwX/z0BQEBch9CkCmAdr5FtXcD0+OOPp/vuuy9vW5ICXPMudZympmjU2lqtoavCf6uttspzzTUXXCNMem6NVuvxtgC/9NJL8/bejIBrOowewwh4XPX7/yYWUBjX/k1WOdeF1bNmzcrZl9q2JAX4SSedlI/TYILtc6Qu+K6O1ci5pqvomhdNt9PzXnzxxfnxtgDXN3barmPsczapNcH1GF0jY/dhDPX7/yYWABAJ1yE0qQub7BX7XU1B6a4A134dV59z2Znar+POPPPMtu3VvG1bgN977715++233+7O1aTmpesx06ZNc/swhvr9fxMLKIxr/ybXX3/9/M1XfZs+lOscS1KAa462juuuUK5fTF7fXs3btgV49aFAI+H2XE3qwvbePgb7l/r9fxMLAIiE6xCa1JJZeiOsVh3RUl8aIdI5lqQA19xvLdmlr5b15lnfpyW6qv/X3HGdr/5mqze7ddZZJ2+3BfgHH3yQL+7szc11NPVEF372ZPkw7J/qb6ktGVAS1/5NailBTRGp+gTNm95jjz1cn9DTAlwXYWqVJH2rpv+v76tfdKk75ep8Wiml2jZ37tz8erTdFuCaTjJkyJBe3VxH3+jpXFru0O7DGOr3Xw8GAMTBdQhNVktmae6k5oGryN1///3zyPiSFOBSV/+rCNcbokbXVdB/+9vfTiuttFLrGI12bbPNNvmcW2yxRf4QoOeuprDYAlzqDVrn0BrCdp9VqyystdZaadddd3X7MI76W2pLBpTEtX+TVZGqjKqP0J1rdat3fQBfkgJc6psuTS2R2267be531K/o5z/96U+t43bZZZd8Tu1T36MP6ZqCp222AJe6AFRFuKaW2H1W9Wta4nDs2LFuH8ZRf0ttyQCAMLgOoSvvuuuudPrpp6ezzz679RWulvmqz7desGBBnkupVQXs4ztTd4+77LLLcoGvtXZ18aW9jbNGl/Q1rQp9XWSpESMV13qezkatdRMg/dvqF1Q1Wa0J3JvVC7D/qb8Bkw0oh2v/rtQ1J5qCpjxXfYNWHZkzZ07rGI1eqz/o6bUf6jeUffUp6s/Ur+ialvoxOqeuUdExGlDQt3GfffZZfh59A2jPqZVVVKTrQk+7z3rLLbfkv7lqdRaMqf4GbDgAIAauQ+gv6qtjjWg999xzbl+l3kQ1Uv7jH//Y7cNYKgs2HFAM1/79xYkTJ+Zv6Dq7+2alpr7oBkEaybf7MJbKgg0HAMTAdQj9Rd2aepNNNskXcXV2h0uNoG+55ZZ5TqcuJrX7MZbKgg0HFMO1f39R39Z95zvfycup6ts9u18j6JpKoyk07733ntuPsVQWbDgAIAauQ+hPaj663ug6uyum5nBq7V9uA41SWbDhgGK49u9P6kJRfbDXTX/sPk2h0QXtms5i92E8lQUbDgCIgesQ+ptdXYjZ1T6MpbJgwwHFcO3f3+yqb+lqH8ZSWbDhAIAYuA4BMaLKgg0HFMO1P2JElQUbDgCIgesQECOqLNhwQDFc+yNGVFmw4QCAGLgOATGiyoINBxTDtT9iRJUFGw4AiIHrEHD5VXch1Q087HZZv4EI9l5lwYYDiuHaH5df1edUd0C20u/8YyoLNhwAEAPXISzPatmuM844o8s1dvuregPUba6PPfZYt0/LnekOpfYGRthzlQUbDiiGa//lWS1TqpsAzZ492+3r76r4Pvzww9Mhhxzi9ml51w033DDfoM3uw56pLNhwAEAMXIewPKs70uk163b1dl9JdXc9Pbfd3peq8NaNhao7kNZVcb7XXnul4cOHd3njIWxWf1c2HFAM1/7Ls+eff37++9Da3nZfSbVUoe48rDty2n19pQY8dGMh3Y3U7lNxrpuYDRkyJOSgyNJQf1c2HAAQA9chLM/qFvNaX3fy5MluX0knTJiQ34Ts9r5Sa5brd3X11Ve7fZVa2kxts/HGG+ebfdj92LVqXxsOKIZr/+XZp59+Oufq1FNPdftKetppp+W/S93cx+7rC/WN2oABA9IFF1zg9lUuXLgwbb755vkbON38zO7HrtXv14YDAGLgOgT0LssCXG++Gnnbaaed3D6rRsf1Oz333HPdPuxatZsNBxTDtT96l2UB/sUXX+TpJVtttVXjdSeV+oAycODAdMopp7h92LX6/dpwAEAMXIfQ5AknnJDnQc6bNy8ddthhab311kubbrppuvbaa92xGoE9++yz81QRHbfLLruk++67zx33ox/9KF122WXp/fffT8ccc0w+dsyYMenGG29sO+6SSy7JBWilvha157r33nvzXEW9GWy22Wb5uAULFuSvcHXec845p+14valNmjSp9Rp33XXX9MADD7T2699ZPZ8KYI0E1V+D/PDDD9vO+eSTT6Zx48bl822yySb5Dcne5l6vU4/V88+YMSONHTs2H6/53ZpTaf9dV1xxRe6kf/GLX7h9nal/xyqrrLJM3rT/mVUb23BAMVz7N6msn3TSSfn6j6OOOiqtv/76OVvqE+yxuiBwypQpuQ9Rpnbcccf87ZE9Tv2XRnU1Ynv88cenDTbYIPdll19+edtx6tvqeVcfaM/16KOP5n5M00V0C3rdZl79maat6DXYolTTSbSveo0675133tnar/6iej6NKqutdthhh7bXob6pfs5f//rXaZ999snn00i9/k3z589vO+axxx7Lj9X2WbNm5dep4/W4t956y/27brnllvzcnfXbnbnvvvumYcOGuf4Ou1ZtbLIBAEFwHUKTejPTm4Zu7b711lvnglbFo85RfwPRfGR19CNHjkwXXnhhuuGGG3JRquPUqdfPqXNp7rLeALfbbrt8zi222CIXu/U5hXoT0D650kor5TcN+/quueaa/Ial16gPCiussEI66KCD0pZbbpkOOOCAPELzwQcftF6j3tRWXXXVNHXq1NZr1PP+/Oc/z8eoGNYbtdSbmvZVP1fWv3LVm5pGyfXabrrppjxNRq9V/576HE69TrWF3iQ1Z1tv6hMnTsyPVVvYf9c222yTNtpoI7e9ydtvvz2fv7PCA5tVm7UlA0ri2r9J5UlTq6Q+WKsP2H777fPvq/5B/csvv0x77713zpyyp316rI7Th9j6OdVH6IOqPnyrf9A5t91223zsgw8+2DrukUceafU7q622Wu7X7OtT3tSPqE/Uh31lWv2OPiQceuih+Zy6SLp6jXvssUd+jeedd17ba6yml2kqWdW/6N+rfQcffHBbv1P/oK4LQ3VtiPovnU8fLNT3qr0++eST1nHTpk1r9Tuas60+58QTT0yDBw/O7Wn/XbvttlseeOhu9LtSfbTOr77U7sNm1WatVABAKFyH0KQKcB2vUeZqSSp18KNGjUrf+973Wsddd911+TiNDFXb1InrDW6ttdbKb0LVdhXgOvbII49sdfRvvvlm3tY031LnaCrA9bhqlEpvripqX3755Tz6o326mFL79Gann+sXNOr59Saq11R/jbK7KSj6ulava+edd27bfs899+TnqRcK1etUuz3//POt7XrT1nNoTmW1TaPY2qY3S/ucTWqES+fvbLUUbFZttjgTUB7X/k1WBer+++/fWvJOH2iVUxWo1XHTp0/Px9UHA+T3v//9/I1Qfbk8FeA6Vh/Mq75Mo9b6kK5v4uxrkBohbyrAdS4VxvpZAwn6sK6+Rt/GaV/Vz+jDvX5Wv1A9Xn2N+g0V8epH6ufubgqKHqsP5xoIqRfKKsr1uEsvvbS1rSrAVfzPnTu3tV19m7br318/79ChQ3OfZJ+zyaqv6my1FGxWbb84EwAQDNchNKkCXCPMdj1YTZ3QiEr1BqA3PB1nH1+tJPDqq6+2tulNVCPE9pwandLItD2H7K4Ar0abdN4f/vCH+f918ab26ata/aw3PI2623No5EzHvf76623buyvAq7nXt912W9t2/bs0wvSTn/ykta16nfU3YalRczutRW2lYzVNxz5nV6q414iY3Y7Nqp2/iQUUxrV/k8q6ilO7EogGAlQwV8WppkCo0LYfnq+88sr8u60+fEsV4BohtmtY67k0dc6+BtldAf7CCy/kn/XNmqbc6f+fffbZvK8ajBg/fnzOpj2H8q3jdHx9e3cFuP5N2q9/o92ntqj6P1kV4PZbyJkzZ+Z/V30aiqb76NjeXuxefZNpt2OzaudWKgAgFK5DaFIFuN6E7HaNtOo8mm+tnzVHUwW55hfW1deiOq4qgqUK8N13392dsyu7K8CraSEqwPUmrf+3Bbiet6vXWH+zlt0V4Ndff31+3Oqrr+7OqSLhBz/4gXudGh2z57E+9dRT+Vg7J7479UaoOZ52Ozardm6lAkrj2r9JZV2Zt9s13UPnefvtt/PPyrumndn8qeDVcfVv5FSA9zYf3RXg1Qd/FeAalND/2wJcz9vVa7RLjHZXgKt41v7O+h31V/Vv5KoCvCdrmWs+u46tj6D3RM2B17/Rbsdm1c5VKAAgFq5DaLKpAFeRq86+GgHXyJKunr/55ps7tX6RzrIqwPUhQa/TvrbOXqPsrgDX6LXOr2kz9lyy/sbamwK8GuHq7Qi43pB7267RVTvXgwFFce3fZFMBrvnLOk81z1mrdWjOss1epUZ1q8cuqwJc883XXntt99oq7YWT3RXgugGO9h933HHuXFJz2Ktje1OAV9+89XYEXNNhetuu0VU7fxMLAIiE6xCa7KwA19e9ukBRFwpW2/bcc888kmy/Mu7MZVWAa3qGRp3sV9BN6sIlzetsOl4XjOr8PRkx6k0Brg8Cel59ALD7mtS/X4/Ra7b7sFn9TtqSASVx7d9kUwGuec+60LH6+cADD8zzlusXHja5rApwrZailUKaCmqrLibX46uLx63VSLVd4akze1OAq5/T1Dm1qd3XpB6j0f36dDvsXv1O6sEAgDi4DqFJFeAaNa4uEtSId/UGoQugquOqi6FU/No3Gl3hX/95WRXg1cVQWtbM3rTGvkZZLQVYL7D1AaOau6620OiPVkqoX+Ak1V71wr03BbjUv0PfKNjtTVajYtweuneqzVqpgNK49m9SWdc3OlVfog/9uj5E56gvgaolRLVNd2a0RbjN9LIqwLVSkn7WxY3VlL1K+xpltRSgRqKrue26ULN+zYxG/ldeeWU3fUV9Tv2C7t4U4FL/DrW7vT6nSf0bdX6NvNt92KzarJUKAAiF6xCarFZB0QiORp50YZRGSTq76YtWItGxWpJLK4tobqBGnG2x3dMCXG8EOl9nVmv39qYAl/ratnqNGk2rXmNnSwHqzbFaOUHHaI6l/u315cD0ZqsPBzpGU1z0Zq3/aupKfU55bwvwqtjo6RunlmLTa+zJNxD4jYv/nqBvcO3fZLUKika31e/ob1uZ6myVpDPPPDNfc6E+SoWpHD16tCu2e1qA69s9PXdnVtMzelOAS00r6ew16nH2+TU4oP5T59C3iup3tOTgK6+80jrmd7/7Xd6uY9Sfqt/RNSAaja73Gb0twJsuFm9SHyrUl3b2QQKbXfz3BAABcR1CkyrA1dHrgkN95anRmc5u4FD50ksv5Ztl6Fi9WWmFkPoKKFIXEdXnKTapG9bY+Y2Veh4do+UG9XO1lJdueKOLGPX/KpS1r77UltRXuBdffHHrNWpk3L7GSo0maW3t6li9JjslRW+Y+jdVawfrw4FG5urHVa+z6Wtlqz5QqOjQWr12hQfrnDlz8vQTrb9u92HXKgs2HFAM1/5NqgDX378uRFam9N833njDHVep/OqbqiqD6qdUpNaPUVF5//33u8da9S2S7W8qqyVE9Vr0czVCr7xXo9Fa0Uj73n333bbz2td46623utdYqb5DfZkGOqQKafutnY65++67W+fTNSMaba+PgFevs7ObfXWmnqNplSqr+lF9KNKFsXYfdq2yYMMBADFwHUKTnc0Bx76xusjT3qmvrgoAjexJ+8EAu1fta8MBxXDt32TTHHAsbzWdrauLMdXX6Bogfdtnpxxi96p9bTgAIAauQ2iSAnzZqrvq6Wvl+tfZlZqDrgu8RowYkX7729+6/di9yoINBxTDtX+TFODLVk3V0+i2RuHtPqlpfpoe1NMpddiusmDDAQAxcB1CkxTgy1bN6dZtrPWGaPfp62UVKbrjp92HPVNZsOGAYrj2b5ICfNmq6Sea097Z6iaazqJlFZuKc+xeZcGGAwBi4DqEJtXZvvPOO2479p36urd+y+m69fme2HuVBRsOKIZr/ya1fve8efPcduw7VYQ3zQOn3/nHVBZsOAAgBq5DQIyosmDDAcVw7Y8YUWXBhgMAYuA6BMSIKgs2HFAM1/6IEVUWbDgAIAauQ0CMqLJgwwHFcO2PGFFlwYYDAGLgOgTEiCoLNhxQDNf+iBFVFmw4ACAGrkNAjKiyYMMBxXDtjxhRZcGGAwBi4DoExIgqCzYcUAzX/ogRVRZsOAAgBq5DQIyosmDDAcVw7Y8YUWXBhgMAYuA6BMSIKgs2HFAM1/6IEVUWbDgAIAauQ0CMqLJgwwHFcO2PGFFlwYYDAGLgOgTEiCoLNhxQDNf+iBFVFmw4ACAGrkNAjKiyYMMBxXDtjxhRZcGGAwBi4DoExIgqCzYcUAzX/ogRVRZsOAAgBq5DQIyosmDDAcVw7Y8YUWXBhgMAYuA6BMSIKgs2HFAM1/6IEVUWbDgAIAauQ0CMqLJgwwHFcO2PGFFlwYYDAGLgOgTEiCoLNhxQDNf+iBFVFmw4ACAGrkNAjKiyYMMBxXDtjxhRZcGGAwBi4DoExIgqCzYcUAzX/ogRVRZsOAAgBq5DQIyosmDDAcVw7Y8YUWXBhgMAAjB48OD/0bGoA0AM7bBhw/69A/qEQYMG/bWjk98BYjSHDx/+tw4AAAAACMPdXzvAbgQAAAAAgKXP5l/7f792F7sDAAAAAACWPvd2LJoGcbvdAQAAAAAAS5fRX/t/OhYV4P/SwTQUAAAAAICiXNbRfjEg01AAAAAAAAqx4tf+W0d7Ac40FAAAAACAQpzQ4ZfDYxoKAAAAAEAhFnS0F99/X/xfpqEAAAAAACxl9ulYVGz/v8X/ZRoKAAAAAEBBXujwhTfTUAAAAAAAClDdeMcW3nWZhgIAAAAAsJSobrzTlUxDAQAAAABYSlz0tVfV/H3HoqJb/622ndY6GgAAAAAAlioquFWA678AAAAAAFAYCnAAAAAAgD6EAhwAAAAAoA+hAAcAAAAA6EMowAEAAAAA+hAKcAAAAACAPoQCHAAAAACgD6EABwAAAADoQyjAAQAAAAD6EApwAAAAAIA+hAIcAAAAAKAPoQAHAAAAAOhDKMABAAAAAPoQCnAAADr4zoYAAAqrSURBVAAAgD6EAhwAAAAAoA+hAAcAAAAA6EMowAEAAAAA+hAKcAAAAACAPoQCHAAAAACgD6EABwAAAIjCoEED/9qxqPhDDO3w4cP+1gEAAADQB6Sv/tfniOFVFmw4AAAAAErgChHEiCoLNhwAAAAAJXCFCGJElQUbDgAAAIASuEIEMaLKgg0HAAAAQAlcIYIYUWXBhgMAAACgBK4QQYyosmDDAQAAAFACV4ggRlRZsOEAAAAAKIErRBAjqizYcAAAAACUwBUiiBFVFmw4AAAAAErgChHEiCoLNhwAAAAAJXCFCGJElQUbDgAAAIASuEIEMaLKgg0HAAAAQAlcIYIYUWXBhgMAAACgBK4QQYyosmDDAQAAAFACV4ggRlRZsOEAAAAAKIErRBAjqizYcAAAAACUwBUiiBFVFmw4AAAAAErgChHEiCoLNhwAAAAAJXCFCC7yg6/eSY8/+0h6/DcPp3mfvu72Y/9SWbDhAAAAACiBK0Si+9t3nk077rp9VZC1/MGP9nHHYv9x8e8ZAAAAoDiuEInsR//5D2n1NUantdddK02779b06vsvphfmPZNmPXFXmvng7e547D8qCzYcAAAAACVwhUhkb7nrhlyIzXjg525fk8/9/tfp5juvT9fdflV67OkH00NzZqXn33q6tf+J5x5NP7/3Fvc4FfSPfn18fdsf/+v8dO/sO9J/uvrCdM7Us9KNM69L8//ytnvs/U/ek6fG6P9fmf9iPl6+/dkb7lg5+5mH0pTLJqeLrr4gv167HynAAQAAoO9whUhkb7rj+lyITb3yfLfP+ul//zBPS9Hxa6y1Rlp3/XVa01Wun3Z167iDDj8grbzKSu7xGmXfe98927Zt8K318+NXGz0qrbfBumnAgAFppZVXSnNf/kXbcdttv03aZ/+906XXXZQGDR6UVl9z9fy4VVZdJb324UvfvMZ/+Sjtvs+4fIwe862NN8zHHXvKBPd6orv4dwcAAABQHFeIRPbDr97NxfTAgQPT8adOTO8s7HxEWR5x7GFp6NAh6eFf3d/aptFvtemSFuB3PjK9bcT72Td/lYYNG5rG7fX9tuNUTOucI0eNzM+pbU++8Fh+7pPPPKF13HE/nZCGDBmSnn71l61tGlnXcXc8PK3tnNFVm7RHAwAAAKAMrhCJ7hsfv5x223PXXJBp5PiHB4x3I9BaIWXwCoPTSWd8U+zKZ16b8w8V4J25y+4759Hw+jYV4Cqs5/yu/XXpw8NeP9wj//8n/+39fMwxJx7Zdsyf/+3TtMrIldN+B+3rniuy+r2ZbAAAAAAUwRUiuEgV04dP/ElaccUV84j4WVNOb+3TqLfa7q5HZ7jHaPuSFuBf/M8F6e7HZuZRao2wH3bMIfm4ddZbu+04FeBjttjUnVNzwP/wxVv5/6sRcRXkOl/dUauNSltvt5V7fGTVVu3RAAAAACiDK0Sw3bcWvJa22vY7uUDTuuDapgso9XN9+on8RwpwrcCy2ZZj8qi7ppyo+O5tAV63mg7z7c02STvttqPTjoxHV23VlgwAAACAQrhCBL1a3URtdfE1U/PPD829L/98+6z21U3umX2HL8CP+HEaPmJ423F/+ffP0ujVV2srwM+9aFJ+7H2/uLvtWI1gL0kBrvnjOt8l1y56zdi1aqt6MAAAAABK4QoR9E69akou0KopJ+/9eV6elqLR7eoYrT6iOdg6rl6A62JObauWCPzybwtb2+oF+NEnHJG36dzVNt0UaElHwDWdRWuaa1T9s79+7PZju2r7ejAAAAAASuEKkcieOunktMf4cemUs07Mc6UnXXhG2vMHu6dBgwamHXb5Xi5qq2N/dMh+eZlALek3+eKz87zqalnCegH+wFP35m3f3WHbvGzguL13S2uts2ZecrBegOsxOk4XgN4w/Zo04aSj80WUWt5wSQpwqXXN9Ro1DUUfIrRe+eU3XpJOOO249NSLs93xkVXbt0cDAAAAoAyuEImsppSo0NaqI2uuvWb+r25Lr5vcLPzX9lHkj//L/PSTow/JBfKmm387XXnzpfmumWrTegEu9fhNxmycC+n9D943zytXkX/65FNbx2haigr+jTfdKB+30/d3yMX71bddkYv9+vkmnnxMOnzCoe71d6bmgutDhf4tGk1ff8P18ocKbsjTrn5vNhwAAAAAJXCFCC65nV2Eif8c6vdmwwEAAABQAleI4JJLAf7Pq35vNhwAAAAAJXCFCC65FOD/vOr3ZsMBAAAAUAJXiOCS++7nb+aLN595fa7bh8u3yoINBwAAAEAJXCGCGFFlwYYDAAAAoASuEEGMqLJgwwEAAABQAleIIEZUWbDhAAAAACiBK0QQI6os2HAAAAAAlMAVIogRVRZsOAAAAABK4AoRxIgqCzYcAAAAACVwhQhiRJUFGw4AAACAErhCBDGiyoINBwAAAEAJXCGCGFFlwYYDAAAAoASuEEGMqLJgwwEAAABQAleIIEZUWbDhAAAAACiBK0QQI6os2HAAAAAAlMAVIogRVRZsOAAAAACWOgMGDPiPjkWFB2JoBw8e/PcOAAAAgD4gffXVV4jhVRZsOAAAAABK4AoRxIgqCzYcAAAAACVwhQhiRJUFGw4AAACAErhCBDGiyoINBwAAAEAJXCGCGFFlwYYDAAAAoASuEEGMqLJgwwEAAABQAleIIEZUWbDhAAAAACiBK0QQI6os2HAAAAAAlMAVIogRVRZsOAAAAABK4AoRxIgqCzYcAAAAACVwhQhiRJUFGw4AAACAErhCBDGiyoINBwAAAEAJXCGCGFFlwYYDAAAAoASuEEGMqLJgwwEAAABQAleIIEZUWbDhAAAAACiBK0QQI6os2HAAAAAAlMAVIogRVRZsOAAAAABK4AoRxIgqCzYcAAAAACVwhQhiRJUFGw4AAACAErhCBDGiyoINBwAAAEAJXCGCGFFlwYYDAAAAoASuEEGMqLJgwwEAAABQAleIIEZUWbDhAAAAACiBK0QQI6os2HAAAAAAlMAVIogRVRZsOAAAAABK4AoRxIgqCzYcAAAAAEudgQMH/kfHosIDMbQrrrji3zsAAAAA+gA3EogYUWXBhgMAAACgBK4QQYyosmDDAQAAAFACV4ggRlRZsOEAAAAAKIErRBAjqizYcAAAAACUwBUiiBFVFmw4AAAAAErgChHEiCoLNhwAAAAAJXCFCGJElQUbDgAAAIASuEIEMaLKgg0HAAAAQAlcIYIYUWXBhgMAAACgBK4QQYyosmDDAQAAAFACV4ggRlRZsOEAAAAAKIErRBAjqizYcAAAAACUwBUiiBFVFmw4AAAAAErgChHEiCoLNhwAAAAAJXCFCGJElQUbDgAAAIASuEIEMaLKgg0HAAAAQAlcIYIYUWXBhgMAAACgBK4QQYyosmDDAQAAAFACV4ggRlRZsOEAAAAAKIErRBAjqizYcAAAAACUwBUiiBFVFmw4AAAAAErgChHEiCoLNhwAAAAAJXCFCGJElQUbDgAAAIASuEIEMaLKgg0HAAAAQAlcIYIYUWXBhgMAAABgqTNo0KB/7VhUeCCGdsSIEf+7AwAAAAAAAAAAAAAAAAAAAAAAAAAAAAAAAAAAAAAAAAAAAAAAAAAAAAAAAAAAAAAAAAAAAAAAAAAAAAAAAAAA+jv/H5pMR58RfPWgAAAAAElFTkSuQmCC)"
      ],
      "metadata": {
        "id": "uS1OBrmi1zg5"
      }
    },
    {
      "cell_type": "code",
      "source": [
        "class Point():\n",
        "    def __init__ (self, x=0, y=0):\n",
        "        self.x = x\n",
        "        self.y = y\n",
        "\n",
        "    def __repr__(self):\n",
        "        return f'Point(x={self.x}, y={self.y})'\n",
        "\n",
        "    def move(self, dx, dy):\n",
        "        self.x += dx\n",
        "        self.y += dy\n",
        "        return self"
      ],
      "metadata": {
        "id": "52ow-hrhqeim"
      },
      "execution_count": 232,
      "outputs": []
    },
    {
      "cell_type": "code",
      "source": [
        "pt1 = Point()\n",
        "print(pt1)"
      ],
      "metadata": {
        "colab": {
          "base_uri": "https://localhost:8080/"
        },
        "id": "8NlwFBs_tz7V",
        "outputId": "ec24b9b5-ea77-4441-c607-633ef0ed5be6"
      },
      "execution_count": 233,
      "outputs": [
        {
          "output_type": "stream",
          "name": "stdout",
          "text": [
            "Point(x=0, y=0)\n"
          ]
        }
      ]
    },
    {
      "cell_type": "code",
      "source": [
        "pt2 = Point(x=1, y=1)\n",
        "pt2"
      ],
      "metadata": {
        "colab": {
          "base_uri": "https://localhost:8080/"
        },
        "id": "PY00PAcYujX9",
        "outputId": "682e08b0-bb4f-4429-e484-4fe7472df483"
      },
      "execution_count": 234,
      "outputs": [
        {
          "output_type": "execute_result",
          "data": {
            "text/plain": [
              "Point(x=1, y=1)"
            ]
          },
          "metadata": {},
          "execution_count": 234
        }
      ]
    },
    {
      "cell_type": "code",
      "source": [
        "pt2.move(2, 1).move(0,1)"
      ],
      "metadata": {
        "colab": {
          "base_uri": "https://localhost:8080/"
        },
        "id": "e5gSXl2cpZXq",
        "outputId": "bd17500b-f966-4f5b-fd42-d0e555f53a89"
      },
      "execution_count": 235,
      "outputs": [
        {
          "output_type": "execute_result",
          "data": {
            "text/plain": [
              "Point(x=3, y=3)"
            ]
          },
          "metadata": {},
          "execution_count": 235
        }
      ]
    },
    {
      "cell_type": "code",
      "source": [
        "# 도형은 점을 가지고 있다. (HAS-A 관계)\n",
        "class Shape:\n",
        "    def __init__(self, x=0, y=0):\n",
        "        self.point = Point(x,y)     # point 변수 안에 class 'Point(x,y)'를 할당.\n",
        "\n",
        "    def __repr__(self):\n",
        "        return f'Shape(point={self.point})'\n",
        "\n",
        "    # def move(self, dx, dy):     # by lsj\n",
        "    #     self.point.x += dx\n",
        "    #     self.point.y += dy\n",
        "    #     return self\n",
        "\n",
        "    def move(self, dx, dy):         # Point class의 move 메서드 재사용.\n",
        "        self.point.move(dx, dy)\n",
        "        return self\n",
        "\n",
        "    def area(self): # body를 만들 수 없으면 일단 pass로 넘어가기\n",
        "        # pass\n",
        "        raise NotImplementedError('넓이 계산 메서드를 구현해야 합니다.')     # 아직 미구현 상태를 표출\n",
        "\n",
        "    def perimeter(self):\n",
        "        raise NotImplementedError('둘레 계산 메서드를 구현해야 합니다.')"
      ],
      "metadata": {
        "id": "un6uUD-1z4GD"
      },
      "execution_count": 236,
      "outputs": []
    },
    {
      "cell_type": "code",
      "source": [
        "# test Shape\n",
        "s1 = Shape(1, 1)\n",
        "s1.move(2,2)\n",
        "# s1.area()"
      ],
      "metadata": {
        "colab": {
          "base_uri": "https://localhost:8080/"
        },
        "id": "kIwzG_2l8Tim",
        "outputId": "11a2fc9a-182d-4159-f5c5-9e817cd23920"
      },
      "execution_count": 241,
      "outputs": [
        {
          "output_type": "execute_result",
          "data": {
            "text/plain": [
              "Shape(point=Point(x=3, y=3))"
            ]
          },
          "metadata": {},
          "execution_count": 241
        }
      ]
    },
    {
      "cell_type": "code",
      "source": [
        "sh1 = Shape()\n",
        "sh1\n",
        "# sh1.perimeter()"
      ],
      "metadata": {
        "colab": {
          "base_uri": "https://localhost:8080/"
        },
        "id": "qSfFVbSOJ2KS",
        "outputId": "a1fa56cd-ffb2-4592-bd2a-f16abd7cc60d"
      },
      "execution_count": 245,
      "outputs": [
        {
          "output_type": "execute_result",
          "data": {
            "text/plain": [
              "Shape(point=Point(x=0, y=0))"
            ]
          },
          "metadata": {},
          "execution_count": 245
        }
      ]
    },
    {
      "cell_type": "code",
      "source": [
        "sh1.move(1, -1)"
      ],
      "metadata": {
        "colab": {
          "base_uri": "https://localhost:8080/"
        },
        "id": "hvewKUduKMZ-",
        "outputId": "44d9fda5-c2cc-4664-9e6d-83eb76041945"
      },
      "execution_count": 246,
      "outputs": [
        {
          "output_type": "execute_result",
          "data": {
            "text/plain": [
              "Shape(point=Point(x=1, y=-1))"
            ]
          },
          "metadata": {},
          "execution_count": 246
        }
      ]
    },
    {
      "cell_type": "code",
      "source": [
        "# 원은 도형이다. (IS-A 관계)\n",
        "class Circle(Shape):\n",
        "    def __init__(self, center_x=0, center_y=0, radius=0):\n",
        "        super().__init__(x=center_x, y=center_y)        # 오쌤\n",
        "        # self.point = Point(center_x, center_y)\n",
        "        self.radius = radius\n",
        "\n",
        "    def __repr__(self):\n",
        "        return f'Circle(center={self.point}, radius={self.radius})'     # Shape을 상속 받아서 self.point를 별도로 선언하지 않아도 사용 가능함.\n",
        "\n",
        "    # 상위 클래스 Shape에서 선언된 area, perimeter 메서드 재정의(override)\n",
        "    def area(self):\n",
        "        return 3.14 * self.radius ** 2\n",
        "\n",
        "    def perimeter(self):\n",
        "        return self.radius * 3.14 * 2"
      ],
      "metadata": {
        "id": "StixZtso31b4"
      },
      "execution_count": 284,
      "outputs": []
    },
    {
      "cell_type": "code",
      "source": [
        "# test Circle\n",
        "c1 = Circle(1, 1, 4)\n",
        "print(c1)\n",
        "print(c1.area())\n",
        "print(c1.perimeter())"
      ],
      "metadata": {
        "colab": {
          "base_uri": "https://localhost:8080/"
        },
        "id": "mmE8ednG8bp-",
        "outputId": "83c9189c-193e-4d3e-f223-a623a96e3d4e"
      },
      "execution_count": 283,
      "outputs": [
        {
          "output_type": "stream",
          "name": "stdout",
          "text": [
            "Circle(center=Point(x=1, y=1), radius=4)\n",
            "50.24\n",
            "25.12\n"
          ]
        }
      ]
    },
    {
      "cell_type": "code",
      "source": [
        "c1 = Circle(0, 0, 1)\n",
        "c1"
      ],
      "metadata": {
        "colab": {
          "base_uri": "https://localhost:8080/"
        },
        "id": "d-fYYQW7VOPc",
        "outputId": "5c34acd0-5ec0-4032-bab9-da8f83be255d"
      },
      "execution_count": 289,
      "outputs": [
        {
          "output_type": "execute_result",
          "data": {
            "text/plain": [
              "Circle(center=Point(x=0, y=0), radius=1)"
            ]
          },
          "metadata": {},
          "execution_count": 289
        }
      ]
    },
    {
      "cell_type": "code",
      "source": [
        "c1.move(1, 2)"
      ],
      "metadata": {
        "colab": {
          "base_uri": "https://localhost:8080/"
        },
        "id": "y9CFot-QWTrK",
        "outputId": "bad1cc37-9162-4652-b394-32c6abe215c0"
      },
      "execution_count": 290,
      "outputs": [
        {
          "output_type": "execute_result",
          "data": {
            "text/plain": [
              "Circle(center=Point(x=1, y=2), radius=1)"
            ]
          },
          "metadata": {},
          "execution_count": 290
        }
      ]
    },
    {
      "cell_type": "code",
      "source": [
        "c1.area()"
      ],
      "metadata": {
        "colab": {
          "base_uri": "https://localhost:8080/"
        },
        "id": "vu__v77NXAGq",
        "outputId": "e635ae4f-d299-4c39-a52d-5a740b8c828b"
      },
      "execution_count": 294,
      "outputs": [
        {
          "output_type": "execute_result",
          "data": {
            "text/plain": [
              "3.14"
            ]
          },
          "metadata": {},
          "execution_count": 294
        }
      ]
    },
    {
      "cell_type": "code",
      "source": [
        "c1.perimeter()"
      ],
      "metadata": {
        "colab": {
          "base_uri": "https://localhost:8080/"
        },
        "id": "9cnEvXIpXBla",
        "outputId": "42b14613-8ee9-40ca-be9a-162075e1db90"
      },
      "execution_count": 295,
      "outputs": [
        {
          "output_type": "execute_result",
          "data": {
            "text/plain": [
              "6.28"
            ]
          },
          "metadata": {},
          "execution_count": 295
        }
      ]
    },
    {
      "cell_type": "code",
      "source": [
        "# 직사각형은 도형이다. (IS-A 관계)\n",
        "class Rectangle(Shape):\n",
        "    def __init__(self, corner_x, corner_y, width, height):\n",
        "        super().__init__(corner_x, corner_y)      # 상속 받겠다 __init__ 을\n",
        "        # self.point = Point(x, y)\n",
        "        self.width = width\n",
        "        self.height= height\n",
        "\n",
        "    def __repr__(self):\n",
        "        return f'Rectangle(corner={self.point}, width={self.width}, height={self.height})'\n",
        "\n",
        "    # Shape 클래스의 area, perimieter 메서드 override\n",
        "    def area(self):\n",
        "        return self.width * self.height\n",
        "\n",
        "    def perimeter(self):\n",
        "        return 2 * (self.width + self.height)"
      ],
      "metadata": {
        "id": "bPgE0rmg6cr3"
      },
      "execution_count": 305,
      "outputs": []
    },
    {
      "cell_type": "code",
      "source": [
        "# Rectangle Test\n",
        "r1 = Rectangle(1,2, 2, 3)\n",
        "print(r1)\n",
        "print(r1.area())\n",
        "print(r1.perimeter())"
      ],
      "metadata": {
        "colab": {
          "base_uri": "https://localhost:8080/"
        },
        "id": "B2oc5C6DDeqb",
        "outputId": "c067b55d-51e6-46c6-938d-99080f9af931"
      },
      "execution_count": 306,
      "outputs": [
        {
          "output_type": "stream",
          "name": "stdout",
          "text": [
            "Rectangle(corner=Point(x=1, y=2), width=2, height=3)\n",
            "6\n",
            "10\n"
          ]
        }
      ]
    },
    {
      "cell_type": "code",
      "source": [
        "rect1 = Rectangle(0, 0, 4, 3)\n",
        "rect1"
      ],
      "metadata": {
        "colab": {
          "base_uri": "https://localhost:8080/"
        },
        "id": "_vQ8_eNfYQ0y",
        "outputId": "f69d1912-3f16-4800-9edb-cd5e3e304306"
      },
      "execution_count": 308,
      "outputs": [
        {
          "output_type": "execute_result",
          "data": {
            "text/plain": [
              "Rectangle(corner=Point(x=0, y=0), width=4, height=3)"
            ]
          },
          "metadata": {},
          "execution_count": 308
        }
      ]
    },
    {
      "cell_type": "code",
      "source": [
        "rect1.move(-1, -1)"
      ],
      "metadata": {
        "colab": {
          "base_uri": "https://localhost:8080/"
        },
        "id": "7iQewgtFYpVh",
        "outputId": "ef337ab8-f513-4a15-e0e0-20e9fb1968f8"
      },
      "execution_count": 310,
      "outputs": [
        {
          "output_type": "execute_result",
          "data": {
            "text/plain": [
              "Rectangle(corner=Point(x=-2, y=-2), width=4, height=3)"
            ]
          },
          "metadata": {},
          "execution_count": 310
        }
      ]
    },
    {
      "cell_type": "code",
      "source": [
        "rect1.area()"
      ],
      "metadata": {
        "colab": {
          "base_uri": "https://localhost:8080/"
        },
        "id": "TNGqI6L3Y5H_",
        "outputId": "4c007e03-28f9-490b-9545-30ecf42af1cc"
      },
      "execution_count": 311,
      "outputs": [
        {
          "output_type": "execute_result",
          "data": {
            "text/plain": [
              "12"
            ]
          },
          "metadata": {},
          "execution_count": 311
        }
      ]
    },
    {
      "cell_type": "code",
      "source": [
        "rect1.perimeter()"
      ],
      "metadata": {
        "colab": {
          "base_uri": "https://localhost:8080/"
        },
        "id": "dJGN-apSY7yx",
        "outputId": "9aa5f911-6208-4938-e8ea-e3af6c83a8ba"
      },
      "execution_count": 312,
      "outputs": [
        {
          "output_type": "execute_result",
          "data": {
            "text/plain": [
              "14"
            ]
          },
          "metadata": {},
          "execution_count": 312
        }
      ]
    },
    {
      "cell_type": "code",
      "source": [
        "# 정사각형은 직사각형이다. (IS - A 관계)\n",
        "class square(Rectangle):\n",
        "    def __init__(self, x, y, side):\n",
        "        self.point = Point(x,y)\n",
        "        self.side = side\n",
        "\n",
        "    def __repr__(self):\n",
        "        return f'Square(point={self.point}, side={self.side})'\n",
        "\n",
        "    def area(self):\n",
        "        super().area()\n",
        "        return self\n",
        "\n",
        "    def perimeter(self):\n",
        "        super().perimeter()\n",
        "        return self"
      ],
      "metadata": {
        "id": "ZZ61o64w7QUf"
      },
      "execution_count": 279,
      "outputs": []
    },
    {
      "cell_type": "code",
      "source": [
        "s1 = square(2, 2, 3)\n",
        "print(s1)\n",
        "print(s1.area())"
      ],
      "metadata": {
        "colab": {
          "base_uri": "https://localhost:8080/",
          "height": 314
        },
        "id": "fZ1dFaL7EX-D",
        "outputId": "e2b986ab-327b-4539-d245-7a6ceb105e50"
      },
      "execution_count": 278,
      "outputs": [
        {
          "output_type": "error",
          "ename": "TypeError",
          "evalue": "Rectangle.__init__() missing 4 required positional arguments: 'x', 'y', 'width', and 'height'",
          "traceback": [
            "\u001b[0;31m---------------------------------------------------------------------------\u001b[0m",
            "\u001b[0;31mTypeError\u001b[0m                                 Traceback (most recent call last)",
            "\u001b[0;32m<ipython-input-278-2383135317>\u001b[0m in \u001b[0;36m<cell line: 0>\u001b[0;34m()\u001b[0m\n\u001b[0;32m----> 1\u001b[0;31m \u001b[0ms1\u001b[0m \u001b[0;34m=\u001b[0m \u001b[0msquare\u001b[0m\u001b[0;34m(\u001b[0m\u001b[0;36m2\u001b[0m\u001b[0;34m,\u001b[0m \u001b[0;36m2\u001b[0m\u001b[0;34m,\u001b[0m \u001b[0;36m3\u001b[0m\u001b[0;34m)\u001b[0m\u001b[0;34m\u001b[0m\u001b[0;34m\u001b[0m\u001b[0m\n\u001b[0m\u001b[1;32m      2\u001b[0m \u001b[0mprint\u001b[0m\u001b[0;34m(\u001b[0m\u001b[0ms1\u001b[0m\u001b[0;34m)\u001b[0m\u001b[0;34m\u001b[0m\u001b[0;34m\u001b[0m\u001b[0m\n\u001b[1;32m      3\u001b[0m \u001b[0mprint\u001b[0m\u001b[0;34m(\u001b[0m\u001b[0ms1\u001b[0m\u001b[0;34m.\u001b[0m\u001b[0marea\u001b[0m\u001b[0;34m(\u001b[0m\u001b[0;34m)\u001b[0m\u001b[0;34m)\u001b[0m\u001b[0;34m\u001b[0m\u001b[0;34m\u001b[0m\u001b[0m\n",
            "\u001b[0;32m<ipython-input-274-2129056773>\u001b[0m in \u001b[0;36m__init__\u001b[0;34m(self, x, y, side)\u001b[0m\n\u001b[1;32m      2\u001b[0m \u001b[0;32mclass\u001b[0m \u001b[0msquare\u001b[0m\u001b[0;34m(\u001b[0m\u001b[0mRectangle\u001b[0m\u001b[0;34m)\u001b[0m\u001b[0;34m:\u001b[0m\u001b[0;34m\u001b[0m\u001b[0;34m\u001b[0m\u001b[0m\n\u001b[1;32m      3\u001b[0m     \u001b[0;32mdef\u001b[0m \u001b[0m__init__\u001b[0m\u001b[0;34m(\u001b[0m\u001b[0mself\u001b[0m\u001b[0;34m,\u001b[0m \u001b[0mx\u001b[0m\u001b[0;34m,\u001b[0m \u001b[0my\u001b[0m\u001b[0;34m,\u001b[0m \u001b[0mside\u001b[0m\u001b[0;34m)\u001b[0m\u001b[0;34m:\u001b[0m\u001b[0;34m\u001b[0m\u001b[0;34m\u001b[0m\u001b[0m\n\u001b[0;32m----> 4\u001b[0;31m         \u001b[0msuper\u001b[0m\u001b[0;34m(\u001b[0m\u001b[0;34m)\u001b[0m\u001b[0;34m.\u001b[0m\u001b[0m__init__\u001b[0m\u001b[0;34m(\u001b[0m\u001b[0;34m)\u001b[0m\u001b[0;34m\u001b[0m\u001b[0;34m\u001b[0m\u001b[0m\n\u001b[0m\u001b[1;32m      5\u001b[0m         \u001b[0mself\u001b[0m\u001b[0;34m.\u001b[0m\u001b[0mpoint\u001b[0m \u001b[0;34m=\u001b[0m \u001b[0mPoint\u001b[0m\u001b[0;34m(\u001b[0m\u001b[0mx\u001b[0m\u001b[0;34m,\u001b[0m \u001b[0my\u001b[0m\u001b[0;34m)\u001b[0m\u001b[0;34m\u001b[0m\u001b[0;34m\u001b[0m\u001b[0m\n\u001b[1;32m      6\u001b[0m         \u001b[0mself\u001b[0m\u001b[0;34m.\u001b[0m\u001b[0mside\u001b[0m \u001b[0;34m=\u001b[0m \u001b[0mside\u001b[0m\u001b[0;34m\u001b[0m\u001b[0;34m\u001b[0m\u001b[0m\n",
            "\u001b[0;31mTypeError\u001b[0m: Rectangle.__init__() missing 4 required positional arguments: 'x', 'y', 'width', and 'height'"
          ]
        }
      ]
    }
  ]
}
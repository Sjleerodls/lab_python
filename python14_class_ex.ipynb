{
  "nbformat": 4,
  "nbformat_minor": 0,
  "metadata": {
    "colab": {
      "provenance": [],
      "toc_visible": true,
      "authorship_tag": "ABX9TyNKJ3WuR0o8myOWDH8AexFU",
      "include_colab_link": true
    },
    "kernelspec": {
      "name": "python3",
      "display_name": "Python 3"
    },
    "language_info": {
      "name": "python"
    }
  },
  "cells": [
    {
      "cell_type": "markdown",
      "metadata": {
        "id": "view-in-github",
        "colab_type": "text"
      },
      "source": [
        "<a href=\"https://colab.research.google.com/github/Sjleerodls/lab_python/blob/main/python14_class_ex.ipynb\" target=\"_parent\"><img src=\"https://colab.research.google.com/assets/colab-badge.svg\" alt=\"Open In Colab\"/></a>"
      ]
    },
    {
      "cell_type": "markdown",
      "source": [
        "# Ex 1.\n",
        "\n",
        "Score 클래스 선언\n",
        "* 속성(property) : 국어(korean), 수학(math), 과학(science)\n",
        "    * 국어, 수학, 과학의 기본값은 0\n",
        "* 기능(method) : get_total(총점 리턴), get_mean(평균 리턴)\n",
        "* `__str__` 메서드 : \"Score(korean=100, math=100, science=100)\" 형식의 문자열을 리턴.\n",
        "* `__repr__` 메서드 : \"점수(국어=100, 수학=100, 과학=100)\" 형식의 문자열을 리턴."
      ],
      "metadata": {
        "id": "Zfz-fqtM7vks"
      }
    },
    {
      "cell_type": "code",
      "source": [
        "class Score:\n",
        "    def __init__(self, korean=0, math=0, science=0):    # default argument\n",
        "        self.korean = korean\n",
        "        self.math = math\n",
        "        self.science = science\n",
        "\n",
        "    def get_total(self):\n",
        "        return self.korean + self.math + self.science\n",
        "\n",
        "    def get_mean(self):\n",
        "        return self.get_total() / 3\n",
        "\n",
        "    def __str__(self):      # print\n",
        "        return f'Score (korean = {self.korean}, math = {self.math}, scienc={self.science})'\n",
        "                            # 드물게 __str__과 __repr__이 출력하는 경우가 약간 다른 case가 존재함!!\n",
        "    def __repr__(self):     # 식(expression)\n",
        "        return f'점수 (국어 = {self.korean}, 수학 = {self.math}, 과학 = {self.science})'"
      ],
      "metadata": {
        "id": "fN1zZ3I478Le"
      },
      "execution_count": null,
      "outputs": []
    },
    {
      "cell_type": "code",
      "source": [
        "s1 = Score(100, 99, 97)\n",
        "print(s1)\n",
        "print(s1.get_total())\n",
        "print(s1.get_mean())\n",
        "s1"
      ],
      "metadata": {
        "colab": {
          "base_uri": "https://localhost:8080/"
        },
        "id": "oJRruP2g9kAr",
        "outputId": "777e2830-3e31-4d77-e285-caa7f5fedcf6"
      },
      "execution_count": null,
      "outputs": [
        {
          "output_type": "stream",
          "name": "stdout",
          "text": [
            "Score (korean = 100, math = 99, scienc=97)\n",
            "296\n",
            "98.66666666666667\n"
          ]
        },
        {
          "output_type": "execute_result",
          "data": {
            "text/plain": [
              "점수 (국어 = 100, 수학 = 99, 과학 = 97)"
            ]
          },
          "metadata": {},
          "execution_count": 117
        }
      ]
    },
    {
      "cell_type": "code",
      "source": [
        "s2 = Score(77, 88, 99)\n",
        "print(s2)\n",
        "print(s2.get_total())\n",
        "print(s2.get_mean())\n",
        "s2"
      ],
      "metadata": {
        "colab": {
          "base_uri": "https://localhost:8080/"
        },
        "id": "ln51On8t-U3i",
        "outputId": "62e6cc29-3e13-4c30-ce20-53942ae65c56"
      },
      "execution_count": null,
      "outputs": [
        {
          "output_type": "stream",
          "name": "stdout",
          "text": [
            "Score (korean = 77, math = 88, scienc=99)\n",
            "264\n",
            "88.0\n"
          ]
        },
        {
          "output_type": "execute_result",
          "data": {
            "text/plain": [
              "점수 (국어 = 77, 수학 = 88, 과학 = 99)"
            ]
          },
          "metadata": {},
          "execution_count": 118
        }
      ]
    },
    {
      "cell_type": "markdown",
      "source": [
        "# Ex 2.\n",
        "\n",
        "Student 클래스 선언\n",
        "* 속성 : 번호(id), 이름(name), 점수(score : Score 타입 객체)\n",
        "* `__str__`, `__repr__` 메서드 같은 형식의 문자열을 리턴.\n",
        "    * (예) Student(id=1, name=홍길동, score=Score(...))"
      ],
      "metadata": {
        "id": "lplhOJsA89H6"
      }
    },
    {
      "cell_type": "code",
      "execution_count": null,
      "metadata": {
        "id": "gX5igM6c7lvN"
      },
      "outputs": [],
      "source": [
        "class Student:\n",
        "    def __init__ (self, id, name, score):\n",
        "        self.id = id\n",
        "        self.name = name\n",
        "        self.score = score\n",
        "\n",
        "    def __str__(self):      # __dir__ 이런 유형이 매직 메서드임.\n",
        "        return f'Student (id = {self.id}, name = {self.name}, score = {self.score})'    # korean = {self.score.korean},\n",
        "                                                                                        # math = {self.score.math},\n",
        "                                                                                        # science = {self.score.science}\n",
        "\n",
        "    # def __repr__(self):\n",
        "    #     return f'Student (id = {self.id}, name = {self.name}, score = {self.score})'\n",
        "\n",
        "    def __repr__(self):         # 동일한 내용이라면 다음과 같이 사용 가능.\n",
        "        return self.__str__()"
      ]
    },
    {
      "cell_type": "code",
      "source": [
        "st1 = Student(1, '홍길동', s1)\n",
        "print(st1)\n",
        "st1"
      ],
      "metadata": {
        "colab": {
          "base_uri": "https://localhost:8080/"
        },
        "id": "x8e6Zb2B_BWE",
        "outputId": "ae833bf4-62e3-4aea-911f-075a8cb1eefa"
      },
      "execution_count": null,
      "outputs": [
        {
          "output_type": "stream",
          "name": "stdout",
          "text": [
            "Student (id = 1, name = 홍길동, score = Score (korean = 100, math = 99, scienc=97))\n"
          ]
        },
        {
          "output_type": "execute_result",
          "data": {
            "text/plain": [
              "Student (id = 1, name = 홍길동, score = Score (korean = 100, math = 99, scienc=97))"
            ]
          },
          "metadata": {},
          "execution_count": 103
        }
      ]
    },
    {
      "cell_type": "code",
      "source": [
        "st2 = Student(111, 'Scott', s2)\n",
        "print(st2)\n",
        "st2"
      ],
      "metadata": {
        "colab": {
          "base_uri": "https://localhost:8080/"
        },
        "id": "3WpSJA-e_bOq",
        "outputId": "82cf2e9d-73a1-4103-cfa3-27929effc3fc"
      },
      "execution_count": null,
      "outputs": [
        {
          "output_type": "stream",
          "name": "stdout",
          "text": [
            "Student (id = 111, name = Scott, score = Score (korean = 77, math = 88, scienc=99))\n"
          ]
        },
        {
          "output_type": "execute_result",
          "data": {
            "text/plain": [
              "Student (id = 111, name = Scott, score = Score (korean = 77, math = 88, scienc=99))"
            ]
          },
          "metadata": {},
          "execution_count": 104
        }
      ]
    },
    {
      "cell_type": "markdown",
      "source": [
        "결과 확인"
      ],
      "metadata": {
        "id": "Vh5wXfr6EJkf"
      }
    },
    {
      "cell_type": "code",
      "source": [
        "score1 = Score()    # default argument\n",
        "print(score1)\n",
        "score1"
      ],
      "metadata": {
        "colab": {
          "base_uri": "https://localhost:8080/"
        },
        "id": "GwlrcS5EEW2f",
        "outputId": "9f0e19da-70b7-458e-bbaa-b560ca712be3"
      },
      "execution_count": null,
      "outputs": [
        {
          "output_type": "stream",
          "name": "stdout",
          "text": [
            "Score (korean = 0, math = 0, scienc=0)\n"
          ]
        },
        {
          "output_type": "execute_result",
          "data": {
            "text/plain": [
              "점수 (국어 = 0, 수학 = 0, 과학 = 0)"
            ]
          },
          "metadata": {},
          "execution_count": 111
        }
      ]
    },
    {
      "cell_type": "code",
      "source": [
        "score2 = Score(100, 99, 97)\n",
        "print(score2)\n",
        "score2"
      ],
      "metadata": {
        "colab": {
          "base_uri": "https://localhost:8080/"
        },
        "id": "qEAux6E6EKi5",
        "outputId": "5d932454-a41a-4fec-8199-af11abadd663"
      },
      "execution_count": null,
      "outputs": [
        {
          "output_type": "stream",
          "name": "stdout",
          "text": [
            "Score (korean = 100, math = 99, scienc=97)\n"
          ]
        },
        {
          "output_type": "execute_result",
          "data": {
            "text/plain": [
              "점수 (국어 = 100, 수학 = 99, 과학 = 97)"
            ]
          },
          "metadata": {},
          "execution_count": 112
        }
      ]
    },
    {
      "cell_type": "code",
      "source": [
        "student1 = Student(1, '홍길동', score1)\n",
        "print(student1)\n",
        "student1"
      ],
      "metadata": {
        "colab": {
          "base_uri": "https://localhost:8080/"
        },
        "id": "p72FDVx1EN__",
        "outputId": "962abae2-4746-4089-ae5d-60f6c587a6ee"
      },
      "execution_count": null,
      "outputs": [
        {
          "output_type": "stream",
          "name": "stdout",
          "text": [
            "Student (id = 1, name = 홍길동, score = Score (korean = 0, math = 0, scienc=0))\n"
          ]
        },
        {
          "output_type": "execute_result",
          "data": {
            "text/plain": [
              "Student (id = 1, name = 홍길동, score = Score (korean = 0, math = 0, scienc=0))"
            ]
          },
          "metadata": {},
          "execution_count": 113
        }
      ]
    },
    {
      "cell_type": "code",
      "source": [
        "student2 = Student(2, '오쌤', score2)\n",
        "print(student2)\n",
        "print('총점 =', student2.score.get_total())\n",
        "print('평균 =', student2.score.get_mean())"
      ],
      "metadata": {
        "colab": {
          "base_uri": "https://localhost:8080/"
        },
        "id": "NlQJ-BR-EREA",
        "outputId": "a12bbbad-83b8-4ee8-83f6-7044e5448cf0"
      },
      "execution_count": null,
      "outputs": [
        {
          "output_type": "stream",
          "name": "stdout",
          "text": [
            "Student (id = 2, name = 오쌤, score = Score (korean = 100, math = 99, scienc=97))\n",
            "총점 = 296\n",
            "평균 = 98.66666666666667\n"
          ]
        }
      ]
    },
    {
      "cell_type": "code",
      "source": [
        "student3 = Student(3, 'Scott', Score(11, 22, 32))\n",
        "print(student3)\n",
        "print('총점 =', student3.score.get_total())\n",
        "print('평균 =', student3.score.get_mean())"
      ],
      "metadata": {
        "colab": {
          "base_uri": "https://localhost:8080/"
        },
        "id": "iCvR_yp5Euh_",
        "outputId": "fc9d89d5-d293-41ae-cc7b-24000047a129"
      },
      "execution_count": null,
      "outputs": [
        {
          "output_type": "stream",
          "name": "stdout",
          "text": [
            "Student (id = 3, name = Scott, score = Score (korean = 11, math = 22, scienc=32))\n",
            "총점 = 65\n",
            "평균 = 21.666666666666668\n"
          ]
        }
      ]
    }
  ]
}
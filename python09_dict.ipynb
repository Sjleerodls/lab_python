{
  "nbformat": 4,
  "nbformat_minor": 0,
  "metadata": {
    "colab": {
      "provenance": [],
      "toc_visible": true,
      "authorship_tag": "ABX9TyPj8o9r5kAAvJjTRZl5AWos",
      "include_colab_link": true
    },
    "kernelspec": {
      "name": "python3",
      "display_name": "Python 3"
    },
    "language_info": {
      "name": "python"
    }
  },
  "cells": [
    {
      "cell_type": "markdown",
      "metadata": {
        "id": "view-in-github",
        "colab_type": "text"
      },
      "source": [
        "<a href=\"https://colab.research.google.com/github/Sjleerodls/lab_python/blob/main/python09_dict.ipynb\" target=\"_parent\"><img src=\"https://colab.research.google.com/assets/colab-badge.svg\" alt=\"Open In Colab\"/></a>"
      ]
    },
    {
      "cell_type": "markdown",
      "source": [
        "# dict\n",
        "\n",
        "* 사전(dictionary) 형식의 데이터 타입\n",
        "* 키(key)와 값(value)을 쌍으로 저장하는 데이터 타입\n",
        "    * list, tuple : 인덱스를 기반으로 값(들)을 저장하는 데이터 타입.\n",
        "    * dict : 키(key)를 기반으로 값(value)을 저장하는 데이터 타입.\n",
        "    * dict 타입에서 키의 역할은 list나 tuple에서 인덱스가 하는 역할과 비슷함.\n",
        "        * dict에 저장된 1개의 값을 참조할 때 사용.\n",
        "        * 키는 중복된 값을 허용하지 않음."
      ],
      "metadata": {
        "id": "Lt8Q6Ixei9xx"
      }
    },
    {
      "cell_type": "code",
      "execution_count": 2,
      "metadata": {
        "colab": {
          "base_uri": "https://localhost:8080/"
        },
        "id": "MnRzWOrbi5hP",
        "outputId": "0cee2722-8d1e-43dc-9cdf-c6b3dd70ae93"
      },
      "outputs": [
        {
          "output_type": "stream",
          "name": "stdout",
          "text": [
            "<class 'dict'>\n",
            "{100: '홍길동', 101: '오쌤', 200: 'Scott', 300: 'King'}\n"
          ]
        }
      ],
      "source": [
        "students = {100: '홍길동', 101: '오쌤', 200: 'Scott', 300: 'King'}\n",
        "print(type(students))\n",
        "print(students)"
      ]
    },
    {
      "cell_type": "code",
      "source": [
        "students[101]   # dict_var[key] => key에 맵핑된 값을 찾음."
      ],
      "metadata": {
        "colab": {
          "base_uri": "https://localhost:8080/",
          "height": 35
        },
        "id": "QjtrmPcZkwcz",
        "outputId": "79aed2b9-de46-4633-bf6c-337f49766383"
      },
      "execution_count": 4,
      "outputs": [
        {
          "output_type": "execute_result",
          "data": {
            "text/plain": [
              "'오쌤'"
            ],
            "application/vnd.google.colaboratory.intrinsic+json": {
              "type": "string"
            }
          },
          "metadata": {},
          "execution_count": 4
        }
      ]
    },
    {
      "cell_type": "markdown",
      "source": [
        "# dict 함수(메서드)"
      ],
      "metadata": {
        "id": "G77x0kzBlZiI"
      }
    },
    {
      "cell_type": "code",
      "source": [
        "# dict_var.keys(): dict_var가 가지고 있는 키들의 리스트를 리턴.\n",
        "students.keys()"
      ],
      "metadata": {
        "colab": {
          "base_uri": "https://localhost:8080/"
        },
        "id": "t3TZarPhlZUJ",
        "outputId": "17422fca-3e5b-4158-f52d-fdf2ea68020c"
      },
      "execution_count": 5,
      "outputs": [
        {
          "output_type": "execute_result",
          "data": {
            "text/plain": [
              "dict_keys([100, 101, 200, 300])"
            ]
          },
          "metadata": {},
          "execution_count": 5
        }
      ]
    },
    {
      "cell_type": "code",
      "source": [
        "# dict_var.values(): dict_var가 가지고 있는 값들의 리스트를 리턴.\n",
        "students.values()"
      ],
      "metadata": {
        "colab": {
          "base_uri": "https://localhost:8080/"
        },
        "id": "zJTTXnavlJHJ",
        "outputId": "829a702c-fec8-4627-fe11-6b529cacf472"
      },
      "execution_count": 7,
      "outputs": [
        {
          "output_type": "execute_result",
          "data": {
            "text/plain": [
              "dict_values(['홍길동', '오쌤', 'Scott', 'King'])"
            ]
          },
          "metadata": {},
          "execution_count": 7
        }
      ]
    },
    {
      "cell_type": "code",
      "source": [
        "# dict_var.items(): (key, value) 튜플들의 리스트를 리턴.\n",
        "students.items()"
      ],
      "metadata": {
        "colab": {
          "base_uri": "https://localhost:8080/"
        },
        "id": "PV0tcUphl_yS",
        "outputId": "848230d1-d1cd-4360-96d6-e5fefccf8832"
      },
      "execution_count": 9,
      "outputs": [
        {
          "output_type": "execute_result",
          "data": {
            "text/plain": [
              "dict_items([(100, '홍길동'), (101, '오쌤'), (200, 'Scott'), (300, 'King')])"
            ]
          },
          "metadata": {},
          "execution_count": 9
        }
      ]
    },
    {
      "cell_type": "code",
      "source": [
        "# dict_var.get(key): key에 매핑된 값(value)를 리턴. dict_var[key]와 동일.\n",
        "students.get(100)"
      ],
      "metadata": {
        "colab": {
          "base_uri": "https://localhost:8080/",
          "height": 35
        },
        "id": "KPJ6jCaImS5g",
        "outputId": "9cf7090d-8727-4d14-ef5c-a98fbcbd1323"
      },
      "execution_count": 10,
      "outputs": [
        {
          "output_type": "execute_result",
          "data": {
            "text/plain": [
              "'홍길동'"
            ],
            "application/vnd.google.colaboratory.intrinsic+json": {
              "type": "string"
            }
          },
          "metadata": {},
          "execution_count": 10
        }
      ]
    },
    {
      "cell_type": "markdown",
      "source": [
        "`dict_var[key] = value`\n",
        "\n",
        "* key가 dict_var 안에 있을 때, key에 해당하는 값(value)를 새로운 값(value)로 재할당(변경).\n",
        "* key가 dict_var 안에 없는 경우, 새로운 key-value 아이템을 dict_var에 추가."
      ],
      "metadata": {
        "id": "qZg9G9g5nMXQ"
      }
    },
    {
      "cell_type": "code",
      "source": [
        "# value의 값 변경\n",
        "students[300] = 'Allen'\n",
        "students"
      ],
      "metadata": {
        "colab": {
          "base_uri": "https://localhost:8080/"
        },
        "id": "Iz4V5T45m2SC",
        "outputId": "b75112ca-c257-4f01-9e7a-2ccb44049241"
      },
      "execution_count": 13,
      "outputs": [
        {
          "output_type": "execute_result",
          "data": {
            "text/plain": [
              "{100: '홍길동', 101: '오쌤', 200: 'Scott', 300: 'Allen'}"
            ]
          },
          "metadata": {},
          "execution_count": 13
        }
      ]
    },
    {
      "cell_type": "code",
      "source": [
        "# 새로운 key-value 추가\n",
        "students[301] = 'Tiger'\n",
        "students"
      ],
      "metadata": {
        "colab": {
          "base_uri": "https://localhost:8080/"
        },
        "id": "JJ9D9f-_npX5",
        "outputId": "0e9cad3e-2d55-4555-a8f0-02fc6b0e60d9"
      },
      "execution_count": 14,
      "outputs": [
        {
          "output_type": "execute_result",
          "data": {
            "text/plain": [
              "{100: '홍길동', 101: '오쌤', 200: 'Scott', 300: 'Allen', 301: 'Tiger'}"
            ]
          },
          "metadata": {},
          "execution_count": 14
        }
      ]
    },
    {
      "cell_type": "markdown",
      "source": [
        "## dict와 for 반복문"
      ],
      "metadata": {
        "id": "4A4ZaaTVoKDx"
      }
    },
    {
      "cell_type": "code",
      "source": [
        "# for-in 반복문에서 dict 타입 객체를 사용하면 key들을 순회(iteration).\n",
        "for k in students:\n",
        "    print(k, ':', students[k])"
      ],
      "metadata": {
        "colab": {
          "base_uri": "https://localhost:8080/"
        },
        "id": "sHXr4UY4n0Y4",
        "outputId": "ab838bd8-b4db-491c-e461-7e21e63f60d7"
      },
      "execution_count": 21,
      "outputs": [
        {
          "output_type": "stream",
          "name": "stdout",
          "text": [
            "100 : 홍길동\n",
            "101 : 오쌤\n",
            "200 : Scott\n",
            "300 : Allen\n",
            "301 : Tiger\n"
          ]
        }
      ]
    },
    {
      "cell_type": "code",
      "source": [
        "for k, v in students.items():\n",
        "    print(k, ':', v)"
      ],
      "metadata": {
        "colab": {
          "base_uri": "https://localhost:8080/"
        },
        "id": "tHa1F81yoPiZ",
        "outputId": "46ca6ce3-b52c-4628-cd0b-db817b55e3dd"
      },
      "execution_count": 24,
      "outputs": [
        {
          "output_type": "stream",
          "name": "stdout",
          "text": [
            "100 : 홍길동\n",
            "101 : 오쌤\n",
            "200 : Scott\n",
            "300 : Allen\n",
            "301 : Tiger\n"
          ]
        }
      ]
    },
    {
      "cell_type": "code",
      "source": [
        "book = {'title': '파이썬 예제', 'author': '오쌤', 'price': 10_000}\n",
        "print(book)\n",
        "print(book['title'])\n",
        "print(book.get('author'))\n",
        "for k, v in book.items():\n",
        "    print(k, ':', v)"
      ],
      "metadata": {
        "colab": {
          "base_uri": "https://localhost:8080/"
        },
        "id": "yFNYBx32onLh",
        "outputId": "4907c626-5f41-4090-9c4e-814d0034f01d"
      },
      "execution_count": 28,
      "outputs": [
        {
          "output_type": "stream",
          "name": "stdout",
          "text": [
            "{'title': '파이썬 예제', 'author': '오쌤', 'price': 10000}\n",
            "파이썬 예제\n",
            "오쌤\n",
            "title : 파이썬 예제\n",
            "author : 오쌤\n",
            "price : 10000\n"
          ]
        }
      ]
    },
    {
      "cell_type": "markdown",
      "source": [
        "dict는 key와 value 모두 다양한 타입의 자료들을 사용할 수 있음."
      ],
      "metadata": {
        "id": "TH7M0shqq0RY"
      }
    },
    {
      "cell_type": "markdown",
      "source": [
        "# 다양한 자료들을 저장하는 dict"
      ],
      "metadata": {
        "id": "Ze4oOnc4rAxo"
      }
    },
    {
      "cell_type": "code",
      "source": [
        "contact = {\n",
        "    'id': 1,\n",
        "    'name': '오쌤',\n",
        "    'phones': ['010-1234-5678', '02-1234-5678', '02-0000-0000'],\n",
        "    'emails': {'company': 'jake@itwill.com', 'personal': 'jake@naver.com'}\n",
        "}\n",
        "\n",
        "contact"
      ],
      "metadata": {
        "colab": {
          "base_uri": "https://localhost:8080/"
        },
        "id": "M2PauSuiqSti",
        "outputId": "67f88517-545c-47e7-ddd0-6bf5e8cb8584"
      },
      "execution_count": 30,
      "outputs": [
        {
          "output_type": "execute_result",
          "data": {
            "text/plain": [
              "{'id': 1,\n",
              " 'name': '오쌤',\n",
              " 'phones': ['010-1234-5678', '02-1234-5678', '02-0000-0000'],\n",
              " 'emails': {'company': 'jake@itwill.com', 'personal': 'jake@naver.com'}}"
            ]
          },
          "metadata": {},
          "execution_count": 30
        }
      ]
    },
    {
      "cell_type": "code",
      "source": [],
      "metadata": {
        "id": "1-ZQ_iWoqyMy"
      },
      "execution_count": null,
      "outputs": []
    }
  ]
}
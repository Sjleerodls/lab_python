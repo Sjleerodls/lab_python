{
  "nbformat": 4,
  "nbformat_minor": 0,
  "metadata": {
    "colab": {
      "provenance": [],
      "toc_visible": true,
      "authorship_tag": "ABX9TyMaqJ+L18EAYhN7Al92u7rw",
      "include_colab_link": true
    },
    "kernelspec": {
      "name": "python3",
      "display_name": "Python 3"
    },
    "language_info": {
      "name": "python"
    }
  },
  "cells": [
    {
      "cell_type": "markdown",
      "metadata": {
        "id": "view-in-github",
        "colab_type": "text"
      },
      "source": [
        "<a href=\"https://colab.research.google.com/github/Sjleerodls/lab_python/blob/main/python09_dict.ipynb\" target=\"_parent\"><img src=\"https://colab.research.google.com/assets/colab-badge.svg\" alt=\"Open In Colab\"/></a>"
      ]
    },
    {
      "cell_type": "markdown",
      "source": [
        "# dict\n",
        "\n",
        "* 사전(dictionary) 형식의 데이터 타입\n",
        "* 키(key)와 값(value)을 쌍으로 저장하는 데이터 타입\n",
        "    * list, tuple : 인덱스를 기반으로 값(들)을 저장하는 데이터 타입.\n",
        "    * dict : 키(key)를 기반으로 값(value)을 저장하는 데이터 타입.\n",
        "    * dict 타입에서 키의 역할은 list나 tuple에서 인덱스가 하는 역할과 비슷함.\n",
        "        * dict에 저장된 1개의 값을 참조할 때 사용.\n",
        "        * 키는 중복된 값을 허용하지 않음."
      ],
      "metadata": {
        "id": "Lt8Q6Ixei9xx"
      }
    },
    {
      "cell_type": "code",
      "execution_count": 2,
      "metadata": {
        "colab": {
          "base_uri": "https://localhost:8080/"
        },
        "id": "MnRzWOrbi5hP",
        "outputId": "0cee2722-8d1e-43dc-9cdf-c6b3dd70ae93"
      },
      "outputs": [
        {
          "output_type": "stream",
          "name": "stdout",
          "text": [
            "<class 'dict'>\n",
            "{100: '홍길동', 101: '오쌤', 200: 'Scott', 300: 'King'}\n"
          ]
        }
      ],
      "source": [
        "students = {100: '홍길동', 101: '오쌤', 200: 'Scott', 300: 'King'}\n",
        "print(type(students))\n",
        "print(students)"
      ]
    },
    {
      "cell_type": "code",
      "source": [
        "students[101]   # dict_var[key] => key에 맵핑된 값을 찾음."
      ],
      "metadata": {
        "colab": {
          "base_uri": "https://localhost:8080/",
          "height": 35
        },
        "id": "QjtrmPcZkwcz",
        "outputId": "79aed2b9-de46-4633-bf6c-337f49766383"
      },
      "execution_count": 4,
      "outputs": [
        {
          "output_type": "execute_result",
          "data": {
            "text/plain": [
              "'오쌤'"
            ],
            "application/vnd.google.colaboratory.intrinsic+json": {
              "type": "string"
            }
          },
          "metadata": {},
          "execution_count": 4
        }
      ]
    },
    {
      "cell_type": "markdown",
      "source": [
        "# dict 함수(메서드)"
      ],
      "metadata": {
        "id": "G77x0kzBlZiI"
      }
    },
    {
      "cell_type": "code",
      "source": [
        "# dict_var.keys(): dict_var가 가지고 있는 키들의 리스트를 리턴.\n",
        "students.keys()"
      ],
      "metadata": {
        "colab": {
          "base_uri": "https://localhost:8080/"
        },
        "id": "t3TZarPhlZUJ",
        "outputId": "17422fca-3e5b-4158-f52d-fdf2ea68020c"
      },
      "execution_count": 5,
      "outputs": [
        {
          "output_type": "execute_result",
          "data": {
            "text/plain": [
              "dict_keys([100, 101, 200, 300])"
            ]
          },
          "metadata": {},
          "execution_count": 5
        }
      ]
    },
    {
      "cell_type": "code",
      "source": [
        "# dict_var.values(): dict_var가 가지고 있는 값들의 리스트를 리턴.\n",
        "students.values()"
      ],
      "metadata": {
        "colab": {
          "base_uri": "https://localhost:8080/"
        },
        "id": "zJTTXnavlJHJ",
        "outputId": "829a702c-fec8-4627-fe11-6b529cacf472"
      },
      "execution_count": 7,
      "outputs": [
        {
          "output_type": "execute_result",
          "data": {
            "text/plain": [
              "dict_values(['홍길동', '오쌤', 'Scott', 'King'])"
            ]
          },
          "metadata": {},
          "execution_count": 7
        }
      ]
    },
    {
      "cell_type": "code",
      "source": [
        "# dict_var.items(): (key, value) 튜플들의 리스트를 리턴.\n",
        "students.items()"
      ],
      "metadata": {
        "colab": {
          "base_uri": "https://localhost:8080/"
        },
        "id": "PV0tcUphl_yS",
        "outputId": "848230d1-d1cd-4360-96d6-e5fefccf8832"
      },
      "execution_count": 9,
      "outputs": [
        {
          "output_type": "execute_result",
          "data": {
            "text/plain": [
              "dict_items([(100, '홍길동'), (101, '오쌤'), (200, 'Scott'), (300, 'King')])"
            ]
          },
          "metadata": {},
          "execution_count": 9
        }
      ]
    },
    {
      "cell_type": "code",
      "source": [
        "# dict_var.get(key): key에 매핑된 값(value)를 리턴. dict_var[key]와 동일.\n",
        "students.get(100)"
      ],
      "metadata": {
        "colab": {
          "base_uri": "https://localhost:8080/",
          "height": 35
        },
        "id": "KPJ6jCaImS5g",
        "outputId": "9cf7090d-8727-4d14-ef5c-a98fbcbd1323"
      },
      "execution_count": 10,
      "outputs": [
        {
          "output_type": "execute_result",
          "data": {
            "text/plain": [
              "'홍길동'"
            ],
            "application/vnd.google.colaboratory.intrinsic+json": {
              "type": "string"
            }
          },
          "metadata": {},
          "execution_count": 10
        }
      ]
    },
    {
      "cell_type": "markdown",
      "source": [
        "`dict_var[key] = value`\n",
        "\n",
        "* key가 dict_var 안에 있을 때, key에 해당하는 값(value)를 새로운 값(value)로 재할당(변경).\n",
        "* key가 dict_var 안에 없는 경우, 새로운 key-value 아이템을 dict_var에 추가."
      ],
      "metadata": {
        "id": "qZg9G9g5nMXQ"
      }
    },
    {
      "cell_type": "code",
      "source": [
        "# value의 값 변경\n",
        "students[300] = 'Allen'\n",
        "students"
      ],
      "metadata": {
        "colab": {
          "base_uri": "https://localhost:8080/"
        },
        "id": "Iz4V5T45m2SC",
        "outputId": "b75112ca-c257-4f01-9e7a-2ccb44049241"
      },
      "execution_count": 13,
      "outputs": [
        {
          "output_type": "execute_result",
          "data": {
            "text/plain": [
              "{100: '홍길동', 101: '오쌤', 200: 'Scott', 300: 'Allen'}"
            ]
          },
          "metadata": {},
          "execution_count": 13
        }
      ]
    },
    {
      "cell_type": "code",
      "source": [
        "# 새로운 key-value 추가\n",
        "students[301] = 'Tiger'\n",
        "students"
      ],
      "metadata": {
        "colab": {
          "base_uri": "https://localhost:8080/"
        },
        "id": "JJ9D9f-_npX5",
        "outputId": "0e9cad3e-2d55-4555-a8f0-02fc6b0e60d9"
      },
      "execution_count": 14,
      "outputs": [
        {
          "output_type": "execute_result",
          "data": {
            "text/plain": [
              "{100: '홍길동', 101: '오쌤', 200: 'Scott', 300: 'Allen', 301: 'Tiger'}"
            ]
          },
          "metadata": {},
          "execution_count": 14
        }
      ]
    },
    {
      "cell_type": "markdown",
      "source": [
        "## dict와 for 반복문"
      ],
      "metadata": {
        "id": "4A4ZaaTVoKDx"
      }
    },
    {
      "cell_type": "code",
      "source": [
        "# for-in 반복문에서 dict 타입 객체를 사용하면 key들을 순회(iteration).\n",
        "for k in students:\n",
        "    print(k, ':', students[k])"
      ],
      "metadata": {
        "colab": {
          "base_uri": "https://localhost:8080/"
        },
        "id": "sHXr4UY4n0Y4",
        "outputId": "ab838bd8-b4db-491c-e461-7e21e63f60d7"
      },
      "execution_count": 21,
      "outputs": [
        {
          "output_type": "stream",
          "name": "stdout",
          "text": [
            "100 : 홍길동\n",
            "101 : 오쌤\n",
            "200 : Scott\n",
            "300 : Allen\n",
            "301 : Tiger\n"
          ]
        }
      ]
    },
    {
      "cell_type": "code",
      "source": [
        "for k, v in students.items():\n",
        "    print(k, ':', v)"
      ],
      "metadata": {
        "colab": {
          "base_uri": "https://localhost:8080/"
        },
        "id": "tHa1F81yoPiZ",
        "outputId": "46ca6ce3-b52c-4628-cd0b-db817b55e3dd"
      },
      "execution_count": 24,
      "outputs": [
        {
          "output_type": "stream",
          "name": "stdout",
          "text": [
            "100 : 홍길동\n",
            "101 : 오쌤\n",
            "200 : Scott\n",
            "300 : Allen\n",
            "301 : Tiger\n"
          ]
        }
      ]
    },
    {
      "cell_type": "code",
      "source": [
        "book = {'title': '파이썬 예제', 'author': '오쌤', 'price': 10_000}\n",
        "print(book)\n",
        "print(book['title'])\n",
        "print(book.get('author'))\n",
        "for k, v in book.items():\n",
        "    print(k, ':', v)"
      ],
      "metadata": {
        "colab": {
          "base_uri": "https://localhost:8080/"
        },
        "id": "yFNYBx32onLh",
        "outputId": "4907c626-5f41-4090-9c4e-814d0034f01d"
      },
      "execution_count": 28,
      "outputs": [
        {
          "output_type": "stream",
          "name": "stdout",
          "text": [
            "{'title': '파이썬 예제', 'author': '오쌤', 'price': 10000}\n",
            "파이썬 예제\n",
            "오쌤\n",
            "title : 파이썬 예제\n",
            "author : 오쌤\n",
            "price : 10000\n"
          ]
        }
      ]
    },
    {
      "cell_type": "markdown",
      "source": [
        "dict는 key와 value 모두 다양한 타입의 자료들을 사용할 수 있음."
      ],
      "metadata": {
        "id": "TH7M0shqq0RY"
      }
    },
    {
      "cell_type": "markdown",
      "source": [
        "# 다양한 자료들을 저장하는 dict"
      ],
      "metadata": {
        "id": "Ze4oOnc4rAxo"
      }
    },
    {
      "cell_type": "code",
      "source": [
        "contact = {\n",
        "    'id': 1,\n",
        "    'name': '오쌤',\n",
        "    'phones': ['010-1234-5678', '02-1234-5678', '02-0000-0000'],\n",
        "    'emails': {'company': 'jake@itwill.com', 'personal': 'jake@naver.com'}\n",
        "}\n",
        "\n",
        "contact"
      ],
      "metadata": {
        "colab": {
          "base_uri": "https://localhost:8080/"
        },
        "id": "M2PauSuiqSti",
        "outputId": "67f88517-545c-47e7-ddd0-6bf5e8cb8584"
      },
      "execution_count": 30,
      "outputs": [
        {
          "output_type": "execute_result",
          "data": {
            "text/plain": [
              "{'id': 1,\n",
              " 'name': '오쌤',\n",
              " 'phones': ['010-1234-5678', '02-1234-5678', '02-0000-0000'],\n",
              " 'emails': {'company': 'jake@itwill.com', 'personal': 'jake@naver.com'}}"
            ]
          },
          "metadata": {},
          "execution_count": 30
        }
      ]
    },
    {
      "cell_type": "code",
      "source": [
        "contact['id']   # contact.get('id') 동일한 결과 출력"
      ],
      "metadata": {
        "colab": {
          "base_uri": "https://localhost:8080/"
        },
        "id": "1-ZQ_iWoqyMy",
        "outputId": "5371260f-bef3-4f39-899c-650d9827bb15"
      },
      "execution_count": 31,
      "outputs": [
        {
          "output_type": "execute_result",
          "data": {
            "text/plain": [
              "1"
            ]
          },
          "metadata": {},
          "execution_count": 31
        }
      ]
    },
    {
      "cell_type": "code",
      "source": [
        "# 첫번째 전화번호만 출력.\n",
        "contact['phones'][0]"
      ],
      "metadata": {
        "colab": {
          "base_uri": "https://localhost:8080/",
          "height": 35
        },
        "id": "Pvtz0AyksKzh",
        "outputId": "adb7476b-17a3-40f7-830b-8ca68d6da1f6"
      },
      "execution_count": 34,
      "outputs": [
        {
          "output_type": "execute_result",
          "data": {
            "text/plain": [
              "'010-1234-5678'"
            ],
            "application/vnd.google.colaboratory.intrinsic+json": {
              "type": "string"
            }
          },
          "metadata": {},
          "execution_count": 34
        }
      ]
    },
    {
      "cell_type": "code",
      "source": [
        "# 회사 이메일만 출력\n",
        "#contact['emails']['company']   # jake@itwill.com\n",
        "contact.get('emails').get('company')"
      ],
      "metadata": {
        "colab": {
          "base_uri": "https://localhost:8080/",
          "height": 35
        },
        "id": "4hUvCnZZsUtB",
        "outputId": "db793337-2d00-4c5e-c59e-10e84bcdd4e3"
      },
      "execution_count": 38,
      "outputs": [
        {
          "output_type": "execute_result",
          "data": {
            "text/plain": [
              "'jake@itwill.com'"
            ],
            "application/vnd.google.colaboratory.intrinsic+json": {
              "type": "string"
            }
          },
          "metadata": {},
          "execution_count": 38
        }
      ]
    },
    {
      "cell_type": "markdown",
      "source": [
        "# Dictionary Comprehension"
      ],
      "metadata": {
        "id": "4d9n8GrE-iZJ"
      }
    },
    {
      "cell_type": "code",
      "source": [
        "emp_no = [1001, 1002, 1003, 1004]\n",
        "emp_name = ['Scott', 'Allen', 'King', '오쌤']\n",
        "\n",
        "# emp_no의 숫자를 키로 하고 emp_name의 문자열을 값으로 하는 dictionary 생성.\n",
        "emp = {}    # 빈 딕셔너리 생성\n",
        "for no, name in zip(emp_no, emp_name):\n",
        "    emp[no] = name\n",
        "\n",
        "print(emp)"
      ],
      "metadata": {
        "colab": {
          "base_uri": "https://localhost:8080/"
        },
        "id": "J-j09m_UsmMK",
        "outputId": "883bacdb-8b56-4254-96a4-90287f163de2"
      },
      "execution_count": 39,
      "outputs": [
        {
          "output_type": "stream",
          "name": "stdout",
          "text": [
            "{1001: 'Scott', 1002: 'Allen', 1003: 'King', 1004: '오쌤'}\n"
          ]
        }
      ]
    },
    {
      "cell_type": "code",
      "source": [
        "emp2 = {no:name for no, name in zip(emp_no, emp_name)}\n",
        "emp2"
      ],
      "metadata": {
        "colab": {
          "base_uri": "https://localhost:8080/"
        },
        "id": "0LPyYA0H_5lR",
        "outputId": "03db2114-46e9-490a-a6fe-24d8150cde5d"
      },
      "execution_count": 40,
      "outputs": [
        {
          "output_type": "execute_result",
          "data": {
            "text/plain": [
              "{1001: 'Scott', 1002: 'Allen', 1003: 'King', 1004: '오쌤'}"
            ]
          },
          "metadata": {},
          "execution_count": 40
        }
      ]
    },
    {
      "cell_type": "code",
      "source": [
        "fruits = ['apple', 'banana', 'cherry', 'pineapple', 'watermelon']\n",
        "\n",
        "# fruit_lengths: fruits의 문자열을 키로 하고, 그 문자열의 길이를 값으로 dict 생성\n",
        "vin = {}\n",
        "fruits_length = []\n",
        "for i in fruits:\n",
        "    fruits_length.append(len(i))\n",
        "\n",
        "for st, le in zip(fruits, fruits_length):\n",
        "    vin[st] = le\n",
        "\n",
        "print(vin)\n",
        "\n",
        "\n",
        "# 오쌤\n",
        "fruit_lengths = {}  # dict()\n",
        "for x in fruits:\n",
        "    fruit_lengths[x] = len(x)\n",
        "\n",
        "print(fruit_lengths)\n",
        "\n",
        "\n",
        "# dicitionary comprehension\n",
        "fruits_length = [len(i) for i in fruits]\n",
        "res = {st:le for st, le in zip(fruits, fruits_length)}\n",
        "print(res)\n",
        "\n",
        "\n",
        "# 오쌤\n",
        "fruit_lengths2 = {x: len(x) for x in fruits}\n",
        "fruit_lengths2"
      ],
      "metadata": {
        "colab": {
          "base_uri": "https://localhost:8080/"
        },
        "id": "L3TfhvDtAW1I",
        "outputId": "42f7188d-1f6f-4259-df1d-8842d0f7f44f"
      },
      "execution_count": 48,
      "outputs": [
        {
          "output_type": "stream",
          "name": "stdout",
          "text": [
            "{'apple': 5, 'banana': 6, 'cherry': 6, 'pineapple': 9, 'watermelon': 10}\n",
            "{'apple': 5, 'banana': 6, 'cherry': 6, 'pineapple': 9, 'watermelon': 10}\n",
            "{'apple': 5, 'banana': 6, 'cherry': 6, 'pineapple': 9, 'watermelon': 10}\n"
          ]
        },
        {
          "output_type": "execute_result",
          "data": {
            "text/plain": [
              "{'apple': 5, 'banana': 6, 'cherry': 6, 'pineapple': 9, 'watermelon': 10}"
            ]
          },
          "metadata": {},
          "execution_count": 48
        }
      ]
    },
    {
      "cell_type": "markdown",
      "source": [
        "## Word Counting"
      ],
      "metadata": {
        "id": "kxzVzfldCwpo"
      }
    },
    {
      "cell_type": "code",
      "source": [
        "words = ['one', 'little', 'two', 'little', 'three', 'little', 'indian', 'indian']\n",
        "words"
      ],
      "metadata": {
        "colab": {
          "base_uri": "https://localhost:8080/"
        },
        "id": "f03m_ZtTBT0J",
        "outputId": "07e0a364-4ef3-4155-8169-a7238bd57888"
      },
      "execution_count": 49,
      "outputs": [
        {
          "output_type": "execute_result",
          "data": {
            "text/plain": [
              "['one', 'little', 'two', 'little', 'three', 'little', 'indian', 'indian']"
            ]
          },
          "metadata": {},
          "execution_count": 49
        }
      ]
    },
    {
      "cell_type": "markdown",
      "source": [
        "리스트 words의 단어를 키로 하고, 그 단어가 리스트에 등장하는 횟수를 값으로 하는 dict를 만들고 출력\n",
        "\n",
        "`결과: {'one': 1, 'little': 3, 'two': 1, 'three': 1, 'indian' : 2}`"
      ],
      "metadata": {
        "id": "396-n_U5DEgg"
      }
    },
    {
      "cell_type": "code",
      "source": [
        "# 1.\n",
        "from itertools import count\n",
        "word_dict = dict()\n",
        "\n",
        "vin = []\n",
        "for x in words:\n",
        "    vin.append(x)\n",
        "    word_dict[x] = vin.count(x)\n",
        "\n",
        "print(word_dict)\n",
        "\n",
        "\n",
        "# 오쌤\n",
        "word_count = {}\n",
        "for w in words:\n",
        "    word_count[w] = words.count(w)\n",
        "print(word_count)\n",
        "\n",
        "\n",
        "# 2.\n",
        "res = {x:words.count(x) for x in words}\n",
        "res"
      ],
      "metadata": {
        "colab": {
          "base_uri": "https://localhost:8080/"
        },
        "id": "zLdJKNgYC9h5",
        "outputId": "2d4f5c17-baad-4128-93c5-e171df9f8a50"
      },
      "execution_count": 86,
      "outputs": [
        {
          "output_type": "stream",
          "name": "stdout",
          "text": [
            "{'one': 1, 'little': 3, 'two': 1, 'three': 1, 'indian': 2}\n",
            "{'one': 1, 'little': 3, 'two': 1, 'three': 1, 'indian': 2}\n"
          ]
        },
        {
          "output_type": "execute_result",
          "data": {
            "text/plain": [
              "{'one': 1, 'little': 3, 'two': 1, 'three': 1, 'indian': 2}"
            ]
          },
          "metadata": {},
          "execution_count": 86
        }
      ]
    },
    {
      "cell_type": "code",
      "source": [
        "# 오쌤\n",
        "word_count2 = {}\n",
        "for w in words:\n",
        "    if w in word_count2:    # if w in word_count2.keys():\n",
        "        word_count2[w] += 1 # word_count2[w] = word_count2[w] + 1\n",
        "    else:\n",
        "        word_count2[w] = 1\n",
        "\n",
        "print(word_count2)"
      ],
      "metadata": {
        "colab": {
          "base_uri": "https://localhost:8080/"
        },
        "id": "hWEHOtaXDX-I",
        "outputId": "6d2a403e-6ece-4ebf-8c61-24a955ac7aae"
      },
      "execution_count": 103,
      "outputs": [
        {
          "output_type": "stream",
          "name": "stdout",
          "text": [
            "{'one': 1, 'little': 3, 'two': 1, 'three': 1, 'indian': 2}\n"
          ]
        }
      ]
    },
    {
      "cell_type": "markdown",
      "source": [
        "## defaultdict"
      ],
      "metadata": {
        "id": "hIS9z_qnP2np"
      }
    },
    {
      "cell_type": "code",
      "source": [
        "from collections import defaultdict\n",
        "# collections 모듈에서 defaultdict 클래스 이름을 import\n",
        "\n",
        "word_count3 = defaultdict(int)  # int의 기본값을 0으로 설정.\n",
        "for w in words:\n",
        "    word_count3[w] += 1\n",
        "\n",
        "    print(word_count3)"
      ],
      "metadata": {
        "colab": {
          "base_uri": "https://localhost:8080/"
        },
        "id": "_ScgP0vsP4NA",
        "outputId": "c9df3d7a-b788-4448-e415-3ddc0e30f1fb"
      },
      "execution_count": 109,
      "outputs": [
        {
          "output_type": "stream",
          "name": "stdout",
          "text": [
            "defaultdict(<class 'int'>, {'one': 1})\n",
            "defaultdict(<class 'int'>, {'one': 1, 'little': 1})\n",
            "defaultdict(<class 'int'>, {'one': 1, 'little': 1, 'two': 1})\n",
            "defaultdict(<class 'int'>, {'one': 1, 'little': 2, 'two': 1})\n",
            "defaultdict(<class 'int'>, {'one': 1, 'little': 2, 'two': 1, 'three': 1})\n",
            "defaultdict(<class 'int'>, {'one': 1, 'little': 3, 'two': 1, 'three': 1})\n",
            "defaultdict(<class 'int'>, {'one': 1, 'little': 3, 'two': 1, 'three': 1, 'indian': 1})\n",
            "defaultdict(<class 'int'>, {'one': 1, 'little': 3, 'two': 1, 'three': 1, 'indian': 2})\n"
          ]
        }
      ]
    }
  ]
}
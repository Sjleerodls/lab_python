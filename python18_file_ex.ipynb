{
  "nbformat": 4,
  "nbformat_minor": 0,
  "metadata": {
    "colab": {
      "provenance": [],
      "mount_file_id": "1uDmtxYyZCXhTqYXc1ZMzXrerjsdgRN7e",
      "authorship_tag": "ABX9TyNuJsAldu8fs8XE9aTbz/bD",
      "include_colab_link": true
    },
    "kernelspec": {
      "name": "python3",
      "display_name": "Python 3"
    },
    "language_info": {
      "name": "python"
    }
  },
  "cells": [
    {
      "cell_type": "markdown",
      "metadata": {
        "id": "view-in-github",
        "colab_type": "text"
      },
      "source": [
        "<a href=\"https://colab.research.google.com/github/Sjleerodls/lab_python/blob/main/python18_file_ex.ipynb\" target=\"_parent\"><img src=\"https://colab.research.google.com/assets/colab-badge.svg\" alt=\"Open In Colab\"/></a>"
      ]
    },
    {
      "cell_type": "markdown",
      "source": [
        "*   github의 [exam.csv 파일](https://github.com/JakeOh/202505_BD50/blob/main/lab_python/exam.csv)을 다운로드.\n",
        "*   Colab 연결(세션 활성화).\n",
        "*   Colab에 Google Drive 마운트(mount, 연결).\n",
        "*   개인 계정의 Google Drive에 exam.csv 파일을 업로드.\n",
        "\n",
        "*   exam.csv 파일을 open\n",
        "\n",
        "*   파일의 첫번째 줄은 컬럼 이름들이기 때문에, 첫번째 줄은 읽고 무시.\n",
        "\n",
        "*   파일의 두번째 줄부터 파일 끝(EOF)까지 반복.\n",
        "    *   각 줄에서 읽은 내용을 쉼표(,)로 분리한 리스트를 빈 리스트에 append.\n",
        "\n",
        "    `[['1', '1', '50', '98', '50'], ['2', '1', '60', '97', '60'], ...]`\n",
        "\n",
        "*   위에서 만들어진 2차원 리스트는 문자열들을 저장하고 있는 리스트이기 때문에, 리스트의 모든 값들을 정수(int)로 변환\n",
        "\n",
        "    `[[1, 1, 50, 98, 50], [2, 1, 60, 97, 60], ...]`\n",
        "\n",
        "*   수학 점수들로만 이루어진 1차원 리스트를 만듦.\n",
        "\n",
        "    `[50, 60, ...]`\n",
        "\n",
        "*   수학 점수의 최댓값, 최솟값, 평균 출력.\n",
        "\n",
        "*   1반 학생들의 수학 점수 총점, 평균, 최댓값, 최솟값 출력"
      ],
      "metadata": {
        "id": "1vzbySnRNsh8"
      }
    },
    {
      "cell_type": "code",
      "execution_count": 191,
      "metadata": {
        "colab": {
          "base_uri": "https://localhost:8080/"
        },
        "id": "-O5Al6MnNq3q",
        "outputId": "8dfb530f-86f4-488b-ea78-0924f23b11bd"
      },
      "outputs": [
        {
          "output_type": "stream",
          "name": "stdout",
          "text": [
            "[['1,1,50,98,50'], ['2,1,60,97,60'], ['3,1,45,86,78'], ['4,1,30,98,58'], ['5,2,25,80,65'], ['6,2,50,89,98'], ['7,2,80,90,45'], ['8,2,90,78,25'], ['9,3,20,98,15'], ['10,3,50,98,45'], ['11,3,65,65,65'], ['12,3,45,85,32'], ['13,4,46,98,65'], ['14,4,48,87,12'], ['15,4,75,56,78'], ['16,4,58,98,65'], ['17,5,65,68,98'], ['18,5,80,78,90'], ['19,5,89,68,87'], ['20,5,78,83,58']]\n"
          ]
        }
      ],
      "source": [
        "vin = []\n",
        "\n",
        "with open('/content/drive/MyDrive/Colab Notebooks/lab_python/exam.csv')as f:\n",
        "    for line in f:\n",
        "        vin.append(line.rsplit())\n",
        "    vin.pop(0)\n",
        "    # vin = str(vin)\n",
        "\n",
        "# vin = vin.replace('[', '')\n",
        "# vin = vin.replace(']', '')\n",
        "# vin = vin.replace(\"'\", '')\n",
        "# vin = vin.replace(',', '')\n",
        "# vin = vin.replace(' ', '')\n",
        "\n",
        "print(vin)\n"
      ]
    },
    {
      "cell_type": "code",
      "source": [
        "vin2 = []\n",
        "i=0\n",
        "print(vin[0][0])\n",
        "\n",
        "# for x in vin[i][0]:\n",
        "\n",
        "#     y = int(x)\n",
        "#     vin2.append(y)\n",
        "#     i += 1\n",
        "\n",
        "print(vin2)"
      ],
      "metadata": {
        "colab": {
          "base_uri": "https://localhost:8080/"
        },
        "id": "aOqFnRaCZm3f",
        "outputId": "f68c903d-fdf6-4a39-f7ab-72503f885e5a"
      },
      "execution_count": 192,
      "outputs": [
        {
          "output_type": "stream",
          "name": "stdout",
          "text": [
            "1,1,50,98,50\n",
            "[]\n"
          ]
        }
      ]
    },
    {
      "cell_type": "code",
      "source": [
        "# 오쌤\n",
        "file_path = '/content/drive/MyDrive/Colab Notebooks/lab_python/exam.csv'"
      ],
      "metadata": {
        "id": "XjnC9QDodiUV"
      },
      "execution_count": 193,
      "outputs": []
    },
    {
      "cell_type": "code",
      "source": [
        "with open(file_path) as f:\n",
        "    f.readline()    # 파일에서 첫번째 라인(줄)을 읽음\n",
        "    exam = []   # cs 파일을 내용을 저장할 빈 리스트\n",
        "    for line in f:  # 열린 파일 f에서 두번째 줄 부터 끝까지 반복하면서 한 줄씩 읽는다.\n",
        "        exam.append(line.strip().split(','))\n",
        "\n",
        "exam"
      ],
      "metadata": {
        "colab": {
          "base_uri": "https://localhost:8080/"
        },
        "id": "1PYN8mRId6KF",
        "outputId": "95d628ed-47b3-4639-996f-c7a197397ba0"
      },
      "execution_count": 205,
      "outputs": [
        {
          "output_type": "execute_result",
          "data": {
            "text/plain": [
              "[['1', '1', '50', '98', '50'],\n",
              " ['2', '1', '60', '97', '60'],\n",
              " ['3', '1', '45', '86', '78'],\n",
              " ['4', '1', '30', '98', '58'],\n",
              " ['5', '2', '25', '80', '65'],\n",
              " ['6', '2', '50', '89', '98'],\n",
              " ['7', '2', '80', '90', '45'],\n",
              " ['8', '2', '90', '78', '25'],\n",
              " ['9', '3', '20', '98', '15'],\n",
              " ['10', '3', '50', '98', '45'],\n",
              " ['11', '3', '65', '65', '65'],\n",
              " ['12', '3', '45', '85', '32'],\n",
              " ['13', '4', '46', '98', '65'],\n",
              " ['14', '4', '48', '87', '12'],\n",
              " ['15', '4', '75', '56', '78'],\n",
              " ['16', '4', '58', '98', '65'],\n",
              " ['17', '5', '65', '68', '98'],\n",
              " ['18', '5', '80', '78', '90'],\n",
              " ['19', '5', '89', '68', '87'],\n",
              " ['20', '5', '78', '83', '58']]"
            ]
          },
          "metadata": {},
          "execution_count": 205
        }
      ]
    },
    {
      "cell_type": "code",
      "source": [
        "for i, row in enumerate(exam):\n",
        "    for j, x in enumerate(row):\n",
        "        exam[i][j] = int(x)\n",
        "exam"
      ],
      "metadata": {
        "colab": {
          "base_uri": "https://localhost:8080/"
        },
        "id": "tGyjYafnfct8",
        "outputId": "9fe113b3-0827-4dd6-a08a-a0af45b560e3"
      },
      "execution_count": 212,
      "outputs": [
        {
          "output_type": "execute_result",
          "data": {
            "text/plain": [
              "[[1, 1, 50, 98, 50],\n",
              " [2, 1, 60, 97, 60],\n",
              " [3, 1, 45, 86, 78],\n",
              " [4, 1, 30, 98, 58],\n",
              " [5, 2, 25, 80, 65],\n",
              " [6, 2, 50, 89, 98],\n",
              " [7, 2, 80, 90, 45],\n",
              " [8, 2, 90, 78, 25],\n",
              " [9, 3, 20, 98, 15],\n",
              " [10, 3, 50, 98, 45],\n",
              " [11, 3, 65, 65, 65],\n",
              " [12, 3, 45, 85, 32],\n",
              " [13, 4, 46, 98, 65],\n",
              " [14, 4, 48, 87, 12],\n",
              " [15, 4, 75, 56, 78],\n",
              " [16, 4, 58, 98, 65],\n",
              " [17, 5, 65, 68, 98],\n",
              " [18, 5, 80, 78, 90],\n",
              " [19, 5, 89, 68, 87],\n",
              " [20, 5, 78, 83, 58]]"
            ]
          },
          "metadata": {},
          "execution_count": 212
        }
      ]
    },
    {
      "cell_type": "code",
      "source": [
        "# math = []\n",
        "\n",
        "# for row in exam:\n",
        "#     math.append(row[2])\n",
        "\n",
        "math = [row[2] for row in exam] # list comprehension\n",
        "\n",
        "print(math)"
      ],
      "metadata": {
        "colab": {
          "base_uri": "https://localhost:8080/"
        },
        "id": "bFzlcqveib11",
        "outputId": "f56f8d6c-32fd-4923-c63a-f87c8d4ad8db"
      },
      "execution_count": 219,
      "outputs": [
        {
          "output_type": "stream",
          "name": "stdout",
          "text": [
            "[50, 60, 45, 30, 25, 50, 80, 90, 20, 50, 65, 45, 46, 48, 75, 58, 65, 80, 89, 78]\n"
          ]
        }
      ]
    },
    {
      "cell_type": "code",
      "source": [
        "print('수학 최댓값 : ', max(math))\n",
        "print('수학 최솟값 : ', min(math))\n",
        "print('수학 평균 : ', sum(math) / len(math))"
      ],
      "metadata": {
        "colab": {
          "base_uri": "https://localhost:8080/"
        },
        "id": "o2tzWKosjIUS",
        "outputId": "7000fc48-4071-4a6f-aa83-0ed86a913e64"
      },
      "execution_count": 220,
      "outputs": [
        {
          "output_type": "stream",
          "name": "stdout",
          "text": [
            "수학 최댓값 :  90\n",
            "수학 최솟값 :  20\n",
            "수학 평균 :  57.45\n"
          ]
        }
      ]
    },
    {
      "cell_type": "code",
      "source": [
        "english = [row[3] for row in exam]\n",
        "\n",
        "print(english)"
      ],
      "metadata": {
        "colab": {
          "base_uri": "https://localhost:8080/"
        },
        "id": "FOqH_STEjl2C",
        "outputId": "427cec88-9f01-4781-a3bf-e5de13394376"
      },
      "execution_count": 221,
      "outputs": [
        {
          "output_type": "stream",
          "name": "stdout",
          "text": [
            "[98, 97, 86, 98, 80, 89, 90, 78, 98, 98, 65, 85, 98, 87, 56, 98, 68, 78, 68, 83]\n"
          ]
        }
      ]
    },
    {
      "cell_type": "code",
      "source": [
        "print('영어 최댓값 : ', max(english))\n",
        "print('영어 최솟값 : ', min(english))\n",
        "print('영어 평균 : ', sum(english) / len(english))"
      ],
      "metadata": {
        "colab": {
          "base_uri": "https://localhost:8080/"
        },
        "id": "UJj8IctHj2Rj",
        "outputId": "22dde674-8296-40b2-d921-895feba9a5c7"
      },
      "execution_count": 222,
      "outputs": [
        {
          "output_type": "stream",
          "name": "stdout",
          "text": [
            "영어 최댓값 :  98\n",
            "영어 최솟값 :  56\n",
            "영어 평균 :  84.9\n"
          ]
        }
      ]
    },
    {
      "cell_type": "code",
      "source": [
        "science = [row[4] for row in exam]\n",
        "\n",
        "print(science)"
      ],
      "metadata": {
        "colab": {
          "base_uri": "https://localhost:8080/"
        },
        "id": "uJL5uqqVkIjp",
        "outputId": "1cc429af-22d9-451e-ac53-c52a2d5ea043"
      },
      "execution_count": 223,
      "outputs": [
        {
          "output_type": "stream",
          "name": "stdout",
          "text": [
            "[50, 60, 78, 58, 65, 98, 45, 25, 15, 45, 65, 32, 65, 12, 78, 65, 98, 90, 87, 58]\n"
          ]
        }
      ]
    },
    {
      "cell_type": "code",
      "source": [
        "print('과학 최댓값 : ', max(science))\n",
        "print('과학 최솟값 : ', min(science))\n",
        "print('과학 평균 : ', sum(science) / len(science))"
      ],
      "metadata": {
        "colab": {
          "base_uri": "https://localhost:8080/"
        },
        "id": "uKI_5m3ZkM7D",
        "outputId": "a5fd92a2-5936-4f15-8fa8-da1ac7753c90"
      },
      "execution_count": 227,
      "outputs": [
        {
          "output_type": "stream",
          "name": "stdout",
          "text": [
            "과학 최댓값 :  98\n",
            "과학 최솟값 :  12\n",
            "과학 평균 :  59.45\n"
          ]
        }
      ]
    },
    {
      "cell_type": "code",
      "source": [
        "# math_class1 = []    # 1반(class=1) 수학 점수를 저장하기 위한 리스트\n",
        "\n",
        "# for row in exam:\n",
        "#     if row[1] == 1: # class 컬럼의 값이 1이면\n",
        "#         math_class1.append(row[2])  # math 컬럼의 값을 리스트에 추가.\n",
        "\n",
        "math_class1 = [row[2] for row in exam if row[1] == 1]\n",
        "print(math_class1)"
      ],
      "metadata": {
        "colab": {
          "base_uri": "https://localhost:8080/"
        },
        "id": "Acue04MZkb96",
        "outputId": "78f39f95-9426-4bba-fb13-0456240280b1"
      },
      "execution_count": 234,
      "outputs": [
        {
          "output_type": "stream",
          "name": "stdout",
          "text": [
            "[50, 60, 45, 30]\n"
          ]
        }
      ]
    },
    {
      "cell_type": "code",
      "source": [
        "print('1반 수학 총점 : ', sum(math_class1))\n",
        "print('1반 수학 평균 : ', sum(math_class1) / len(math_class1))\n",
        "print('1반 수학 최댓값 : ', max(math_class1))\n",
        "print('1반 수학 최솟값 : ', min(math_class1))"
      ],
      "metadata": {
        "colab": {
          "base_uri": "https://localhost:8080/"
        },
        "id": "S6odjlV5k7rc",
        "outputId": "3fb18955-5967-49a3-9ed1-438a1d707b0e"
      },
      "execution_count": 237,
      "outputs": [
        {
          "output_type": "stream",
          "name": "stdout",
          "text": [
            "1반 수학 총점 :  185\n",
            "1반 수학 평균 :  46.25\n",
            "1반 수학 최댓값 :  60\n",
            "1반 수학 최솟값 :  30\n"
          ]
        }
      ]
    },
    {
      "cell_type": "markdown",
      "source": [
        "1반 ~ 5반 수학 평균 점수를 출력하세요."
      ],
      "metadata": {
        "id": "l-RqJkeTmcug"
      }
    },
    {
      "cell_type": "code",
      "source": [
        "# 각 반 별로 수학 평균 점수 구하기.\n",
        "math_class1 = [row[2] for row in exam if row[1] == 1]\n",
        "math_class2 = [row[2] for row in exam if row[1] == 2]\n",
        "math_class3 = [row[2] for row in exam if row[1] == 3]\n",
        "math_class4 = [row[2] for row in exam if row[1] == 4]\n",
        "math_class5 = [row[2] for row in exam if row[1] == 5]\n",
        "\n",
        "print(sum(math_class1) / len(math_class1))\n",
        "print(sum(math_class2) / len(math_class2))\n",
        "print(sum(math_class3) / len(math_class3))\n",
        "print(sum(math_class4) / len(math_class4))\n",
        "print(sum(math_class5) / len(math_class5))"
      ],
      "metadata": {
        "colab": {
          "base_uri": "https://localhost:8080/"
        },
        "id": "v3XeDLyLmgPK",
        "outputId": "d59b2976-01b2-455a-e66a-64048375f15b"
      },
      "execution_count": 247,
      "outputs": [
        {
          "output_type": "stream",
          "name": "stdout",
          "text": [
            "46.25\n",
            "61.25\n",
            "45.0\n",
            "56.75\n",
            "78.0\n"
          ]
        }
      ]
    },
    {
      "cell_type": "code",
      "source": [
        "# 전체 수학 점수 평균 출력.\n",
        "math_mean_all = [row[2] for row in exam]\n",
        "\n",
        "print(math_mean_all)\n",
        "print(sum(math_mean_all) / len(math_mean_all))"
      ],
      "metadata": {
        "colab": {
          "base_uri": "https://localhost:8080/"
        },
        "id": "ZWoI9CcJnJFY",
        "outputId": "0c958db7-4a3b-43c2-f398-eeb71974935a"
      },
      "execution_count": 249,
      "outputs": [
        {
          "output_type": "stream",
          "name": "stdout",
          "text": [
            "[50, 60, 45, 30, 25, 50, 80, 90, 20, 50, 65, 45, 46, 48, 75, 58, 65, 80, 89, 78]\n",
            "57.45\n"
          ]
        }
      ]
    },
    {
      "cell_type": "code",
      "source": [
        "# 오쌤\n",
        "for cls in range(1, 6):\n",
        "    math_by_class = [row[2] for row in exam if row[1] == cls]\n",
        "    mean = sum(math_by_class) / len(math_by_class)\n",
        "    print(f'{cls}반 수학 평균: {mean}점')"
      ],
      "metadata": {
        "colab": {
          "base_uri": "https://localhost:8080/"
        },
        "id": "8oafJFtzrzJG",
        "outputId": "471738ba-a286-4a06-d70f-f0e11e9b57d0"
      },
      "execution_count": 254,
      "outputs": [
        {
          "output_type": "stream",
          "name": "stdout",
          "text": [
            "1반 수학 평균: 46.25점\n",
            "2반 수학 평균: 61.25점\n",
            "3반 수학 평균: 45.0점\n",
            "4반 수학 평균: 56.75점\n",
            "5반 수학 평균: 78.0점\n"
          ]
        }
      ]
    },
    {
      "cell_type": "markdown",
      "source": [
        "## class 선언"
      ],
      "metadata": {
        "id": "Q2nhCNi3sxx8"
      }
    },
    {
      "cell_type": "code",
      "source": [
        "class Student:\n",
        "    def __init__(self, id, cls, math, english, science):\n",
        "        self.id = int(id)\n",
        "        self.cls = int(cls)\n",
        "        self.math = int(math)\n",
        "        self.english = int(english)\n",
        "        self.science = int(science)\n",
        "\n",
        "    def __repr__(self):\n",
        "        return f'Student(id={self.id }, class={self.cls}, math={self.math}, english={self.english}, science={self.science})'\n",
        "\n",
        "    def mean(self):\n",
        "        return (self.math + self.english + self.science) / 3"
      ],
      "metadata": {
        "id": "9tj8jdzjsxhF"
      },
      "execution_count": 295,
      "outputs": []
    },
    {
      "cell_type": "code",
      "source": [
        "s = Student(1, 1, '50', '60', '70')\n",
        "print(s)"
      ],
      "metadata": {
        "colab": {
          "base_uri": "https://localhost:8080/"
        },
        "id": "Zhg6Ptmwswu_",
        "outputId": "5809796c-1ef1-466c-b1a9-56eaabbce7ba"
      },
      "execution_count": 262,
      "outputs": [
        {
          "output_type": "stream",
          "name": "stdout",
          "text": [
            "Student(id=1, class=1, math=50, english=60, science=70)\n"
          ]
        }
      ]
    },
    {
      "cell_type": "code",
      "source": [
        "exam2 = []  # csv 파일에서 읽은 데이터를 저장하기 위한 리스트\n",
        "with open(file_path) as f:\n",
        "    f.readline()\n",
        "    for line in f:\n",
        "        row = line.strip().split(',')\n",
        "        student = Student(row[0], row[1], row[2], row[3], row[4])\n",
        "        exam2.append(student)\n",
        "\n",
        "exam2"
      ],
      "metadata": {
        "colab": {
          "base_uri": "https://localhost:8080/"
        },
        "id": "CbhW7eTksrb3",
        "outputId": "ebe2fb8f-fbbc-4116-e99c-36175d764a25"
      },
      "execution_count": 276,
      "outputs": [
        {
          "output_type": "execute_result",
          "data": {
            "text/plain": [
              "[Student(id=1, class=1, math=50, english=98, science=50),\n",
              " Student(id=2, class=1, math=60, english=97, science=60),\n",
              " Student(id=3, class=1, math=45, english=86, science=78),\n",
              " Student(id=4, class=1, math=30, english=98, science=58),\n",
              " Student(id=5, class=2, math=25, english=80, science=65),\n",
              " Student(id=6, class=2, math=50, english=89, science=98),\n",
              " Student(id=7, class=2, math=80, english=90, science=45),\n",
              " Student(id=8, class=2, math=90, english=78, science=25),\n",
              " Student(id=9, class=3, math=20, english=98, science=15),\n",
              " Student(id=10, class=3, math=50, english=98, science=45),\n",
              " Student(id=11, class=3, math=65, english=65, science=65),\n",
              " Student(id=12, class=3, math=45, english=85, science=32),\n",
              " Student(id=13, class=4, math=46, english=98, science=65),\n",
              " Student(id=14, class=4, math=48, english=87, science=12),\n",
              " Student(id=15, class=4, math=75, english=56, science=78),\n",
              " Student(id=16, class=4, math=58, english=98, science=65),\n",
              " Student(id=17, class=5, math=65, english=68, science=98),\n",
              " Student(id=18, class=5, math=80, english=78, science=90),\n",
              " Student(id=19, class=5, math=89, english=68, science=87),\n",
              " Student(id=20, class=5, math=78, english=83, science=58)]"
            ]
          },
          "metadata": {},
          "execution_count": 276
        }
      ]
    },
    {
      "cell_type": "code",
      "source": [
        "exam2[0].english        # Student라는 객체를 갖고 있는 리스트"
      ],
      "metadata": {
        "colab": {
          "base_uri": "https://localhost:8080/"
        },
        "id": "nl3QadHcu3ZN",
        "outputId": "bc128448-2e67-4968-8090-8a3b9221112d"
      },
      "execution_count": 287,
      "outputs": [
        {
          "output_type": "execute_result",
          "data": {
            "text/plain": [
              "98"
            ]
          },
          "metadata": {},
          "execution_count": 287
        }
      ]
    },
    {
      "cell_type": "code",
      "source": [
        "math2 = [s.math for s in exam2] # exam2에서 수학점수들만 선택해서 저장\n",
        "print(math2)"
      ],
      "metadata": {
        "colab": {
          "base_uri": "https://localhost:8080/"
        },
        "id": "d3gwX7aYsu1I",
        "outputId": "8b4b438d-af63-4066-9a4a-eb7b3810d297"
      },
      "execution_count": 294,
      "outputs": [
        {
          "output_type": "stream",
          "name": "stdout",
          "text": [
            "[50, 60, 45, 30, 25, 50, 80, 90, 20, 50, 65, 45, 46, 48, 75, 58, 65, 80, 89, 78]\n"
          ]
        }
      ]
    },
    {
      "cell_type": "code",
      "source": [
        "english2 = [s.english for s in exam2]\n",
        "print(english2)"
      ],
      "metadata": {
        "colab": {
          "base_uri": "https://localhost:8080/"
        },
        "id": "bqw4MvQ6wOAs",
        "outputId": "84039f12-f485-4cad-9d4d-8334a6dbc8a0"
      },
      "execution_count": 296,
      "outputs": [
        {
          "output_type": "stream",
          "name": "stdout",
          "text": [
            "[98, 97, 86, 98, 80, 89, 90, 78, 98, 98, 65, 85, 98, 87, 56, 98, 68, 78, 68, 83]\n"
          ]
        }
      ]
    },
    {
      "cell_type": "code",
      "source": [
        "science2 = [s.science for s in exam2]\n",
        "print(science2)"
      ],
      "metadata": {
        "colab": {
          "base_uri": "https://localhost:8080/"
        },
        "id": "iSofIc81wd00",
        "outputId": "0f5a4d02-9308-40ea-9540-ac7b4e21d3ad"
      },
      "execution_count": 297,
      "outputs": [
        {
          "output_type": "stream",
          "name": "stdout",
          "text": [
            "[50, 60, 78, 58, 65, 98, 45, 25, 15, 45, 65, 32, 65, 12, 78, 65, 98, 90, 87, 58]\n"
          ]
        }
      ]
    },
    {
      "cell_type": "markdown",
      "source": [
        "각 반의 수학 점수 평균 출력."
      ],
      "metadata": {
        "id": "aKZVWL27wmRb"
      }
    },
    {
      "cell_type": "code",
      "source": [
        "for i in range(1,6):\n",
        "    res = [s.math for s in exam2 if s.cls == i]\n",
        "    mean = sum(res) / len(res)\n",
        "    print(f'{i}반 수학 평균 점수 : {mean}점')"
      ],
      "metadata": {
        "colab": {
          "base_uri": "https://localhost:8080/"
        },
        "id": "0NTGsV0pwldt",
        "outputId": "d9a5b1ef-3341-4e8c-f703-d22b87a1941a"
      },
      "execution_count": 300,
      "outputs": [
        {
          "output_type": "stream",
          "name": "stdout",
          "text": [
            "1반 수학 평균 점수 : 46.25점\n",
            "2반 수학 평균 점수 : 61.25점\n",
            "3반 수학 평균 점수 : 45.0점\n",
            "4반 수학 평균 점수 : 56.75점\n",
            "5반 수학 평균 점수 : 78.0점\n"
          ]
        }
      ]
    },
    {
      "cell_type": "code",
      "source": [
        "# 오쌤\n",
        "for cls in range(1, 6):\n",
        "    math_by_class = []\n",
        "    for s in exam2:\n",
        "        if s.cls == cls:\n",
        "            math_by_class.append(s.math)\n",
        "\n",
        "    # math_by_class = [s.math for s in exam2 if s.cls == cls]\n",
        "\n",
        "    mean = sum(math_by_class) / len(math_by_class)\n",
        "    print(f'{cls}반 수학 평균 : {mean}')"
      ],
      "metadata": {
        "colab": {
          "base_uri": "https://localhost:8080/"
        },
        "id": "hcwiJqWFxm0D",
        "outputId": "6799c488-1ee3-4635-897c-b5c17f7e76e3"
      },
      "execution_count": 310,
      "outputs": [
        {
          "output_type": "stream",
          "name": "stdout",
          "text": [
            "1반 수학 평균 : 46.25\n",
            "2반 수학 평균 : 61.25\n",
            "3반 수학 평균 : 45.0\n",
            "4반 수학 평균 : 56.75\n",
            "5반 수학 평균 : 78.0\n"
          ]
        }
      ]
    },
    {
      "cell_type": "markdown",
      "source": [
        "각 반의 영어 점수 평균 출력."
      ],
      "metadata": {
        "id": "L5mLOfaew5qL"
      }
    },
    {
      "cell_type": "code",
      "source": [
        "for i in range(1,6):\n",
        "    res = [s.english for s in exam2 if s.cls == i]\n",
        "    mean = sum(res) / len(res)\n",
        "    print(f'{i}반 영어 평균 점수 : {mean}점')"
      ],
      "metadata": {
        "colab": {
          "base_uri": "https://localhost:8080/"
        },
        "id": "BZdpgUj4w7sl",
        "outputId": "60e0f077-9de6-446e-e6c5-7e4d2560c640"
      },
      "execution_count": 301,
      "outputs": [
        {
          "output_type": "stream",
          "name": "stdout",
          "text": [
            "1반 영어 평균 점수 : 94.75점\n",
            "2반 영어 평균 점수 : 84.25점\n",
            "3반 영어 평균 점수 : 86.5점\n",
            "4반 영어 평균 점수 : 84.75점\n",
            "5반 영어 평균 점수 : 74.25점\n"
          ]
        }
      ]
    },
    {
      "cell_type": "code",
      "source": [
        "# 오쌤\n",
        "for cls in range(1, 6):\n",
        "    english_by_class = [s.english for s in exam2 if s.cls == cls]\n",
        "    mean = sum(english_by_class) / len(english_by_class)\n",
        "    print(f'{cls}반 영어 평균 : {mean}')"
      ],
      "metadata": {
        "colab": {
          "base_uri": "https://localhost:8080/"
        },
        "id": "YPD8HcbiyLNK",
        "outputId": "2f9940b1-21c8-4dd7-ae11-3a59edfe7e08"
      },
      "execution_count": 306,
      "outputs": [
        {
          "output_type": "stream",
          "name": "stdout",
          "text": [
            "1반 영어 평균 : 94.75\n",
            "2반 영어 평균 : 84.25\n",
            "3반 영어 평균 : 86.5\n",
            "4반 영어 평균 : 84.75\n",
            "5반 영어 평균 : 74.25\n"
          ]
        }
      ]
    },
    {
      "cell_type": "code",
      "source": [
        "exam2[0]"
      ],
      "metadata": {
        "colab": {
          "base_uri": "https://localhost:8080/"
        },
        "id": "bOvpSiMi1dNB",
        "outputId": "b363c360-18f5-4740-8e11-e78b8fabfc13"
      },
      "execution_count": 317,
      "outputs": [
        {
          "output_type": "execute_result",
          "data": {
            "text/plain": [
              "Student(id=1, class=1, math=50, english=98, science=50)"
            ]
          },
          "metadata": {},
          "execution_count": 317
        }
      ]
    },
    {
      "cell_type": "code",
      "source": [
        "def subject_mean_by_class(cls, subject):\n",
        "    \"\"\"\n",
        "    반(cls) 별 과목(subject)의 평균 점수를 리턴.\n",
        "    (예) subject_mean_by_class(1, 'math') -> 1반 학생들의 1반 수학 점수 평균을 리턴.\n",
        "\n",
        "    @param cls: 반 번호. 1 ~ 5.\n",
        "    @param subject: 과목 이름. 'math', 'english', 'science'.\n",
        "    @return 해당 cls의 해당 subject의 평균.\n",
        "    \"\"\"\n",
        "    vin = []\n",
        "\n",
        "    for i in exam2:\n",
        "        if i.cls == cls and subject == 'math':\n",
        "            vin.append(i.math)\n",
        "        elif i.cls == cls and subject == 'english':\n",
        "            vin.append(i.english)\n",
        "        elif i.cls == cls and subject == 'science':\n",
        "            vin.append(i.science)\n",
        "\n",
        "    mean = sum(vin) / len(vin)\n",
        "\n",
        "    # return f'{cls}반 학생들의 {subject} 점수 평균 : {mean}점'\n",
        "    return mean"
      ],
      "metadata": {
        "id": "I2UXBlgIy8vS"
      },
      "execution_count": 390,
      "outputs": []
    },
    {
      "cell_type": "code",
      "source": [
        "subject_mean_by_class(2, 'science')"
      ],
      "metadata": {
        "colab": {
          "base_uri": "https://localhost:8080/",
          "height": 35
        },
        "id": "GI9BKCfTz6lq",
        "outputId": "465e9938-d8ad-4821-fd02-d9ed113c2a68"
      },
      "execution_count": 386,
      "outputs": [
        {
          "output_type": "execute_result",
          "data": {
            "text/plain": [
              "'2반 학생들의 science 점수 평균 : 58.25점'"
            ],
            "application/vnd.google.colaboratory.intrinsic+json": {
              "type": "string"
            }
          },
          "metadata": {},
          "execution_count": 386
        }
      ]
    },
    {
      "cell_type": "code",
      "source": [
        "# 전체 학생들의 반 별 과목별 평균 점수 확인\n",
        "for x in range(1, 6):\n",
        "    for y in ('math', 'english', 'science'):\n",
        "        res = subject_mean_by_class(x, y)\n",
        "        print(f'{x}반 학생들의 {y} 점수 평균 : {res}')"
      ],
      "metadata": {
        "colab": {
          "base_uri": "https://localhost:8080/"
        },
        "id": "98gTemth5TIB",
        "outputId": "9f8c81c1-9e22-4432-ad31-79881f8c9da8"
      },
      "execution_count": 391,
      "outputs": [
        {
          "output_type": "stream",
          "name": "stdout",
          "text": [
            "1반 학생들의 math 점수 평균 : 46.25\n",
            "1반 학생들의 english 점수 평균 : 94.75\n",
            "1반 학생들의 science 점수 평균 : 61.5\n",
            "2반 학생들의 math 점수 평균 : 61.25\n",
            "2반 학생들의 english 점수 평균 : 84.25\n",
            "2반 학생들의 science 점수 평균 : 58.25\n",
            "3반 학생들의 math 점수 평균 : 45.0\n",
            "3반 학생들의 english 점수 평균 : 86.5\n",
            "3반 학생들의 science 점수 평균 : 39.25\n",
            "4반 학생들의 math 점수 평균 : 56.75\n",
            "4반 학생들의 english 점수 평균 : 84.75\n",
            "4반 학생들의 science 점수 평균 : 55.0\n",
            "5반 학생들의 math 점수 평균 : 78.0\n",
            "5반 학생들의 english 점수 평균 : 74.25\n",
            "5반 학생들의 science 점수 평균 : 83.25\n"
          ]
        }
      ]
    }
  ]
}
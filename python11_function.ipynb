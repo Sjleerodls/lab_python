{
  "nbformat": 4,
  "nbformat_minor": 0,
  "metadata": {
    "colab": {
      "provenance": [],
      "toc_visible": true,
      "authorship_tag": "ABX9TyPkaNOvCFcD6HOCVABLRa0l",
      "include_colab_link": true
    },
    "kernelspec": {
      "name": "python3",
      "display_name": "Python 3"
    },
    "language_info": {
      "name": "python"
    }
  },
  "cells": [
    {
      "cell_type": "markdown",
      "metadata": {
        "id": "view-in-github",
        "colab_type": "text"
      },
      "source": [
        "<a href=\"https://colab.research.google.com/github/Sjleerodls/lab_python/blob/main/python11_function.ipynb\" target=\"_parent\"><img src=\"https://colab.research.google.com/assets/colab-badge.svg\" alt=\"Open In Colab\"/></a>"
      ]
    },
    {
      "cell_type": "markdown",
      "source": [
        "# 함수(Function)"
      ],
      "metadata": {
        "id": "ky1G8YkfTcyr"
      }
    },
    {
      "cell_type": "code",
      "execution_count": 4,
      "metadata": {
        "colab": {
          "base_uri": "https://localhost:8080/"
        },
        "id": "fSC_NXehTZ9l",
        "outputId": "e1be1400-8b3e-47e6-93d4-ec1774d8a6b7"
      },
      "outputs": [
        {
          "output_type": "stream",
          "name": "stdout",
          "text": [
            "12\n"
          ]
        }
      ],
      "source": [
        "result = len('hello python')\n",
        "print(result)"
      ]
    },
    {
      "cell_type": "markdown",
      "source": [
        "* **함수(function)** : 기능을 수행하는 코드 블록.\n",
        "* **인수(argument)** : 함수를 호출할 때 함수에게 전달하는 값.\n",
        "* **매개변수(parameter)** : 아규먼트를 저장하기 위해서 함수를 정의할 때 선언하는 변수.\n",
        "* **반환값(return value)** : 함수가 기능을 수행하고 그 결과로 함수를 호출한 곳에 되돌려 주는 값.\n",
        "    * 함수에 따라서 반환값이 있는 함수도 있고, 반환값이 없는 함수도 있음."
      ],
      "metadata": {
        "id": "B65Sods0UqPt"
      }
    },
    {
      "cell_type": "markdown",
      "source": [
        "# 함수 선언(정의)\n",
        "\n",
        "```\n",
        "def function_name([parameter, ...]):\n",
        "    [\"\"\"문서 주석(documentation comments)\"\"\"]\n",
        "    함수가 수행할 코드 블록\n",
        "    return 반환값\n",
        "```\n",
        "\n",
        "* 반환값이 없는 함수는 return 문장을 생략하거나, return None으로 문장을 사용할 수 있음.\n",
        "* return 문장의 의미 :\n",
        "    * 함수 종료\n",
        "    * 함수를 호출한 곳에 값을 되돌려 줌."
      ],
      "metadata": {
        "id": "OyqzF2IWWYwk"
      }
    },
    {
      "cell_type": "code",
      "source": [
        "def subtract(x,y):\n",
        "    \"\"\" 숫자 x, y를 전달 받아서 x - y를 리턴하는 함수 \"\"\"\n",
        "    return x - y"
      ],
      "metadata": {
        "id": "6d6NHhUKVd38"
      },
      "execution_count": 13,
      "outputs": []
    },
    {
      "cell_type": "code",
      "source": [
        "result = subtract(1, 2)\n",
        "print(result)"
      ],
      "metadata": {
        "colab": {
          "base_uri": "https://localhost:8080/"
        },
        "id": "Vu3ksEr7T95E",
        "outputId": "904b49ef-a9e6-4f66-c3d6-e0f442eff88b"
      },
      "execution_count": 16,
      "outputs": [
        {
          "output_type": "stream",
          "name": "stdout",
          "text": [
            "-1\n"
          ]
        }
      ]
    },
    {
      "cell_type": "markdown",
      "source": [
        "## 값을 반환하지 않는 함수"
      ],
      "metadata": {
        "id": "frwlA9wDf874"
      }
    },
    {
      "cell_type": "code",
      "source": [
        "def repeat_message(msg, n):\n",
        "    \"\"\"\n",
        "    msg를 n번 반복해서 출력.\n",
        "\n",
        "    @param msg - 출력할 문자열.\n",
        "    @param m - 반복할 횟수. 0 또는 양의 정수.\n",
        "    \"\"\"\n",
        "\n",
        "    for _ in range(n):\n",
        "        print(msg)\n",
        "\n",
        "    # return None"
      ],
      "metadata": {
        "id": "7u0ZMV-7f8Wy"
      },
      "execution_count": 26,
      "outputs": []
    },
    {
      "cell_type": "code",
      "source": [
        "repeat_message('안녕하세요', 5)"
      ],
      "metadata": {
        "colab": {
          "base_uri": "https://localhost:8080/"
        },
        "id": "nBQuCr2sg4P9",
        "outputId": "51f81a04-b986-442c-a1a6-acf89e00cc21"
      },
      "execution_count": 27,
      "outputs": [
        {
          "output_type": "stream",
          "name": "stdout",
          "text": [
            "안녕하세요\n",
            "안녕하세요\n",
            "안녕하세요\n",
            "안녕하세요\n",
            "안녕하세요\n"
          ]
        }
      ]
    },
    {
      "cell_type": "code",
      "source": [
        "repeat_message('Hello', 3)"
      ],
      "metadata": {
        "colab": {
          "base_uri": "https://localhost:8080/"
        },
        "id": "r1q2ax1mh5-l",
        "outputId": "bbd4b964-eb45-47eb-fe10-130bcee19f1f"
      },
      "execution_count": 28,
      "outputs": [
        {
          "output_type": "stream",
          "name": "stdout",
          "text": [
            "Hello\n",
            "Hello\n",
            "Hello\n"
          ]
        }
      ]
    },
    {
      "cell_type": "markdown",
      "source": [
        "## 2개 이상의 값을 반환하는 함수"
      ],
      "metadata": {
        "id": "G8ueOmWiiks3"
      }
    },
    {
      "cell_type": "code",
      "source": [
        "def plus_and_minus(x, y):\n",
        "    \"\"\"\n",
        "    x + y, x - y 를 리턴.\n",
        "\n",
        "    @param x - 숫자 타입(int 또는 float)\n",
        "    @param y - 숫자 타입(int 또는 float)\n",
        "    @return x + y, x - y\n",
        "    \"\"\"\n",
        "\n",
        "    # return ret_value1, ret_value2, ...\n",
        "    return x + y, x - y"
      ],
      "metadata": {
        "id": "NMz6Ux-XimWA"
      },
      "execution_count": 31,
      "outputs": []
    },
    {
      "cell_type": "code",
      "source": [
        "a, b = plus_and_minus(1, 2)\n",
        "print(f'a = {a}, b = {b}')"
      ],
      "metadata": {
        "colab": {
          "base_uri": "https://localhost:8080/"
        },
        "id": "_h53c1tIi3sn",
        "outputId": "b59f9229-67e0-4976-9e82-9cdf5a67b434"
      },
      "execution_count": 37,
      "outputs": [
        {
          "output_type": "stream",
          "name": "stdout",
          "text": [
            "a = 3, b = -1\n"
          ]
        }
      ]
    },
    {
      "cell_type": "code",
      "source": [
        "result = plus_and_minus(3, 4)\n",
        "print(type(result)) # result : 리턴 값들을 저장하는 튜플\n",
        "print(result)"
      ],
      "metadata": {
        "colab": {
          "base_uri": "https://localhost:8080/"
        },
        "id": "NG9oZjWzjjD_",
        "outputId": "941e193c-a343-481a-fda0-5ec18cd0b467"
      },
      "execution_count": 39,
      "outputs": [
        {
          "output_type": "stream",
          "name": "stdout",
          "text": [
            "<class 'tuple'>\n",
            "(7, -1)\n"
          ]
        }
      ]
    },
    {
      "cell_type": "markdown",
      "source": [
        "## 연습문제 1.\n",
        "\n",
        "* 함수 이름 : make_list\n",
        "* 기능 : [start, end) 범위의 정수 난수 n개를 아이템으로 갖는 리스트를 리턴\n",
        "* 파라미터 : start(정수), end(정수), n(0 또는 양의 정수)\n",
        "* 리턴: 리스트."
      ],
      "metadata": {
        "id": "kRzbChb3lFvh"
      }
    },
    {
      "cell_type": "code",
      "source": [
        "import random\n",
        "\n",
        "def make_list(start, end, n):\n",
        "    \"\"\"\n",
        "    [start, end) 범위의 정수 난수 n개를 아이템으로 갖는 리스트를 리턴.\n",
        "\n",
        "    @param start : int. 난수 시작 범위.\n",
        "    @param end : int. 난수 종료 범위.\n",
        "    @param n : int. 리스트의 아이템 개수. 0 또는 양의 정수.\n",
        "    @return 난수들의 리스트.\n",
        "    \"\"\"\n",
        "\n",
        "    # vin = []\n",
        "\n",
        "    # for x in range(n):\n",
        "    #     vin.append(random.randrange(start, end))\n",
        "\n",
        "    vin = [random.randrange(start, end) for x in range(n)]\n",
        "    return vin"
      ],
      "metadata": {
        "id": "6TyCex8WlPHg"
      },
      "execution_count": 84,
      "outputs": []
    },
    {
      "cell_type": "code",
      "source": [
        "my_list = make_list(0, 10, 5)\n",
        "print(my_list)"
      ],
      "metadata": {
        "colab": {
          "base_uri": "https://localhost:8080/"
        },
        "id": "_-vGiBIelyVu",
        "outputId": "f5243fbb-351c-4d77-d195-dbc3ae3afe31"
      },
      "execution_count": 332,
      "outputs": [
        {
          "output_type": "stream",
          "name": "stdout",
          "text": [
            "[8, 3, 6, 9, 0]\n"
          ]
        }
      ]
    },
    {
      "cell_type": "code",
      "source": [
        "make_list(0, 101, 5)"
      ],
      "metadata": {
        "colab": {
          "base_uri": "https://localhost:8080/"
        },
        "id": "HI3kwftOpAjq",
        "outputId": "45622aff-2841-4a37-dbfb-3513a89e2412"
      },
      "execution_count": 335,
      "outputs": [
        {
          "output_type": "execute_result",
          "data": {
            "text/plain": [
              "[44, 51, 59, 96, 50]"
            ]
          },
          "metadata": {},
          "execution_count": 335
        }
      ]
    },
    {
      "cell_type": "markdown",
      "source": [
        "## 연습문제 2.\n",
        "\n",
        "* 함수 이름 : calculate_sum\n",
        "* 기능 : 숫자(정수, 실수)들을 원소로 갖는 리스트를 전달 받아서, 그 리스트의 모든 원소들의 합계를 리턴.\n",
        "* 파라미터 : array(리스트)\n",
        "* 리턴 : 리스트 원소들의 합계."
      ],
      "metadata": {
        "id": "rFiUiDCHtBe5"
      }
    },
    {
      "cell_type": "code",
      "source": [
        "def calculate_sum(list):\n",
        "    \"\"\"\n",
        "    입력받은 list내 모든 숫자의 합계를 리턴.\n",
        "\n",
        "    @param list : int, float. 숫자만 입력\n",
        "    \"\"\"\n",
        "    return sum(list)"
      ],
      "metadata": {
        "id": "gT6EQGldtOvQ"
      },
      "execution_count": 342,
      "outputs": []
    },
    {
      "cell_type": "code",
      "source": [
        "def calculate_sum2(list):\n",
        "    \"\"\"\n",
        "    입력받은 list 내 모든 숫자의 합계를 리턴.\n",
        "\n",
        "    @param list : int, float. 숫자만 입력\n",
        "    \"\"\"\n",
        "    v = 0\n",
        "    for i in list:\n",
        "        v += i\n",
        "    return v"
      ],
      "metadata": {
        "id": "3OtCekx9zi4m"
      },
      "execution_count": 343,
      "outputs": []
    },
    {
      "cell_type": "code",
      "source": [
        "# 오쌤\n",
        "def calculate_sum3(array):\n",
        "    \"\"\"\n",
        "    숫자(정수, 실수)들을 원소로 갖는 리스트를 전달받아서, 그 리스트의 모든 원소들의 합계를 리턴.\n",
        "\n",
        "    @param array - 숫자(int, float)들의 리스트.\n",
        "    @return - array의 모든 원소들의 합계.\n",
        "    \"\"\"\n",
        "    result = 0\n",
        "    for x in array:\n",
        "        result += x\n",
        "\n",
        "    return result"
      ],
      "metadata": {
        "id": "062-Wh-4z7RN"
      },
      "execution_count": 344,
      "outputs": []
    },
    {
      "cell_type": "code",
      "source": [
        "calculate_sum([1, 2, 3, 4, 5])"
      ],
      "metadata": {
        "colab": {
          "base_uri": "https://localhost:8080/"
        },
        "id": "wPZPrDiDtxme",
        "outputId": "50bc31b8-0cae-4bda-c5fd-4234e45af1bb"
      },
      "execution_count": 345,
      "outputs": [
        {
          "output_type": "execute_result",
          "data": {
            "text/plain": [
              "15"
            ]
          },
          "metadata": {},
          "execution_count": 345
        }
      ]
    },
    {
      "cell_type": "code",
      "source": [
        "calculate_sum2([1, 2, 3, 4, 5])"
      ],
      "metadata": {
        "colab": {
          "base_uri": "https://localhost:8080/"
        },
        "id": "AQwTbB3Wzxzm",
        "outputId": "10ff6d71-5e6b-4066-ab90-4331394db667"
      },
      "execution_count": 346,
      "outputs": [
        {
          "output_type": "execute_result",
          "data": {
            "text/plain": [
              "15"
            ]
          },
          "metadata": {},
          "execution_count": 346
        }
      ]
    },
    {
      "cell_type": "code",
      "source": [
        "my_list = make_list(1, 10, 3)\n",
        "print(my_list)\n",
        "result = calculate_sum3(my_list)\n",
        "print(result)"
      ],
      "metadata": {
        "colab": {
          "base_uri": "https://localhost:8080/"
        },
        "id": "KjpyUMs90QWF",
        "outputId": "2de7f685-2ac8-43f3-bae7-05b5157fb306"
      },
      "execution_count": 349,
      "outputs": [
        {
          "output_type": "stream",
          "name": "stdout",
          "text": [
            "[5, 4, 5]\n",
            "14\n"
          ]
        }
      ]
    },
    {
      "cell_type": "markdown",
      "source": [
        "## 연습문제 3.\n",
        "\n",
        "* 함수 이름 : calculate_mean\n",
        "* 기능 : 숫자들을 원소로 갖는 리스트의 원소들의 평균을 리턴.\n",
        "* 파라미터 : array(리스트)\n",
        "* 리턴 : 리스트 원소들의 평균."
      ],
      "metadata": {
        "id": "vuhc8WCGtPSg"
      }
    },
    {
      "cell_type": "code",
      "source": [
        "def calculate_mean(list):\n",
        "    \"\"\"\n",
        "    입력받은 list의 평균을 리턴.\n",
        "\n",
        "    @param list : int, float. 숫자만 입력\n",
        "    \"\"\"\n",
        "    return sum(list) / len(list)"
      ],
      "metadata": {
        "id": "8EaatcOvtbXv"
      },
      "execution_count": 113,
      "outputs": []
    },
    {
      "cell_type": "code",
      "source": [
        "def calculate_mean2(array):\n",
        "    \"\"\"\n",
        "    pass\n",
        "    \"\"\"\n",
        "    sum_res = 0\n",
        "    for i in array:\n",
        "        sum_res += i\n",
        "\n",
        "    return sum_res / len(array)"
      ],
      "metadata": {
        "id": "bkLYaPog0ZWF"
      },
      "execution_count": 172,
      "outputs": []
    },
    {
      "cell_type": "code",
      "source": [
        "# 오 쌤\n",
        "def calculate_mean3(array):\n",
        "    \"\"\"\n",
        "    숫자들을 원소로 갖는 리스트의 원소들의 평균을 리턴.\n",
        "\n",
        "    @param array - 숫자(int, float)들을 원소로 갖는 리스트.\n",
        "    @return 리스트 array의 원소들의 평균.\n",
        "    \"\"\"\n",
        "    return calculate_sum3(array) / len(array)"
      ],
      "metadata": {
        "id": "5MLn4W9WHvFa"
      },
      "execution_count": 173,
      "outputs": []
    },
    {
      "cell_type": "code",
      "source": [
        "calculate_mean([1, 2, 3, 4, 5])"
      ],
      "metadata": {
        "colab": {
          "base_uri": "https://localhost:8080/"
        },
        "id": "cTYjZEMIuEOt",
        "outputId": "f4abbf18-ca8c-4f10-a8c1-b88f82d1451f"
      },
      "execution_count": 159,
      "outputs": [
        {
          "output_type": "execute_result",
          "data": {
            "text/plain": [
              "3.0"
            ]
          },
          "metadata": {},
          "execution_count": 159
        }
      ]
    },
    {
      "cell_type": "code",
      "source": [
        "my_list = make_list(1, 5, 5)\n",
        "print(my_list)\n",
        "\n",
        "calculate_mean2(my_list)"
      ],
      "metadata": {
        "colab": {
          "base_uri": "https://localhost:8080/"
        },
        "id": "iJbdqqET0rz0",
        "outputId": "5cdfaec4-b53c-48c0-c900-a5f9541dc3ca"
      },
      "execution_count": 350,
      "outputs": [
        {
          "output_type": "stream",
          "name": "stdout",
          "text": [
            "[4, 4, 3, 2, 4]\n"
          ]
        },
        {
          "output_type": "execute_result",
          "data": {
            "text/plain": [
              "3.4"
            ]
          },
          "metadata": {},
          "execution_count": 350
        }
      ]
    },
    {
      "cell_type": "code",
      "source": [
        "my_list = make_list(0, 101, 5)\n",
        "print(my_list)\n",
        "calculate_mean3(my_list)"
      ],
      "metadata": {
        "colab": {
          "base_uri": "https://localhost:8080/"
        },
        "id": "MaoAUWkDH9Vj",
        "outputId": "88876082-b3a8-47fb-f594-f9f42fc5240e"
      },
      "execution_count": 355,
      "outputs": [
        {
          "output_type": "stream",
          "name": "stdout",
          "text": [
            "[66, 8, 48, 34, 73]\n"
          ]
        },
        {
          "output_type": "execute_result",
          "data": {
            "text/plain": [
              "45.8"
            ]
          },
          "metadata": {},
          "execution_count": 355
        }
      ]
    },
    {
      "cell_type": "markdown",
      "source": [
        "## 연습문제 4.\n",
        "\n",
        "* 함수 이름 : find_min_and_max\n",
        "* 기능 : 숫자들을 원소로 갖는 리스트를 아규먼트로 전달 받아서, 리스트의 최솟값과 최댓값을 리턴.\n",
        "* 파라미터 : 숫자들의 리스트\n",
        "* 리턴 : 리스트의 최솟값과 최댓값."
      ],
      "metadata": {
        "id": "w6kR8eQItcCG"
      }
    },
    {
      "cell_type": "code",
      "source": [
        "def find_min_and_max(list):\n",
        "    \"\"\"\n",
        "    입력받은 list 내 min, max 값을 리턴.\n",
        "\n",
        "    @param list : int, float. 숫자만 입력.\n",
        "    \"\"\"\n",
        "    result = sorted(list)\n",
        "    minimum = result[0]\n",
        "    maximum = result[-1]\n",
        "\n",
        "    return minimum, maximum"
      ],
      "metadata": {
        "id": "usd9WAW8tnVV"
      },
      "execution_count": 146,
      "outputs": []
    },
    {
      "cell_type": "code",
      "source": [
        "def find_min_and_max(list):\n",
        "    \"\"\"\n",
        "    입력받은 list 내 min, max 값을 리턴.\n",
        "\n",
        "    @param list : int, float. 숫자만 입력.\n",
        "    222\n",
        "    \"\"\"\n",
        "    min1 = min(list)\n",
        "    max1 = max(list)\n",
        "\n",
        "    return min1, max1"
      ],
      "metadata": {
        "id": "iaZJQ3oHxBDE"
      },
      "execution_count": 148,
      "outputs": []
    },
    {
      "cell_type": "code",
      "source": [
        "# 오쌤\n",
        "def find_min_and_max3(array):\n",
        "    \"\"\"\n",
        "    숫자들을 원소로 갖는 리스트에 최솟값과 최댓값을 리턴.\n",
        "\n",
        "    @param array - 숫자(int, float)들을 원소로 갖는 리스트.\n",
        "    @return array의 최솟값, 최댓값\n",
        "    \"\"\"\n",
        "    # return min(array), max(array)\n",
        "    min_value = array[0]\n",
        "    max_value = array[0]\n",
        "    for x in array:\n",
        "        if x > max_value:\n",
        "            max_value = x\n",
        "        if x < min_value:\n",
        "            min_value = x\n",
        "\n",
        "    return min_value, max_value"
      ],
      "metadata": {
        "id": "uwwtZBdgI46R"
      },
      "execution_count": 180,
      "outputs": []
    },
    {
      "cell_type": "code",
      "source": [
        "find_min_and_max([1, 2, 3])"
      ],
      "metadata": {
        "colab": {
          "base_uri": "https://localhost:8080/"
        },
        "id": "hp6siYbSuZyN",
        "outputId": "84f21207-d673-4ba0-ae7a-0a21e8ac6002"
      },
      "execution_count": 177,
      "outputs": [
        {
          "output_type": "execute_result",
          "data": {
            "text/plain": [
              "(1, 3)"
            ]
          },
          "metadata": {},
          "execution_count": 177
        }
      ]
    },
    {
      "cell_type": "code",
      "source": [
        "my_list = make_list(0, 101, 10)\n",
        "print(my_list)\n",
        "print(find_min_and_max3(my_list))"
      ],
      "metadata": {
        "colab": {
          "base_uri": "https://localhost:8080/"
        },
        "id": "3DSn7iRyJzHZ",
        "outputId": "eb8a841f-4961-48c3-c93a-1fdb56657284"
      },
      "execution_count": 184,
      "outputs": [
        {
          "output_type": "stream",
          "name": "stdout",
          "text": [
            "[86, 86, 48, 72, 93, 88, 68, 37, 6, 96]\n",
            "(6, 96)\n"
          ]
        }
      ]
    },
    {
      "cell_type": "markdown",
      "source": [
        "# Default Argument(기본 아규먼트)\n",
        "\n",
        "* 함수를 선언할 때 파라미터에 설정하는 기본 값.\n",
        "    * default parameter: 기본값이 설정된 파라미터(매개변수)\n",
        "* 함수를 호출할 때 default parameter에 아규먼트를 전달하지 않으면 default 아규먼트가 기본값으로 사용됨.\n",
        "* 함수를 호출할 때 default parameter에 아규먼트를 전달하면, 기본값 대신 전달한 아규먼트가 사용됨.\n"
      ],
      "metadata": {
        "id": "7McsOruELIyB"
      }
    },
    {
      "cell_type": "code",
      "source": [
        "print('안녕', 'Hello', '파이썬', 'Python')"
      ],
      "metadata": {
        "colab": {
          "base_uri": "https://localhost:8080/"
        },
        "id": "KCkmfGQFMPA5",
        "outputId": "845e1644-78b9-441d-ce82-9d930e8e37af"
      },
      "execution_count": 186,
      "outputs": [
        {
          "output_type": "stream",
          "name": "stdout",
          "text": [
            "안녕 Hello 파이썬 Python\n"
          ]
        }
      ]
    },
    {
      "cell_type": "code",
      "source": [
        "print('안녕', 'Hello', '파이썬', 'Python', sep=',')"
      ],
      "metadata": {
        "colab": {
          "base_uri": "https://localhost:8080/"
        },
        "id": "gxjJDUtYMmrp",
        "outputId": "8cc19279-2454-449f-ad78-5e7d82ac4497"
      },
      "execution_count": 189,
      "outputs": [
        {
          "output_type": "stream",
          "name": "stdout",
          "text": [
            "안녕,Hello,파이썬,Python\n"
          ]
        }
      ]
    },
    {
      "cell_type": "code",
      "source": [
        "def repeat_message(msg, n=1):\n",
        "    for _ in range(n):\n",
        "        print(msg)"
      ],
      "metadata": {
        "id": "5Ileyjh_NH4C"
      },
      "execution_count": 191,
      "outputs": []
    },
    {
      "cell_type": "code",
      "source": [
        "repeat_message('안녕하세요')    # default argument가 사용됨(n=1)"
      ],
      "metadata": {
        "colab": {
          "base_uri": "https://localhost:8080/"
        },
        "id": "qpdza4cGNWdg",
        "outputId": "e916d940-bab0-4d4c-d50e-afe1e6b85e70"
      },
      "execution_count": 195,
      "outputs": [
        {
          "output_type": "stream",
          "name": "stdout",
          "text": [
            "안녕하세요\n"
          ]
        }
      ]
    },
    {
      "cell_type": "code",
      "source": [
        "repeat_message('Hi', 5)     # 전달한 아규먼트 (5)가 사용됨."
      ],
      "metadata": {
        "colab": {
          "base_uri": "https://localhost:8080/"
        },
        "id": "sQaTkLRXNegp",
        "outputId": "6d67ee89-8e33-40de-f4b3-3cbb0ed933a6"
      },
      "execution_count": 196,
      "outputs": [
        {
          "output_type": "stream",
          "name": "stdout",
          "text": [
            "Hi\n",
            "Hi\n",
            "Hi\n",
            "Hi\n",
            "Hi\n"
          ]
        }
      ]
    },
    {
      "cell_type": "markdown",
      "source": [
        "**(주의)** default parameter(기본값을 갖는 파라미터)들은 기본값을 갖지 않는 파라미터(들) 뒤에서만 선언할 수 있음.\n",
        "\n",
        "default parameter를 기본값을 갖지 않는 파라미터보다 먼저 선언하면 문법 오류 발생!!"
      ],
      "metadata": {
        "id": "SKkdrHPFOaHC"
      }
    },
    {
      "cell_type": "code",
      "source": [
        "def test_success(x, y=0):\n",
        "    pass"
      ],
      "metadata": {
        "id": "SOjBbow1Ok8x"
      },
      "execution_count": 207,
      "outputs": []
    },
    {
      "cell_type": "code",
      "source": [
        "def test_success_2(x=0, y=0):\n",
        "    pass"
      ],
      "metadata": {
        "id": "MGmbX6xqPK8_"
      },
      "execution_count": 208,
      "outputs": []
    },
    {
      "cell_type": "code",
      "source": [
        "def test_failure(x=0, y):   # 기본값을 갖는 파라미터는 가장 마지막에 써야함.\n",
        "    pass"
      ],
      "metadata": {
        "colab": {
          "base_uri": "https://localhost:8080/",
          "height": 110
        },
        "id": "elMMaqMEPZcn",
        "outputId": "97b3b4c6-09ca-44c7-b14b-df3ec95819e5"
      },
      "execution_count": 210,
      "outputs": [
        {
          "output_type": "error",
          "ename": "SyntaxError",
          "evalue": "non-default argument follows default argument (<ipython-input-210-8c5aa848f683>, line 1)",
          "traceback": [
            "\u001b[0;36m  File \u001b[0;32m\"<ipython-input-210-8c5aa848f683>\"\u001b[0;36m, line \u001b[0;32m1\u001b[0m\n\u001b[0;31m    def test_failure(x=0, y):   # 기본값을 갖는 파라미터는 가장 마지막에 써야함.\u001b[0m\n\u001b[0m                          ^\u001b[0m\n\u001b[0;31mSyntaxError\u001b[0m\u001b[0;31m:\u001b[0m non-default argument follows default argument\n"
          ]
        }
      ]
    },
    {
      "cell_type": "code",
      "source": [
        "def test(x=0, y=0):\n",
        "    print(f'x = {x}, y = {y}')"
      ],
      "metadata": {
        "id": "cMGZVOcLP1Ag"
      },
      "execution_count": 211,
      "outputs": []
    },
    {
      "cell_type": "code",
      "source": [
        "test()"
      ],
      "metadata": {
        "colab": {
          "base_uri": "https://localhost:8080/"
        },
        "id": "f4pttzGjP8jn",
        "outputId": "a1c20c18-9f47-425a-feea-05bba49120d6"
      },
      "execution_count": 217,
      "outputs": [
        {
          "output_type": "stream",
          "name": "stdout",
          "text": [
            "x = 0, y = 0\n"
          ]
        }
      ]
    },
    {
      "cell_type": "code",
      "source": [
        "test(1)"
      ],
      "metadata": {
        "colab": {
          "base_uri": "https://localhost:8080/"
        },
        "id": "J3vK509sQHhp",
        "outputId": "da9f4e91-3cd4-4433-e802-55552ae0bcf7"
      },
      "execution_count": 218,
      "outputs": [
        {
          "output_type": "stream",
          "name": "stdout",
          "text": [
            "x = 1, y = 0\n"
          ]
        }
      ]
    },
    {
      "cell_type": "code",
      "source": [
        "test(0,2)"
      ],
      "metadata": {
        "colab": {
          "base_uri": "https://localhost:8080/"
        },
        "id": "EIc5oDg4QIZZ",
        "outputId": "08d65545-75f6-440a-c65e-f31fdbe6c8bb"
      },
      "execution_count": 220,
      "outputs": [
        {
          "output_type": "stream",
          "name": "stdout",
          "text": [
            "x = 0, y = 2\n"
          ]
        }
      ]
    },
    {
      "cell_type": "code",
      "source": [
        "test(y=2)"
      ],
      "metadata": {
        "colab": {
          "base_uri": "https://localhost:8080/"
        },
        "id": "09FgBp_fQnMn",
        "outputId": "bf758065-91cd-4173-ed44-94a90a16cf62"
      },
      "execution_count": 222,
      "outputs": [
        {
          "output_type": "stream",
          "name": "stdout",
          "text": [
            "x = 0, y = 2\n"
          ]
        }
      ]
    },
    {
      "cell_type": "markdown",
      "source": [
        "함수를 호출할 때 아규먼트를 전달하는 방법:\n",
        "\n",
        "* **positional argument** : 선언된 파라미터 순서대로 아규먼트(들)을 전달하는 방식.\n",
        "* **keyword argument** : `param = value` 형식으로 아규먼트(들)을 전달하는 방식.\n",
        "    * keyword argument 방식을 사용할 때는 파라미터 선언 순서를 지키지 않아도 됨.\n",
        "    * **(주의)** 함수를 호출할 때 positional argument와 keyword argument를 함께 사용하는 경우에는, **반드시** positional argument를 먼저 전달해야 함. keyword argument를 positional argument보다 먼저 전달할 수 없음!!"
      ],
      "metadata": {
        "id": "g2MwBMcdREV6"
      }
    },
    {
      "cell_type": "code",
      "source": [
        "test(y=-1, x=1)     # keyword argument 방식"
      ],
      "metadata": {
        "colab": {
          "base_uri": "https://localhost:8080/"
        },
        "id": "oJ-gcpuNRnnw",
        "outputId": "c937852a-481a-492d-df96-9eff789d4e14"
      },
      "execution_count": 223,
      "outputs": [
        {
          "output_type": "stream",
          "name": "stdout",
          "text": [
            "x = 1, y = -1\n"
          ]
        }
      ]
    },
    {
      "cell_type": "code",
      "source": [
        "test(100, y=-100)   # positional & keyword argument 방식을 함께 사용"
      ],
      "metadata": {
        "colab": {
          "base_uri": "https://localhost:8080/"
        },
        "id": "yhviOpaqR69g",
        "outputId": "34e9f748-49f0-49ba-cee9-e274bcf33b64"
      },
      "execution_count": 224,
      "outputs": [
        {
          "output_type": "stream",
          "name": "stdout",
          "text": [
            "x = 100, y = -100\n"
          ]
        }
      ]
    },
    {
      "cell_type": "code",
      "source": [
        "test(x=100, 200)    # keyword argument를 positional argument보다 먼저 사용하면 문법 오류 발생함."
      ],
      "metadata": {
        "colab": {
          "base_uri": "https://localhost:8080/",
          "height": 110
        },
        "id": "L2jcmqieSbow",
        "outputId": "1b1dba48-8c7f-42fb-fb1f-d014d8e1f2cb"
      },
      "execution_count": 225,
      "outputs": [
        {
          "output_type": "error",
          "ename": "SyntaxError",
          "evalue": "positional argument follows keyword argument (<ipython-input-225-3b7232cf04b2>, line 1)",
          "traceback": [
            "\u001b[0;36m  File \u001b[0;32m\"<ipython-input-225-3b7232cf04b2>\"\u001b[0;36m, line \u001b[0;32m1\u001b[0m\n\u001b[0;31m    test(x=100, 200)\u001b[0m\n\u001b[0m                   ^\u001b[0m\n\u001b[0;31mSyntaxError\u001b[0m\u001b[0;31m:\u001b[0m positional argument follows keyword argument\n"
          ]
        }
      ]
    },
    {
      "cell_type": "code",
      "source": [
        "print(sep=',', 'Hi', 'Hello')"
      ],
      "metadata": {
        "colab": {
          "base_uri": "https://localhost:8080/",
          "height": 110
        },
        "id": "mc7a2JtjTDgZ",
        "outputId": "964b9a1f-621a-4bcf-c02e-96ddc0cab394"
      },
      "execution_count": 226,
      "outputs": [
        {
          "output_type": "error",
          "ename": "SyntaxError",
          "evalue": "positional argument follows keyword argument (<ipython-input-226-52a01fcdd7f0>, line 1)",
          "traceback": [
            "\u001b[0;36m  File \u001b[0;32m\"<ipython-input-226-52a01fcdd7f0>\"\u001b[0;36m, line \u001b[0;32m1\u001b[0m\n\u001b[0;31m    print(sep=',', 'Hi', 'Hello')\u001b[0m\n\u001b[0m                                ^\u001b[0m\n\u001b[0;31mSyntaxError\u001b[0m\u001b[0;31m:\u001b[0m positional argument follows keyword argument\n"
          ]
        }
      ]
    },
    {
      "cell_type": "markdown",
      "source": [
        "# 가변길이 인수(Variable-length argument)\n",
        "\n",
        "* 함수를 호출할 때 아규먼트를 몇 개를 전달해도 됨.\n",
        "    * 아규먼트를 한 개도 전달하지 않아도 됨.\n",
        "* 함수를 선언할 때 파라미터 이름 앞에 '*'를 사용하면 가변길이 인수.\n",
        "* 함수 내부에서 가변길이 인수는 튜플(tuple)로 취급.\n",
        "    * 가변길이 인수는 인덱스를 가짐.\n",
        "    * 가변길이 인수는 for-in 문장에서 사용할 수 있음.\n",
        "* 가변길이 인수는 keyword argument 방식으로 전달할 수 없음.\n",
        "* 함수를 선언할 때 가변길이 인수는 1개만 선언할 수 있음. (2개는 선언 불가)\n",
        "* 가변길이 인수 뒤에서 선언된 파라미터(들)은 keyword argument 방식으로만 값을 전달할 수 있음."
      ],
      "metadata": {
        "id": "1AYMxbsaZxCQ"
      }
    },
    {
      "cell_type": "code",
      "source": [
        "print()\n",
        "print('Hello')\n",
        "print('Hello', '안녕')"
      ],
      "metadata": {
        "colab": {
          "base_uri": "https://localhost:8080/"
        },
        "id": "qPhvi4iyaHPP",
        "outputId": "5ac04d37-23ad-486a-b08e-092c3877ab86"
      },
      "execution_count": 230,
      "outputs": [
        {
          "output_type": "stream",
          "name": "stdout",
          "text": [
            "\n",
            "Hello\n",
            "Hello 안녕\n"
          ]
        }
      ]
    },
    {
      "cell_type": "code",
      "source": [
        "print('hello', '안녕', sep=',')"
      ],
      "metadata": {
        "colab": {
          "base_uri": "https://localhost:8080/"
        },
        "id": "VylsCiAJaJoW",
        "outputId": "0e01d969-5a51-41db-c874-4513b4003927"
      },
      "execution_count": 233,
      "outputs": [
        {
          "output_type": "stream",
          "name": "stdout",
          "text": [
            "hello,안녕\n"
          ]
        }
      ]
    },
    {
      "cell_type": "code",
      "source": [
        "def add_all(*args):\n",
        "    print(args)\n",
        "    result = 0\n",
        "    for x in args:\n",
        "        result += x\n",
        "\n",
        "    return result"
      ],
      "metadata": {
        "id": "dP_UfYVwdAtu"
      },
      "execution_count": 356,
      "outputs": []
    },
    {
      "cell_type": "code",
      "source": [
        "add_all(1,2,3,4,5,6,7,8,9,10)"
      ],
      "metadata": {
        "colab": {
          "base_uri": "https://localhost:8080/"
        },
        "id": "Yr3t2nZydZ6n",
        "outputId": "1f626fc1-5773-493f-d03c-09dc5b5fad86"
      },
      "execution_count": 357,
      "outputs": [
        {
          "output_type": "stream",
          "name": "stdout",
          "text": [
            "(1, 2, 3, 4, 5, 6, 7, 8, 9, 10)\n"
          ]
        },
        {
          "output_type": "execute_result",
          "data": {
            "text/plain": [
              "55"
            ]
          },
          "metadata": {},
          "execution_count": 357
        }
      ]
    },
    {
      "cell_type": "code",
      "source": [
        "add_all(1)"
      ],
      "metadata": {
        "colab": {
          "base_uri": "https://localhost:8080/"
        },
        "id": "d9MjPiK6draG",
        "outputId": "e413ddc5-ad58-4f23-c597-1683892e0564"
      },
      "execution_count": 243,
      "outputs": [
        {
          "output_type": "stream",
          "name": "stdout",
          "text": [
            "(1,)\n"
          ]
        },
        {
          "output_type": "execute_result",
          "data": {
            "text/plain": [
              "1"
            ]
          },
          "metadata": {},
          "execution_count": 243
        }
      ]
    },
    {
      "cell_type": "code",
      "source": [
        "add_all(1, 2, 10, 20)"
      ],
      "metadata": {
        "colab": {
          "base_uri": "https://localhost:8080/"
        },
        "id": "NzKt7M3Jdsfu",
        "outputId": "97d8c8c4-b70d-4b03-c8f3-06b80b2cadc3"
      },
      "execution_count": 244,
      "outputs": [
        {
          "output_type": "stream",
          "name": "stdout",
          "text": [
            "(1, 2, 10, 20)\n"
          ]
        },
        {
          "output_type": "execute_result",
          "data": {
            "text/plain": [
              "33"
            ]
          },
          "metadata": {},
          "execution_count": 244
        }
      ]
    },
    {
      "cell_type": "code",
      "source": [
        "add_all()"
      ],
      "metadata": {
        "colab": {
          "base_uri": "https://localhost:8080/"
        },
        "id": "8FKjO-ehdvsW",
        "outputId": "05051fa6-2d76-4e47-b725-08b72d9aeb7e"
      },
      "execution_count": 245,
      "outputs": [
        {
          "output_type": "stream",
          "name": "stdout",
          "text": [
            "()\n"
          ]
        },
        {
          "output_type": "execute_result",
          "data": {
            "text/plain": [
              "0"
            ]
          },
          "metadata": {},
          "execution_count": 245
        }
      ]
    },
    {
      "cell_type": "code",
      "source": [
        "add_all(args=(1, 2, 3, 4, 5))   # 가변길이 인수는 keyword argument 방식을 사용할 수 없음."
      ],
      "metadata": {
        "colab": {
          "base_uri": "https://localhost:8080/",
          "height": 147
        },
        "id": "WvaKQWpadzv-",
        "outputId": "8316a030-80af-4cbe-8fdb-cdec42e8c29b"
      },
      "execution_count": 248,
      "outputs": [
        {
          "output_type": "error",
          "ename": "TypeError",
          "evalue": "add_all() got an unexpected keyword argument 'args'",
          "traceback": [
            "\u001b[0;31m---------------------------------------------------------------------------\u001b[0m",
            "\u001b[0;31mTypeError\u001b[0m                                 Traceback (most recent call last)",
            "\u001b[0;32m<ipython-input-248-1895c93492f4>\u001b[0m in \u001b[0;36m<cell line: 0>\u001b[0;34m()\u001b[0m\n\u001b[0;32m----> 1\u001b[0;31m \u001b[0madd_all\u001b[0m\u001b[0;34m(\u001b[0m\u001b[0margs\u001b[0m\u001b[0;34m=\u001b[0m\u001b[0;34m(\u001b[0m\u001b[0;36m1\u001b[0m\u001b[0;34m,\u001b[0m \u001b[0;36m2\u001b[0m\u001b[0;34m,\u001b[0m \u001b[0;36m3\u001b[0m\u001b[0;34m,\u001b[0m \u001b[0;36m4\u001b[0m\u001b[0;34m,\u001b[0m \u001b[0;36m5\u001b[0m\u001b[0;34m)\u001b[0m\u001b[0;34m)\u001b[0m   \u001b[0;31m# 가변길이 인수는 keyword argument 방식을 사용할 수 없음.\u001b[0m\u001b[0;34m\u001b[0m\u001b[0;34m\u001b[0m\u001b[0m\n\u001b[0m",
            "\u001b[0;31mTypeError\u001b[0m: add_all() got an unexpected keyword argument 'args'"
          ]
        }
      ]
    },
    {
      "cell_type": "code",
      "source": [
        "add_all(1, 2, 3, 4, 5)"
      ],
      "metadata": {
        "colab": {
          "base_uri": "https://localhost:8080/"
        },
        "id": "WWVZPSh_Ewpo",
        "outputId": "fc77204f-2278-4bf4-dcd4-54dbecd340d1"
      },
      "execution_count": 360,
      "outputs": [
        {
          "output_type": "stream",
          "name": "stdout",
          "text": [
            "(1, 2, 3, 4, 5)\n"
          ]
        },
        {
          "output_type": "execute_result",
          "data": {
            "text/plain": [
              "15"
            ]
          },
          "metadata": {},
          "execution_count": 360
        }
      ]
    },
    {
      "cell_type": "code",
      "source": [
        "def test_var_args(x, *y):\n",
        "    print(f'x = {x}, y = {y}')"
      ],
      "metadata": {
        "id": "3GwvnZsTfTZv"
      },
      "execution_count": 249,
      "outputs": []
    },
    {
      "cell_type": "code",
      "source": [
        "test_var_args(1, 2)\n",
        "test_var_args(1, 2, 3, 4)\n",
        "test_var_args(1)      #> 가변길이 인수는 값을 전달하지 않아도 됨.\n",
        "# test_var_args()     #> 파라미터 x는 기본값이 없기 때문에 반드시 값(아규먼트)를 전달해야만 함.\n",
        "test_var_args(x=1)\n",
        "# test_var_args(x=1, 2, 3, 4, 5, 6) #> keyword argument가 positional argument들보다 먼저 사용될 수 없음."
      ],
      "metadata": {
        "colab": {
          "base_uri": "https://localhost:8080/"
        },
        "id": "yJ_5LteifgKH",
        "outputId": "f00757e1-8ef1-445b-d6d4-8edd48262c33"
      },
      "execution_count": 259,
      "outputs": [
        {
          "output_type": "stream",
          "name": "stdout",
          "text": [
            "x = 1, y = (2,)\n",
            "x = 1, y = (2, 3, 4)\n",
            "x = 1, y = ()\n",
            "x = 1, y = ()\n"
          ]
        }
      ]
    },
    {
      "cell_type": "code",
      "source": [
        "def test_var_error(*x, *y): # 함수를 선언할 때 가변길이 인수는 최대 한개만 사용 가능함.\n",
        "    pass"
      ],
      "metadata": {
        "colab": {
          "base_uri": "https://localhost:8080/",
          "height": 110
        },
        "id": "5KCaBWkpggl-",
        "outputId": "bc79333b-6984-44bb-d8b3-7e79b97a4b91"
      },
      "execution_count": 261,
      "outputs": [
        {
          "output_type": "error",
          "ename": "SyntaxError",
          "evalue": "* argument may appear only once (<ipython-input-261-158e6b07a84e>, line 1)",
          "traceback": [
            "\u001b[0;36m  File \u001b[0;32m\"<ipython-input-261-158e6b07a84e>\"\u001b[0;36m, line \u001b[0;32m1\u001b[0m\n\u001b[0;31m    def test_var_error(*x, *y): # 함수를 선언할 때 가변길이 인수는 한개만 사용 가능함.\u001b[0m\n\u001b[0m                           ^\u001b[0m\n\u001b[0;31mSyntaxError\u001b[0m\u001b[0;31m:\u001b[0m * argument may appear only once\n"
          ]
        }
      ]
    },
    {
      "cell_type": "code",
      "source": [
        "def test_var_args2(*x, y):\n",
        "    pass"
      ],
      "metadata": {
        "id": "oATx41xhmBO3"
      },
      "execution_count": 262,
      "outputs": []
    },
    {
      "cell_type": "code",
      "source": [
        "# test_var_args2(1, 2, 3)\n",
        "test_var_args2(1,2, y=3)    #> 파라미터 y에 값을 전달할 수 있는 방법은 오직 keyword argument 방식."
      ],
      "metadata": {
        "id": "sAgmRdpNmL0N"
      },
      "execution_count": 362,
      "outputs": []
    },
    {
      "cell_type": "code",
      "source": [
        "def fn(a, b, *, x, y, z):   # 뭐가 들어가긴 들어가는건지?\n",
        "    pass"
      ],
      "metadata": {
        "id": "Oqfuj5tNm6fm"
      },
      "execution_count": 269,
      "outputs": []
    },
    {
      "cell_type": "code",
      "source": [
        "fn(1, 2, x=123, y=234, z=345)   # x,y,z는 keyword argument로서 값을 지정해서 할당해야함."
      ],
      "metadata": {
        "id": "z58QRS-YnWoB"
      },
      "execution_count": 365,
      "outputs": []
    },
    {
      "cell_type": "code",
      "source": [
        "def calculate(*values, op):\n",
        "    \"\"\"\n",
        "    op = '+'인 경우, values의 합계를 리턴.\n",
        "    op = '*'인 경우, values의 곱을 리턴.\n",
        "    (예)\n",
        "    calculate(1, 2, 3, '+') = 1 + 2 + 3\n",
        "    calculate(1, 2, 3, '*') = 1 * 2 * 3\n",
        "    values에 전달된 값이 없으면, op='+'이면 0을 리턴, op='*'이면 1을 리턴.\n",
        "    op의 값이 '+' 또는 '*'가 아니면 ValueError를 발생.\n",
        "    \"\"\"\n",
        "    if len(values) == 0:\n",
        "        return\n",
        "    if op == '+':\n",
        "        res = 0\n",
        "        for i in values:\n",
        "            res += i\n",
        "    elif op == '*':\n",
        "        res = 1\n",
        "        for x in values:\n",
        "            res *= x\n",
        "    else:\n",
        "        raise ValueError(\"아규먼트 op는 + 또는 *만 가능합니다.\")\n",
        "    return res"
      ],
      "metadata": {
        "id": "38nK_jiToAWf"
      },
      "execution_count": 300,
      "outputs": []
    },
    {
      "cell_type": "code",
      "source": [
        "calculate(1,2,3,4,5, op='+')"
      ],
      "metadata": {
        "colab": {
          "base_uri": "https://localhost:8080/"
        },
        "id": "ReKv8G11owMm",
        "outputId": "7bf8ab93-1b2d-4dd4-b8e2-5d3aadd73b3d"
      },
      "execution_count": 288,
      "outputs": [
        {
          "output_type": "execute_result",
          "data": {
            "text/plain": [
              "15"
            ]
          },
          "metadata": {},
          "execution_count": 288
        }
      ]
    },
    {
      "cell_type": "code",
      "source": [
        "calculate(1, 2, 3, 4, 5, op='*')"
      ],
      "metadata": {
        "colab": {
          "base_uri": "https://localhost:8080/"
        },
        "id": "YhDwI3sGpBLO",
        "outputId": "ab4baffe-4a03-4556-df8c-e70de612ea9d"
      },
      "execution_count": 290,
      "outputs": [
        {
          "output_type": "execute_result",
          "data": {
            "text/plain": [
              "120"
            ]
          },
          "metadata": {},
          "execution_count": 290
        }
      ]
    },
    {
      "cell_type": "code",
      "source": [
        "calculate(1, 2, 3, 4, 5, op='-')"
      ],
      "metadata": {
        "colab": {
          "base_uri": "https://localhost:8080/",
          "height": 257
        },
        "id": "t6OyDUqVpa-W",
        "outputId": "2f827f2b-bd6c-4d1c-ab49-b2b8ba769a4e"
      },
      "execution_count": 293,
      "outputs": [
        {
          "output_type": "error",
          "ename": "ValueError",
          "evalue": "아규먼트 op는 + 또는 *만 가능합니다.",
          "traceback": [
            "\u001b[0;31m---------------------------------------------------------------------------\u001b[0m",
            "\u001b[0;31mValueError\u001b[0m                                Traceback (most recent call last)",
            "\u001b[0;32m<ipython-input-293-19aeaa095180>\u001b[0m in \u001b[0;36m<cell line: 0>\u001b[0;34m()\u001b[0m\n\u001b[0;32m----> 1\u001b[0;31m \u001b[0mcalculate\u001b[0m\u001b[0;34m(\u001b[0m\u001b[0;36m1\u001b[0m\u001b[0;34m,\u001b[0m \u001b[0;36m2\u001b[0m\u001b[0;34m,\u001b[0m \u001b[0;36m3\u001b[0m\u001b[0;34m,\u001b[0m \u001b[0;36m4\u001b[0m\u001b[0;34m,\u001b[0m \u001b[0;36m5\u001b[0m\u001b[0;34m,\u001b[0m \u001b[0mop\u001b[0m\u001b[0;34m=\u001b[0m\u001b[0;34m'-'\u001b[0m\u001b[0;34m)\u001b[0m\u001b[0;34m\u001b[0m\u001b[0;34m\u001b[0m\u001b[0m\n\u001b[0m",
            "\u001b[0;32m<ipython-input-287-94cc1aedd221>\u001b[0m in \u001b[0;36mcalculate\u001b[0;34m(op, *values)\u001b[0m\n\u001b[1;32m     18\u001b[0m             \u001b[0mres\u001b[0m \u001b[0;34m*=\u001b[0m \u001b[0mx\u001b[0m\u001b[0;34m\u001b[0m\u001b[0;34m\u001b[0m\u001b[0m\n\u001b[1;32m     19\u001b[0m     \u001b[0;32melse\u001b[0m\u001b[0;34m:\u001b[0m\u001b[0;34m\u001b[0m\u001b[0;34m\u001b[0m\u001b[0m\n\u001b[0;32m---> 20\u001b[0;31m         \u001b[0;32mraise\u001b[0m \u001b[0mValueError\u001b[0m\u001b[0;34m(\u001b[0m\u001b[0;34m\"아규먼트 op는 + 또는 *만 가능합니다.\"\u001b[0m\u001b[0;34m)\u001b[0m\u001b[0;34m\u001b[0m\u001b[0;34m\u001b[0m\u001b[0m\n\u001b[0m\u001b[1;32m     21\u001b[0m     \u001b[0;32mreturn\u001b[0m \u001b[0mres\u001b[0m\u001b[0;34m\u001b[0m\u001b[0;34m\u001b[0m\u001b[0m\n",
            "\u001b[0;31mValueError\u001b[0m: 아규먼트 op는 + 또는 *만 가능합니다."
          ]
        }
      ]
    },
    {
      "cell_type": "code",
      "source": [
        "calculate(op='+')"
      ],
      "metadata": {
        "id": "ncGKn2S8rH9V"
      },
      "execution_count": 301,
      "outputs": []
    },
    {
      "cell_type": "code",
      "source": [
        "calculate(op='*')"
      ],
      "metadata": {
        "id": "VE7GjDNdrWwf"
      },
      "execution_count": 302,
      "outputs": []
    },
    {
      "cell_type": "markdown",
      "source": [
        "# 가변길이 키워드 아규먼트(Variable-length keyword argument)\n",
        "\n",
        "* 함수를 선언할 때 파라미터 이름 앞에 `**`를 사용.\n",
        "* 함수를 호출할 때, `param1 = value1, param2 = value2, ...` 형식으로 아규먼트들을 전달.\n",
        "    * 가변길이 인수 --> 전달하는 아규먼트 개수는 제한이 없음.\n",
        "    * 키워드 인수 --> 반드시 키워드(파라미터 이름)와 함께 아규먼트를 전달해야 함.\n",
        "        * 키워드는 자유롭게 만들 수 있음.\n",
        "* 함수 내부에서는 가변길이 키워드 아규먼트는 dict 타입 객체로 취급.\n",
        "    * 키워드(파라미터 이름)는 dict의 키(key).\n",
        "    * 아규먼트(값)은 dict의 값(value)이 됨.\n",
        "* 가변길이 키워드 인수는 함수에서 오직 1개만 선언할 수 있음."
      ],
      "metadata": {
        "id": "rudGAYU5ycpe"
      }
    },
    {
      "cell_type": "code",
      "source": [
        "def test_kwargs(*args, **kwargs):\n",
        "    print(f'args = {args}')\n",
        "    print(f'kwargs = {kwargs}')"
      ],
      "metadata": {
        "id": "BBSVN5Ooz7kN"
      },
      "execution_count": 303,
      "outputs": []
    },
    {
      "cell_type": "code",
      "source": [
        "test_kwargs()"
      ],
      "metadata": {
        "colab": {
          "base_uri": "https://localhost:8080/"
        },
        "id": "jwaVclc40jOW",
        "outputId": "4dcc318e-2ae8-420c-b310-dc6520df95e8"
      },
      "execution_count": 304,
      "outputs": [
        {
          "output_type": "stream",
          "name": "stdout",
          "text": [
            "args = ()\n",
            "kwargs = {}\n"
          ]
        }
      ]
    },
    {
      "cell_type": "code",
      "source": [
        "test_kwargs(1, 2, 'a', 'b')"
      ],
      "metadata": {
        "colab": {
          "base_uri": "https://localhost:8080/"
        },
        "id": "gxbt0cuFycTm",
        "outputId": "6c30dc2f-eef3-41d8-f94f-73a1b1ab808e"
      },
      "execution_count": 306,
      "outputs": [
        {
          "output_type": "stream",
          "name": "stdout",
          "text": [
            "args = (1, 2, 'a', 'b')\n",
            "kwargs = {}\n"
          ]
        }
      ]
    },
    {
      "cell_type": "code",
      "source": [
        "test_kwargs(1, 2, 3, name='오쌤', age=16)"
      ],
      "metadata": {
        "colab": {
          "base_uri": "https://localhost:8080/"
        },
        "id": "pt8EHaNC0851",
        "outputId": "33340961-14aa-4111-81d4-ff39aa161814"
      },
      "execution_count": 307,
      "outputs": [
        {
          "output_type": "stream",
          "name": "stdout",
          "text": [
            "args = (1, 2, 3)\n",
            "kwargs = {'name': '오쌤', 'age': 16}\n"
          ]
        }
      ]
    },
    {
      "cell_type": "code",
      "source": [
        "def test_kwargs2(**kwargs, *args):\n",
        "    pass\n",
        "#> 가변길이 키워드 인수가 가변길이 인수보다 먼저 선언될 수 없음."
      ],
      "metadata": {
        "colab": {
          "base_uri": "https://localhost:8080/",
          "height": 110
        },
        "id": "67Muj6xC1GZu",
        "outputId": "f6115027-8551-4373-e1f7-36c8912755aa"
      },
      "execution_count": 308,
      "outputs": [
        {
          "output_type": "error",
          "ename": "SyntaxError",
          "evalue": "arguments cannot follow var-keyword argument (<ipython-input-308-1641413f0308>, line 1)",
          "traceback": [
            "\u001b[0;36m  File \u001b[0;32m\"<ipython-input-308-1641413f0308>\"\u001b[0;36m, line \u001b[0;32m1\u001b[0m\n\u001b[0;31m    def test_kwargs2(**kwargs, *args):\u001b[0m\n\u001b[0m                               ^\u001b[0m\n\u001b[0;31mSyntaxError\u001b[0m\u001b[0;31m:\u001b[0m arguments cannot follow var-keyword argument\n"
          ]
        }
      ]
    },
    {
      "cell_type": "code",
      "source": [
        "def make_student_info(id, name, **kwargs):\n",
        "    student = {'id' : id, 'name' : name}\n",
        "    print(kwargs)\n",
        "    for k,v in kwargs.items():\n",
        "        if k in ('email', 'phone'):\n",
        "            student[k] = v\n",
        "        # else:\n",
        "        #     raise TypeError(f'사용할 수 없는 키워드 - {k}')\n",
        "\n",
        "    return student"
      ],
      "metadata": {
        "id": "W7GkhmYF1y39"
      },
      "execution_count": 325,
      "outputs": []
    },
    {
      "cell_type": "code",
      "source": [
        "make_student_info(1, '홍길동')"
      ],
      "metadata": {
        "colab": {
          "base_uri": "https://localhost:8080/"
        },
        "id": "MmMLghS43Sot",
        "outputId": "9dfb37ca-39ec-4a34-ec57-b2cb822ccfab"
      },
      "execution_count": 318,
      "outputs": [
        {
          "output_type": "stream",
          "name": "stdout",
          "text": [
            "{}\n"
          ]
        },
        {
          "output_type": "execute_result",
          "data": {
            "text/plain": [
              "{'id': 1, 'name': '홍길동'}"
            ]
          },
          "metadata": {},
          "execution_count": 318
        }
      ]
    },
    {
      "cell_type": "code",
      "source": [
        "make_student_info(1100, 'Scott', kwargs= 'scott@test.com')"
      ],
      "metadata": {
        "colab": {
          "base_uri": "https://localhost:8080/"
        },
        "id": "AcYekAY34R7t",
        "outputId": "0f41c9de-e54d-40a4-e9e1-7f1483d374c1"
      },
      "execution_count": 321,
      "outputs": [
        {
          "output_type": "stream",
          "name": "stdout",
          "text": [
            "{'kwargs': 'scott@test.com'}\n"
          ]
        },
        {
          "output_type": "execute_result",
          "data": {
            "text/plain": [
              "{'id': 1100, 'name': 'Scott'}"
            ]
          },
          "metadata": {},
          "execution_count": 321
        }
      ]
    },
    {
      "cell_type": "code",
      "source": [
        "make_student_info(2000, 'King',\n",
        "                  phone='010-0000-0000',\n",
        "                  email='king@itwill.com',\n",
        "                  dept='강의장10',\n",
        "                  grade=3)"
      ],
      "metadata": {
        "colab": {
          "base_uri": "https://localhost:8080/"
        },
        "id": "NV-me2Nd5mZ1",
        "outputId": "6be0bf7b-8b38-4363-a170-2e8df73e3aeb"
      },
      "execution_count": 326,
      "outputs": [
        {
          "output_type": "stream",
          "name": "stdout",
          "text": [
            "{'phone': '010-0000-0000', 'email': 'king@itwill.com', 'dept': '강의장10', 'grade': 3}\n"
          ]
        },
        {
          "output_type": "execute_result",
          "data": {
            "text/plain": [
              "{'id': 2000,\n",
              " 'name': 'King',\n",
              " 'phone': '010-0000-0000',\n",
              " 'email': 'king@itwill.com'}"
            ]
          },
          "metadata": {},
          "execution_count": 326
        }
      ]
    }
  ]
}
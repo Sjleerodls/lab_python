{
  "nbformat": 4,
  "nbformat_minor": 0,
  "metadata": {
    "colab": {
      "provenance": [],
      "toc_visible": true,
      "authorship_tag": "ABX9TyPEGdOFvwCbFoWOAz/dcSdI",
      "include_colab_link": true
    },
    "kernelspec": {
      "name": "python3",
      "display_name": "Python 3"
    },
    "language_info": {
      "name": "python"
    }
  },
  "cells": [
    {
      "cell_type": "markdown",
      "metadata": {
        "id": "view-in-github",
        "colab_type": "text"
      },
      "source": [
        "<a href=\"https://colab.research.google.com/github/Sjleerodls/lab_python/blob/main/python11_function.ipynb\" target=\"_parent\"><img src=\"https://colab.research.google.com/assets/colab-badge.svg\" alt=\"Open In Colab\"/></a>"
      ]
    },
    {
      "cell_type": "markdown",
      "source": [
        "# 함수(Function)"
      ],
      "metadata": {
        "id": "ky1G8YkfTcyr"
      }
    },
    {
      "cell_type": "code",
      "execution_count": 4,
      "metadata": {
        "colab": {
          "base_uri": "https://localhost:8080/"
        },
        "id": "fSC_NXehTZ9l",
        "outputId": "e1be1400-8b3e-47e6-93d4-ec1774d8a6b7"
      },
      "outputs": [
        {
          "output_type": "stream",
          "name": "stdout",
          "text": [
            "12\n"
          ]
        }
      ],
      "source": [
        "result = len('hello python')\n",
        "print(result)"
      ]
    },
    {
      "cell_type": "markdown",
      "source": [
        "* **함수(function)** : 기능을 수행하는 코드 블록.\n",
        "* **인수(argument)** : 함수를 호출할 때 함수에게 전달하는 값.\n",
        "* **매개변수(parameter)** : 아규먼트를 저장하기 위해서 함수를 정의할 때 선언하는 변수.\n",
        "* **반환값(return value)** : 함수가 기능을 수행하고 그 결과로 함수를 호출한 곳에 되돌려 주는 값.\n",
        "    * 함수에 따라서 반환값이 있는 함수도 있고, 반환값이 없는 함수도 있음."
      ],
      "metadata": {
        "id": "B65Sods0UqPt"
      }
    },
    {
      "cell_type": "markdown",
      "source": [
        "# 함수 선언(정의)\n",
        "\n",
        "```\n",
        "def function_name([parameter, ...]):\n",
        "    [\"\"\"문서 주석(documentation comments)\"\"\"]\n",
        "    함수가 수행할 코드 블록\n",
        "    return 반환값\n",
        "```\n",
        "\n",
        "* 반환값이 없는 함수는 return 문장을 생략하거나, return None으로 문장을 사용할 수 있음.\n",
        "* return 문장의 의미 :\n",
        "    * 함수 종료\n",
        "    * 함수를 호출한 곳에 값을 되돌려 줌."
      ],
      "metadata": {
        "id": "OyqzF2IWWYwk"
      }
    },
    {
      "cell_type": "code",
      "source": [
        "def subtract(x,y):\n",
        "    \"\"\" 숫자 x, y를 전달 받아서 x - y를 리턴하는 함수 \"\"\"\n",
        "    return x - y"
      ],
      "metadata": {
        "id": "6d6NHhUKVd38"
      },
      "execution_count": 13,
      "outputs": []
    },
    {
      "cell_type": "code",
      "source": [
        "result = subtract(1, 2)\n",
        "print(result)"
      ],
      "metadata": {
        "colab": {
          "base_uri": "https://localhost:8080/"
        },
        "id": "Vu3ksEr7T95E",
        "outputId": "904b49ef-a9e6-4f66-c3d6-e0f442eff88b"
      },
      "execution_count": 16,
      "outputs": [
        {
          "output_type": "stream",
          "name": "stdout",
          "text": [
            "-1\n"
          ]
        }
      ]
    },
    {
      "cell_type": "markdown",
      "source": [
        "## 값을 반환하지 않는 함수"
      ],
      "metadata": {
        "id": "frwlA9wDf874"
      }
    },
    {
      "cell_type": "code",
      "source": [
        "def repeat_message(msg, n):\n",
        "    \"\"\"\n",
        "    msg를 n번 반복해서 출력.\n",
        "\n",
        "    @param msg - 출력할 문자열.\n",
        "    @param m - 반복할 횟수. 0 또는 양의 정수.\n",
        "    \"\"\"\n",
        "\n",
        "    for _ in range(n):\n",
        "        print(msg)\n",
        "\n",
        "    # return None"
      ],
      "metadata": {
        "id": "7u0ZMV-7f8Wy"
      },
      "execution_count": 26,
      "outputs": []
    },
    {
      "cell_type": "code",
      "source": [
        "repeat_message('안녕하세요', 5)"
      ],
      "metadata": {
        "colab": {
          "base_uri": "https://localhost:8080/"
        },
        "id": "nBQuCr2sg4P9",
        "outputId": "51f81a04-b986-442c-a1a6-acf89e00cc21"
      },
      "execution_count": 27,
      "outputs": [
        {
          "output_type": "stream",
          "name": "stdout",
          "text": [
            "안녕하세요\n",
            "안녕하세요\n",
            "안녕하세요\n",
            "안녕하세요\n",
            "안녕하세요\n"
          ]
        }
      ]
    },
    {
      "cell_type": "code",
      "source": [
        "repeat_message('Hello', 3)"
      ],
      "metadata": {
        "colab": {
          "base_uri": "https://localhost:8080/"
        },
        "id": "r1q2ax1mh5-l",
        "outputId": "bbd4b964-eb45-47eb-fe10-130bcee19f1f"
      },
      "execution_count": 28,
      "outputs": [
        {
          "output_type": "stream",
          "name": "stdout",
          "text": [
            "Hello\n",
            "Hello\n",
            "Hello\n"
          ]
        }
      ]
    },
    {
      "cell_type": "markdown",
      "source": [
        "## 2개 이상의 값을 반환하는 함수"
      ],
      "metadata": {
        "id": "G8ueOmWiiks3"
      }
    },
    {
      "cell_type": "code",
      "source": [
        "def plus_and_minus(x, y):\n",
        "    \"\"\"\n",
        "    x + y, x - y 를 리턴.\n",
        "\n",
        "    @param x - 숫자 타입(int 또는 float)\n",
        "    @param y - 숫자 타입(int 또는 float)\n",
        "    @return x + y, x - y\n",
        "    \"\"\"\n",
        "\n",
        "    # return ret_value1, ret_value2, ...\n",
        "    return x + y, x - y"
      ],
      "metadata": {
        "id": "NMz6Ux-XimWA"
      },
      "execution_count": 31,
      "outputs": []
    },
    {
      "cell_type": "code",
      "source": [
        "a, b = plus_and_minus(1, 2)\n",
        "print(f'a = {a}, b = {b}')"
      ],
      "metadata": {
        "colab": {
          "base_uri": "https://localhost:8080/"
        },
        "id": "_h53c1tIi3sn",
        "outputId": "b59f9229-67e0-4976-9e82-9cdf5a67b434"
      },
      "execution_count": 37,
      "outputs": [
        {
          "output_type": "stream",
          "name": "stdout",
          "text": [
            "a = 3, b = -1\n"
          ]
        }
      ]
    },
    {
      "cell_type": "code",
      "source": [
        "result = plus_and_minus(3, 4)\n",
        "print(type(result)) # result : 리턴 값들을 저장하는 튜플\n",
        "print(result)"
      ],
      "metadata": {
        "colab": {
          "base_uri": "https://localhost:8080/"
        },
        "id": "NG9oZjWzjjD_",
        "outputId": "941e193c-a343-481a-fda0-5ec18cd0b467"
      },
      "execution_count": 39,
      "outputs": [
        {
          "output_type": "stream",
          "name": "stdout",
          "text": [
            "<class 'tuple'>\n",
            "(7, -1)\n"
          ]
        }
      ]
    },
    {
      "cell_type": "markdown",
      "source": [
        "## 연습문제 1.\n",
        "\n",
        "* 함수 이름 : make_list\n",
        "* 기능 : [start, end) 범위의 정수 난수 n개를 아이템으로 갖는 리스트를 리턴\n",
        "* 파라미터 : start(정수), end(정수), n(0 또는 양의 정수)\n",
        "* 리턴: 리스트."
      ],
      "metadata": {
        "id": "kRzbChb3lFvh"
      }
    },
    {
      "cell_type": "code",
      "source": [
        "import random\n",
        "\n",
        "def make_list(start, end, n):\n",
        "    \"\"\"\n",
        "    [start, end) 범위의 정수 난수 n개를 아이템으로 갖는 리스트를 리턴.\n",
        "\n",
        "    @param start : int. 난수 시작 범위.\n",
        "    @param end : int. 난수 종료 범위.\n",
        "    @param n : int. 리스트의 아이템 개수. 0 또는 양의 정수.\n",
        "    @return 난수들의 리스트.\n",
        "    \"\"\"\n",
        "\n",
        "    # vin = []\n",
        "\n",
        "    # for x in range(n):\n",
        "    #     vin.append(random.randrange(start, end))\n",
        "\n",
        "    vin = [random.randrange(start, end) for x in range(n)]\n",
        "    return vin"
      ],
      "metadata": {
        "id": "6TyCex8WlPHg"
      },
      "execution_count": 84,
      "outputs": []
    },
    {
      "cell_type": "code",
      "source": [
        "my_list = make_list(0, 2, 10)\n",
        "print(my_list)"
      ],
      "metadata": {
        "colab": {
          "base_uri": "https://localhost:8080/"
        },
        "id": "_-vGiBIelyVu",
        "outputId": "30a09e43-3c53-4524-9c90-deb6c93b2788"
      },
      "execution_count": 89,
      "outputs": [
        {
          "output_type": "stream",
          "name": "stdout",
          "text": [
            "[0, 0, 1, 0, 0, 1, 0, 1, 1, 1]\n"
          ]
        }
      ]
    },
    {
      "cell_type": "code",
      "source": [
        "make_list(0, 101, 5)"
      ],
      "metadata": {
        "colab": {
          "base_uri": "https://localhost:8080/"
        },
        "id": "HI3kwftOpAjq",
        "outputId": "c548e524-6d60-4edf-e98a-e74de8145557"
      },
      "execution_count": 90,
      "outputs": [
        {
          "output_type": "execute_result",
          "data": {
            "text/plain": [
              "[34, 5, 7, 36, 4]"
            ]
          },
          "metadata": {},
          "execution_count": 90
        }
      ]
    },
    {
      "cell_type": "markdown",
      "source": [
        "## 연습문제 2.\n",
        "\n",
        "* 함수 이름 : calculate_sum\n",
        "* 기능 : 숫자(정수, 실수)들을 원소로 갖는 리스트를 전달 받아서, 그 리스트의 모든 원소들의 합계를 리턴.\n",
        "* 파라미터 : array(리스트)\n",
        "* 리턴 : 리스트 원소들의 합계."
      ],
      "metadata": {
        "id": "rFiUiDCHtBe5"
      }
    },
    {
      "cell_type": "code",
      "source": [
        "def calculate_sum(list):\n",
        "    \"\"\"\n",
        "    입력받은 list내 모든 숫자의 합계를 리턴.\n",
        "\n",
        "    @param list : int, float. 숫자만 입력\n",
        "    \"\"\"\n",
        "    return sum(list)"
      ],
      "metadata": {
        "id": "gT6EQGldtOvQ"
      },
      "execution_count": 112,
      "outputs": []
    },
    {
      "cell_type": "code",
      "source": [
        "def calculate_sum2(list):\n",
        "    \"\"\"\n",
        "    입력받은 list 내 모든 숫자의 합계를 리턴.\n",
        "\n",
        "    @param list : int, float. 숫자만 입력\n",
        "    \"\"\"\n",
        "    v = 0\n",
        "    for i in list:\n",
        "        v += i\n",
        "    return v"
      ],
      "metadata": {
        "id": "3OtCekx9zi4m"
      },
      "execution_count": 153,
      "outputs": []
    },
    {
      "cell_type": "code",
      "source": [
        "# 오쌤\n",
        "def calculate_sum3(array):\n",
        "    \"\"\"\n",
        "    숫자(정수, 실수)들을 원소로 갖는 리스트를 전달받아서, 그 리스트의 모든 원소들의 합계를 리턴.\n",
        "\n",
        "    @param array - 숫자(int, float)들의 리스트.\n",
        "    @return - array의 모든 원소들의 합계.\n",
        "    \"\"\"\n",
        "    result = 0\n",
        "    for x in array:\n",
        "        result += x\n",
        "\n",
        "    return result"
      ],
      "metadata": {
        "id": "062-Wh-4z7RN"
      },
      "execution_count": 155,
      "outputs": []
    },
    {
      "cell_type": "code",
      "source": [
        "calculate_sum([1, 2, 3, 4, 5])"
      ],
      "metadata": {
        "colab": {
          "base_uri": "https://localhost:8080/"
        },
        "id": "wPZPrDiDtxme",
        "outputId": "cce6ed03-81f8-4199-bd3e-ee6b65a87cfb"
      },
      "execution_count": 151,
      "outputs": [
        {
          "output_type": "execute_result",
          "data": {
            "text/plain": [
              "15"
            ]
          },
          "metadata": {},
          "execution_count": 151
        }
      ]
    },
    {
      "cell_type": "code",
      "source": [
        "calculate_sum2([1, 2, 3, 4, 5])"
      ],
      "metadata": {
        "colab": {
          "base_uri": "https://localhost:8080/"
        },
        "id": "AQwTbB3Wzxzm",
        "outputId": "b7d7d576-5b47-43a4-a5bf-2fde9de45df6"
      },
      "execution_count": 156,
      "outputs": [
        {
          "output_type": "execute_result",
          "data": {
            "text/plain": [
              "15"
            ]
          },
          "metadata": {},
          "execution_count": 156
        }
      ]
    },
    {
      "cell_type": "code",
      "source": [
        "my_list = make_list(1, 10, 3)\n",
        "print(my_list)\n",
        "result = calculate_sum3(my_list)\n",
        "print(result)"
      ],
      "metadata": {
        "colab": {
          "base_uri": "https://localhost:8080/"
        },
        "id": "KjpyUMs90QWF",
        "outputId": "fad436c2-fbd7-415b-eda1-861ce60ef981"
      },
      "execution_count": 166,
      "outputs": [
        {
          "output_type": "stream",
          "name": "stdout",
          "text": [
            "[5, 5, 1]\n",
            "11\n"
          ]
        }
      ]
    },
    {
      "cell_type": "markdown",
      "source": [
        "## 연습문제 3.\n",
        "\n",
        "* 함수 이름 : calculate_mean\n",
        "* 기능 : 숫자들을 원소로 갖는 리스트의 원소들의 평균을 리턴.\n",
        "* 파라미터 : array(리스트)\n",
        "* 리턴 : 리스트 원소들의 평균."
      ],
      "metadata": {
        "id": "vuhc8WCGtPSg"
      }
    },
    {
      "cell_type": "code",
      "source": [
        "def calculate_mean(list):\n",
        "    \"\"\"\n",
        "    입력받은 list의 평균을 리턴.\n",
        "\n",
        "    @param list : int, float. 숫자만 입력\n",
        "    \"\"\"\n",
        "    return sum(list) / len(list)"
      ],
      "metadata": {
        "id": "8EaatcOvtbXv"
      },
      "execution_count": 113,
      "outputs": []
    },
    {
      "cell_type": "code",
      "source": [
        "def calculate_mean2(array):\n",
        "    \"\"\"\n",
        "    pass\n",
        "    \"\"\"\n",
        "    sum_res = 0\n",
        "    for i in array:\n",
        "        sum_res += i\n",
        "\n",
        "    return sum_res / len(array)"
      ],
      "metadata": {
        "id": "bkLYaPog0ZWF"
      },
      "execution_count": 172,
      "outputs": []
    },
    {
      "cell_type": "code",
      "source": [
        "# 오 쌤\n",
        "def calculate_mean3(array):\n",
        "    \"\"\"\n",
        "    숫자들을 원소로 갖는 리스트의 원소들의 평균을 리턴.\n",
        "\n",
        "    @param array - 숫자(int, float)들을 원소로 갖는 리스트.\n",
        "    @return 리스트 array의 원소들의 평균.\n",
        "    \"\"\"\n",
        "    return calculate_sum3(array) / len(array)"
      ],
      "metadata": {
        "id": "5MLn4W9WHvFa"
      },
      "execution_count": 173,
      "outputs": []
    },
    {
      "cell_type": "code",
      "source": [
        "calculate_mean([1, 2, 3, 4, 5])"
      ],
      "metadata": {
        "colab": {
          "base_uri": "https://localhost:8080/"
        },
        "id": "cTYjZEMIuEOt",
        "outputId": "f4abbf18-ca8c-4f10-a8c1-b88f82d1451f"
      },
      "execution_count": 159,
      "outputs": [
        {
          "output_type": "execute_result",
          "data": {
            "text/plain": [
              "3.0"
            ]
          },
          "metadata": {},
          "execution_count": 159
        }
      ]
    },
    {
      "cell_type": "code",
      "source": [
        "my_list = make_list(1, 5, 5)\n",
        "print(my_list)\n",
        "\n",
        "calculate_mean2(my_list)"
      ],
      "metadata": {
        "colab": {
          "base_uri": "https://localhost:8080/"
        },
        "id": "iJbdqqET0rz0",
        "outputId": "1d77d93b-a651-41b9-db2a-450ea298c53d"
      },
      "execution_count": 171,
      "outputs": [
        {
          "output_type": "stream",
          "name": "stdout",
          "text": [
            "[4, 2, 1, 2, 3]\n"
          ]
        },
        {
          "output_type": "execute_result",
          "data": {
            "text/plain": [
              "2.4"
            ]
          },
          "metadata": {},
          "execution_count": 171
        }
      ]
    },
    {
      "cell_type": "code",
      "source": [
        "my_list = make_list(0, 101, 5)\n",
        "print(my_list)\n",
        "calculate_mean3(my_list)"
      ],
      "metadata": {
        "colab": {
          "base_uri": "https://localhost:8080/"
        },
        "id": "MaoAUWkDH9Vj",
        "outputId": "455c753d-01e6-44ad-978b-109337e15a17"
      },
      "execution_count": 174,
      "outputs": [
        {
          "output_type": "stream",
          "name": "stdout",
          "text": [
            "[43, 1, 32, 28, 92]\n"
          ]
        },
        {
          "output_type": "execute_result",
          "data": {
            "text/plain": [
              "39.2"
            ]
          },
          "metadata": {},
          "execution_count": 174
        }
      ]
    },
    {
      "cell_type": "markdown",
      "source": [
        "## 연습문제 4.\n",
        "\n",
        "* 함수 이름 : find_min_and_max\n",
        "* 기능 : 숫자들을 원소로 갖는 리스트를 아규먼트로 전달 받아서, 리스트의 최솟값과 최댓값을 리턴.\n",
        "* 파라미터 : 숫자들의 리스트\n",
        "* 리턴 : 리스트의 최솟값과 최댓값."
      ],
      "metadata": {
        "id": "w6kR8eQItcCG"
      }
    },
    {
      "cell_type": "code",
      "source": [
        "def find_min_and_max(list):\n",
        "    \"\"\"\n",
        "    입력받은 list 내 min, max 값을 리턴.\n",
        "\n",
        "    @param list : int, float. 숫자만 입력.\n",
        "    \"\"\"\n",
        "    result = sorted(list)\n",
        "    minimum = result[0]\n",
        "    maximum = result[-1]\n",
        "\n",
        "    return minimum, maximum"
      ],
      "metadata": {
        "id": "usd9WAW8tnVV"
      },
      "execution_count": 146,
      "outputs": []
    },
    {
      "cell_type": "code",
      "source": [
        "def find_min_and_max(list):\n",
        "    \"\"\"\n",
        "    입력받은 list 내 min, max 값을 리턴.\n",
        "\n",
        "    @param list : int, float. 숫자만 입력.\n",
        "    222\n",
        "    \"\"\"\n",
        "    min1 = min(list)\n",
        "    max1 = max(list)\n",
        "\n",
        "    return min1, max1"
      ],
      "metadata": {
        "id": "iaZJQ3oHxBDE"
      },
      "execution_count": 148,
      "outputs": []
    },
    {
      "cell_type": "code",
      "source": [
        "# 오쌤\n",
        "def find_min_and_max3(array):\n",
        "    \"\"\"\n",
        "    숫자들을 원소로 갖는 리스트에 최솟값과 최댓값을 리턴.\n",
        "\n",
        "    @param array - 숫자(int, float)들을 원소로 갖는 리스트.\n",
        "    @return array의 최솟값, 최댓값\n",
        "    \"\"\"\n",
        "    # return min(array), max(array)\n",
        "    min_value = array[0]\n",
        "    max_value = array[0]\n",
        "    for x in array:\n",
        "        if x > max_value:\n",
        "            max_value = x\n",
        "        if x < min_value:\n",
        "            min_value = x\n",
        "\n",
        "    return min_value, max_value"
      ],
      "metadata": {
        "id": "uwwtZBdgI46R"
      },
      "execution_count": 180,
      "outputs": []
    },
    {
      "cell_type": "code",
      "source": [
        "find_min_and_max([1, 2, 3])"
      ],
      "metadata": {
        "colab": {
          "base_uri": "https://localhost:8080/"
        },
        "id": "hp6siYbSuZyN",
        "outputId": "84f21207-d673-4ba0-ae7a-0a21e8ac6002"
      },
      "execution_count": 177,
      "outputs": [
        {
          "output_type": "execute_result",
          "data": {
            "text/plain": [
              "(1, 3)"
            ]
          },
          "metadata": {},
          "execution_count": 177
        }
      ]
    },
    {
      "cell_type": "code",
      "source": [
        "my_list = make_list(0, 101, 10)\n",
        "print(my_list)\n",
        "print(find_min_and_max3(my_list))"
      ],
      "metadata": {
        "colab": {
          "base_uri": "https://localhost:8080/"
        },
        "id": "3DSn7iRyJzHZ",
        "outputId": "eb8a841f-4961-48c3-c93a-1fdb56657284"
      },
      "execution_count": 184,
      "outputs": [
        {
          "output_type": "stream",
          "name": "stdout",
          "text": [
            "[86, 86, 48, 72, 93, 88, 68, 37, 6, 96]\n",
            "(6, 96)\n"
          ]
        }
      ]
    },
    {
      "cell_type": "markdown",
      "source": [
        "# Default Argument(기본 아규먼트)\n",
        "\n",
        "* 함수를 선언할 때 파라미터에 설정하는 기본 값.\n",
        "    * default parameter: 기본값이 설정된 파라미터(매개변수)\n",
        "* 함수를 호출할 때 default parameter에 아규먼트를 전달하지 않으면 default 아규먼트가 기본값으로 사용됨.\n",
        "* 함수를 호출할 때 default parameter에 아규먼트를 전달하면, 기본값 대신 전달한 아규먼트가 사용됨.\n"
      ],
      "metadata": {
        "id": "7McsOruELIyB"
      }
    },
    {
      "cell_type": "code",
      "source": [
        "print('안녕', 'Hello', '파이썬', 'Python')"
      ],
      "metadata": {
        "colab": {
          "base_uri": "https://localhost:8080/"
        },
        "id": "KCkmfGQFMPA5",
        "outputId": "845e1644-78b9-441d-ce82-9d930e8e37af"
      },
      "execution_count": 186,
      "outputs": [
        {
          "output_type": "stream",
          "name": "stdout",
          "text": [
            "안녕 Hello 파이썬 Python\n"
          ]
        }
      ]
    },
    {
      "cell_type": "code",
      "source": [
        "print('안녕', 'Hello', '파이썬', 'Python', sep=',')"
      ],
      "metadata": {
        "colab": {
          "base_uri": "https://localhost:8080/"
        },
        "id": "gxjJDUtYMmrp",
        "outputId": "8cc19279-2454-449f-ad78-5e7d82ac4497"
      },
      "execution_count": 189,
      "outputs": [
        {
          "output_type": "stream",
          "name": "stdout",
          "text": [
            "안녕,Hello,파이썬,Python\n"
          ]
        }
      ]
    },
    {
      "cell_type": "code",
      "source": [
        "def repeat_message(msg, n=1):\n",
        "    for _ in range(n):\n",
        "        print(msg)"
      ],
      "metadata": {
        "id": "5Ileyjh_NH4C"
      },
      "execution_count": 191,
      "outputs": []
    },
    {
      "cell_type": "code",
      "source": [
        "repeat_message('안녕하세요')    # default argument가 사용됨(n=1)"
      ],
      "metadata": {
        "colab": {
          "base_uri": "https://localhost:8080/"
        },
        "id": "qpdza4cGNWdg",
        "outputId": "e916d940-bab0-4d4c-d50e-afe1e6b85e70"
      },
      "execution_count": 195,
      "outputs": [
        {
          "output_type": "stream",
          "name": "stdout",
          "text": [
            "안녕하세요\n"
          ]
        }
      ]
    },
    {
      "cell_type": "code",
      "source": [
        "repeat_message('Hi', 5)     # 전달한 아규먼트 (5)가 사용됨."
      ],
      "metadata": {
        "colab": {
          "base_uri": "https://localhost:8080/"
        },
        "id": "sQaTkLRXNegp",
        "outputId": "6d67ee89-8e33-40de-f4b3-3cbb0ed933a6"
      },
      "execution_count": 196,
      "outputs": [
        {
          "output_type": "stream",
          "name": "stdout",
          "text": [
            "Hi\n",
            "Hi\n",
            "Hi\n",
            "Hi\n",
            "Hi\n"
          ]
        }
      ]
    },
    {
      "cell_type": "markdown",
      "source": [
        "**(주의)** default parameter(기본값을 갖는 파라미터)들은 기본값을 갖지 않는 파라미터(들) 뒤에서만 선언할 수 있음.\n",
        "\n",
        "default parameter를 기본값을 갖지 않는 파라미터보다 먼저 선언하면 문법 오류 발생!!"
      ],
      "metadata": {
        "id": "SKkdrHPFOaHC"
      }
    },
    {
      "cell_type": "code",
      "source": [
        "def test_success(x, y=0):\n",
        "    pass"
      ],
      "metadata": {
        "id": "SOjBbow1Ok8x"
      },
      "execution_count": 207,
      "outputs": []
    },
    {
      "cell_type": "code",
      "source": [
        "def test_success_2(x=0, y=0):\n",
        "    pass"
      ],
      "metadata": {
        "id": "MGmbX6xqPK8_"
      },
      "execution_count": 208,
      "outputs": []
    },
    {
      "cell_type": "code",
      "source": [
        "def test_failure(x=0, y):   # 기본값을 갖는 파라미터는 가장 마지막에 써야함.\n",
        "    pass"
      ],
      "metadata": {
        "colab": {
          "base_uri": "https://localhost:8080/",
          "height": 110
        },
        "id": "elMMaqMEPZcn",
        "outputId": "97b3b4c6-09ca-44c7-b14b-df3ec95819e5"
      },
      "execution_count": 210,
      "outputs": [
        {
          "output_type": "error",
          "ename": "SyntaxError",
          "evalue": "non-default argument follows default argument (<ipython-input-210-8c5aa848f683>, line 1)",
          "traceback": [
            "\u001b[0;36m  File \u001b[0;32m\"<ipython-input-210-8c5aa848f683>\"\u001b[0;36m, line \u001b[0;32m1\u001b[0m\n\u001b[0;31m    def test_failure(x=0, y):   # 기본값을 갖는 파라미터는 가장 마지막에 써야함.\u001b[0m\n\u001b[0m                          ^\u001b[0m\n\u001b[0;31mSyntaxError\u001b[0m\u001b[0;31m:\u001b[0m non-default argument follows default argument\n"
          ]
        }
      ]
    },
    {
      "cell_type": "code",
      "source": [
        "def test(x=0, y=0):\n",
        "    print(f'x = {x}, y = {y}')"
      ],
      "metadata": {
        "id": "cMGZVOcLP1Ag"
      },
      "execution_count": 211,
      "outputs": []
    },
    {
      "cell_type": "code",
      "source": [
        "test()"
      ],
      "metadata": {
        "colab": {
          "base_uri": "https://localhost:8080/"
        },
        "id": "f4pttzGjP8jn",
        "outputId": "a1c20c18-9f47-425a-feea-05bba49120d6"
      },
      "execution_count": 217,
      "outputs": [
        {
          "output_type": "stream",
          "name": "stdout",
          "text": [
            "x = 0, y = 0\n"
          ]
        }
      ]
    },
    {
      "cell_type": "code",
      "source": [
        "test(1)"
      ],
      "metadata": {
        "colab": {
          "base_uri": "https://localhost:8080/"
        },
        "id": "J3vK509sQHhp",
        "outputId": "da9f4e91-3cd4-4433-e802-55552ae0bcf7"
      },
      "execution_count": 218,
      "outputs": [
        {
          "output_type": "stream",
          "name": "stdout",
          "text": [
            "x = 1, y = 0\n"
          ]
        }
      ]
    },
    {
      "cell_type": "code",
      "source": [
        "test(0,2)"
      ],
      "metadata": {
        "colab": {
          "base_uri": "https://localhost:8080/"
        },
        "id": "EIc5oDg4QIZZ",
        "outputId": "08d65545-75f6-440a-c65e-f31fdbe6c8bb"
      },
      "execution_count": 220,
      "outputs": [
        {
          "output_type": "stream",
          "name": "stdout",
          "text": [
            "x = 0, y = 2\n"
          ]
        }
      ]
    },
    {
      "cell_type": "code",
      "source": [
        "test(y=2)"
      ],
      "metadata": {
        "colab": {
          "base_uri": "https://localhost:8080/"
        },
        "id": "09FgBp_fQnMn",
        "outputId": "bf758065-91cd-4173-ed44-94a90a16cf62"
      },
      "execution_count": 222,
      "outputs": [
        {
          "output_type": "stream",
          "name": "stdout",
          "text": [
            "x = 0, y = 2\n"
          ]
        }
      ]
    },
    {
      "cell_type": "markdown",
      "source": [
        "함수를 호출할 때 아규먼트를 전달하는 방법:\n",
        "\n",
        "* **positional argument** : 선언된 파라미터 순서대로 아규먼트(들)을 전달하는 방식.\n",
        "* **keyword argument** : `param = value` 형식으로 아규먼트(들)을 전달하는 방식.\n",
        "    * keyword argument 방식을 사용할 때는 파라미터 선언 순서를 지키지 않아도 됨.\n",
        "    * **(주의)** 함수를 호출할 때 positional argument와 keyword argument를 함께 사용하는 경우에는, **반드시** positional argument를 먼저 전달해야 함. keyword argument를 positional argument보다 먼저 전달할 수 없음!!"
      ],
      "metadata": {
        "id": "g2MwBMcdREV6"
      }
    },
    {
      "cell_type": "code",
      "source": [
        "test(y=-1, x=1)     # keyword argument 방식"
      ],
      "metadata": {
        "colab": {
          "base_uri": "https://localhost:8080/"
        },
        "id": "oJ-gcpuNRnnw",
        "outputId": "c937852a-481a-492d-df96-9eff789d4e14"
      },
      "execution_count": 223,
      "outputs": [
        {
          "output_type": "stream",
          "name": "stdout",
          "text": [
            "x = 1, y = -1\n"
          ]
        }
      ]
    },
    {
      "cell_type": "code",
      "source": [
        "test(100, y=-100)   # positional & keyword argument 방식을 함께 사용"
      ],
      "metadata": {
        "colab": {
          "base_uri": "https://localhost:8080/"
        },
        "id": "yhviOpaqR69g",
        "outputId": "34e9f748-49f0-49ba-cee9-e274bcf33b64"
      },
      "execution_count": 224,
      "outputs": [
        {
          "output_type": "stream",
          "name": "stdout",
          "text": [
            "x = 100, y = -100\n"
          ]
        }
      ]
    },
    {
      "cell_type": "code",
      "source": [
        "test(x=100, 200)    # keyword argument를 positional argument보다 먼저 사용하면 문법 오류 발생함."
      ],
      "metadata": {
        "colab": {
          "base_uri": "https://localhost:8080/",
          "height": 110
        },
        "id": "L2jcmqieSbow",
        "outputId": "1b1dba48-8c7f-42fb-fb1f-d014d8e1f2cb"
      },
      "execution_count": 225,
      "outputs": [
        {
          "output_type": "error",
          "ename": "SyntaxError",
          "evalue": "positional argument follows keyword argument (<ipython-input-225-3b7232cf04b2>, line 1)",
          "traceback": [
            "\u001b[0;36m  File \u001b[0;32m\"<ipython-input-225-3b7232cf04b2>\"\u001b[0;36m, line \u001b[0;32m1\u001b[0m\n\u001b[0;31m    test(x=100, 200)\u001b[0m\n\u001b[0m                   ^\u001b[0m\n\u001b[0;31mSyntaxError\u001b[0m\u001b[0;31m:\u001b[0m positional argument follows keyword argument\n"
          ]
        }
      ]
    },
    {
      "cell_type": "code",
      "source": [
        "print(sep=',', 'Hi', 'Hello')"
      ],
      "metadata": {
        "colab": {
          "base_uri": "https://localhost:8080/",
          "height": 110
        },
        "id": "mc7a2JtjTDgZ",
        "outputId": "964b9a1f-621a-4bcf-c02e-96ddc0cab394"
      },
      "execution_count": 226,
      "outputs": [
        {
          "output_type": "error",
          "ename": "SyntaxError",
          "evalue": "positional argument follows keyword argument (<ipython-input-226-52a01fcdd7f0>, line 1)",
          "traceback": [
            "\u001b[0;36m  File \u001b[0;32m\"<ipython-input-226-52a01fcdd7f0>\"\u001b[0;36m, line \u001b[0;32m1\u001b[0m\n\u001b[0;31m    print(sep=',', 'Hi', 'Hello')\u001b[0m\n\u001b[0m                                ^\u001b[0m\n\u001b[0;31mSyntaxError\u001b[0m\u001b[0;31m:\u001b[0m positional argument follows keyword argument\n"
          ]
        }
      ]
    }
  ]
}
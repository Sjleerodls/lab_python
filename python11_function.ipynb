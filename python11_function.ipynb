{
  "nbformat": 4,
  "nbformat_minor": 0,
  "metadata": {
    "colab": {
      "provenance": [],
      "toc_visible": true,
      "authorship_tag": "ABX9TyPQ08rwNE6Lndt5SRq2pCao",
      "include_colab_link": true
    },
    "kernelspec": {
      "name": "python3",
      "display_name": "Python 3"
    },
    "language_info": {
      "name": "python"
    }
  },
  "cells": [
    {
      "cell_type": "markdown",
      "metadata": {
        "id": "view-in-github",
        "colab_type": "text"
      },
      "source": [
        "<a href=\"https://colab.research.google.com/github/Sjleerodls/lab_python/blob/main/python11_function.ipynb\" target=\"_parent\"><img src=\"https://colab.research.google.com/assets/colab-badge.svg\" alt=\"Open In Colab\"/></a>"
      ]
    },
    {
      "cell_type": "markdown",
      "source": [
        "# 함수(Function)"
      ],
      "metadata": {
        "id": "ky1G8YkfTcyr"
      }
    },
    {
      "cell_type": "code",
      "execution_count": 4,
      "metadata": {
        "colab": {
          "base_uri": "https://localhost:8080/"
        },
        "id": "fSC_NXehTZ9l",
        "outputId": "e1be1400-8b3e-47e6-93d4-ec1774d8a6b7"
      },
      "outputs": [
        {
          "output_type": "stream",
          "name": "stdout",
          "text": [
            "12\n"
          ]
        }
      ],
      "source": [
        "result = len('hello python')\n",
        "print(result)"
      ]
    },
    {
      "cell_type": "markdown",
      "source": [
        "* **함수(function)** : 기능을 수행하는 코드 블록.\n",
        "* **인수(argument)** : 함수를 호출할 때 함수에게 전달하는 값.\n",
        "* **매개변수(parameter)** : 아규먼트를 저장하기 위해서 함수를 정의할 때 선언하는 변수.\n",
        "* **반환값(return value)** : 함수가 기능을 수행하고 그 결과로 함수를 호출한 곳에 되돌려 주는 값.\n",
        "    * 함수에 따라서 반환값이 있는 함수도 있고, 반환값이 없는 함수도 있음."
      ],
      "metadata": {
        "id": "B65Sods0UqPt"
      }
    },
    {
      "cell_type": "markdown",
      "source": [
        "# 함수 선언(정의)\n",
        "\n",
        "```\n",
        "def function_name([parameter, ...]):\n",
        "    [\"\"\"문서 주석(documentation comments)\"\"\"]\n",
        "    함수가 수행할 코드 블록\n",
        "    return 반환값\n",
        "```\n",
        "\n",
        "* 반환값이 없는 함수는 return 문장을 생략하거나, return None으로 문장을 사용할 수 있음.\n",
        "* return 문장의 의미 :\n",
        "    * 함수 종료\n",
        "    * 함수를 호출한 곳에 값을 되돌려 줌."
      ],
      "metadata": {
        "id": "OyqzF2IWWYwk"
      }
    },
    {
      "cell_type": "code",
      "source": [
        "def subtract(x,y):\n",
        "    \"\"\" 숫자 x, y를 전달 받아서 x - y를 리턴하는 함수 \"\"\"\n",
        "    return x - y"
      ],
      "metadata": {
        "id": "6d6NHhUKVd38"
      },
      "execution_count": 13,
      "outputs": []
    },
    {
      "cell_type": "code",
      "source": [
        "result = subtract(1, 2)\n",
        "print(result)"
      ],
      "metadata": {
        "colab": {
          "base_uri": "https://localhost:8080/"
        },
        "id": "Vu3ksEr7T95E",
        "outputId": "904b49ef-a9e6-4f66-c3d6-e0f442eff88b"
      },
      "execution_count": 16,
      "outputs": [
        {
          "output_type": "stream",
          "name": "stdout",
          "text": [
            "-1\n"
          ]
        }
      ]
    },
    {
      "cell_type": "markdown",
      "source": [
        "## 값을 반환하지 않는 함수"
      ],
      "metadata": {
        "id": "frwlA9wDf874"
      }
    },
    {
      "cell_type": "code",
      "source": [
        "def repeat_message(msg, n):\n",
        "    \"\"\"\n",
        "    msg를 n번 반복해서 출력.\n",
        "\n",
        "    @param msg - 출력할 문자열.\n",
        "    @param m - 반복할 횟수. 0 또는 양의 정수.\n",
        "    \"\"\"\n",
        "\n",
        "    for _ in range(n):\n",
        "        print(msg)\n",
        "\n",
        "    # return None"
      ],
      "metadata": {
        "id": "7u0ZMV-7f8Wy"
      },
      "execution_count": 26,
      "outputs": []
    },
    {
      "cell_type": "code",
      "source": [
        "repeat_message('안녕하세요', 5)"
      ],
      "metadata": {
        "colab": {
          "base_uri": "https://localhost:8080/"
        },
        "id": "nBQuCr2sg4P9",
        "outputId": "51f81a04-b986-442c-a1a6-acf89e00cc21"
      },
      "execution_count": 27,
      "outputs": [
        {
          "output_type": "stream",
          "name": "stdout",
          "text": [
            "안녕하세요\n",
            "안녕하세요\n",
            "안녕하세요\n",
            "안녕하세요\n",
            "안녕하세요\n"
          ]
        }
      ]
    },
    {
      "cell_type": "code",
      "source": [
        "repeat_message('Hello', 3)"
      ],
      "metadata": {
        "colab": {
          "base_uri": "https://localhost:8080/"
        },
        "id": "r1q2ax1mh5-l",
        "outputId": "bbd4b964-eb45-47eb-fe10-130bcee19f1f"
      },
      "execution_count": 28,
      "outputs": [
        {
          "output_type": "stream",
          "name": "stdout",
          "text": [
            "Hello\n",
            "Hello\n",
            "Hello\n"
          ]
        }
      ]
    },
    {
      "cell_type": "markdown",
      "source": [
        "## 2개 이상의 값을 반환하는 함수"
      ],
      "metadata": {
        "id": "G8ueOmWiiks3"
      }
    },
    {
      "cell_type": "code",
      "source": [
        "def plus_and_minus(x, y):\n",
        "    \"\"\"\n",
        "    x + y, x - y 를 리턴.\n",
        "\n",
        "    @param x - 숫자 타입(int 또는 float)\n",
        "    @param y - 숫자 타입(int 또는 float)\n",
        "    @return x + y, x - y\n",
        "    \"\"\"\n",
        "\n",
        "    # return ret_value1, ret_value2, ...\n",
        "    return x + y, x - y"
      ],
      "metadata": {
        "id": "NMz6Ux-XimWA"
      },
      "execution_count": 31,
      "outputs": []
    },
    {
      "cell_type": "code",
      "source": [
        "a, b = plus_and_minus(1, 2)\n",
        "print(f'a = {a}, b = {b}')"
      ],
      "metadata": {
        "colab": {
          "base_uri": "https://localhost:8080/"
        },
        "id": "_h53c1tIi3sn",
        "outputId": "b59f9229-67e0-4976-9e82-9cdf5a67b434"
      },
      "execution_count": 37,
      "outputs": [
        {
          "output_type": "stream",
          "name": "stdout",
          "text": [
            "a = 3, b = -1\n"
          ]
        }
      ]
    },
    {
      "cell_type": "code",
      "source": [
        "result = plus_and_minus(3, 4)\n",
        "print(type(result)) # result : 리턴 값들을 저장하는 튜플\n",
        "print(result)"
      ],
      "metadata": {
        "colab": {
          "base_uri": "https://localhost:8080/"
        },
        "id": "NG9oZjWzjjD_",
        "outputId": "941e193c-a343-481a-fda0-5ec18cd0b467"
      },
      "execution_count": 39,
      "outputs": [
        {
          "output_type": "stream",
          "name": "stdout",
          "text": [
            "<class 'tuple'>\n",
            "(7, -1)\n"
          ]
        }
      ]
    },
    {
      "cell_type": "markdown",
      "source": [
        "## 연습문제 1.\n",
        "\n",
        "* 함수 이름 : make_list\n",
        "* 기능 : [start, end) 범위의 정수 난수 n개를 아이템으로 갖는 리스트를 리턴\n",
        "* 파라미터 : start(정수), end(정수), n(0 또는 양의 정수)\n",
        "* 리턴: 리스트."
      ],
      "metadata": {
        "id": "kRzbChb3lFvh"
      }
    },
    {
      "cell_type": "code",
      "source": [
        "import random\n",
        "\n",
        "def make_list(start, end, n):\n",
        "    \"\"\"\n",
        "    [start, end) 범위의 정수 난수 n개를 아이템으로 갖는 리스트를 리턴.\n",
        "\n",
        "    @param start : int. 난수 시작 범위.\n",
        "    @param end : int. 난수 종료 범위.\n",
        "    @param n : int. 리스트의 아이템 개수. 0 또는 양의 정수.\n",
        "    @return 난수들의 리스트.\n",
        "    \"\"\"\n",
        "\n",
        "    # vin = []\n",
        "\n",
        "    # for x in range(n):\n",
        "    #     vin.append(random.randrange(start, end))\n",
        "\n",
        "    vin = [random.randrange(start, end) for x in range(n)]\n",
        "    return vin"
      ],
      "metadata": {
        "id": "6TyCex8WlPHg"
      },
      "execution_count": 84,
      "outputs": []
    },
    {
      "cell_type": "code",
      "source": [
        "my_list = make_list(0, 2, 10)\n",
        "print(my_list)"
      ],
      "metadata": {
        "colab": {
          "base_uri": "https://localhost:8080/"
        },
        "id": "_-vGiBIelyVu",
        "outputId": "30a09e43-3c53-4524-9c90-deb6c93b2788"
      },
      "execution_count": 89,
      "outputs": [
        {
          "output_type": "stream",
          "name": "stdout",
          "text": [
            "[0, 0, 1, 0, 0, 1, 0, 1, 1, 1]\n"
          ]
        }
      ]
    },
    {
      "cell_type": "code",
      "source": [
        "make_list(0, 101, 5)"
      ],
      "metadata": {
        "colab": {
          "base_uri": "https://localhost:8080/"
        },
        "id": "HI3kwftOpAjq",
        "outputId": "c548e524-6d60-4edf-e98a-e74de8145557"
      },
      "execution_count": 90,
      "outputs": [
        {
          "output_type": "execute_result",
          "data": {
            "text/plain": [
              "[34, 5, 7, 36, 4]"
            ]
          },
          "metadata": {},
          "execution_count": 90
        }
      ]
    },
    {
      "cell_type": "markdown",
      "source": [
        "## 연습문제 2.\n",
        "\n",
        "* 함수 이름 : calculate_sum\n",
        "* 기능 : 숫자(정수, 실수)들을 원소로 갖는 리스트를 전달 받아서, 그 리스트의 모든 원소들의 합계를 리턴.\n",
        "* 파라미터 : array(리스트)\n",
        "* 리턴 : 리스트 원소들의 합계."
      ],
      "metadata": {
        "id": "rFiUiDCHtBe5"
      }
    },
    {
      "cell_type": "code",
      "source": [
        "def calculate_sum(list):\n",
        "    \"\"\"\n",
        "    입력받은 list내 모든 숫자의 합계를 리턴.\n",
        "\n",
        "    @param list : int, float. 숫자만 입력\n",
        "    \"\"\"\n",
        "    return sum(list)"
      ],
      "metadata": {
        "id": "gT6EQGldtOvQ"
      },
      "execution_count": 112,
      "outputs": []
    },
    {
      "cell_type": "code",
      "source": [
        "def calculate_sum2(list):\n",
        "    \"\"\"\n",
        "    입력받은 list 내 모든 숫자의 합계를 리턴.\n",
        "\n",
        "    @param list : int, float. 숫자만 입력\n",
        "    \"\"\"\n",
        "    v = 0\n",
        "    for i in list:\n",
        "        v += i\n",
        "    return v"
      ],
      "metadata": {
        "id": "3OtCekx9zi4m"
      },
      "execution_count": 153,
      "outputs": []
    },
    {
      "cell_type": "code",
      "source": [
        "# 오쌤\n",
        "def calculate_sum3(array):\n",
        "    \"\"\"\n",
        "    숫자(정수, 실수)들을 원소로 갖는 리스트를 전달받아서, 그 리스트의 모든 원소들의 합계를 리턴.\n",
        "\n",
        "    @param array - 숫자(int, float)들의 리스트.\n",
        "    @return - array의 모든 원소들의 합계.\n",
        "    \"\"\"\n",
        "    result = 0\n",
        "    for x in array:\n",
        "        result += x\n",
        "\n",
        "    return result"
      ],
      "metadata": {
        "id": "062-Wh-4z7RN"
      },
      "execution_count": 155,
      "outputs": []
    },
    {
      "cell_type": "code",
      "source": [
        "calculate_sum([1, 2, 3, 4, 5])"
      ],
      "metadata": {
        "colab": {
          "base_uri": "https://localhost:8080/"
        },
        "id": "wPZPrDiDtxme",
        "outputId": "cce6ed03-81f8-4199-bd3e-ee6b65a87cfb"
      },
      "execution_count": 151,
      "outputs": [
        {
          "output_type": "execute_result",
          "data": {
            "text/plain": [
              "15"
            ]
          },
          "metadata": {},
          "execution_count": 151
        }
      ]
    },
    {
      "cell_type": "code",
      "source": [
        "calculate_sum2([1, 2, 3, 4, 5])"
      ],
      "metadata": {
        "colab": {
          "base_uri": "https://localhost:8080/"
        },
        "id": "AQwTbB3Wzxzm",
        "outputId": "b7d7d576-5b47-43a4-a5bf-2fde9de45df6"
      },
      "execution_count": 156,
      "outputs": [
        {
          "output_type": "execute_result",
          "data": {
            "text/plain": [
              "15"
            ]
          },
          "metadata": {},
          "execution_count": 156
        }
      ]
    },
    {
      "cell_type": "code",
      "source": [
        "my_list = make_list(1, 10, 3)\n",
        "print(my_list)\n",
        "result = calculate_sum3(my_list)\n",
        "print(result)"
      ],
      "metadata": {
        "colab": {
          "base_uri": "https://localhost:8080/"
        },
        "id": "KjpyUMs90QWF",
        "outputId": "fad436c2-fbd7-415b-eda1-861ce60ef981"
      },
      "execution_count": 166,
      "outputs": [
        {
          "output_type": "stream",
          "name": "stdout",
          "text": [
            "[5, 5, 1]\n",
            "11\n"
          ]
        }
      ]
    },
    {
      "cell_type": "markdown",
      "source": [
        "## 연습문제 3.\n",
        "\n",
        "* 함수 이름 : calculate_mean\n",
        "* 기능 : 숫자들을 원소로 갖는 리스트의 원소들의 평균을 리턴.\n",
        "* 파라미터 : array(리스트)\n",
        "* 리턴 : 리스트 원소들의 평균."
      ],
      "metadata": {
        "id": "vuhc8WCGtPSg"
      }
    },
    {
      "cell_type": "code",
      "source": [
        "def calculate_mean(list):\n",
        "    \"\"\"\n",
        "    입력받은 list의 평균을 리턴.\n",
        "\n",
        "    @param list : int, float. 숫자만 입력\n",
        "    \"\"\"\n",
        "    return sum(list) / len(list)"
      ],
      "metadata": {
        "id": "8EaatcOvtbXv"
      },
      "execution_count": 113,
      "outputs": []
    },
    {
      "cell_type": "code",
      "source": [
        "def calculate_mean2(array):\n",
        "    \"\"\"\n",
        "    pass\n",
        "    \"\"\"\n",
        "    sum_res = 0\n",
        "    for i in array:\n",
        "        sum_res += i\n",
        "\n",
        "    return sum_res / len(array)"
      ],
      "metadata": {
        "id": "bkLYaPog0ZWF"
      },
      "execution_count": 172,
      "outputs": []
    },
    {
      "cell_type": "code",
      "source": [
        "# 오 쌤\n",
        "def calculate_mean3(array):\n",
        "    \"\"\"\n",
        "    숫자들을 원소로 갖는 리스트의 원소들의 평균을 리턴.\n",
        "\n",
        "    @param array - 숫자(int, float)들을 원소로 갖는 리스트.\n",
        "    @return 리스트 array의 원소들의 평균.\n",
        "    \"\"\"\n",
        "    return calculate_sum3(array) / len(array)"
      ],
      "metadata": {
        "id": "5MLn4W9WHvFa"
      },
      "execution_count": 173,
      "outputs": []
    },
    {
      "cell_type": "code",
      "source": [
        "calculate_mean([1, 2, 3, 4, 5])"
      ],
      "metadata": {
        "colab": {
          "base_uri": "https://localhost:8080/"
        },
        "id": "cTYjZEMIuEOt",
        "outputId": "f4abbf18-ca8c-4f10-a8c1-b88f82d1451f"
      },
      "execution_count": 159,
      "outputs": [
        {
          "output_type": "execute_result",
          "data": {
            "text/plain": [
              "3.0"
            ]
          },
          "metadata": {},
          "execution_count": 159
        }
      ]
    },
    {
      "cell_type": "code",
      "source": [
        "my_list = make_list(1, 5, 5)\n",
        "print(my_list)\n",
        "\n",
        "calculate_mean2(my_list)"
      ],
      "metadata": {
        "colab": {
          "base_uri": "https://localhost:8080/"
        },
        "id": "iJbdqqET0rz0",
        "outputId": "1d77d93b-a651-41b9-db2a-450ea298c53d"
      },
      "execution_count": 171,
      "outputs": [
        {
          "output_type": "stream",
          "name": "stdout",
          "text": [
            "[4, 2, 1, 2, 3]\n"
          ]
        },
        {
          "output_type": "execute_result",
          "data": {
            "text/plain": [
              "2.4"
            ]
          },
          "metadata": {},
          "execution_count": 171
        }
      ]
    },
    {
      "cell_type": "code",
      "source": [
        "my_list = make_list(0, 101, 5)\n",
        "print(my_list)\n",
        "calculate_mean3(my_list)"
      ],
      "metadata": {
        "colab": {
          "base_uri": "https://localhost:8080/"
        },
        "id": "MaoAUWkDH9Vj",
        "outputId": "455c753d-01e6-44ad-978b-109337e15a17"
      },
      "execution_count": 174,
      "outputs": [
        {
          "output_type": "stream",
          "name": "stdout",
          "text": [
            "[43, 1, 32, 28, 92]\n"
          ]
        },
        {
          "output_type": "execute_result",
          "data": {
            "text/plain": [
              "39.2"
            ]
          },
          "metadata": {},
          "execution_count": 174
        }
      ]
    },
    {
      "cell_type": "markdown",
      "source": [
        "## 연습문제 4.\n",
        "\n",
        "* 함수 이름 : find_min_and_max\n",
        "* 기능 : 숫자들을 원소로 갖는 리스트를 아규먼트로 전달 받아서, 리스트의 최솟값과 최댓값을 리턴.\n",
        "* 파라미터 : 숫자들의 리스트\n",
        "* 리턴 : 리스트의 최솟값과 최댓값."
      ],
      "metadata": {
        "id": "w6kR8eQItcCG"
      }
    },
    {
      "cell_type": "code",
      "source": [
        "def find_min_and_max(list):\n",
        "    \"\"\"\n",
        "    입력받은 list 내 min, max 값을 리턴.\n",
        "\n",
        "    @param list : int, float. 숫자만 입력.\n",
        "    \"\"\"\n",
        "    result = sorted(list)\n",
        "    minimum = result[0]\n",
        "    maximum = result[-1]\n",
        "\n",
        "    return minimum, maximum"
      ],
      "metadata": {
        "id": "usd9WAW8tnVV"
      },
      "execution_count": 146,
      "outputs": []
    },
    {
      "cell_type": "code",
      "source": [
        "def find_min_and_max(list):\n",
        "    \"\"\"\n",
        "    입력받은 list 내 min, max 값을 리턴.\n",
        "\n",
        "    @param list : int, float. 숫자만 입력.\n",
        "    222\n",
        "    \"\"\"\n",
        "    min1 = min(list)\n",
        "    max1 = max(list)\n",
        "\n",
        "    return min1, max1"
      ],
      "metadata": {
        "id": "iaZJQ3oHxBDE"
      },
      "execution_count": 148,
      "outputs": []
    },
    {
      "cell_type": "code",
      "source": [
        "# 오쌤\n",
        "def find_min_and_max3(array):\n",
        "    \"\"\"\n",
        "    숫자들을 원소로 갖는 리스트에 최솟값과 최댓값을 리턴.\n",
        "\n",
        "    @param array - 숫자(int, float)들을 원소로 갖는 리스트.\n",
        "    @return array의 최솟값, 최댓값\n",
        "    \"\"\"\n",
        "    # return min(array), max(array)\n",
        "    min_value = array[0]\n",
        "    max_value = array[0]\n",
        "    for x in array:\n",
        "        if x > max_value:\n",
        "            max_value = x\n",
        "        if x < min_value:\n",
        "            min_value = x\n",
        "\n",
        "    return min_value, max_value"
      ],
      "metadata": {
        "id": "uwwtZBdgI46R"
      },
      "execution_count": 180,
      "outputs": []
    },
    {
      "cell_type": "code",
      "source": [
        "find_min_and_max([1, 2, 3])"
      ],
      "metadata": {
        "colab": {
          "base_uri": "https://localhost:8080/"
        },
        "id": "hp6siYbSuZyN",
        "outputId": "84f21207-d673-4ba0-ae7a-0a21e8ac6002"
      },
      "execution_count": 177,
      "outputs": [
        {
          "output_type": "execute_result",
          "data": {
            "text/plain": [
              "(1, 3)"
            ]
          },
          "metadata": {},
          "execution_count": 177
        }
      ]
    },
    {
      "cell_type": "code",
      "source": [
        "my_list = make_list(0, 101, 10)\n",
        "print(my_list)\n",
        "print(find_min_and_max3(my_list))"
      ],
      "metadata": {
        "colab": {
          "base_uri": "https://localhost:8080/"
        },
        "id": "3DSn7iRyJzHZ",
        "outputId": "eb8a841f-4961-48c3-c93a-1fdb56657284"
      },
      "execution_count": 184,
      "outputs": [
        {
          "output_type": "stream",
          "name": "stdout",
          "text": [
            "[86, 86, 48, 72, 93, 88, 68, 37, 6, 96]\n",
            "(6, 96)\n"
          ]
        }
      ]
    }
  ]
}
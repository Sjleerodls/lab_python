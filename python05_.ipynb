{
  "nbformat": 4,
  "nbformat_minor": 0,
  "metadata": {
    "colab": {
      "provenance": [],
      "toc_visible": true,
      "authorship_tag": "ABX9TyMCgI+cQZmFbyaMJCbh4Fa2",
      "include_colab_link": true
    },
    "kernelspec": {
      "name": "python3",
      "display_name": "Python 3"
    },
    "language_info": {
      "name": "python"
    }
  },
  "cells": [
    {
      "cell_type": "markdown",
      "metadata": {
        "id": "view-in-github",
        "colab_type": "text"
      },
      "source": [
        "<a href=\"https://colab.research.google.com/github/Sjleerodls/lab_python/blob/main/python05_.ipynb\" target=\"_parent\"><img src=\"https://colab.research.google.com/assets/colab-badge.svg\" alt=\"Open In Colab\"/></a>"
      ]
    },
    {
      "cell_type": "markdown",
      "source": [
        "# for loop (반복문)"
      ],
      "metadata": {
        "id": "inuwjmWGQYEn"
      }
    },
    {
      "cell_type": "markdown",
      "source": [
        "```\n",
        "for 변수 in iterable-type:\n",
        "    반복해서 실행할 코드 블록\n",
        "```\n",
        "\n",
        "* iterable-type : 반복(iteration)이 가능한 데이터 타입.\n",
        "    * str(문자열), range, list, tuple, dict, ...\n",
        "* for 반복문은 iterable-type에서 원소(아이템)들을 순서대로 하나씩 꺼내서 변수에 저장하고, 코드 블록을 실행.\n",
        "* for 반복문은 iterable-type에서 더이상 꺼낼 원소가 없을 때 종료됨."
      ],
      "metadata": {
        "id": "AcGYYemwQeM2"
      }
    },
    {
      "cell_type": "code",
      "execution_count": 2,
      "metadata": {
        "colab": {
          "base_uri": "https://localhost:8080/"
        },
        "id": "Vhyql0D-QUmI",
        "outputId": "fbd5a9a8-ee05-441e-c365-8ab57e45e287"
      },
      "outputs": [
        {
          "output_type": "stream",
          "name": "stdout",
          "text": [
            "안\n",
            "녕\n",
            "하\n",
            "세\n",
            "요\n"
          ]
        }
      ],
      "source": [
        "for s in '안녕하세요':\n",
        "    print(s)"
      ]
    },
    {
      "cell_type": "markdown",
      "source": [
        "# for 반복문과 `range()` 함수"
      ],
      "metadata": {
        "id": "yvBs1MhjSVu-"
      }
    },
    {
      "cell_type": "code",
      "source": [
        "# range(start, stop): start가 stop보다 작은 경우, [start, stop) 범위의 1씩 증가하는 정수들을 만들어 줌.\n",
        "for x in range(1, 6):\n",
        "    print(x)"
      ],
      "metadata": {
        "colab": {
          "base_uri": "https://localhost:8080/"
        },
        "id": "3J7BKbwFSUBg",
        "outputId": "9e4a545d-5f95-4788-945e-dcaed7f5b0be"
      },
      "execution_count": 6,
      "outputs": [
        {
          "output_type": "stream",
          "name": "stdout",
          "text": [
            "1\n",
            "2\n",
            "3\n",
            "4\n",
            "5\n"
          ]
        }
      ]
    },
    {
      "cell_type": "code",
      "source": [
        "# range(stop): [0, stop) 범위의 1씩 증가하는 정수들을 만들어 줌.\n",
        "for x in range(5):\n",
        "    print(x)"
      ],
      "metadata": {
        "colab": {
          "base_uri": "https://localhost:8080/"
        },
        "id": "_hZiZCG8TTN_",
        "outputId": "b5ef765e-d8d2-4538-eed6-e844aeb96a5e"
      },
      "execution_count": 8,
      "outputs": [
        {
          "output_type": "stream",
          "name": "stdout",
          "text": [
            "0\n",
            "1\n",
            "2\n",
            "3\n",
            "4\n"
          ]
        }
      ]
    },
    {
      "cell_type": "code",
      "source": [
        "# range(start, stop, step): start가 stop보다 작고, step은 양의 정수인 경우,\n",
        "# start <= x < stop 범위의 step만큼 증가하는 정수들을 만들어 줌.\n",
        "for x in range(0, 10, 2):\n",
        "    print(x)"
      ],
      "metadata": {
        "colab": {
          "base_uri": "https://localhost:8080/"
        },
        "id": "oAjfHL_YUB_n",
        "outputId": "b785afc3-56e9-4205-cbfe-cff7bf430859"
      },
      "execution_count": 12,
      "outputs": [
        {
          "output_type": "stream",
          "name": "stdout",
          "text": [
            "0\n",
            "2\n",
            "4\n",
            "6\n",
            "8\n"
          ]
        }
      ]
    },
    {
      "cell_type": "code",
      "source": [
        "for x in range(1, 10, 2):\n",
        "    print(x)"
      ],
      "metadata": {
        "colab": {
          "base_uri": "https://localhost:8080/"
        },
        "id": "yMlEhRRUU504",
        "outputId": "3c0e412a-5252-4fb6-b89d-3af2f69c5b75"
      },
      "execution_count": 14,
      "outputs": [
        {
          "output_type": "stream",
          "name": "stdout",
          "text": [
            "1\n",
            "3\n",
            "5\n",
            "7\n",
            "9\n"
          ]
        }
      ]
    },
    {
      "cell_type": "code",
      "source": [
        "# range(start, stop, step): start가 stop보다 크고 step이 음의 정수인 경우,\n",
        "# start >= x > stop 범위의 step 만큼씩 감소하는 정수들을 만들어 줌.\n",
        "for x in range(5, 0, -1):\n",
        "    print(x)"
      ],
      "metadata": {
        "colab": {
          "base_uri": "https://localhost:8080/"
        },
        "id": "Oe_yDy0QVKCf",
        "outputId": "9b09fc35-4282-46ce-8f8d-e2c4aedac671"
      },
      "execution_count": 20,
      "outputs": [
        {
          "output_type": "stream",
          "name": "stdout",
          "text": [
            "5\n",
            "4\n",
            "3\n",
            "2\n",
            "1\n"
          ]
        }
      ]
    },
    {
      "cell_type": "markdown",
      "source": [
        "for문과 range 함수를 사용해 * 개수별 출력."
      ],
      "metadata": {
        "id": "0e377azWVqbH"
      }
    },
    {
      "cell_type": "code",
      "source": [
        "for x in range(1, 6):\n",
        "    print('*' * x)"
      ],
      "metadata": {
        "colab": {
          "base_uri": "https://localhost:8080/"
        },
        "id": "fnRDBEZtV074",
        "outputId": "d8820a6a-6675-4b0a-b476-1ec8c53237d1"
      },
      "execution_count": 23,
      "outputs": [
        {
          "output_type": "stream",
          "name": "stdout",
          "text": [
            "*\n",
            "**\n",
            "***\n",
            "****\n",
            "*****\n"
          ]
        }
      ]
    },
    {
      "cell_type": "code",
      "source": [
        "for x in range(5, 0, -1):\n",
        "    print('*' * x)"
      ],
      "metadata": {
        "colab": {
          "base_uri": "https://localhost:8080/"
        },
        "id": "Xcj9GQ1YV3nO",
        "outputId": "a6e045ef-c138-4d68-a24b-efef7c710120"
      },
      "execution_count": 22,
      "outputs": [
        {
          "output_type": "stream",
          "name": "stdout",
          "text": [
            "*****\n",
            "****\n",
            "***\n",
            "**\n",
            "*\n"
          ]
        }
      ]
    },
    {
      "cell_type": "markdown",
      "source": [
        "# `break`와 `continue`\n",
        "\n",
        "* `break` : iteration을 종료.\n",
        "* `continue` : 그 다음 iteration 과정을 수행."
      ],
      "metadata": {
        "id": "9osBmIbwXE-P"
      }
    },
    {
      "cell_type": "code",
      "source": [
        "for x in range(5):\n",
        "    if x == 2:\n",
        "        break\n",
        "    print(x)"
      ],
      "metadata": {
        "colab": {
          "base_uri": "https://localhost:8080/"
        },
        "id": "ELRMTLfIXWNQ",
        "outputId": "0c37fd95-6444-4be3-f112-fd4125f2021f"
      },
      "execution_count": 24,
      "outputs": [
        {
          "output_type": "stream",
          "name": "stdout",
          "text": [
            "0\n",
            "1\n"
          ]
        }
      ]
    },
    {
      "cell_type": "code",
      "source": [
        "for x in range(5):\n",
        "    if x == 2:\n",
        "        continue\n",
        "    print(x)"
      ],
      "metadata": {
        "colab": {
          "base_uri": "https://localhost:8080/"
        },
        "id": "OM88_vVtXx5e",
        "outputId": "0fa04d34-05a6-4fd8-a42b-5b2356e77330"
      },
      "execution_count": 25,
      "outputs": [
        {
          "output_type": "stream",
          "name": "stdout",
          "text": [
            "0\n",
            "1\n",
            "3\n",
            "4\n"
          ]
        }
      ]
    },
    {
      "cell_type": "markdown",
      "source": [
        "for-in 반복문을 사용해서 구구단 2단은 2x2까지, 3단은 3x3까지, ... , 9단은 9x9까지 출력"
      ],
      "metadata": {
        "id": "eNfPylMtcJ0X"
      }
    },
    {
      "cell_type": "code",
      "source": [
        "for x in range(2, 10):\n",
        "    print(f'=== {x}단 ===')\n",
        "    for y in range(1, 10):\n",
        "        if x < y:\n",
        "            break\n",
        "        print(f'{x} x {y} = {x * y}')"
      ],
      "metadata": {
        "colab": {
          "base_uri": "https://localhost:8080/"
        },
        "id": "kQg0r_1qcJFf",
        "outputId": "b3c2e23f-acdc-4d0f-a511-67c91afb705b"
      },
      "execution_count": 30,
      "outputs": [
        {
          "output_type": "stream",
          "name": "stdout",
          "text": [
            "=== 2단 ===\n",
            "2 x 1 = 2\n",
            "2 x 2 = 4\n",
            "=== 3단 ===\n",
            "3 x 1 = 3\n",
            "3 x 2 = 6\n",
            "3 x 3 = 9\n",
            "=== 4단 ===\n",
            "4 x 1 = 4\n",
            "4 x 2 = 8\n",
            "4 x 3 = 12\n",
            "4 x 4 = 16\n",
            "=== 5단 ===\n",
            "5 x 1 = 5\n",
            "5 x 2 = 10\n",
            "5 x 3 = 15\n",
            "5 x 4 = 20\n",
            "5 x 5 = 25\n",
            "=== 6단 ===\n",
            "6 x 1 = 6\n",
            "6 x 2 = 12\n",
            "6 x 3 = 18\n",
            "6 x 4 = 24\n",
            "6 x 5 = 30\n",
            "6 x 6 = 36\n",
            "=== 7단 ===\n",
            "7 x 1 = 7\n",
            "7 x 2 = 14\n",
            "7 x 3 = 21\n",
            "7 x 4 = 28\n",
            "7 x 5 = 35\n",
            "7 x 6 = 42\n",
            "7 x 7 = 49\n",
            "=== 8단 ===\n",
            "8 x 1 = 8\n",
            "8 x 2 = 16\n",
            "8 x 3 = 24\n",
            "8 x 4 = 32\n",
            "8 x 5 = 40\n",
            "8 x 6 = 48\n",
            "8 x 7 = 56\n",
            "8 x 8 = 64\n",
            "=== 9단 ===\n",
            "9 x 1 = 9\n",
            "9 x 2 = 18\n",
            "9 x 3 = 27\n",
            "9 x 4 = 36\n",
            "9 x 5 = 45\n",
            "9 x 6 = 54\n",
            "9 x 7 = 63\n",
            "9 x 8 = 72\n",
            "9 x 9 = 81\n"
          ]
        }
      ]
    },
    {
      "cell_type": "code",
      "source": [
        "for x in range(2, 10):\n",
        "    print(f'=== {x}단 ===')\n",
        "    for y in range(1, x+1):\n",
        "        print(f'{x} x {y} = {x * y}')"
      ],
      "metadata": {
        "colab": {
          "base_uri": "https://localhost:8080/"
        },
        "id": "U8phRXvbdd7X",
        "outputId": "04345599-07a0-4153-af11-938df1bfb844"
      },
      "execution_count": 33,
      "outputs": [
        {
          "output_type": "stream",
          "name": "stdout",
          "text": [
            "=== 2단 ===\n",
            "2 x 1 = 2\n",
            "2 x 2 = 4\n",
            "=== 3단 ===\n",
            "3 x 1 = 3\n",
            "3 x 2 = 6\n",
            "3 x 3 = 9\n",
            "=== 4단 ===\n",
            "4 x 1 = 4\n",
            "4 x 2 = 8\n",
            "4 x 3 = 12\n",
            "4 x 4 = 16\n",
            "=== 5단 ===\n",
            "5 x 1 = 5\n",
            "5 x 2 = 10\n",
            "5 x 3 = 15\n",
            "5 x 4 = 20\n",
            "5 x 5 = 25\n",
            "=== 6단 ===\n",
            "6 x 1 = 6\n",
            "6 x 2 = 12\n",
            "6 x 3 = 18\n",
            "6 x 4 = 24\n",
            "6 x 5 = 30\n",
            "6 x 6 = 36\n",
            "=== 7단 ===\n",
            "7 x 1 = 7\n",
            "7 x 2 = 14\n",
            "7 x 3 = 21\n",
            "7 x 4 = 28\n",
            "7 x 5 = 35\n",
            "7 x 6 = 42\n",
            "7 x 7 = 49\n",
            "=== 8단 ===\n",
            "8 x 1 = 8\n",
            "8 x 2 = 16\n",
            "8 x 3 = 24\n",
            "8 x 4 = 32\n",
            "8 x 5 = 40\n",
            "8 x 6 = 48\n",
            "8 x 7 = 56\n",
            "8 x 8 = 64\n",
            "=== 9단 ===\n",
            "9 x 1 = 9\n",
            "9 x 2 = 18\n",
            "9 x 3 = 27\n",
            "9 x 4 = 36\n",
            "9 x 5 = 45\n",
            "9 x 6 = 54\n",
            "9 x 7 = 63\n",
            "9 x 8 = 72\n",
            "9 x 9 = 81\n"
          ]
        }
      ]
    }
  ]
}
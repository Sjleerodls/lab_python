{
  "nbformat": 4,
  "nbformat_minor": 0,
  "metadata": {
    "colab": {
      "provenance": [],
      "toc_visible": true,
      "authorship_tag": "ABX9TyNBs2Si0xRzvNafsi29cGiw",
      "include_colab_link": true
    },
    "kernelspec": {
      "name": "python3",
      "display_name": "Python 3"
    },
    "language_info": {
      "name": "python"
    }
  },
  "cells": [
    {
      "cell_type": "markdown",
      "metadata": {
        "id": "view-in-github",
        "colab_type": "text"
      },
      "source": [
        "<a href=\"https://colab.research.google.com/github/Sjleerodls/lab_python/blob/main/python10_exception.ipynb\" target=\"_parent\"><img src=\"https://colab.research.google.com/assets/colab-badge.svg\" alt=\"Open In Colab\"/></a>"
      ]
    },
    {
      "cell_type": "markdown",
      "source": [
        "# 오류(Error)의 종류"
      ],
      "metadata": {
        "id": "GAtaA6c3Tnah"
      }
    },
    {
      "cell_type": "code",
      "execution_count": 7,
      "metadata": {
        "colab": {
          "base_uri": "https://localhost:8080/"
        },
        "id": "27zkeGSyTgXy",
        "outputId": "ea57ad47-035f-459f-ee2c-9aa95456aee1"
      },
      "outputs": [
        {
          "output_type": "stream",
          "name": "stdout",
          "text": [
            "안녕하세요\n"
          ]
        }
      ],
      "source": [
        "# prin('안녕하세요')\n",
        "#> 1번 라인을 실행하면 NameError 발생 -> 문법 오류 -> 문법에 맞는 문장으로 코드를 수정\n",
        "print('안녕하세요')"
      ]
    },
    {
      "cell_type": "code",
      "source": [
        "number = int(input('값을 입력하세요 >>> '))\n",
        "print(number)"
      ],
      "metadata": {
        "colab": {
          "base_uri": "https://localhost:8080/"
        },
        "id": "ma5FrQw2TzS8",
        "outputId": "a33b4c1c-3e91-450a-8e7a-72e1b90c67dc"
      },
      "execution_count": 12,
      "outputs": [
        {
          "output_type": "stream",
          "name": "stdout",
          "text": [
            "값을 입력하세요 >>> 12\n",
            "12\n"
          ]
        }
      ]
    },
    {
      "cell_type": "markdown",
      "source": [
        "위의 코드셀은 사용자가 어떤 문자열을 입력했는지에 따라서 코드 실행이 정상적으로 종료될 수도 있고, 비정상적으로 에러가 발생할 수도 있음.\n",
        "\n",
        "코드 실행 중에 유가 발생하는 경우 해결 방법:\n",
        "* 오류가 발생한 위치와 원인을 찾아서 오류가 발생하지 않도록 코드를 수정.\n",
        "* 오류가 발생하더라도 정상적인 종료가 될 수 있도록 처리 -> 예외 처리."
      ],
      "metadata": {
        "id": "SRt2WGLrVqEI"
      }
    },
    {
      "cell_type": "markdown",
      "source": [
        "# try-except 구문\n",
        "\n",
        "```\n",
        "try:\n",
        "    (1) 실행할 코드 블록\n",
        "except [에러이름 [as 별칭]]:\n",
        "    (2) 예외가 발생했을 때 예외를 처리하는 코드 블록\n",
        "[else:\n",
        "    (3) try 블록의 모든 코드가 예외 없이 정상 수행됐을 때 실행할 코드 블록]\n",
        "[finally:\n",
        "    (4) 예외 발생 여부에 상관 없이 항상 실행할 코드 블록]\n",
        "```\n",
        "\n",
        "* try-except 구문의 실행 순서\n",
        "    * 예외가 발생하는 경우: (1) -> (2) -> (4)\n",
        "    * 예외가 발생하지 않는 경우: (1) -> (3) -> (4)\n",
        "* except 절에서 에러 이름을 생략하면 모든 종류의 에러를 처리할 수 있음.\n",
        "* except 절에서 에러 이름을 지정하면, 선언된 에러만 처리할 수 있음.\n",
        "* 처리해야 할 에러의 종류가 여러 개인 경우 except 절을 여러 개 사용할 수도 있음."
      ],
      "metadata": {
        "id": "mDWN_Cs5aMJg"
      }
    },
    {
      "cell_type": "code",
      "source": [
        "try:\n",
        "    first = int(input('첫 번째 정수를 입력하세요 >>> '))\n",
        "    second = int(input('두 번째 정수를 입력하세요 >>> '))\n",
        "    print(f'{first} + {second} = {first+second}')\n",
        "    print(f'{first} - {second} = {first-second}')\n",
        "    print(f'{first} * {second} = {first*second}')\n",
        "    print(f'{first} / {second} = {first/second}')\n",
        "except ValueError:\n",
        "    print('frist와 second는 정수로 입력해야 합니다.')\n",
        "except ZeroDivisionError:\n",
        "    print('0으로 나눌 수 없습니다.')\n",
        "else:\n",
        "    print('사칙 연산을 수행 완료했습니다.')\n",
        "finally:\n",
        "    print('코드 셀 종료.')"
      ],
      "metadata": {
        "colab": {
          "base_uri": "https://localhost:8080/"
        },
        "id": "hvllyA3HUp3w",
        "outputId": "ee9334b4-3b1c-4a63-b20f-f318bf5ab189"
      },
      "execution_count": 35,
      "outputs": [
        {
          "output_type": "stream",
          "name": "stdout",
          "text": [
            "첫 번째 정수를 입력하세요 >>> 100\n",
            "두 번째 정수를 입력하세요 >>> 0\n",
            "100 + 0 = 100\n",
            "100 - 0 = 100\n",
            "100 * 0 = 0\n",
            "0으로 나눌 수 없습니다.\n",
            "코드 셀 종료.\n"
          ]
        }
      ]
    },
    {
      "cell_type": "code",
      "source": [],
      "metadata": {
        "id": "BrRwQQUneffp"
      },
      "execution_count": null,
      "outputs": []
    }
  ]
}
{
  "nbformat": 4,
  "nbformat_minor": 0,
  "metadata": {
    "colab": {
      "provenance": [],
      "toc_visible": true,
      "authorship_tag": "ABX9TyNNEZagUQc3+MB8fdef00KE",
      "include_colab_link": true
    },
    "kernelspec": {
      "name": "python3",
      "display_name": "Python 3"
    },
    "language_info": {
      "name": "python"
    }
  },
  "cells": [
    {
      "cell_type": "markdown",
      "metadata": {
        "id": "view-in-github",
        "colab_type": "text"
      },
      "source": [
        "<a href=\"https://colab.research.google.com/github/Sjleerodls/lab_python/blob/main/python10_exception.ipynb\" target=\"_parent\"><img src=\"https://colab.research.google.com/assets/colab-badge.svg\" alt=\"Open In Colab\"/></a>"
      ]
    },
    {
      "cell_type": "markdown",
      "source": [
        "# 오류(Error)의 종류"
      ],
      "metadata": {
        "id": "GAtaA6c3Tnah"
      }
    },
    {
      "cell_type": "code",
      "execution_count": 7,
      "metadata": {
        "colab": {
          "base_uri": "https://localhost:8080/"
        },
        "id": "27zkeGSyTgXy",
        "outputId": "ea57ad47-035f-459f-ee2c-9aa95456aee1"
      },
      "outputs": [
        {
          "output_type": "stream",
          "name": "stdout",
          "text": [
            "안녕하세요\n"
          ]
        }
      ],
      "source": [
        "# prin('안녕하세요')\n",
        "#> 1번 라인을 실행하면 NameError 발생 -> 문법 오류 -> 문법에 맞는 문장으로 코드를 수정\n",
        "print('안녕하세요')"
      ]
    },
    {
      "cell_type": "code",
      "source": [
        "number = int(input('값을 입력하세요 >>> '))\n",
        "print(number)"
      ],
      "metadata": {
        "colab": {
          "base_uri": "https://localhost:8080/"
        },
        "id": "ma5FrQw2TzS8",
        "outputId": "a33b4c1c-3e91-450a-8e7a-72e1b90c67dc"
      },
      "execution_count": 12,
      "outputs": [
        {
          "output_type": "stream",
          "name": "stdout",
          "text": [
            "값을 입력하세요 >>> 12\n",
            "12\n"
          ]
        }
      ]
    },
    {
      "cell_type": "markdown",
      "source": [
        "위의 코드셀은 사용자가 어떤 문자열을 입력했는지에 따라서 코드 실행이 정상적으로 종료될 수도 있고, 비정상적으로 에러가 발생할 수도 있음.\n",
        "\n",
        "코드 실행 중에 유가 발생하는 경우 해결 방법:\n",
        "* 오류가 발생한 위치와 원인을 찾아서 오류가 발생하지 않도록 코드를 수정.\n",
        "* 오류가 발생하더라도 정상적인 종료가 될 수 있도록 처리 -> 예외 처리."
      ],
      "metadata": {
        "id": "SRt2WGLrVqEI"
      }
    },
    {
      "cell_type": "markdown",
      "source": [
        "# try-except 구문\n",
        "\n",
        "```\n",
        "try:\n",
        "    (1) 실행할 코드 블록\n",
        "except [에러이름 [as 별칭]]:\n",
        "    (2) 예외가 발생했을 때 예외를 처리하는 코드 블록\n",
        "[else:\n",
        "    (3) try 블록의 모든 코드가 예외 없이 정상 수행됐을 때 실행할 코드 블록]\n",
        "[finally:\n",
        "    (4) 예외 발생 여부에 상관 없이 항상 실행할 코드 블록]\n",
        "```\n",
        "\n",
        "* try-except 구문의 실행 순서\n",
        "    * 예외가 발생하는 경우: (1) -> (2) -> (4)\n",
        "    * 예외가 발생하지 않는 경우: (1) -> (3) -> (4)\n",
        "* except 절에서 에러 이름을 생략하면 모든 종류의 에러를 처리할 수 있음.\n",
        "* except 절에서 에러 이름을 지정하면, 선언된 에러만 처리할 수 있음.\n",
        "* 처리해야 할 에러의 종류가 여러 개인 경우 except 절을 여러 개 사용할 수도 있음."
      ],
      "metadata": {
        "id": "mDWN_Cs5aMJg"
      }
    },
    {
      "cell_type": "code",
      "source": [
        "try:\n",
        "    first = int(input('첫 번째 정수를 입력하세요 >>> '))\n",
        "    second = int(input('두 번째 정수를 입력하세요 >>> '))\n",
        "    print(f'{first} + {second} = {first+second}')\n",
        "    print(f'{first} - {second} = {first-second}')\n",
        "    print(f'{first} * {second} = {first*second}')\n",
        "    print(f'{first} / {second} = {first/second}')\n",
        "except ValueError:\n",
        "    print('frist와 second는 정수로 입력해야 합니다.')\n",
        "except ZeroDivisionError:\n",
        "    print('0으로 나눌 수 없습니다.')\n",
        "else:\n",
        "    print('사칙 연산을 수행 완료했습니다.')\n",
        "finally:\n",
        "    print('코드 셀 종료.')"
      ],
      "metadata": {
        "colab": {
          "base_uri": "https://localhost:8080/"
        },
        "id": "hvllyA3HUp3w",
        "outputId": "2e7a5783-88a5-47ec-ca08-6d7aae82910c"
      },
      "execution_count": 37,
      "outputs": [
        {
          "output_type": "stream",
          "name": "stdout",
          "text": [
            "첫 번째 정수를 입력하세요 >>> 100\n",
            "두 번째 정수를 입력하세요 >>> 0\n",
            "100 + 0 = 100\n",
            "100 - 0 = 100\n",
            "100 * 0 = 0\n",
            "0으로 나눌 수 없습니다.\n",
            "코드 셀 종료.\n"
          ]
        }
      ]
    },
    {
      "cell_type": "code",
      "source": [
        "try:\n",
        "    first = int(input('첫 번째 정수를 입력하세요 >>> '))\n",
        "    second = int(input('두 번째 정수를 입력하세요 >>> '))\n",
        "    print(f'{first} + {second} = {first+second}')\n",
        "    print(f'{first} - {second} = {first-second}')\n",
        "    print(f'{first} * {second} = {first*second}')\n",
        "    print(f'{first} / {second} = {first/second}')\n",
        "except:\n",
        "    print('오류가 발생하여 코드 실행을 멈춥니다.')"
      ],
      "metadata": {
        "colab": {
          "base_uri": "https://localhost:8080/"
        },
        "id": "BrRwQQUneffp",
        "outputId": "db4d86da-e18d-43db-d608-31b4813d55c9"
      },
      "execution_count": 42,
      "outputs": [
        {
          "output_type": "stream",
          "name": "stdout",
          "text": [
            "첫 번째 정수를 입력하세요 >>> 123\n",
            "두 번째 정수를 입력하세요 >>> 0\n",
            "123 + 0 = 123\n",
            "123 - 0 = 123\n",
            "123 * 0 = 0\n",
            "오류가 발생하여 코드 실행을 멈춥니다.\n"
          ]
        }
      ]
    },
    {
      "cell_type": "code",
      "source": [
        "import random"
      ],
      "metadata": {
        "id": "O0_gWVhFh6VB"
      },
      "execution_count": 43,
      "outputs": []
    },
    {
      "cell_type": "code",
      "source": [
        "numbers = [random.randrange(100) for _ in range(10)]\n",
        "numbers"
      ],
      "metadata": {
        "colab": {
          "base_uri": "https://localhost:8080/"
        },
        "id": "_roNqQdjjNV4",
        "outputId": "6a4dc9d1-9e7e-4e94-c954-99621f052163"
      },
      "execution_count": 44,
      "outputs": [
        {
          "output_type": "execute_result",
          "data": {
            "text/plain": [
              "[57, 65, 69, 3, 97, 80, 48, 89, 52, 64]"
            ]
          },
          "metadata": {},
          "execution_count": 44
        }
      ]
    },
    {
      "cell_type": "code",
      "source": [
        "index = int(input('인덱스를 입력하세요. >>> '))\n",
        "print(f'number[{index}] = {numbers[index]}')"
      ],
      "metadata": {
        "colab": {
          "base_uri": "https://localhost:8080/",
          "height": 184
        },
        "id": "q_POFT2FjSgo",
        "outputId": "6d973c7d-66cb-4ebb-a294-238e43ab1993"
      },
      "execution_count": 56,
      "outputs": [
        {
          "name": "stdout",
          "output_type": "stream",
          "text": [
            "인덱스를 입력하세요. >>> index\n"
          ]
        },
        {
          "output_type": "error",
          "ename": "ValueError",
          "evalue": "invalid literal for int() with base 10: 'index'",
          "traceback": [
            "\u001b[0;31m---------------------------------------------------------------------------\u001b[0m",
            "\u001b[0;31mValueError\u001b[0m                                Traceback (most recent call last)",
            "\u001b[0;32m<ipython-input-56-a3099403742b>\u001b[0m in \u001b[0;36m<cell line: 0>\u001b[0;34m()\u001b[0m\n\u001b[0;32m----> 1\u001b[0;31m \u001b[0mindex\u001b[0m \u001b[0;34m=\u001b[0m \u001b[0mint\u001b[0m\u001b[0;34m(\u001b[0m\u001b[0minput\u001b[0m\u001b[0;34m(\u001b[0m\u001b[0;34m'인덱스를 입력하세요. >>> '\u001b[0m\u001b[0;34m)\u001b[0m\u001b[0;34m)\u001b[0m\u001b[0;34m\u001b[0m\u001b[0;34m\u001b[0m\u001b[0m\n\u001b[0m\u001b[1;32m      2\u001b[0m \u001b[0mprint\u001b[0m\u001b[0;34m(\u001b[0m\u001b[0;34mf'number[{index}] = {numbers[index]}'\u001b[0m\u001b[0;34m)\u001b[0m\u001b[0;34m\u001b[0m\u001b[0;34m\u001b[0m\u001b[0m\n",
            "\u001b[0;31mValueError\u001b[0m: invalid literal for int() with base 10: 'index'"
          ]
        }
      ]
    },
    {
      "cell_type": "code",
      "source": [
        "try:\n",
        "    index = int(input('인덱스를 입력하세요. >>> '))\n",
        "    print(f'number[{index}] = {numbers[index]}')\n",
        "except IndexError as e:\n",
        "    print(e)    # IndexError의 오류 메시지 출력\n",
        "except ValueError as e:\n",
        "    print(e)    # ValueError의 오류 메시지가 출력."
      ],
      "metadata": {
        "colab": {
          "base_uri": "https://localhost:8080/"
        },
        "id": "1yQvZ9DpjusB",
        "outputId": "af9a1a5d-2375-4d30-faee-f774137e0484"
      },
      "execution_count": 64,
      "outputs": [
        {
          "output_type": "stream",
          "name": "stdout",
          "text": [
            "인덱스를 입력하세요. >>> 123\n",
            "list index out of range\n"
          ]
        }
      ]
    },
    {
      "cell_type": "markdown",
      "source": [
        "사용자에게 숫자(실수)를 입력하라고 프롬프트를 보여주고,\n",
        "* 사용자가 입력한 문자열이 숫자로 변환될 수 있는 경우라면, 그 숫자를 출력하고 셀을 종료.\n",
        "* 사용자가 입력한 문자열이 숫자로 변환될 수 없는 경우라면, 숫자 입력 프롬프트를 보여주고 입력 과정을 반복."
      ],
      "metadata": {
        "id": "h6zm7PzQp5ow"
      }
    },
    {
      "cell_type": "code",
      "source": [
        "try:\n",
        "    x = float(input('숫자를 입력하세요. >>> '))\n",
        "    print(x)\n",
        "except:\n",
        "    print('숫자를 다시 입력해주세요')\n",
        "finally:\n",
        "    print('셀을 종료합니다.')"
      ],
      "metadata": {
        "colab": {
          "base_uri": "https://localhost:8080/"
        },
        "id": "dhgvVKPBp1K_",
        "outputId": "73cf1da7-5bdf-49ed-b4ce-e1b6c7d69826"
      },
      "execution_count": 1,
      "outputs": [
        {
          "output_type": "stream",
          "name": "stdout",
          "text": [
            "숫자를 입력하세요. >>> 123\n",
            "123.0\n",
            "셀을 종료합니다.\n"
          ]
        }
      ]
    },
    {
      "cell_type": "code",
      "source": [
        "x = float(input('숫자를 입력하세요. >>> '))\n",
        "print(x)"
      ],
      "metadata": {
        "colab": {
          "base_uri": "https://localhost:8080/",
          "height": 184
        },
        "id": "HqtsPB7XspSo",
        "outputId": "87f876aa-5488-488d-95c1-bbaf235a5bd0"
      },
      "execution_count": 9,
      "outputs": [
        {
          "name": "stdout",
          "output_type": "stream",
          "text": [
            "숫자를 입력하세요. >>> tntwk\n"
          ]
        },
        {
          "output_type": "error",
          "ename": "ValueError",
          "evalue": "could not convert string to float: 'tntwk'",
          "traceback": [
            "\u001b[0;31m---------------------------------------------------------------------------\u001b[0m",
            "\u001b[0;31mValueError\u001b[0m                                Traceback (most recent call last)",
            "\u001b[0;32m<ipython-input-9-afc0c19eb0a3>\u001b[0m in \u001b[0;36m<cell line: 0>\u001b[0;34m()\u001b[0m\n\u001b[0;32m----> 1\u001b[0;31m \u001b[0mx\u001b[0m \u001b[0;34m=\u001b[0m \u001b[0mfloat\u001b[0m\u001b[0;34m(\u001b[0m\u001b[0minput\u001b[0m\u001b[0;34m(\u001b[0m\u001b[0;34m'숫자를 입력하세요. >>> '\u001b[0m\u001b[0;34m)\u001b[0m\u001b[0;34m)\u001b[0m\u001b[0;34m\u001b[0m\u001b[0;34m\u001b[0m\u001b[0m\n\u001b[0m\u001b[1;32m      2\u001b[0m \u001b[0mprint\u001b[0m\u001b[0;34m(\u001b[0m\u001b[0mx\u001b[0m\u001b[0;34m)\u001b[0m\u001b[0;34m\u001b[0m\u001b[0;34m\u001b[0m\u001b[0m\n",
            "\u001b[0;31mValueError\u001b[0m: could not convert string to float: 'tntwk'"
          ]
        }
      ]
    },
    {
      "cell_type": "code",
      "source": [
        "while True:\n",
        "    try:\n",
        "        x = float(input('숫자를 입력하세요. >>> '))\n",
        "        print(x)    # 숫자 입력, 출력, 반복문 종료\n",
        "    except:\n",
        "        print('숫자를 다시 입력해주세요.')  # 에러 메시지 출력, 다시 반복.\n",
        "    else:\n",
        "        print('이상 없습니다.')\n",
        "        break"
      ],
      "metadata": {
        "colab": {
          "base_uri": "https://localhost:8080/"
        },
        "id": "ZJnXkd9_qyD4",
        "outputId": "08b8b01d-d745-4c46-fa97-dd17430bfa1d"
      },
      "execution_count": 28,
      "outputs": [
        {
          "output_type": "stream",
          "name": "stdout",
          "text": [
            "숫자를 입력하세요. >>> hello\n",
            "숫자를 다시 입력해주세요.\n",
            "숫자를 입력하세요. >>> python\n",
            "숫자를 다시 입력해주세요.\n",
            "숫자를 입력하세요. >>> 14.19`2`0\n",
            "숫자를 다시 입력해주세요.\n",
            "숫자를 입력하세요. >>> '`2':'0`2\n",
            "숫자를 다시 입력해주세요.\n",
            "숫자를 입력하세요. >>> 1.810\n",
            "1.81\n",
            "이상 없습니다.\n"
          ]
        }
      ]
    },
    {
      "cell_type": "code",
      "source": [
        "while True:\n",
        "    try:\n",
        "        x = float(input('숫자를 입력하세요. >>> '))\n",
        "        print(x)    # 숫자 입력, 출력, 반복문 종료\n",
        "    except:\n",
        "        x = float(input('숫자를 입력하세요. >>> '))  # 에러 메시지 출력, 다시 반복.\n",
        "    else:\n",
        "        print('이상 없습니다.')\n",
        "        break"
      ],
      "metadata": {
        "colab": {
          "base_uri": "https://localhost:8080/",
          "height": 441
        },
        "id": "JaL46mZRxPw_",
        "outputId": "2e5f1d54-cefc-422f-f18e-01551da33bae"
      },
      "execution_count": 31,
      "outputs": [
        {
          "name": "stdout",
          "output_type": "stream",
          "text": [
            "숫자를 입력하세요. >>> aaa\n",
            "숫자를 입력하세요. >>> aaa\n"
          ]
        },
        {
          "output_type": "error",
          "ename": "ValueError",
          "evalue": "could not convert string to float: 'aaa'",
          "traceback": [
            "\u001b[0;31m---------------------------------------------------------------------------\u001b[0m",
            "\u001b[0;31mValueError\u001b[0m                                Traceback (most recent call last)",
            "\u001b[0;32m<ipython-input-31-352c169dc023>\u001b[0m in \u001b[0;36m<cell line: 0>\u001b[0;34m()\u001b[0m\n\u001b[1;32m      2\u001b[0m     \u001b[0;32mtry\u001b[0m\u001b[0;34m:\u001b[0m\u001b[0;34m\u001b[0m\u001b[0;34m\u001b[0m\u001b[0m\n\u001b[0;32m----> 3\u001b[0;31m         \u001b[0mx\u001b[0m \u001b[0;34m=\u001b[0m \u001b[0mfloat\u001b[0m\u001b[0;34m(\u001b[0m\u001b[0minput\u001b[0m\u001b[0;34m(\u001b[0m\u001b[0;34m'숫자를 입력하세요. >>> '\u001b[0m\u001b[0;34m)\u001b[0m\u001b[0;34m)\u001b[0m\u001b[0;34m\u001b[0m\u001b[0;34m\u001b[0m\u001b[0m\n\u001b[0m\u001b[1;32m      4\u001b[0m         \u001b[0mprint\u001b[0m\u001b[0;34m(\u001b[0m\u001b[0mx\u001b[0m\u001b[0;34m)\u001b[0m    \u001b[0;31m# 숫자 입력, 출력, 반복문 종료\u001b[0m\u001b[0;34m\u001b[0m\u001b[0;34m\u001b[0m\u001b[0m\n",
            "\u001b[0;31mValueError\u001b[0m: could not convert string to float: 'aaa'",
            "\nDuring handling of the above exception, another exception occurred:\n",
            "\u001b[0;31mValueError\u001b[0m                                Traceback (most recent call last)",
            "\u001b[0;32m<ipython-input-31-352c169dc023>\u001b[0m in \u001b[0;36m<cell line: 0>\u001b[0;34m()\u001b[0m\n\u001b[1;32m      4\u001b[0m         \u001b[0mprint\u001b[0m\u001b[0;34m(\u001b[0m\u001b[0mx\u001b[0m\u001b[0;34m)\u001b[0m    \u001b[0;31m# 숫자 입력, 출력, 반복문 종료\u001b[0m\u001b[0;34m\u001b[0m\u001b[0;34m\u001b[0m\u001b[0m\n\u001b[1;32m      5\u001b[0m     \u001b[0;32mexcept\u001b[0m\u001b[0;34m:\u001b[0m\u001b[0;34m\u001b[0m\u001b[0;34m\u001b[0m\u001b[0m\n\u001b[0;32m----> 6\u001b[0;31m         \u001b[0mx\u001b[0m \u001b[0;34m=\u001b[0m \u001b[0mfloat\u001b[0m\u001b[0;34m(\u001b[0m\u001b[0minput\u001b[0m\u001b[0;34m(\u001b[0m\u001b[0;34m'숫자를 입력하세요. >>> '\u001b[0m\u001b[0;34m)\u001b[0m\u001b[0;34m)\u001b[0m  \u001b[0;31m# 에러 메시지 출력, 다시 반복.\u001b[0m\u001b[0;34m\u001b[0m\u001b[0;34m\u001b[0m\u001b[0m\n\u001b[0m\u001b[1;32m      7\u001b[0m     \u001b[0;32melse\u001b[0m\u001b[0;34m:\u001b[0m\u001b[0;34m\u001b[0m\u001b[0;34m\u001b[0m\u001b[0m\n\u001b[1;32m      8\u001b[0m         \u001b[0mprint\u001b[0m\u001b[0;34m(\u001b[0m\u001b[0;34m'이상 없습니다.'\u001b[0m\u001b[0;34m)\u001b[0m\u001b[0;34m\u001b[0m\u001b[0;34m\u001b[0m\u001b[0m\n",
            "\u001b[0;31mValueError\u001b[0m: could not convert string to float: 'aaa'"
          ]
        }
      ]
    }
  ]
}
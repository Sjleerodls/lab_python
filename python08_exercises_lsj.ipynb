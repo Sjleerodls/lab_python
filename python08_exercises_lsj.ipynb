{
  "nbformat": 4,
  "nbformat_minor": 0,
  "metadata": {
    "colab": {
      "provenance": [],
      "toc_visible": true,
      "include_colab_link": true
    },
    "kernelspec": {
      "name": "python3",
      "display_name": "Python 3"
    },
    "language_info": {
      "name": "python"
    }
  },
  "cells": [
    {
      "cell_type": "markdown",
      "metadata": {
        "id": "view-in-github",
        "colab_type": "text"
      },
      "source": [
        "<a href=\"https://colab.research.google.com/github/Sjleerodls/lab_python/blob/main/python08_exercises_lsj.ipynb\" target=\"_parent\"><img src=\"https://colab.research.google.com/assets/colab-badge.svg\" alt=\"Open In Colab\"/></a>"
      ]
    },
    {
      "cell_type": "code",
      "execution_count": 4,
      "metadata": {
        "id": "7VlwnJiM-3I4"
      },
      "outputs": [],
      "source": [
        "import random  # 난수 생성을 위한 모듈(random.random(), random.randrange(), ...)\n",
        "import math  # 수학 함수를 사용하기 위한 모듈(math.sqrt(), ...)"
      ]
    },
    {
      "cell_type": "markdown",
      "source": [
        "# Ex 1.\n",
        "\n",
        "`fruits = ('apple', 'banana', 'cherry', 'durian', 'watermellon')`\n",
        "\n",
        "튜플 fruits에 저장된 문자열의 길이들을 저장하는 리스트를 만들어 출력하세요."
      ],
      "metadata": {
        "id": "zF88-07M_IcO"
      }
    },
    {
      "cell_type": "code",
      "source": [
        "fruits = ('apple', 'banana', 'cherry', 'durian', 'watermellon')\n",
        "\n",
        "# 1. for in\n",
        "res = []    # 문자열의 길이들을 저장하기 위한 빈 리스트\n",
        "\n",
        "for x in fruits:    # tuple의 원소들을 하나씩 순서대로 하나씩 반복\n",
        "    res.append(len(x))  # 문자열의 길이를 리스트에 추가\n",
        "print('res : ', res)\n",
        "\n",
        "# 2. list comprehension\n",
        "res2 = [len(x) for x in fruits]\n",
        "print('res2 : ', res2)\n",
        "\n",
        "fruits"
      ],
      "metadata": {
        "colab": {
          "base_uri": "https://localhost:8080/"
        },
        "id": "xaYJqJTXHVgp",
        "outputId": "a3ff0178-4104-4405-b026-c336ad2ac799"
      },
      "execution_count": 2,
      "outputs": [
        {
          "output_type": "stream",
          "name": "stdout",
          "text": [
            "res :  [5, 6, 6, 6, 11]\n",
            "res2 :  [5, 6, 6, 6, 11]\n"
          ]
        },
        {
          "output_type": "execute_result",
          "data": {
            "text/plain": [
              "('apple', 'banana', 'cherry', 'durian', 'watermellon')"
            ]
          },
          "metadata": {},
          "execution_count": 2
        }
      ]
    },
    {
      "cell_type": "markdown",
      "source": [
        "# Ex 2.\n",
        "\n",
        "*   1 이상 4 이하 범위의 정수 난수 10개를 저장하는 리스트 gender_codes를 만들고 출력하세요.\n",
        "*   gender_codes의 값이 1 또는 3이면 'Male', 2 또는 4이면 'Female'을 저장하는 리스트 genders를 만들고 출력하세요.\n"
      ],
      "metadata": {
        "id": "eIo4Meam_hlu"
      }
    },
    {
      "cell_type": "code",
      "source": [
        "gender_codes = [random.randrange(1, 5) for _ in range(10)]\n",
        "\n",
        "genders = []\n",
        "\n",
        "for x in gender_codes:\n",
        "    if x in (1, 3):\n",
        "        genders.append('Male')\n",
        "    elif x in (2, 4):\n",
        "        genders.append('Female')\n",
        "    else:\n",
        "        print('범위 내의 숫자가 들어오지 않았습니다.')\n",
        "\n",
        "print(genders)\n",
        "print(gender_codes)\n",
        "genders2 = ['Male' if c in (1,3) else 'Female'\n",
        "             for c in gender_codes]   # if else 구문 사용.\n",
        "print(genders2)"
      ],
      "metadata": {
        "colab": {
          "base_uri": "https://localhost:8080/"
        },
        "id": "7tnweuzQISdp",
        "outputId": "b7ec44c1-5993-4d4b-e5e1-945bf80ee170"
      },
      "execution_count": 12,
      "outputs": [
        {
          "output_type": "stream",
          "name": "stdout",
          "text": [
            "['Male', 'Female', 'Male', 'Male', 'Male', 'Female', 'Male', 'Female', 'Female', 'Female']\n",
            "[1, 4, 3, 3, 1, 4, 1, 2, 4, 2]\n",
            "['Male', 'Female', 'Male', 'Male', 'Male', 'Female', 'Male', 'Female', 'Female', 'Female']\n"
          ]
        }
      ]
    },
    {
      "cell_type": "markdown",
      "source": [
        "# Ex 3.\n",
        "\n",
        "```\n",
        "m1 = [\n",
        "    [1, 2, 3],\n",
        "    [4, 5, 6]\n",
        "]\n",
        "m2 = [\n",
        "    [1, 1, 1],\n",
        "    [2, 2, 2]\n",
        "]\n",
        "```\n",
        "\n",
        "두 2차원 배열 m1, m2에서 같은 인덱스의 원소들끼리 뺄셈(m1 - m2) 결과를 저장하는 리스트를 만들고 출력하세요."
      ],
      "metadata": {
        "id": "9GK_1p78_wze"
      }
    },
    {
      "cell_type": "code",
      "source": [
        "m1 = [\n",
        "    [1, 2, 3],\n",
        "    [4, 5, 6]\n",
        "]\n",
        "\n",
        "m2 = [\n",
        "    [1, 1, 1],\n",
        "    [2, 2, 2]\n",
        "]\n",
        "\n",
        "\n",
        "# 1. for in + 오쌤\n",
        "res = []    # 결과(2차원 리스트)를 저장하기 위한 리스트\n",
        "\n",
        "for x, y in zip(m1, m2):\n",
        "    result = []     # 1차원 리스트의 원소들끼리 뺄셈의 결과를 저장하기 위한 리스트\n",
        "    for i, l in zip(x, y):\n",
        "        result.append(i-l)\n",
        "    res.append(result)\n",
        "\n",
        "print(res)\n",
        "\n",
        "\n",
        "\n",
        "# 2. list comprehension\n",
        "res2 = [i - l for x,y in zip(m1, m2) for i,l in zip(x,y)]\n",
        "print(res2)\n",
        "\n",
        "# 3. 오쌤\n",
        "result = [[x-y for x,y in zip(r1,r2)]\n",
        "          for r1, r2 in zip(m1,m2)]\n",
        "print('result :',result)"
      ],
      "metadata": {
        "colab": {
          "base_uri": "https://localhost:8080/"
        },
        "id": "us_1vxJBKYyx",
        "outputId": "e6085bfb-6b95-481e-a3d2-a43ea09fc7ab"
      },
      "execution_count": 22,
      "outputs": [
        {
          "output_type": "stream",
          "name": "stdout",
          "text": [
            "[[0, 1, 2], [2, 3, 4]]\n",
            "[0, 1, 2, 2, 3, 4]\n",
            "result : [[0, 1, 2], [2, 3, 4]]\n"
          ]
        }
      ]
    },
    {
      "cell_type": "markdown",
      "source": [
        "# Ex 4.\n",
        "\n",
        "1 이상 10 이하의 정수 난수 5개를 저장하는 리스트 scores를 만들고 출력하세요.\n"
      ],
      "metadata": {
        "id": "FmsK4gv5AZdn"
      }
    },
    {
      "cell_type": "code",
      "source": [
        "num_of_items = 5\n",
        "scores = [random.randrange(1, 11) for _ in range(num_of_items)]\n",
        "scores"
      ],
      "metadata": {
        "colab": {
          "base_uri": "https://localhost:8080/"
        },
        "id": "eb7vTAhpGdzq",
        "outputId": "142eb35c-cdf1-4c18-c26c-544887bd2771"
      },
      "execution_count": 38,
      "outputs": [
        {
          "output_type": "execute_result",
          "data": {
            "text/plain": [
              "[6, 6, 10, 8, 3]"
            ]
          },
          "metadata": {},
          "execution_count": 38
        }
      ]
    },
    {
      "cell_type": "markdown",
      "source": [
        "# Ex 5.\n",
        "\n",
        "문제 4에서 만든 리스트 scores의 원소들의 합계를 계산하고 출력하세요.\n"
      ],
      "metadata": {
        "id": "myX9op_zAjjl"
      }
    },
    {
      "cell_type": "code",
      "source": [
        "# 1.\n",
        "sum_scores = sum(scores) # 6 + 6 + 10 + 8 + 3 = 33\n",
        "print(sum_scores)\n",
        "\n",
        "# 2.\n",
        "total = 0\n",
        "for x in scores:\n",
        "    total += x\n",
        "\n",
        "total"
      ],
      "metadata": {
        "colab": {
          "base_uri": "https://localhost:8080/"
        },
        "id": "a0VVQu8DMqwB",
        "outputId": "3b97e42a-1f9e-414f-8e35-b325b1970496"
      },
      "execution_count": 46,
      "outputs": [
        {
          "output_type": "stream",
          "name": "stdout",
          "text": [
            "33\n"
          ]
        },
        {
          "output_type": "execute_result",
          "data": {
            "text/plain": [
              "33"
            ]
          },
          "metadata": {},
          "execution_count": 46
        }
      ]
    },
    {
      "cell_type": "markdown",
      "source": [
        "# Ex 6.\n",
        "\n",
        "문제 4에서 만든 리스트 scores의 원소들의 평균을 계산하고 출력하세요."
      ],
      "metadata": {
        "id": "RaJ44M7-Ash9"
      }
    },
    {
      "cell_type": "code",
      "source": [
        "avg_scores = (sum_scores/num_of_items)\n",
        "avg_scores"
      ],
      "metadata": {
        "colab": {
          "base_uri": "https://localhost:8080/"
        },
        "id": "uhQrGmtIM0fI",
        "outputId": "1a6a8a6e-0a64-4367-c494-fb971a711785"
      },
      "execution_count": 45,
      "outputs": [
        {
          "output_type": "execute_result",
          "data": {
            "text/plain": [
              "6.6"
            ]
          },
          "metadata": {},
          "execution_count": 45
        }
      ]
    },
    {
      "cell_type": "markdown",
      "source": [
        "# Ex 7.\n",
        "\n",
        "문제 4에서 만든 리스트 scores의 원소들의 분산을 계산하고 출력하세요."
      ],
      "metadata": {
        "id": "bu6t8CBIAyeV"
      }
    },
    {
      "cell_type": "code",
      "source": [
        "# 1.\n",
        "var_scores = (6-avg_scores)**2 + (6-avg_scores)**2 + (10-avg_scores)**2 + (8-avg_scores)**2 + (3-avg_scores)**2\n",
        "print(var_scores)\n",
        "\n",
        "# 2.\n",
        "variations = []\n",
        "for x in scores:\n",
        "    variations.append((x-avg_scores)**2)\n",
        "\n",
        "print(sum(variations))\n",
        "\n",
        "# 3.\n",
        "variation = [(x-avg_scores) ** 2 for x in scores]\n",
        "print(sum(variation))"
      ],
      "metadata": {
        "colab": {
          "base_uri": "https://localhost:8080/"
        },
        "id": "0fRrhf-LM6Ji",
        "outputId": "9cca5373-4970-47ad-d1e6-2223c5b0154c"
      },
      "execution_count": 53,
      "outputs": [
        {
          "output_type": "stream",
          "name": "stdout",
          "text": [
            "27.2\n",
            "27.2\n",
            "27.2\n"
          ]
        }
      ]
    },
    {
      "cell_type": "markdown",
      "source": [
        "# Ex 8.\n",
        "\n",
        "문제 4에서 만든 리스트 scores의 원소들의 표준편차를 계산하고 출력하세요."
      ],
      "metadata": {
        "id": "rWaFv-YoA1DF"
      }
    },
    {
      "cell_type": "code",
      "source": [
        "from math import sqrt\n",
        "\n",
        "print(sqrt(var_scores))\n",
        "\n",
        "# 오 쌤\n",
        "std = var_scores ** 0.5\n",
        "std"
      ],
      "metadata": {
        "colab": {
          "base_uri": "https://localhost:8080/"
        },
        "id": "rcOgSUpMNCWx",
        "outputId": "746de4fa-534d-4992-e3ac-12550176fd44"
      },
      "execution_count": 56,
      "outputs": [
        {
          "output_type": "stream",
          "name": "stdout",
          "text": [
            "5.215361924162119\n"
          ]
        },
        {
          "output_type": "execute_result",
          "data": {
            "text/plain": [
              "5.215361924162119"
            ]
          },
          "metadata": {},
          "execution_count": 56
        }
      ]
    },
    {
      "cell_type": "markdown",
      "source": [
        "# Ex 9.\n",
        "\n",
        "문제 4에서 만든 리스트 scores에서 최댓값을 찾고 출력하세요."
      ],
      "metadata": {
        "id": "xF8J5cdAA6K9"
      }
    },
    {
      "cell_type": "code",
      "source": [
        "max_scores = max(scores)\n",
        "print(max_scores)"
      ],
      "metadata": {
        "colab": {
          "base_uri": "https://localhost:8080/"
        },
        "id": "_no5nK2wagk5",
        "outputId": "0bee4157-f741-409b-d889-7468ad3fdfa7"
      },
      "execution_count": 60,
      "outputs": [
        {
          "output_type": "stream",
          "name": "stdout",
          "text": [
            "10\n"
          ]
        }
      ]
    },
    {
      "cell_type": "code",
      "source": [
        "max_score = scores[0]\n",
        "for x in scores:\n",
        "    if x > max_score:\n",
        "        max_score = x\n",
        "\n",
        "print(max_score)"
      ],
      "metadata": {
        "colab": {
          "base_uri": "https://localhost:8080/"
        },
        "id": "Iaaqbt5Tc-dJ",
        "outputId": "cf6342f8-b7f2-45f9-b617-b0c6d5d2fc5e"
      },
      "execution_count": 67,
      "outputs": [
        {
          "output_type": "stream",
          "name": "stdout",
          "text": [
            "10\n"
          ]
        }
      ]
    },
    {
      "cell_type": "markdown",
      "source": [
        "# Ex 10.\n",
        "\n",
        "문제 4에서 만든 리스트 scores에서 최솟값을 찾고 출력하세요."
      ],
      "metadata": {
        "id": "yjm0zhY-A-Ol"
      }
    },
    {
      "cell_type": "code",
      "source": [
        "min_scores = min(scores)\n",
        "min_scores"
      ],
      "metadata": {
        "colab": {
          "base_uri": "https://localhost:8080/"
        },
        "id": "aI7ED3YKOSxQ",
        "outputId": "fdf5ca71-0a46-4b8f-c035-174ee379a0dc"
      },
      "execution_count": 69,
      "outputs": [
        {
          "output_type": "execute_result",
          "data": {
            "text/plain": [
              "3"
            ]
          },
          "metadata": {},
          "execution_count": 69
        }
      ]
    },
    {
      "cell_type": "code",
      "source": [
        "min_score = scores[0]\n",
        "for x in scores:\n",
        "    if x < min_score:\n",
        "        min_score = x\n",
        "\n",
        "min_score"
      ],
      "metadata": {
        "colab": {
          "base_uri": "https://localhost:8080/"
        },
        "id": "3miUbCtvefTB",
        "outputId": "3c1b3d30-ded1-4bf9-eb5f-adba5bb384ab"
      },
      "execution_count": 71,
      "outputs": [
        {
          "output_type": "execute_result",
          "data": {
            "text/plain": [
              "3"
            ]
          },
          "metadata": {},
          "execution_count": 71
        }
      ]
    },
    {
      "cell_type": "code",
      "source": [
        "# sorted(iterable): iterable의 원소들을 (오름차순) 정렬한 \"새로운\" 리스트를 리턴함.\n",
        "# 원본 iteraable의 아이템들의 순서는 바뀌지 않음.\n",
        "sorted_scores = sorted(scores)\n",
        "print('scores:',scores)\n",
        "print('sorted_scores:',sorted_scores)   # 원본의 순서를 바꾸지 않음\n",
        "print('최솟값:', sorted_scores[0])\n",
        "print('최댓값:', sorted_scores[-1])"
      ],
      "metadata": {
        "colab": {
          "base_uri": "https://localhost:8080/"
        },
        "id": "sVrQ3InsOSEQ",
        "outputId": "9ed6c311-6de9-4413-9e8b-5166b4fe5e69"
      },
      "execution_count": 63,
      "outputs": [
        {
          "output_type": "stream",
          "name": "stdout",
          "text": [
            "scores: [6, 6, 10, 8, 3]\n",
            "sorted_scores: [3, 6, 6, 8, 10]\n",
            "최솟값: 3\n",
            "최댓값: 10\n"
          ]
        }
      ]
    },
    {
      "cell_type": "code",
      "source": [
        "# list.sort(): list를 (오름차순) 정렬 및 원본 수정함. 리턴하는 값이 없음. 원본 리스트의 아이템 순서들이 바뀜!\n",
        "scores.sort()   # 원본의 순서를 변경함.\n",
        "print(scores)"
      ],
      "metadata": {
        "colab": {
          "base_uri": "https://localhost:8080/"
        },
        "id": "qKbLFo7lbcda",
        "outputId": "1cadaaea-0742-4eb6-c1e9-1f5b2e0a3079"
      },
      "execution_count": 64,
      "outputs": [
        {
          "output_type": "stream",
          "name": "stdout",
          "text": [
            "[3, 6, 6, 8, 10]\n"
          ]
        }
      ]
    },
    {
      "cell_type": "markdown",
      "source": [
        "*   리스트의 모든 원소의 합계\n",
        "\n",
        "$$\n",
        "sum = \\sum_{i = 1}^{n} x_i = x_1 + x_2 + ... + x_n\n",
        "$$\n",
        "\n",
        "*   리스트의 모든 원소의 평균(mean)\n",
        "\n",
        "$$\n",
        "\\bar{x} = \\frac{1}{n} \\sum_{i = 1}^{n} x_i\n",
        "$$\n",
        "\n",
        "*   리스트의 모든 원소의 분산(variance)\n",
        "\n",
        "$$\n",
        "var = \\frac{1}{n - 1} \\sum_{i = 1}^{n} (x_i - \\bar{x})^2\n",
        "$$\n",
        "\n",
        "*   리스트의 모든 원소의 표준편차(standard deviation)\n",
        "\n",
        "$$\n",
        "std = \\sqrt{var}\n",
        "    = \\sqrt{\\frac{1}{n - 1} \\sum_{i = 1}^{n} (x_i - \\bar{x})^2}\n",
        "$$"
      ],
      "metadata": {
        "id": "887FkRuDBG7l"
      }
    }
  ]
}
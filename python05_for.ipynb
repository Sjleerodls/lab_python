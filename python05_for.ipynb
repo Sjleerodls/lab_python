{
  "nbformat": 4,
  "nbformat_minor": 0,
  "metadata": {
    "colab": {
      "provenance": [],
      "toc_visible": true,
      "authorship_tag": "ABX9TyOCYumnrsQFaG/5erQWrzcq",
      "include_colab_link": true
    },
    "kernelspec": {
      "name": "python3",
      "display_name": "Python 3"
    },
    "language_info": {
      "name": "python"
    }
  },
  "cells": [
    {
      "cell_type": "markdown",
      "metadata": {
        "id": "view-in-github",
        "colab_type": "text"
      },
      "source": [
        "<a href=\"https://colab.research.google.com/github/Sjleerodls/lab_python/blob/main/python05_for.ipynb\" target=\"_parent\"><img src=\"https://colab.research.google.com/assets/colab-badge.svg\" alt=\"Open In Colab\"/></a>"
      ]
    },
    {
      "cell_type": "markdown",
      "source": [
        "# for loop (반복문)"
      ],
      "metadata": {
        "id": "inuwjmWGQYEn"
      }
    },
    {
      "cell_type": "markdown",
      "source": [
        "```\n",
        "for 변수 in iterable-type:\n",
        "    반복해서 실행할 코드 블록\n",
        "```\n",
        "\n",
        "* iterable-type : 반복(iteration)이 가능한 데이터 타입.\n",
        "    * str(문자열), range, list, tuple, dict, ...\n",
        "* for 반복문은 iterable-type에서 원소(아이템)들을 순서대로 하나씩 꺼내서 변수에 저장하고, 코드 블록을 실행.\n",
        "* for 반복문은 iterable-type에서 더이상 꺼낼 원소가 없을 때 종료됨."
      ],
      "metadata": {
        "id": "AcGYYemwQeM2"
      }
    },
    {
      "cell_type": "code",
      "execution_count": null,
      "metadata": {
        "colab": {
          "base_uri": "https://localhost:8080/"
        },
        "id": "Vhyql0D-QUmI",
        "outputId": "fbd5a9a8-ee05-441e-c365-8ab57e45e287"
      },
      "outputs": [
        {
          "output_type": "stream",
          "name": "stdout",
          "text": [
            "안\n",
            "녕\n",
            "하\n",
            "세\n",
            "요\n"
          ]
        }
      ],
      "source": [
        "for s in '안녕하세요':\n",
        "    print(s)"
      ]
    },
    {
      "cell_type": "markdown",
      "source": [
        "# for 반복문과 `range()` 함수"
      ],
      "metadata": {
        "id": "yvBs1MhjSVu-"
      }
    },
    {
      "cell_type": "code",
      "source": [
        "# range(start, stop): start가 stop보다 작은 경우, [start, stop) 범위의 1씩 증가하는 정수들을 만들어 줌.\n",
        "for x in range(1, 6):\n",
        "    print(x)"
      ],
      "metadata": {
        "colab": {
          "base_uri": "https://localhost:8080/"
        },
        "id": "3J7BKbwFSUBg",
        "outputId": "9e4a545d-5f95-4788-945e-dcaed7f5b0be"
      },
      "execution_count": null,
      "outputs": [
        {
          "output_type": "stream",
          "name": "stdout",
          "text": [
            "1\n",
            "2\n",
            "3\n",
            "4\n",
            "5\n"
          ]
        }
      ]
    },
    {
      "cell_type": "code",
      "source": [
        "# range(stop): [0, stop) 범위의 1씩 증가하는 정수들을 만들어 줌.\n",
        "for x in range(5):\n",
        "    print(x)"
      ],
      "metadata": {
        "colab": {
          "base_uri": "https://localhost:8080/"
        },
        "id": "_hZiZCG8TTN_",
        "outputId": "b5ef765e-d8d2-4538-eed6-e844aeb96a5e"
      },
      "execution_count": null,
      "outputs": [
        {
          "output_type": "stream",
          "name": "stdout",
          "text": [
            "0\n",
            "1\n",
            "2\n",
            "3\n",
            "4\n"
          ]
        }
      ]
    },
    {
      "cell_type": "code",
      "source": [
        "# range(start, stop, step): start가 stop보다 작고, step은 양의 정수인 경우,\n",
        "# start <= x < stop 범위의 step만큼 증가하는 정수들을 만들어 줌.\n",
        "for x in range(0, 10, 2):\n",
        "    print(x)"
      ],
      "metadata": {
        "colab": {
          "base_uri": "https://localhost:8080/"
        },
        "id": "oAjfHL_YUB_n",
        "outputId": "b785afc3-56e9-4205-cbfe-cff7bf430859"
      },
      "execution_count": null,
      "outputs": [
        {
          "output_type": "stream",
          "name": "stdout",
          "text": [
            "0\n",
            "2\n",
            "4\n",
            "6\n",
            "8\n"
          ]
        }
      ]
    },
    {
      "cell_type": "code",
      "source": [
        "for x in range(1, 10, 2):\n",
        "    print(x)"
      ],
      "metadata": {
        "colab": {
          "base_uri": "https://localhost:8080/"
        },
        "id": "yMlEhRRUU504",
        "outputId": "3c0e412a-5252-4fb6-b89d-3af2f69c5b75"
      },
      "execution_count": null,
      "outputs": [
        {
          "output_type": "stream",
          "name": "stdout",
          "text": [
            "1\n",
            "3\n",
            "5\n",
            "7\n",
            "9\n"
          ]
        }
      ]
    },
    {
      "cell_type": "code",
      "source": [
        "# range(start, stop, step): start가 stop보다 크고 step이 음의 정수인 경우,\n",
        "# start >= x > stop 범위의 step 만큼씩 감소하는 정수들을 만들어 줌.\n",
        "for x in range(5, 0, -1):\n",
        "    print(x)"
      ],
      "metadata": {
        "colab": {
          "base_uri": "https://localhost:8080/"
        },
        "id": "Oe_yDy0QVKCf",
        "outputId": "9b09fc35-4282-46ce-8f8d-e2c4aedac671"
      },
      "execution_count": null,
      "outputs": [
        {
          "output_type": "stream",
          "name": "stdout",
          "text": [
            "5\n",
            "4\n",
            "3\n",
            "2\n",
            "1\n"
          ]
        }
      ]
    },
    {
      "cell_type": "code",
      "source": [
        "for x in range(10, 2, -3):\n",
        "    print(x)"
      ],
      "metadata": {
        "colab": {
          "base_uri": "https://localhost:8080/"
        },
        "id": "XD_ptbADLC_e",
        "outputId": "8cdd2ba5-d12b-41ab-f924-a2974fd5d705"
      },
      "execution_count": 3,
      "outputs": [
        {
          "output_type": "stream",
          "name": "stdout",
          "text": [
            "10\n",
            "7\n",
            "4\n"
          ]
        }
      ]
    },
    {
      "cell_type": "markdown",
      "source": [
        "for문과 range 함수를 사용해 * 개수별 출력."
      ],
      "metadata": {
        "id": "0e377azWVqbH"
      }
    },
    {
      "cell_type": "code",
      "source": [
        "for x in range(1, 6):\n",
        "    print('*' * x)"
      ],
      "metadata": {
        "colab": {
          "base_uri": "https://localhost:8080/"
        },
        "id": "fnRDBEZtV074",
        "outputId": "d8820a6a-6675-4b0a-b476-1ec8c53237d1"
      },
      "execution_count": null,
      "outputs": [
        {
          "output_type": "stream",
          "name": "stdout",
          "text": [
            "*\n",
            "**\n",
            "***\n",
            "****\n",
            "*****\n"
          ]
        }
      ]
    },
    {
      "cell_type": "code",
      "source": [
        "for x in range(5, 0, -1):\n",
        "    print('*' * x)"
      ],
      "metadata": {
        "colab": {
          "base_uri": "https://localhost:8080/"
        },
        "id": "Xcj9GQ1YV3nO",
        "outputId": "a6e045ef-c138-4d68-a24b-efef7c710120"
      },
      "execution_count": null,
      "outputs": [
        {
          "output_type": "stream",
          "name": "stdout",
          "text": [
            "*****\n",
            "****\n",
            "***\n",
            "**\n",
            "*\n"
          ]
        }
      ]
    },
    {
      "cell_type": "markdown",
      "source": [
        "# `break`와 `continue`\n",
        "\n",
        "* `break` : iteration을 종료.\n",
        "* `continue` : 그 다음 iteration 과정을 수행."
      ],
      "metadata": {
        "id": "9osBmIbwXE-P"
      }
    },
    {
      "cell_type": "code",
      "source": [
        "for x in range(5):\n",
        "    if x == 2:\n",
        "        break\n",
        "    print(x)"
      ],
      "metadata": {
        "colab": {
          "base_uri": "https://localhost:8080/"
        },
        "id": "ELRMTLfIXWNQ",
        "outputId": "4f6bcd3a-dee7-418d-a16b-abb06a86c524"
      },
      "execution_count": 4,
      "outputs": [
        {
          "output_type": "stream",
          "name": "stdout",
          "text": [
            "0\n",
            "1\n"
          ]
        }
      ]
    },
    {
      "cell_type": "code",
      "source": [
        "for x in range(5):\n",
        "    if x == 2:\n",
        "        continue\n",
        "    print(x)"
      ],
      "metadata": {
        "colab": {
          "base_uri": "https://localhost:8080/"
        },
        "id": "OM88_vVtXx5e",
        "outputId": "c008029b-4dea-49c2-ecd8-97d3f736ac94"
      },
      "execution_count": 5,
      "outputs": [
        {
          "output_type": "stream",
          "name": "stdout",
          "text": [
            "0\n",
            "1\n",
            "3\n",
            "4\n"
          ]
        }
      ]
    },
    {
      "cell_type": "markdown",
      "source": [
        "for-in 반복문을 사용해서 구구단 2단은 2x2까지, 3단은 3x3까지, ... , 9단은 9x9까지 출력"
      ],
      "metadata": {
        "id": "eNfPylMtcJ0X"
      }
    },
    {
      "cell_type": "code",
      "source": [
        "for x in range(2, 10):\n",
        "    print(f'=== {x}단 ===')\n",
        "    for y in range(1, 10):\n",
        "        if x < y:\n",
        "            break\n",
        "        print(f'{x} x {y} = {x * y}')\n",
        "\n",
        "    print('-' * 15)"
      ],
      "metadata": {
        "colab": {
          "base_uri": "https://localhost:8080/"
        },
        "id": "kQg0r_1qcJFf",
        "outputId": "773c5ae7-6139-4ed7-fd08-81b8f513e57c"
      },
      "execution_count": null,
      "outputs": [
        {
          "output_type": "stream",
          "name": "stdout",
          "text": [
            "=== 2단 ===\n",
            "2 x 1 = 2\n",
            "2 x 2 = 4\n",
            "---------------\n",
            "=== 3단 ===\n",
            "3 x 1 = 3\n",
            "3 x 2 = 6\n",
            "3 x 3 = 9\n",
            "---------------\n",
            "=== 4단 ===\n",
            "4 x 1 = 4\n",
            "4 x 2 = 8\n",
            "4 x 3 = 12\n",
            "4 x 4 = 16\n",
            "---------------\n",
            "=== 5단 ===\n",
            "5 x 1 = 5\n",
            "5 x 2 = 10\n",
            "5 x 3 = 15\n",
            "5 x 4 = 20\n",
            "5 x 5 = 25\n",
            "---------------\n",
            "=== 6단 ===\n",
            "6 x 1 = 6\n",
            "6 x 2 = 12\n",
            "6 x 3 = 18\n",
            "6 x 4 = 24\n",
            "6 x 5 = 30\n",
            "6 x 6 = 36\n",
            "---------------\n",
            "=== 7단 ===\n",
            "7 x 1 = 7\n",
            "7 x 2 = 14\n",
            "7 x 3 = 21\n",
            "7 x 4 = 28\n",
            "7 x 5 = 35\n",
            "7 x 6 = 42\n",
            "7 x 7 = 49\n",
            "---------------\n",
            "=== 8단 ===\n",
            "8 x 1 = 8\n",
            "8 x 2 = 16\n",
            "8 x 3 = 24\n",
            "8 x 4 = 32\n",
            "8 x 5 = 40\n",
            "8 x 6 = 48\n",
            "8 x 7 = 56\n",
            "8 x 8 = 64\n",
            "---------------\n",
            "=== 9단 ===\n",
            "9 x 1 = 9\n",
            "9 x 2 = 18\n",
            "9 x 3 = 27\n",
            "9 x 4 = 36\n",
            "9 x 5 = 45\n",
            "9 x 6 = 54\n",
            "9 x 7 = 63\n",
            "9 x 8 = 72\n",
            "9 x 9 = 81\n",
            "---------------\n"
          ]
        }
      ]
    },
    {
      "cell_type": "code",
      "source": [
        "for x in range(2, 10):\n",
        "    print(f'=== {x}단 ===')\n",
        "    for y in range(1, x+1):\n",
        "        print(f'{x} x {y} = {x * y}')\n",
        "\n",
        "    print('-' * 15)"
      ],
      "metadata": {
        "colab": {
          "base_uri": "https://localhost:8080/"
        },
        "id": "U8phRXvbdd7X",
        "outputId": "f491be87-45d6-4959-c839-396a2becf00b"
      },
      "execution_count": null,
      "outputs": [
        {
          "output_type": "stream",
          "name": "stdout",
          "text": [
            "=== 2단 ===\n",
            "2 x 1 = 2\n",
            "2 x 2 = 4\n",
            "---------------\n",
            "=== 3단 ===\n",
            "3 x 1 = 3\n",
            "3 x 2 = 6\n",
            "3 x 3 = 9\n",
            "---------------\n",
            "=== 4단 ===\n",
            "4 x 1 = 4\n",
            "4 x 2 = 8\n",
            "4 x 3 = 12\n",
            "4 x 4 = 16\n",
            "---------------\n",
            "=== 5단 ===\n",
            "5 x 1 = 5\n",
            "5 x 2 = 10\n",
            "5 x 3 = 15\n",
            "5 x 4 = 20\n",
            "5 x 5 = 25\n",
            "---------------\n",
            "=== 6단 ===\n",
            "6 x 1 = 6\n",
            "6 x 2 = 12\n",
            "6 x 3 = 18\n",
            "6 x 4 = 24\n",
            "6 x 5 = 30\n",
            "6 x 6 = 36\n",
            "---------------\n",
            "=== 7단 ===\n",
            "7 x 1 = 7\n",
            "7 x 2 = 14\n",
            "7 x 3 = 21\n",
            "7 x 4 = 28\n",
            "7 x 5 = 35\n",
            "7 x 6 = 42\n",
            "7 x 7 = 49\n",
            "---------------\n",
            "=== 8단 ===\n",
            "8 x 1 = 8\n",
            "8 x 2 = 16\n",
            "8 x 3 = 24\n",
            "8 x 4 = 32\n",
            "8 x 5 = 40\n",
            "8 x 6 = 48\n",
            "8 x 7 = 56\n",
            "8 x 8 = 64\n",
            "---------------\n",
            "=== 9단 ===\n",
            "9 x 1 = 9\n",
            "9 x 2 = 18\n",
            "9 x 3 = 27\n",
            "9 x 4 = 36\n",
            "9 x 5 = 45\n",
            "9 x 6 = 54\n",
            "9 x 7 = 63\n",
            "9 x 8 = 72\n",
            "9 x 9 = 81\n",
            "---------------\n"
          ]
        }
      ]
    },
    {
      "cell_type": "markdown",
      "source": [
        "# `print()` 함수\n",
        "\n",
        "* 탈출 문자열(escape string)\n",
        "    * '\\t' : 탭 (tab)\n",
        "    * '\\n' : 줄바꿈 (new line)\n",
        "* `print()`의 파라미터(parameter)\n",
        "    * `end` : print 함수가 아규먼트들을 콘솔에 출력한 후 마지막에 어떤 문자열을 추가할 것인 지를 설정.\n",
        "    기본값은 '\\n' (줄바꿈).\n",
        "    * `sep` : separator(구분자). print 함수의 아규먼트들을 출력할 때, 각각의 아규먼트들을 구분하기 위한 문자(열)을 설정. 기본값은 공백(space) 한 칸."
      ],
      "metadata": {
        "id": "WTU9eQEtgX-X"
      }
    },
    {
      "cell_type": "code",
      "source": [
        "print('안녕 Hello Bon Jour')\n",
        "print('안녕\\tHello\\tBon Jour')\n",
        "print('안녕\\nHello\\nBon Jour')"
      ],
      "metadata": {
        "colab": {
          "base_uri": "https://localhost:8080/"
        },
        "id": "qTfwSQ90g23W",
        "outputId": "b5f36e98-3ddd-436c-8be5-bc839f58ff1a"
      },
      "execution_count": null,
      "outputs": [
        {
          "output_type": "stream",
          "name": "stdout",
          "text": [
            "안녕 Hello Bon Jour\n",
            "안녕\tHello\tBon Jour\n",
            "안녕\n",
            "Hello\n",
            "Bon Jour\n"
          ]
        }
      ]
    },
    {
      "cell_type": "code",
      "source": [
        "print('안녕하세요', end='...')\n",
        "print('Hello')\n",
        "print('Bon Jour')"
      ],
      "metadata": {
        "colab": {
          "base_uri": "https://localhost:8080/"
        },
        "id": "-IObxplLi3Af",
        "outputId": "97ff92d5-297d-47ac-8e36-c403bd2a9ed6"
      },
      "execution_count": null,
      "outputs": [
        {
          "output_type": "stream",
          "name": "stdout",
          "text": [
            "안녕하세요...Hello\n",
            "Bon Jour\n"
          ]
        }
      ]
    },
    {
      "cell_type": "code",
      "source": [
        "print('Hello', 'Python', '파이썬')\n",
        "print('Hello', 'Python', '파이썬', sep=',,')"
      ],
      "metadata": {
        "colab": {
          "base_uri": "https://localhost:8080/"
        },
        "id": "Cg2yW4BTjtlY",
        "outputId": "9ea49add-1e1d-46c5-84ca-9d107bca02d4"
      },
      "execution_count": null,
      "outputs": [
        {
          "output_type": "stream",
          "name": "stdout",
          "text": [
            "Hello Python 파이썬\n",
            "Hello,,Python,,파이썬\n"
          ]
        }
      ]
    },
    {
      "cell_type": "markdown",
      "source": [
        "# 연습문제"
      ],
      "metadata": {
        "id": "3ZEXcjDskemY"
      }
    },
    {
      "cell_type": "markdown",
      "source": [
        "## Ex 1. 아래와 같이 출력하는 코드를 작성하세요.\n",
        "\n",
        "```\n",
        "1 little 2 little 3 little indian\n",
        "4 little 5 little 6 little indian\n",
        "7 little 8 little 9 little indian\n",
        "10 little indian boys!\n",
        "```"
      ],
      "metadata": {
        "id": "Rau8vtuHkff-"
      }
    },
    {
      "cell_type": "code",
      "source": [
        "for x in range(1, 11):\n",
        "    print(x, 'little', end=' ')\n",
        "    if x % 3 == 0:\n",
        "        print('indian')\n",
        "    elif x % 10 == 0:\n",
        "        print('indian boys!', end = ' ')"
      ],
      "metadata": {
        "colab": {
          "base_uri": "https://localhost:8080/"
        },
        "id": "UcsxyOask85e",
        "outputId": "bcef4432-034d-45b5-a9d8-19b9ef45ddac"
      },
      "execution_count": 6,
      "outputs": [
        {
          "output_type": "stream",
          "name": "stdout",
          "text": [
            "1 little 2 little 3 little indian\n",
            "4 little 5 little 6 little indian\n",
            "7 little 8 little 9 little indian\n",
            "10 little indian boys! "
          ]
        }
      ]
    },
    {
      "cell_type": "code",
      "source": [
        "for x in range(1, 11):\n",
        "    print(x, 'little', end=' ')\n",
        "    if x % 3 == 0:\n",
        "        print('indian')\n",
        "print('indian boys!')"
      ],
      "metadata": {
        "colab": {
          "base_uri": "https://localhost:8080/"
        },
        "id": "9zLwVb_xMpfm",
        "outputId": "9bbdf433-2587-4328-83dd-a226fdfbc272"
      },
      "execution_count": 10,
      "outputs": [
        {
          "output_type": "stream",
          "name": "stdout",
          "text": [
            "1 little 2 little 3 little indian\n",
            "4 little 5 little 6 little indian\n",
            "7 little 8 little 9 little indian\n",
            "10 little indian boys!\n"
          ]
        }
      ]
    },
    {
      "cell_type": "code",
      "source": [
        "# while\n",
        "n = 1\n",
        "while n <= 10:\n",
        "    print(n, 'little', end=' ')\n",
        "    if n % 3 == 0:\n",
        "        print('indian')\n",
        "    n += 1\n",
        "print('indian boys!')"
      ],
      "metadata": {
        "colab": {
          "base_uri": "https://localhost:8080/"
        },
        "id": "EtR9TxgcNXn1",
        "outputId": "eafff156-6f8a-40b9-c870-d071dcef3347"
      },
      "execution_count": 13,
      "outputs": [
        {
          "output_type": "stream",
          "name": "stdout",
          "text": [
            "1 little 2 little 3 little indian\n",
            "4 little 5 little 6 little indian\n",
            "7 little 8 little 9 little indian\n",
            "10 little indian boys!\n"
          ]
        }
      ]
    },
    {
      "cell_type": "code",
      "source": [
        "# answer\n",
        "for n in range(1, 11):\n",
        "    print(f'{n} little', end=' ')\n",
        "    if n % 3 == 0:\n",
        "        print('indian')\n",
        "print('indian boys!')"
      ],
      "metadata": {
        "colab": {
          "base_uri": "https://localhost:8080/"
        },
        "id": "FaB9exkWwB-P",
        "outputId": "bd3c38c0-a5d5-49de-c22f-7c15a642e7be"
      },
      "execution_count": null,
      "outputs": [
        {
          "output_type": "stream",
          "name": "stdout",
          "text": [
            "1 little 2 little 3 little indian\n",
            "4 little 5 little 6 little indian\n",
            "7 little 8 little 9 little indian\n",
            "10 little indian boys!\n"
          ]
        }
      ]
    },
    {
      "cell_type": "code",
      "source": [
        "# answer (2)\n",
        "n = 1\n",
        "while n <= 10:\n",
        "    print(f'{n} little', end=' ')\n",
        "    if n % 3 == 0:\n",
        "        print('indian')\n",
        "    n += 1\n",
        "print('indian boys!')"
      ],
      "metadata": {
        "colab": {
          "base_uri": "https://localhost:8080/"
        },
        "id": "yMfAS8Prwwlm",
        "outputId": "466ccecf-3b13-4927-ce31-ac593cbbaa15"
      },
      "execution_count": null,
      "outputs": [
        {
          "output_type": "stream",
          "name": "stdout",
          "text": [
            "1 little 2 little 3 little indian\n",
            "4 little 5 little 6 little indian\n",
            "7 little 8 little 9 little indian\n",
            "10 little indian boys!\n"
          ]
        }
      ]
    },
    {
      "cell_type": "markdown",
      "source": [
        "## Ex 2. 아래와 같이 출력하는 코드를 작성하세요."
      ],
      "metadata": {
        "id": "G2WJL_o3msCn"
      }
    },
    {
      "cell_type": "markdown",
      "source": [
        "```\n",
        "1  2  *  4  5  *  7  8  *  10\n",
        "11 12 *  14 15 *  17 18 *  20\n",
        "21 22 *  24 25 *  27 28 *  *\n",
        "*  *  *  *  *  *  *  *  *  40\n",
        "...\n",
        "81 82 *  84 85 *  87 88 *  *\n",
        "*  *  *  *  *  *  *  *  *  100\n",
        "```"
      ],
      "metadata": {
        "id": "4F74jmvomt_O"
      }
    },
    {
      "cell_type": "code",
      "source": [
        "for x in range(1, 101):\n",
        "    if x % 10 == 0:\n",
        "        print(x)\n",
        "    else:\n",
        "        print(x, end=' ')"
      ],
      "metadata": {
        "colab": {
          "base_uri": "https://localhost:8080/"
        },
        "id": "odQCyMofmMq3",
        "outputId": "82fb74c7-37df-48ae-ecde-e72ab1e4ec82"
      },
      "execution_count": null,
      "outputs": [
        {
          "output_type": "stream",
          "name": "stdout",
          "text": [
            "1 2 3 4 5 6 7 8 9 10\n",
            "11 12 13 14 15 16 17 18 19 20\n",
            "21 22 23 24 25 26 27 28 29 30\n",
            "31 32 33 34 35 36 37 38 39 40\n",
            "41 42 43 44 45 46 47 48 49 50\n",
            "51 52 53 54 55 56 57 58 59 60\n",
            "61 62 63 64 65 66 67 68 69 70\n",
            "71 72 73 74 75 76 77 78 79 80\n",
            "81 82 83 84 85 86 87 88 89 90\n",
            "91 92 93 94 95 96 97 98 99 100\n"
          ]
        }
      ]
    },
    {
      "cell_type": "code",
      "source": [
        "for x in range(1, 101):\n",
        "    if '3' in str(x) or '6' in str(x) or '9' in str(x):\n",
        "        print('*', end=' ')\n",
        "    elif x % 10 == 0:\n",
        "        print(x)\n",
        "    else:\n",
        "        print(x, end=' ')"
      ],
      "metadata": {
        "colab": {
          "base_uri": "https://localhost:8080/"
        },
        "id": "xQ-4G-Ifvdln",
        "outputId": "cd8fe18e-15f0-4b16-9c8f-6530d09aa63a"
      },
      "execution_count": null,
      "outputs": [
        {
          "output_type": "stream",
          "name": "stdout",
          "text": [
            "1 2 * 4 5 * 7 8 * 10\n",
            "11 12 * 14 15 * 17 18 * 20\n",
            "21 22 * 24 25 * 27 28 * * * * * * * * * * * 40\n",
            "41 42 * 44 45 * 47 48 * 50\n",
            "51 52 * 54 55 * 57 58 * * * * * * * * * * * 70\n",
            "71 72 * 74 75 * 77 78 * 80\n",
            "81 82 * 84 85 * 87 88 * * * * * * * * * * * 100\n"
          ]
        }
      ]
    },
    {
      "cell_type": "code",
      "source": [
        "# answer\n",
        "for n in range(1, 101):\n",
        "    n_1 = n % 10    # 10으로 나눈 나머지 = 숫자 n의 1의 자릿수\n",
        "    n_10 = n // 10  # 10으로 나눈 몫 = 숫자 n의 10의 자릿수\n",
        "    b_1 = (n_1 == 3) or (n_1 == 6) or (n_1 == 9)    # 1의 자릿수가 3또는 6또는 9이면\n",
        "    b_10 = (n_10 == 3) or (n_10 == 6) or (n_10 == 9)    # 10의 자릿수가 3또는 6또는 9이면\n",
        "\n",
        "    if b_1 and b_10:\n",
        "        print('**', end='\\t')\n",
        "    elif b_1 or b_10:\n",
        "        print('*', end='\\t')\n",
        "    else:\n",
        "        print(n, end='\\t')\n",
        "    if n % 10 == 0:\n",
        "        print()"
      ],
      "metadata": {
        "colab": {
          "base_uri": "https://localhost:8080/"
        },
        "id": "D9pHUT--yFJX",
        "outputId": "8256f80e-56ef-4c70-fa81-bbf808f5a675"
      },
      "execution_count": null,
      "outputs": [
        {
          "output_type": "stream",
          "name": "stdout",
          "text": [
            "1\t2\t*\t4\t5\t*\t7\t8\t*\t10\t\n",
            "11\t12\t*\t14\t15\t*\t17\t18\t*\t20\t\n",
            "21\t22\t*\t24\t25\t*\t27\t28\t*\t*\t\n",
            "*\t*\t**\t*\t*\t**\t*\t*\t**\t40\t\n",
            "41\t42\t*\t44\t45\t*\t47\t48\t*\t50\t\n",
            "51\t52\t*\t54\t55\t*\t57\t58\t*\t*\t\n",
            "*\t*\t**\t*\t*\t**\t*\t*\t**\t70\t\n",
            "71\t72\t*\t74\t75\t*\t77\t78\t*\t80\t\n",
            "81\t82\t*\t84\t85\t*\t87\t88\t*\t*\t\n",
            "*\t*\t**\t*\t*\t**\t*\t*\t**\t100\t\n"
          ]
        }
      ]
    },
    {
      "cell_type": "code",
      "source": [
        "x = 6\n",
        "x in (3, 6, 9)\n",
        "# 변수(식) in (값1, 값2, 값3, ...) : 변수(식)이 값들 중에 하나이면 True, 그렇지 않으면 False."
      ],
      "metadata": {
        "colab": {
          "base_uri": "https://localhost:8080/"
        },
        "id": "o7ypP57N5At4",
        "outputId": "1e0722ca-0ef3-455b-b6ed-292bb2993d4e"
      },
      "execution_count": null,
      "outputs": [
        {
          "output_type": "execute_result",
          "data": {
            "text/plain": [
              "True"
            ]
          },
          "metadata": {},
          "execution_count": 171
        }
      ]
    },
    {
      "cell_type": "code",
      "source": [
        "# answer (2)\n",
        "for n in range(1, 101):\n",
        "    n_1 = n % 10\n",
        "    n_10 = n // 10\n",
        "    if n_1 in (3, 6, 9) or n_10 in (3, 6, 9):\n",
        "        print('*', end='\\t')\n",
        "    else:\n",
        "        print(n, end='\\t')\n",
        "\n",
        "    if n % 10 == 0:\n",
        "        print()"
      ],
      "metadata": {
        "colab": {
          "base_uri": "https://localhost:8080/"
        },
        "id": "JGzBVtGQ5mzv",
        "outputId": "a32650dc-4cf6-4989-fca0-9f2f266b60b4"
      },
      "execution_count": null,
      "outputs": [
        {
          "output_type": "stream",
          "name": "stdout",
          "text": [
            "1\t2\t*\t4\t5\t*\t7\t8\t*\t10\t\n",
            "11\t12\t*\t14\t15\t*\t17\t18\t*\t20\t\n",
            "21\t22\t*\t24\t25\t*\t27\t28\t*\t*\t\n",
            "*\t*\t*\t*\t*\t*\t*\t*\t*\t40\t\n",
            "41\t42\t*\t44\t45\t*\t47\t48\t*\t50\t\n",
            "51\t52\t*\t54\t55\t*\t57\t58\t*\t*\t\n",
            "*\t*\t*\t*\t*\t*\t*\t*\t*\t70\t\n",
            "71\t72\t*\t74\t75\t*\t77\t78\t*\t80\t\n",
            "81\t82\t*\t84\t85\t*\t87\t88\t*\t*\t\n",
            "*\t*\t*\t*\t*\t*\t*\t*\t*\t100\t\n"
          ]
        }
      ]
    },
    {
      "cell_type": "code",
      "source": [
        "'H' in 'hello'"
      ],
      "metadata": {
        "colab": {
          "base_uri": "https://localhost:8080/"
        },
        "id": "sCFXRgg_6nd_",
        "outputId": "fadda72d-1101-4d53-a22d-a45ab5d620d5"
      },
      "execution_count": null,
      "outputs": [
        {
          "output_type": "execute_result",
          "data": {
            "text/plain": [
              "False"
            ]
          },
          "metadata": {},
          "execution_count": 184
        }
      ]
    },
    {
      "cell_type": "code",
      "source": [
        "# answer (3)\n",
        "for n in range(1, 101):\n",
        "    n_str = str(n)  # 정수 n을 문자열로 변환\n",
        "    if ('3' in n_str) or ('6' in n_str) or ('9' in n_str):\n",
        "        print('*', end='\\t')\n",
        "    else:\n",
        "        print(n, end='\\t')\n",
        "    if n % 10 == 0:\n",
        "        print()"
      ],
      "metadata": {
        "colab": {
          "base_uri": "https://localhost:8080/"
        },
        "id": "atsVnjxe65mO",
        "outputId": "62cd5a4b-50fb-40a6-a516-a0cfb732ca67"
      },
      "execution_count": null,
      "outputs": [
        {
          "output_type": "stream",
          "name": "stdout",
          "text": [
            "1\t2\t*\t4\t5\t*\t7\t8\t*\t10\t\n",
            "11\t12\t*\t14\t15\t*\t17\t18\t*\t20\t\n",
            "21\t22\t*\t24\t25\t*\t27\t28\t*\t*\t\n",
            "*\t*\t*\t*\t*\t*\t*\t*\t*\t40\t\n",
            "41\t42\t*\t44\t45\t*\t47\t48\t*\t50\t\n",
            "51\t52\t*\t54\t55\t*\t57\t58\t*\t*\t\n",
            "*\t*\t*\t*\t*\t*\t*\t*\t*\t70\t\n",
            "71\t72\t*\t74\t75\t*\t77\t78\t*\t80\t\n",
            "81\t82\t*\t84\t85\t*\t87\t88\t*\t*\t\n",
            "*\t*\t*\t*\t*\t*\t*\t*\t*\t100\t\n"
          ]
        }
      ]
    }
  ]
}
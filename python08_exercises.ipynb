{
  "nbformat": 4,
  "nbformat_minor": 0,
  "metadata": {
    "colab": {
      "provenance": [],
      "toc_visible": true,
      "include_colab_link": true
    },
    "kernelspec": {
      "name": "python3",
      "display_name": "Python 3"
    },
    "language_info": {
      "name": "python"
    }
  },
  "cells": [
    {
      "cell_type": "markdown",
      "metadata": {
        "id": "view-in-github",
        "colab_type": "text"
      },
      "source": [
        "<a href=\"https://colab.research.google.com/github/Sjleerodls/lab_python/blob/main/python08_exercises.ipynb\" target=\"_parent\"><img src=\"https://colab.research.google.com/assets/colab-badge.svg\" alt=\"Open In Colab\"/></a>"
      ]
    },
    {
      "cell_type": "code",
      "execution_count": 85,
      "metadata": {
        "id": "7VlwnJiM-3I4"
      },
      "outputs": [],
      "source": [
        "import random  # 난수 생성을 위한 모듈(random.random(), random.randrange(), ...)\n",
        "import math  # 수학 함수를 사용하기 위한 모듈(math.sqrt(), ...)"
      ]
    },
    {
      "cell_type": "markdown",
      "source": [
        "# Ex 1.\n",
        "\n",
        "`fruits = ('apple', 'banana', 'cherry', 'durian', 'watermellon')`\n",
        "\n",
        "튜플 fruits에 저장된 문자열의 길이들을 저장하는 리스트를 만들어 출력하세요."
      ],
      "metadata": {
        "id": "zF88-07M_IcO"
      }
    },
    {
      "cell_type": "code",
      "source": [
        "fruits = ('apple', 'banana', 'cherry', 'durian', 'watermellon')\n",
        "\n",
        "# 1.\n",
        "res = []\n",
        "\n",
        "for x in fruits:\n",
        "    res.append(len(x))\n",
        "print(res)\n",
        "\n",
        "# 2.\n",
        "res2 = [len(x) for x in fruits]\n",
        "print(res2)\n",
        "\n",
        "fruits"
      ],
      "metadata": {
        "colab": {
          "base_uri": "https://localhost:8080/"
        },
        "id": "xaYJqJTXHVgp",
        "outputId": "66c46a3c-998b-440e-c470-3b3e4208db60"
      },
      "execution_count": 12,
      "outputs": [
        {
          "output_type": "stream",
          "name": "stdout",
          "text": [
            "[5, 6, 6, 6, 11]\n",
            "[5, 6, 6, 6, 11]\n"
          ]
        },
        {
          "output_type": "execute_result",
          "data": {
            "text/plain": [
              "('apple', 'banana', 'cherry', 'durian', 'watermellon')"
            ]
          },
          "metadata": {},
          "execution_count": 12
        }
      ]
    },
    {
      "cell_type": "markdown",
      "source": [
        "# Ex 2.\n",
        "\n",
        "*   1 이상 4 이하 범위의 정수 난수 10개를 저장하는 리스트 gender_codes를 만들고 출력하세요.\n",
        "*   gender_codes의 값이 1 또는 3이면 'Male', 2 또는 4이면 'Female'을 저장하는 리스트 genders를 만들고 출력하세요.\n"
      ],
      "metadata": {
        "id": "eIo4Meam_hlu"
      }
    },
    {
      "cell_type": "code",
      "source": [
        "gender_codes = [random.randrange(1, 5) for x in range(10)]\n",
        "\n",
        "genders = []\n",
        "\n",
        "for x in gender_codes:\n",
        "    if x in (1, 3):\n",
        "        genders.append('Male')\n",
        "    elif x in (2, 4):\n",
        "        genders.append('Female')\n",
        "\n",
        "genders"
      ],
      "metadata": {
        "colab": {
          "base_uri": "https://localhost:8080/"
        },
        "id": "7tnweuzQISdp",
        "outputId": "4b494db1-4ffa-4d7a-ac25-061f496fb328"
      },
      "execution_count": 56,
      "outputs": [
        {
          "output_type": "execute_result",
          "data": {
            "text/plain": [
              "['Female',\n",
              " 'Male',\n",
              " 'Male',\n",
              " 'Male',\n",
              " 'Female',\n",
              " 'Male',\n",
              " 'Female',\n",
              " 'Male',\n",
              " 'Female',\n",
              " 'Female']"
            ]
          },
          "metadata": {},
          "execution_count": 56
        }
      ]
    },
    {
      "cell_type": "markdown",
      "source": [
        "# Ex 3.\n",
        "\n",
        "```\n",
        "m1 = [\n",
        "    [1, 2, 3],\n",
        "    [4, 5, 6]\n",
        "]\n",
        "m2 = [\n",
        "    [1, 1, 1],\n",
        "    [2, 2, 2]\n",
        "]\n",
        "```\n",
        "\n",
        "두 2차원 배열 m1, m2에서 같은 인덱스의 원소들끼리 뺄셈(m1 - m2) 결과를 저장하는 리스트를 만들고 출력하세요."
      ],
      "metadata": {
        "id": "9GK_1p78_wze"
      }
    },
    {
      "cell_type": "code",
      "source": [
        "m1 = [\n",
        "    [1, 2, 3],\n",
        "    [4, 5, 6]\n",
        "]\n",
        "\n",
        "m2 = [\n",
        "    [1, 1, 1],\n",
        "    [2, 2, 2]\n",
        "]\n",
        "\n",
        "\n",
        "# 1.\n",
        "res = []\n",
        "\n",
        "for x, y in zip(m1, m2):\n",
        "    for i, l in zip(x, y):\n",
        "        res.append(i-l)\n",
        "\n",
        "print(res)"
      ],
      "metadata": {
        "colab": {
          "base_uri": "https://localhost:8080/"
        },
        "id": "us_1vxJBKYyx",
        "outputId": "8493094a-3594-42d0-b405-aca76ee3eae2"
      },
      "execution_count": 77,
      "outputs": [
        {
          "output_type": "stream",
          "name": "stdout",
          "text": [
            "[0, 1, 2, 2, 3, 4]\n"
          ]
        }
      ]
    },
    {
      "cell_type": "markdown",
      "source": [
        "# Ex 4.\n",
        "\n",
        "1 이상 10 이하의 정수 5개를 저장하는 리스트 scores를 만들고 출력하세요.\n"
      ],
      "metadata": {
        "id": "FmsK4gv5AZdn"
      }
    },
    {
      "cell_type": "code",
      "source": [
        "scores = [random.randrange(1, 11) for x in range(5)]\n",
        "scores"
      ],
      "metadata": {
        "colab": {
          "base_uri": "https://localhost:8080/"
        },
        "id": "eb7vTAhpGdzq",
        "outputId": "ca79ffc1-ba5a-4bbf-b24a-c57a729689e2"
      },
      "execution_count": 80,
      "outputs": [
        {
          "output_type": "execute_result",
          "data": {
            "text/plain": [
              "[2, 9, 8, 7, 3]"
            ]
          },
          "metadata": {},
          "execution_count": 80
        }
      ]
    },
    {
      "cell_type": "markdown",
      "source": [
        "# Ex 5.\n",
        "\n",
        "문제 4에서 만든 리스트 scores의 원소들의 합계를 계산하고 출력하세요.\n"
      ],
      "metadata": {
        "id": "myX9op_zAjjl"
      }
    },
    {
      "cell_type": "code",
      "source": [
        "sum_scores = sum(scores) # 2 + 9 + 8 + 7 + 3 = 29\n",
        "sum_scores"
      ],
      "metadata": {
        "colab": {
          "base_uri": "https://localhost:8080/"
        },
        "id": "a0VVQu8DMqwB",
        "outputId": "6236a81f-e0a8-4a43-fff7-ba37f9d2ffbc"
      },
      "execution_count": 88,
      "outputs": [
        {
          "output_type": "execute_result",
          "data": {
            "text/plain": [
              "29"
            ]
          },
          "metadata": {},
          "execution_count": 88
        }
      ]
    },
    {
      "cell_type": "markdown",
      "source": [
        "# Ex 6.\n",
        "\n",
        "문제 4에서 만든 리스트 scores의 원소들의 평균을 계산하고 출력하세요."
      ],
      "metadata": {
        "id": "RaJ44M7-Ash9"
      }
    },
    {
      "cell_type": "code",
      "source": [
        "avg_scores = (sum_scores/5)\n",
        "avg_scores"
      ],
      "metadata": {
        "colab": {
          "base_uri": "https://localhost:8080/"
        },
        "id": "uhQrGmtIM0fI",
        "outputId": "fbe5f0d7-891c-4685-acc8-4093b6cb7f2e"
      },
      "execution_count": 94,
      "outputs": [
        {
          "output_type": "execute_result",
          "data": {
            "text/plain": [
              "5.8"
            ]
          },
          "metadata": {},
          "execution_count": 94
        }
      ]
    },
    {
      "cell_type": "markdown",
      "source": [
        "# Ex 7.\n",
        "\n",
        "문제 4에서 만든 리스트 scores의 원소들의 분산을 계산하고 출력하세요."
      ],
      "metadata": {
        "id": "bu6t8CBIAyeV"
      }
    },
    {
      "cell_type": "code",
      "source": [
        "var_scores = (2-avg_scores)**2 + (9-avg_scores)**2 + (8-avg_scores)**2 + (7-avg_scores)**2 + (3-avg_scores)**2\n",
        "var_scores"
      ],
      "metadata": {
        "colab": {
          "base_uri": "https://localhost:8080/"
        },
        "id": "0fRrhf-LM6Ji",
        "outputId": "d44cb251-f519-4413-8d4e-3c04b1e53e77"
      },
      "execution_count": 96,
      "outputs": [
        {
          "output_type": "execute_result",
          "data": {
            "text/plain": [
              "38.8"
            ]
          },
          "metadata": {},
          "execution_count": 96
        }
      ]
    },
    {
      "cell_type": "markdown",
      "source": [
        "# Ex 8.\n",
        "\n",
        "문제 4에서 만든 리스트 scores의 원소들의 표준편차를 계산하고 출력하세요."
      ],
      "metadata": {
        "id": "rWaFv-YoA1DF"
      }
    },
    {
      "cell_type": "code",
      "source": [
        "from math import sqrt\n",
        "\n",
        "print(sqrt(var_scores))"
      ],
      "metadata": {
        "colab": {
          "base_uri": "https://localhost:8080/"
        },
        "id": "rcOgSUpMNCWx",
        "outputId": "f2ad256b-0ddc-4e4e-d980-19f77419149d"
      },
      "execution_count": 104,
      "outputs": [
        {
          "output_type": "stream",
          "name": "stdout",
          "text": [
            "6.2289646009589745\n"
          ]
        }
      ]
    },
    {
      "cell_type": "markdown",
      "source": [
        "# Ex 9.\n",
        "\n",
        "문제 4에서 만든 리스트 scores에서 최댓값을 찾고 출력하세요."
      ],
      "metadata": {
        "id": "xF8J5cdAA6K9"
      }
    },
    {
      "cell_type": "code",
      "source": [
        "max_scores = max(scores)\n",
        "max_scores"
      ],
      "metadata": {
        "colab": {
          "base_uri": "https://localhost:8080/"
        },
        "id": "sVrQ3InsOSEQ",
        "outputId": "7261f30e-c0b5-4f17-8e81-8065c09c3835"
      },
      "execution_count": 99,
      "outputs": [
        {
          "output_type": "execute_result",
          "data": {
            "text/plain": [
              "9"
            ]
          },
          "metadata": {},
          "execution_count": 99
        }
      ]
    },
    {
      "cell_type": "markdown",
      "source": [
        "# Ex 10.\n",
        "\n",
        "문제 4에서 만든 리스트 scores에서 최솟값을 찾고 출력하세요."
      ],
      "metadata": {
        "id": "yjm0zhY-A-Ol"
      }
    },
    {
      "cell_type": "code",
      "source": [
        "min_scores = min(scores)\n",
        "min_scores"
      ],
      "metadata": {
        "colab": {
          "base_uri": "https://localhost:8080/"
        },
        "id": "aI7ED3YKOSxQ",
        "outputId": "fd8019c9-f7ee-42d8-f411-68cd2779f552"
      },
      "execution_count": 100,
      "outputs": [
        {
          "output_type": "execute_result",
          "data": {
            "text/plain": [
              "2"
            ]
          },
          "metadata": {},
          "execution_count": 100
        }
      ]
    },
    {
      "cell_type": "markdown",
      "source": [
        "*   리스트의 모든 원소의 합계\n",
        "\n",
        "$$\n",
        "sum = \\sum_{i = 1}^{n} x_i = x_1 + x_2 + ... + x_n\n",
        "$$\n",
        "\n",
        "*   리스트의 모든 원소의 평균(mean)\n",
        "\n",
        "$$\n",
        "\\bar{x} = \\frac{1}{n} \\sum_{i = 1}^{n} x_i\n",
        "$$\n",
        "\n",
        "*   리스트의 모든 원소의 분산(variance)\n",
        "\n",
        "$$\n",
        "var = \\frac{1}{n - 1} \\sum_{i = 1}^{n} (x_i - \\bar{x})^2\n",
        "$$\n",
        "\n",
        "*   리스트의 모든 원소의 표준편차(standard deviation)\n",
        "\n",
        "$$\n",
        "std = \\sqrt{var}\n",
        "    = \\sqrt{\\frac{1}{n - 1} \\sum_{i = 1}^{n} (x_i - \\bar{x})^2}\n",
        "$$"
      ],
      "metadata": {
        "id": "887FkRuDBG7l"
      }
    }
  ]
}
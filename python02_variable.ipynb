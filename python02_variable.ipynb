{
  "nbformat": 4,
  "nbformat_minor": 0,
  "metadata": {
    "colab": {
      "provenance": [],
      "toc_visible": true,
      "authorship_tag": "ABX9TyN7XujZkPstG9AqfNy+FuOu",
      "include_colab_link": true
    },
    "kernelspec": {
      "name": "python3",
      "display_name": "Python 3"
    },
    "language_info": {
      "name": "python"
    }
  },
  "cells": [
    {
      "cell_type": "markdown",
      "metadata": {
        "id": "view-in-github",
        "colab_type": "text"
      },
      "source": [
        "<a href=\"https://colab.research.google.com/github/Sjleerodls/lab_python/blob/main/python02_variable.ipynb\" target=\"_parent\"><img src=\"https://colab.research.google.com/assets/colab-badge.svg\" alt=\"Open In Colab\"/></a>"
      ]
    },
    {
      "cell_type": "markdown",
      "source": [
        "# Python Data Type(자료 타입)\n",
        "\n",
        "* 숫자 타입\n",
        "    * 정수(int)\n",
        "    * 실수(float)\n",
        "* 문자열 타입(str)\n",
        "* 논리 타입(bool): True/False"
      ],
      "metadata": {
        "id": "mwy1l5dxinXr"
      }
    },
    {
      "cell_type": "markdown",
      "source": [
        "## 숫자 타입"
      ],
      "metadata": {
        "id": "0wxikvwFjovq"
      }
    },
    {
      "cell_type": "code",
      "execution_count": null,
      "metadata": {
        "colab": {
          "base_uri": "https://localhost:8080/"
        },
        "id": "4PXA6yK9iJqO",
        "outputId": "17458bc5-9102-4b93-9766-9e95f96c7f66"
      },
      "outputs": [
        {
          "output_type": "stream",
          "name": "stdout",
          "text": [
            "<class 'int'>\n",
            "n =  123\n"
          ]
        }
      ],
      "source": [
        "# 변수 선언, 값 할당 : 변수_이름 = 값\n",
        "n = 123\n",
        "print(type(n))  # type(변수_이름) : 변수의 타입을 리턴하는 함수\n",
        "print('n = ', n)"
      ]
    },
    {
      "cell_type": "code",
      "source": [
        "n = 3.14    # 변수에 저장된 값을 변경.\n",
        "print(type(n))\n",
        "print(n)"
      ],
      "metadata": {
        "colab": {
          "base_uri": "https://localhost:8080/"
        },
        "id": "PcCm309gkqes",
        "outputId": "d88bd170-ec12-4242-dcef-b3ffc5106796"
      },
      "execution_count": null,
      "outputs": [
        {
          "output_type": "stream",
          "name": "stdout",
          "text": [
            "<class 'float'>\n",
            "3.14\n"
          ]
        }
      ]
    },
    {
      "cell_type": "markdown",
      "source": [
        "## 문자열 타입\n",
        "\n",
        "파이썬에서 문자열은 작은따옴표('')와 큰따옴표(\"\")를 모두 사용할 수 있음."
      ],
      "metadata": {
        "id": "a_JoGXCHlsgT"
      }
    },
    {
      "cell_type": "code",
      "source": [
        "name = '오쌤'   # \"오쌤\"\n",
        "print('안녕하세요, {}!'.format(name))\n",
        "print(f'안녕하세요, {name}!')\n",
        "print(type(name))"
      ],
      "metadata": {
        "colab": {
          "base_uri": "https://localhost:8080/"
        },
        "id": "Q-RP0nAplvaF",
        "outputId": "44907851-ce19-42f7-de2e-383563e05a88"
      },
      "execution_count": null,
      "outputs": [
        {
          "output_type": "stream",
          "name": "stdout",
          "text": [
            "안녕하세요, 오쌤!\n",
            "안녕하세요, 오쌤!\n",
            "<class 'str'>\n"
          ]
        }
      ]
    },
    {
      "cell_type": "markdown",
      "source": [
        "## 논리 타입"
      ],
      "metadata": {
        "id": "oM7FDglkmpGE"
      }
    },
    {
      "cell_type": "code",
      "source": [
        "b = False    # 파이썬의 키워드, 변수 이름, 함수 이름 등은 대/소문자를 구분함.\n",
        "print(type(b))\n",
        "print('b = ', b)"
      ],
      "metadata": {
        "colab": {
          "base_uri": "https://localhost:8080/"
        },
        "id": "6RIMUKybmrSd",
        "outputId": "ad4cfd83-527b-41c8-e018-45a856ab0bad"
      },
      "execution_count": null,
      "outputs": [
        {
          "output_type": "stream",
          "name": "stdout",
          "text": [
            "<class 'bool'>\n",
            "b =  False\n"
          ]
        }
      ]
    },
    {
      "cell_type": "code",
      "source": [
        "b = 5 > 0\n",
        "print(b)"
      ],
      "metadata": {
        "colab": {
          "base_uri": "https://localhost:8080/"
        },
        "id": "sBFPrQc3nO3x",
        "outputId": "df6975b5-74ab-4c3c-d5c8-dbf9686a33f5"
      },
      "execution_count": null,
      "outputs": [
        {
          "output_type": "stream",
          "name": "stdout",
          "text": [
            "True\n"
          ]
        }
      ]
    },
    {
      "cell_type": "markdown",
      "source": [
        "## 명시적 타입 변환\n",
        "\n",
        "* `int(arg)` : 아규먼트로 전달된 값을 정수로 변환해서 리턴하는 함수.\n",
        "    * 문자열 -> 정수\n",
        "    * 실수 -> 정수\n",
        "* `float(arg)` : 아규먼트를 실수로 변환해서 리턴하는 함수.\n",
        "    * 문자열 -> 실수\n",
        "    * 정수 -> 실수\n",
        "* `str(arg)` : 아규먼트를 문자열로 변환해서 리턴하는 함수.\n",
        "    * 정수, 실수, ... -> 문자열"
      ],
      "metadata": {
        "id": "Cc2cWXQZ6k6C"
      }
    },
    {
      "cell_type": "code",
      "source": [
        "x = input('숫자를 입력하세요>>> ')\n",
        "print('x =', x)\n",
        "print(type(x))\n",
        "\n",
        "x = int(x)\n",
        "print(type(x))"
      ],
      "metadata": {
        "colab": {
          "base_uri": "https://localhost:8080/"
        },
        "id": "2rzJWjrS7vjE",
        "outputId": "0098a998-25ba-4b7f-d9d3-96b7abc9d498"
      },
      "execution_count": null,
      "outputs": [
        {
          "output_type": "stream",
          "name": "stdout",
          "text": [
            "숫자를 입력하세요>>> 123\n",
            "x = 123\n",
            "<class 'str'>\n",
            "<class 'int'>\n"
          ]
        }
      ]
    },
    {
      "cell_type": "code",
      "source": [
        "x = float(input('숫자를 입력하세요>>> '))\n",
        "print('x = ', x)\n",
        "print(type(x))"
      ],
      "metadata": {
        "colab": {
          "base_uri": "https://localhost:8080/"
        },
        "id": "x1KmVlWp8xE7",
        "outputId": "8e3de1fd-c3b2-4183-8ed0-5dd35036ed40"
      },
      "execution_count": null,
      "outputs": [
        {
          "output_type": "stream",
          "name": "stdout",
          "text": [
            "숫자를 입력하세요>>> 3.14\n",
            "x =  3.14\n",
            "<class 'float'>\n"
          ]
        }
      ]
    },
    {
      "cell_type": "markdown",
      "source": [
        "# 연산자(Operator)"
      ],
      "metadata": {
        "id": "U_Cao3Fx9sV7"
      }
    },
    {
      "cell_type": "markdown",
      "source": [
        "## 할당(assignment) 연산자\n",
        "\n",
        "* `=` : 연산자 오른쪽의 값을 연산자의 왼쪽의 변수에 할당(저장)."
      ],
      "metadata": {
        "id": "5lyFz86a90By"
      }
    },
    {
      "cell_type": "markdown",
      "source": [
        "## 산술(arithmetic) 연산자\n",
        "\n",
        "* 종류 : `+, -, *, /, **, //, %`\n",
        "* 산술 연산자는 일반적으로 숫자 타입(int, float)의 값들에서 사용.\n",
        "* 일부 산술 연산자는 문자열과 같은 타입에서도 사용 가능."
      ],
      "metadata": {
        "id": "FDqi-83m-J-T"
      }
    },
    {
      "cell_type": "code",
      "source": [
        "x, y = 10, 3\n",
        "print(f'{x} + {y} = {x + y}')\n",
        "print(f'{x} - {y} = {x - y}')\n",
        "print(f'{x} x {y} = {x * y}')\n",
        "print(f'{x} / {y} = {x / y}')\n",
        "print(f'{x}의 {y} 거듭제곱 = {x ** y}') # x의 y 거듭제곱\n",
        "print(f'{x}를 {y}로 나눈 몫 = {x // y}') # 몫만\n",
        "print(f'{x}를 {y}로 나눈 나머지 = {x % y}')   # 나머지만"
      ],
      "metadata": {
        "colab": {
          "base_uri": "https://localhost:8080/"
        },
        "id": "1wqyM6G_-oRz",
        "outputId": "91de1bbd-a3b5-4053-c3a7-a041bb288ef0"
      },
      "execution_count": null,
      "outputs": [
        {
          "output_type": "stream",
          "name": "stdout",
          "text": [
            "10 + 3 = 13\n",
            "10 - 3 = 7\n",
            "10 x 3 = 30\n",
            "10 / 3 = 3.3333333333333335\n",
            "10의 3 거듭제곱 = 1000\n",
            "10를 3로 나눈 몫 = 3\n",
            "10를 3로 나눈 나머지 = 1\n"
          ]
        }
      ]
    },
    {
      "cell_type": "markdown",
      "source": [
        "문자열(str) 타입에서 사용하는 산술 연산자:\n",
        "\n",
        "* `문자열 + 문자열` : concatenate. 문자열 이어 붙이기.\n",
        "* `문자열 * 정수` : 문자열을 정수만큼 복사."
      ],
      "metadata": {
        "id": "D5mY3yheBM9k"
      }
    },
    {
      "cell_type": "code",
      "source": [
        "print('Hello' + 'Python')\n",
        "print('Hello' * 3)"
      ],
      "metadata": {
        "colab": {
          "base_uri": "https://localhost:8080/"
        },
        "id": "nRDE7hgWBo9r",
        "outputId": "52e2447d-0b28-467b-f6d0-d620d587dc06"
      },
      "execution_count": null,
      "outputs": [
        {
          "output_type": "stream",
          "name": "stdout",
          "text": [
            "HelloPython\n",
            "HelloHelloHello\n"
          ]
        }
      ]
    },
    {
      "cell_type": "markdown",
      "source": [
        "## 비교 연산자, 논리 연산자\n",
        "\n",
        "* 비교 연산자 : `==, !=, >, >=, <, <=`\n",
        "* 논리 연산자 : `and, or, not`"
      ],
      "metadata": {
        "id": "G0FrnqdvCB2j"
      }
    },
    {
      "cell_type": "code",
      "source": [
        "x, y = 100, 200\n",
        "print(x == y)   # x is equal to y\n",
        "print(x != y)   # x is not equal to y\n",
        "print(x > y)    # x is greater than y\n",
        "print(x < y)    # x is less than y"
      ],
      "metadata": {
        "colab": {
          "base_uri": "https://localhost:8080/"
        },
        "id": "23Xf6aOTC7Yz",
        "outputId": "27b93df8-b5ec-4937-8ee4-b163722c4ff1"
      },
      "execution_count": null,
      "outputs": [
        {
          "output_type": "stream",
          "name": "stdout",
          "text": [
            "False\n",
            "True\n",
            "False\n",
            "True\n"
          ]
        }
      ]
    },
    {
      "cell_type": "code",
      "source": [
        "print((x > 50) and (x < 150))\n",
        "print((x < 50) or (x > 150))"
      ],
      "metadata": {
        "colab": {
          "base_uri": "https://localhost:8080/"
        },
        "id": "M6kp4BEcDXMo",
        "outputId": "1d03548e-d848-4c09-d951-4c3b316fbbed"
      },
      "execution_count": 62,
      "outputs": [
        {
          "output_type": "stream",
          "name": "stdout",
          "text": [
            "True\n",
            "False\n"
          ]
        }
      ]
    },
    {
      "cell_type": "markdown",
      "source": [
        "## 복합 할당 연산자\n",
        "\n",
        "* 종류 : `+=, -=, *=, /=, **=, //=, %=, ...`\n",
        "* 산술 연산자와 할당 연산자를 합쳐서 만들어진 연산자."
      ],
      "metadata": {
        "id": "2pGSIgWcKHOS"
      }
    },
    {
      "cell_type": "code",
      "source": [
        "x = 10\n",
        "print(x)\n",
        "# x = x + 1\n",
        "x += 1  # (1) x + 1 연산 수행 (2) 그 결과를 변수 x에 저장.\n",
        "print(x)"
      ],
      "metadata": {
        "colab": {
          "base_uri": "https://localhost:8080/"
        },
        "id": "hGVWTEz0KdAL",
        "outputId": "97e34b2c-e9b3-42c7-e165-bf3d2f1dc7e3"
      },
      "execution_count": 73,
      "outputs": [
        {
          "output_type": "stream",
          "name": "stdout",
          "text": [
            "10\n",
            "11\n"
          ]
        }
      ]
    },
    {
      "cell_type": "code",
      "source": [
        "print(1 + 2)\n",
        "print(2 + 3)\n",
        "3 + 4"
      ],
      "metadata": {
        "colab": {
          "base_uri": "https://localhost:8080/"
        },
        "id": "cOOpDBCeLVlK",
        "outputId": "adda5c65-aa4d-4710-b49d-f00e79d6a352"
      },
      "execution_count": 78,
      "outputs": [
        {
          "output_type": "stream",
          "name": "stdout",
          "text": [
            "3\n",
            "5\n"
          ]
        },
        {
          "output_type": "execute_result",
          "data": {
            "text/plain": [
              "7"
            ]
          },
          "metadata": {},
          "execution_count": 78
        }
      ]
    },
    {
      "cell_type": "markdown",
      "source": [
        "파이썬 노트북의 코드 셀은 가장 **마지막 줄**에서만 식(expression)의 결과를 출력해 주는 기능이 있음.\n",
        "\n",
        "가장 마지막 줄에서는 print() 함수를 사용하지 않아도 식의 결과를 출력할 수 있음."
      ],
      "metadata": {
        "id": "3s1U82FHMNcZ"
      }
    },
    {
      "cell_type": "markdown",
      "source": [
        "연습문제:\n",
        "* 섭씨 온도를 입력 받아서 화씨 온도로 변환한 값을 출력.\n",
        "* 화씨 = 섭씨 * 1.8 + 32"
      ],
      "metadata": {
        "id": "cimtB0VeNrNB"
      }
    },
    {
      "cell_type": "code",
      "source": [
        "celcius = float(input('섭씨 온도를 입력해주세요. >> '))\n",
        "\n",
        "fahrenheit = celcius * 1.8 + 32\n",
        "\n",
        "print(f'섭씨 {celcius} = 화씨 {fahrenheit}')"
      ],
      "metadata": {
        "colab": {
          "base_uri": "https://localhost:8080/"
        },
        "id": "g1y_D3GuNxSK",
        "outputId": "f12229dc-9c11-4031-ae54-412def01041b"
      },
      "execution_count": 87,
      "outputs": [
        {
          "output_type": "stream",
          "name": "stdout",
          "text": [
            "섭씨 온도를 입력해주세요. >> 10\n",
            "섭씨 10.0 = 화씨 50.0\n"
          ]
        }
      ]
    }
  ]
}
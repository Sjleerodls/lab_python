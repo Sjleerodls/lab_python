{
  "nbformat": 4,
  "nbformat_minor": 0,
  "metadata": {
    "colab": {
      "provenance": [],
      "toc_visible": true,
      "authorship_tag": "ABX9TyM/FKFDe2SE9EecMkOv3/wc",
      "include_colab_link": true
    },
    "kernelspec": {
      "name": "python3",
      "display_name": "Python 3"
    },
    "language_info": {
      "name": "python"
    }
  },
  "cells": [
    {
      "cell_type": "markdown",
      "metadata": {
        "id": "view-in-github",
        "colab_type": "text"
      },
      "source": [
        "<a href=\"https://colab.research.google.com/github/Sjleerodls/lab_python/blob/main/python01_intro.ipynb\" target=\"_parent\"><img src=\"https://colab.research.google.com/assets/colab-badge.svg\" alt=\"Open In Colab\"/></a>"
      ]
    },
    {
      "cell_type": "markdown",
      "source": [
        "# Colab 소개"
      ],
      "metadata": {
        "id": "q1fcWBcuNfuN"
      }
    },
    {
      "cell_type": "code",
      "execution_count": null,
      "metadata": {
        "colab": {
          "base_uri": "https://localhost:8080/"
        },
        "id": "P3t2xwhxK5MW",
        "outputId": "4f027001-79e0-47cf-d185-1cb334d204e1"
      },
      "outputs": [
        {
          "output_type": "stream",
          "name": "stdout",
          "text": [
            "안녕하세요!\n"
          ]
        }
      ],
      "source": [
        "print('안녕하세요!')"
      ]
    },
    {
      "cell_type": "markdown",
      "source": [
        "Colab 코드 셀 실행 방법:\n",
        "\n",
        "* 실행 버튼 클릭\n",
        "* 런타임 메뉴의 항목을 선택\n",
        "* 단축키\n",
        "    * Ctrl + Enter : 현재 포커스(초점)이 있는 셀을 실행.\n",
        "    * Shift + Enter : 현재 포커스가 있는 셀을 실행하고 그 다음 셀로 포커스를 이동. 만약 다음 셀이 없으면 새로운 코드 셀을 자동으로 만들어줌."
      ],
      "metadata": {
        "id": "I-ETJx5xTudD"
      }
    },
    {
      "cell_type": "markdown",
      "source": [
        "# Python 버전 확인"
      ],
      "metadata": {
        "id": "RvD9WyrIOVa8"
      }
    },
    {
      "cell_type": "code",
      "source": [
        "import sys  # sys 모듈 사용\n",
        "\n",
        "print(sys.version)"
      ],
      "metadata": {
        "colab": {
          "base_uri": "https://localhost:8080/"
        },
        "id": "sxz3zzIkMKJl",
        "outputId": "7a7cf8d5-0d0d-4247-9150-42c92e31f533"
      },
      "execution_count": null,
      "outputs": [
        {
          "output_type": "stream",
          "name": "stdout",
          "text": [
            "3.11.12 (main, Apr  9 2025, 08:55:54) [GCC 11.4.0]\n"
          ]
        }
      ]
    },
    {
      "cell_type": "markdown",
      "source": [
        "# 여러가지 print 방법"
      ],
      "metadata": {
        "id": "jvtwyvhpVWt6"
      }
    },
    {
      "cell_type": "code",
      "source": [
        "# 주석  (inline comment)\n",
        "print(\"Hello, Python!\")\n",
        "# 파이썬에서 문자열(string)은 작은따옴표('') 또는 큰따옴표(\"\") 모두 사용 가능."
      ],
      "metadata": {
        "colab": {
          "base_uri": "https://localhost:8080/"
        },
        "id": "6YvV6ENVVBPU",
        "outputId": "52a02966-0dd1-4db1-a0af-a1600d41bd2b"
      },
      "execution_count": null,
      "outputs": [
        {
          "output_type": "stream",
          "name": "stdout",
          "text": [
            "Hello, Python!\n"
          ]
        }
      ]
    },
    {
      "cell_type": "code",
      "source": [
        "print(\"I'm a boy.\")\n",
        "print('I\\'m a boy')"
      ],
      "metadata": {
        "colab": {
          "base_uri": "https://localhost:8080/"
        },
        "id": "16kARUqhWwMU",
        "outputId": "370235e1-dec8-441d-b066-96ef6fae0d6d"
      },
      "execution_count": null,
      "outputs": [
        {
          "output_type": "stream",
          "name": "stdout",
          "text": [
            "I'm a boy.\n",
            "I'm a boy\n"
          ]
        }
      ]
    },
    {
      "cell_type": "code",
      "source": [
        "print('Hello', '안녕', 'Bon jour')\n",
        "# print() 함수에 아규먼트(argument)를 여러 개 전달하면, 각각의 아규먼트들을 공백으로 연결해서 한 줄에 출력."
      ],
      "metadata": {
        "colab": {
          "base_uri": "https://localhost:8080/"
        },
        "id": "-bC4MA2IXd17",
        "outputId": "83d43b67-0e88-47de-998a-5cb205bcac40"
      },
      "execution_count": null,
      "outputs": [
        {
          "output_type": "stream",
          "name": "stdout",
          "text": [
            "Hello 안녕 Bon jour\n"
          ]
        }
      ]
    },
    {
      "cell_type": "code",
      "source": [
        "print(1, '+', 2, '=', 3)"
      ],
      "metadata": {
        "colab": {
          "base_uri": "https://localhost:8080/"
        },
        "id": "buaglMDGYOvh",
        "outputId": "fe0ce057-8f2b-436c-e19c-0ab81a359c94"
      },
      "execution_count": null,
      "outputs": [
        {
          "output_type": "stream",
          "name": "stdout",
          "text": [
            "1 + 2 = 3\n"
          ]
        }
      ]
    },
    {
      "cell_type": "code",
      "source": [
        "x = 100     # 변수_이름 = 값\n",
        "y = 20\n",
        "\n",
        "print(x, '+', y, '=', (x+y))\n",
        "print('{} + {} = {}')\n",
        "print('{} + {} = {}'.format(x,y,x + y))     # placeholder\n",
        "print('{a} + {b} = {c}'.format(a=x, b=y, c=(x+y)))\n",
        "print('{a} + {b} = {c}'.format(c=(x+y), a=x, b=y))  # 순서가 바뀌어도 가능\n",
        "print(f'{x} + {y} = {x + y}')   # f-string(formatted string): 파이썬 3.6 버전 이상에서 사용 가능."
      ],
      "metadata": {
        "colab": {
          "base_uri": "https://localhost:8080/"
        },
        "id": "fl3jop_kY9d0",
        "outputId": "a0116562-0487-41a0-92e0-a54da8754e37"
      },
      "execution_count": null,
      "outputs": [
        {
          "output_type": "stream",
          "name": "stdout",
          "text": [
            "100 + 20 = 120\n",
            "{} + {} = {}\n",
            "100 + 20 = 120\n",
            "100 + 20 = 120\n",
            "100 + 20 = 120\n",
            "100 + 20 = 120\n"
          ]
        }
      ]
    },
    {
      "cell_type": "code",
      "source": [
        "# 변수 x, y 사칙연산 (+, -, *, /) 결과를 1줄씩 출력\n",
        "print(f'{x} + {y} = {x+y}')\n",
        "print(f'{x} - {y} = {x-y}')\n",
        "print(f'{x} * {y} = {x*y}')\n",
        "print(f'{x} / {y} = {x/y}')"
      ],
      "metadata": {
        "colab": {
          "base_uri": "https://localhost:8080/"
        },
        "id": "c78BFgLCbnKV",
        "outputId": "cbf593db-53cb-4e9c-bc35-8a8dffede425"
      },
      "execution_count": null,
      "outputs": [
        {
          "output_type": "stream",
          "name": "stdout",
          "text": [
            "100 + 20 = 120\n",
            "100 - 20 = 80\n",
            "100 * 20 = 2000\n",
            "100 / 20 = 5.0\n"
          ]
        }
      ]
    },
    {
      "cell_type": "markdown",
      "source": [
        "사용자(키보드) 입력값을 출력"
      ],
      "metadata": {
        "id": "oZ9Le99GgoIj"
      }
    },
    {
      "cell_type": "code",
      "source": [
        "name = input('이름을 입력하세요.')\n",
        "print(f'안녕하세요, {name}님!')"
      ],
      "metadata": {
        "colab": {
          "base_uri": "https://localhost:8080/"
        },
        "id": "gSmVNJKkgt57",
        "outputId": "7ac1efa7-764e-4e5c-9efd-0043f04d266e"
      },
      "execution_count": null,
      "outputs": [
        {
          "output_type": "stream",
          "name": "stdout",
          "text": [
            "이름을 입력하세요.오쌤\n",
            "안녕하세요, 오쌤님!\n"
          ]
        }
      ]
    }
  ]
}
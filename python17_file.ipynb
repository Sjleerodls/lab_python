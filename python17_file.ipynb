{
  "nbformat": 4,
  "nbformat_minor": 0,
  "metadata": {
    "colab": {
      "provenance": [],
      "toc_visible": true,
      "mount_file_id": "1BW5qczXPoh8hVzkcjks0SLTQNKHyPaX3",
      "authorship_tag": "ABX9TyOzQqqTuo8HirO/1Tad/58I",
      "include_colab_link": true
    },
    "kernelspec": {
      "name": "python3",
      "display_name": "Python 3"
    },
    "language_info": {
      "name": "python"
    }
  },
  "cells": [
    {
      "cell_type": "markdown",
      "metadata": {
        "id": "view-in-github",
        "colab_type": "text"
      },
      "source": [
        "<a href=\"https://colab.research.google.com/github/Sjleerodls/lab_python/blob/main/python17_file.ipynb\" target=\"_parent\"><img src=\"https://colab.research.google.com/assets/colab-badge.svg\" alt=\"Open In Colab\"/></a>"
      ]
    },
    {
      "cell_type": "markdown",
      "source": [
        "# 파일 쓰기(file write)"
      ],
      "metadata": {
        "id": "MkKKV9jPFXpS"
      }
    },
    {
      "cell_type": "markdown",
      "source": [
        "1. 파일 열기(open)\n",
        "1. 파일 쓰기(write)\n",
        "1. 파일 닫기(close)\n",
        "\n",
        "`open(file, mode, ...)` 함수\n",
        "* `file`: 폴더(디렉토리) 이름을 포함한 전체 파일 경로(이름)\n",
        "* `mode`:\n",
        "    * 'r' : read. 읽기 전용 모드. 기본값(생략 가능).\n",
        "    * 'w' : write. 쓰기 모드. 기존에 작성된 내용을 모두 지우고 처음부터 새로 쓰기 시작.\n",
        "    * 'a' : append. 추가 모드. 기존에 작성된 내용 뒤에 이어쓰기.\n",
        "    * 't' : text. 텍스트 읽기/쓰기. 기본값(생략 가능).\n",
        "    * 'b' : binary. 바이너리 형식(이미지, 동영상, ...) 읽기/쓰기."
      ],
      "metadata": {
        "id": "tA9MaQSdFzwQ"
      }
    },
    {
      "cell_type": "code",
      "source": [
        "# step 1. 파일 읽기\n",
        "f = open('hello.txt', mode = 'w')\n",
        "\n",
        "# step 2. 파일에 내용을 쓰기\n",
        "f.write('Hello, Python!\\n')\n",
        "f.write('안녕, 파이썬\\n')\n",
        "f.write('010-0000-0000\\n')\n",
        "\n",
        "# step 3. 파일 닫기\n",
        "f.close()"
      ],
      "metadata": {
        "id": "FQFjbs0XGa84"
      },
      "execution_count": 7,
      "outputs": []
    },
    {
      "cell_type": "markdown",
      "source": [
        "파일을 열(open) 때, mode 파라미터를 'w' 또는 'a'로 설정하는 경우\n",
        "* 파일이 없으면 새로운 파일을 만듦.\n",
        "* 파일이 있으면 기존 파일을 열어줌.\n",
        "\n",
        "open() 함수의 mode 파라미터를 'r'로 설정한 경우, 파일이 없으면 에러가 발생!"
      ],
      "metadata": {
        "id": "a0w1IQWpHzIA"
      }
    },
    {
      "cell_type": "markdown",
      "source": [
        "`with ... as 변수선언` 구문\n",
        "\n",
        "변수에서 close 메서드를 자동으로 호출"
      ],
      "metadata": {
        "id": "RESwj9Ga8NpH"
      }
    },
    {
      "cell_type": "code",
      "source": [
        "with open('hello.txt', mode='at') as f:\n",
        "    f.write('점심 맛있게 드셨나요?\\n')\n",
        "    f.write('0123456789\\n')\n",
        "    # f.close()를 명시적으로 호출할 필요가 없음. 자동으로 호출됨."
      ],
      "metadata": {
        "id": "e-hSjEXqICgg"
      },
      "execution_count": 8,
      "outputs": []
    },
    {
      "cell_type": "markdown",
      "source": [
        "# 파일 읽기(file read)\n",
        "\n",
        "1. 파일 열기(open)\n",
        "1. 파일에서 내용 읽기(read)\n",
        "1. 파일 닫기(close)\n",
        "\n",
        "`with ... as 변수` 구문을 사용하면 close() 메서드는 자동으로 호출됨."
      ],
      "metadata": {
        "id": "XtqN7jtV8lvm"
      }
    },
    {
      "cell_type": "code",
      "source": [
        "with open('hello.txt') as f:    # hello.txt 파일을 'r(ead) t(ext)' 모드로 열기.\n",
        "    line = f.readline()\n",
        "    print(line.strip())\n",
        "    line = f.readline()\n",
        "    print(line.strip())"
      ],
      "metadata": {
        "colab": {
          "base_uri": "https://localhost:8080/"
        },
        "id": "FEjQTGvj81nG",
        "outputId": "a8719415-9705-4d5f-9fcd-b9f421cabb2f"
      },
      "execution_count": 9,
      "outputs": [
        {
          "output_type": "stream",
          "name": "stdout",
          "text": [
            "Hello, Python!\n",
            "안녕, 파이썬\n"
          ]
        }
      ]
    },
    {
      "cell_type": "markdown",
      "source": [
        "`for ... in iterable` 구문에서 파일 스트림 객체를 사용할 수 있음.\n",
        "\n",
        "for-in 구문에서는 readline() 메서드를 명시적으로 호출할 필요가 없음."
      ],
      "metadata": {
        "id": "sWxor5STE5Th"
      }
    },
    {
      "cell_type": "code",
      "execution_count": 10,
      "metadata": {
        "colab": {
          "base_uri": "https://localhost:8080/"
        },
        "id": "k_08MnU0E1qz",
        "outputId": "57014edb-b165-44d8-b75e-6b8c63c84e00"
      },
      "outputs": [
        {
          "output_type": "stream",
          "name": "stdout",
          "text": [
            "Hello, Python!\n",
            "안녕, 파이썬\n",
            "010-0000-0000\n",
            "점심 맛있게 드셨나요?\n",
            "0123456789\n"
          ]
        }
      ],
      "source": [
        "with open('hello.txt') as f:   # hello.txt 파일을 읽기 모드로 열기\n",
        "    for line in f:      # 파일 스트림 객체에서 한 줄씩 파일 끝까지 읽기\n",
        "        print(line.strip())"
      ]
    },
    {
      "cell_type": "markdown",
      "source": [
        "# Google Drive에서 파일 쓰기/읽기"
      ],
      "metadata": {
        "id": "y_7o2kdPHMaP"
      }
    },
    {
      "cell_type": "markdown",
      "source": [
        "## Google Drive에 파일 쓰기"
      ],
      "metadata": {
        "id": "aaC4_neRHPYn"
      }
    },
    {
      "cell_type": "code",
      "source": [
        "# 구글 드라이브에 저장할 파일 경로(이름)\n",
        "file_path = '/content/drive/MyDrive/Colab Notebooks/lab_python/emails.txt'"
      ],
      "metadata": {
        "id": "zoKWz2_rHO1q"
      },
      "execution_count": 4,
      "outputs": []
    },
    {
      "cell_type": "code",
      "source": [
        "with open(file_path, mode='w') as f:\n",
        "    f.write('hgd@gmail.com\\n')\n",
        "    f.write('gildong@itwill.com\\n')\n",
        "    f.write('hgd@naver.com\\n')"
      ],
      "metadata": {
        "id": "SQ2XrR-zIb7R"
      },
      "execution_count": 5,
      "outputs": []
    },
    {
      "cell_type": "markdown",
      "source": [
        "## 구글 드라이브에 저장된 파일 내용 읽기"
      ],
      "metadata": {
        "id": "zjuzm5zlJVe3"
      }
    },
    {
      "cell_type": "code",
      "source": [
        "with open(file_path) as f:\n",
        "    for line in f:\n",
        "        print(line.strip())"
      ],
      "metadata": {
        "colab": {
          "base_uri": "https://localhost:8080/"
        },
        "id": "NFid7yXWIydn",
        "outputId": "6311204e-dc6f-418b-e670-f1260abbb5d6"
      },
      "execution_count": 8,
      "outputs": [
        {
          "output_type": "stream",
          "name": "stdout",
          "text": [
            "hgd@gmail.com\n",
            "gildong@itwill.com\n",
            "hgd@naver.com\n"
          ]
        }
      ]
    }
  ]
}
{
  "nbformat": 4,
  "nbformat_minor": 0,
  "metadata": {
    "colab": {
      "provenance": [],
      "toc_visible": true,
      "authorship_tag": "ABX9TyO6pyEhnbieyiLuUKPmNnGk",
      "include_colab_link": true
    },
    "kernelspec": {
      "name": "python3",
      "display_name": "Python 3"
    },
    "language_info": {
      "name": "python"
    }
  },
  "cells": [
    {
      "cell_type": "markdown",
      "metadata": {
        "id": "view-in-github",
        "colab_type": "text"
      },
      "source": [
        "<a href=\"https://colab.research.google.com/github/Sjleerodls/lab_python/blob/main/python12_lambda.ipynb\" target=\"_parent\"><img src=\"https://colab.research.google.com/assets/colab-badge.svg\" alt=\"Open In Colab\"/></a>"
      ]
    },
    {
      "cell_type": "markdown",
      "source": [
        "# 1급 객체(first-class object)로서의 함수"
      ],
      "metadata": {
        "id": "OsGWi3PYfu1M"
      }
    },
    {
      "cell_type": "markdown",
      "source": [
        "**함수(function)는 객체(object)다**\n",
        "\n",
        "* 객체(object) : 숫자, 문자열, 논리값, list, tuple, dict, ...        \n",
        "# 객체란 변수에 저장 할 수 있는것.\n",
        "# a = 1, a = '일', a = True, a = [1, 2, 3], a = (4, 5, 6), a = {'1' : '일', '2' : '이', ...}\n",
        "* 객체는 변수에 할당(저장)할 수 있음.\n",
        "* 객체는 함수 아규먼트로 전달 할 수 있음.\n",
        "* 객체는 함수가 리턴할 수 있음.\n",
        "* 객체는 함수 내부에서 선언하고 사용할 수 있음."
      ],
      "metadata": {
        "id": "oJOJljaQgEoh"
      }
    },
    {
      "cell_type": "code",
      "source": [
        "x = 1   # 정수 1을 변수 x에 할당\n",
        "print(x)    # 정수 객체 x를 print 함수의 아규먼트로 전달."
      ],
      "metadata": {
        "colab": {
          "base_uri": "https://localhost:8080/"
        },
        "id": "BeYnYlz8hkYA",
        "outputId": "8a6a578b-bcf8-40ab-8bdc-9bcdf5d6c467"
      },
      "execution_count": 4,
      "outputs": [
        {
          "output_type": "stream",
          "name": "stdout",
          "text": [
            "1\n"
          ]
        }
      ]
    },
    {
      "cell_type": "code",
      "source": [
        "result = len('안녕~')   # 함수 len() 리턴값을 변수 result에 할당.\n",
        "print(result)"
      ],
      "metadata": {
        "colab": {
          "base_uri": "https://localhost:8080/"
        },
        "id": "DizTA8fjhhEX",
        "outputId": "ea828c18-49b5-4343-f8c0-2f21370f540c"
      },
      "execution_count": 5,
      "outputs": [
        {
          "output_type": "stream",
          "name": "stdout",
          "text": [
            "3\n"
          ]
        }
      ]
    },
    {
      "cell_type": "code",
      "source": [
        "def double(x):\n",
        "    return x * 2"
      ],
      "metadata": {
        "id": "bH7eGgHJhd8J"
      },
      "execution_count": 6,
      "outputs": []
    },
    {
      "cell_type": "code",
      "source": [
        "print(double(11))   # double() 함수를 호출하고, 그 리턴값을 출력."
      ],
      "metadata": {
        "colab": {
          "base_uri": "https://localhost:8080/"
        },
        "id": "D_QnhUIWg_KW",
        "outputId": "209fc447-3b67-489b-d4ba-f2735eb6a993"
      },
      "execution_count": 14,
      "outputs": [
        {
          "output_type": "execute_result",
          "data": {
            "text/plain": [
              "22"
            ]
          },
          "metadata": {},
          "execution_count": 14
        }
      ]
    },
    {
      "cell_type": "code",
      "execution_count": 18,
      "metadata": {
        "colab": {
          "base_uri": "https://localhost:8080/"
        },
        "id": "dsnw0xKifpa-",
        "outputId": "b545c6f5-3325-4fc5-ab76-5f11fed0781e"
      },
      "outputs": [
        {
          "output_type": "stream",
          "name": "stdout",
          "text": [
            "<function double at 0x780c6ea1efc0>\n"
          ]
        }
      ],
      "source": [
        "print(double)   # 함수 객체 출력"
      ]
    },
    {
      "cell_type": "markdown",
      "source": [
        "## 함수를 변수에 할당"
      ],
      "metadata": {
        "id": "FlNyBL-akd54"
      }
    },
    {
      "cell_type": "code",
      "source": [
        "twice = double  # 함수 객체를 변수 twice에 할당.\n",
        "print(twice)"
      ],
      "metadata": {
        "colab": {
          "base_uri": "https://localhost:8080/"
        },
        "id": "cWwiQu24kfNZ",
        "outputId": "093c41c3-fd11-497b-d414-6312663503e3"
      },
      "execution_count": 21,
      "outputs": [
        {
          "output_type": "stream",
          "name": "stdout",
          "text": [
            "<function double at 0x780c6ea1efc0>\n"
          ]
        }
      ]
    },
    {
      "cell_type": "code",
      "source": [
        "twice(12)"
      ],
      "metadata": {
        "colab": {
          "base_uri": "https://localhost:8080/"
        },
        "id": "2rHZOPWfkoUY",
        "outputId": "572f3ed7-a886-4bc0-d0f5-9f397958d472"
      },
      "execution_count": 23,
      "outputs": [
        {
          "output_type": "execute_result",
          "data": {
            "text/plain": [
              "24"
            ]
          },
          "metadata": {},
          "execution_count": 23
        }
      ]
    },
    {
      "cell_type": "markdown",
      "source": [
        "## 아규먼트로 함수를 전달"
      ],
      "metadata": {
        "id": "uvbo-TfrpMBg"
      }
    },
    {
      "cell_type": "code",
      "source": [
        "def calculator(x, y, fn):\n",
        "    result = fn(x, y)\n",
        "    return result"
      ],
      "metadata": {
        "id": "py6gkNcGpPgw"
      },
      "execution_count": 30,
      "outputs": []
    },
    {
      "cell_type": "code",
      "source": [
        "def plus(x , y):\n",
        "    return x + y"
      ],
      "metadata": {
        "id": "pB2Mk9gplNlV"
      },
      "execution_count": 31,
      "outputs": []
    },
    {
      "cell_type": "code",
      "source": [
        "calculator(1, 2, plus)"
      ],
      "metadata": {
        "colab": {
          "base_uri": "https://localhost:8080/"
        },
        "id": "7I_7cutep3Lt",
        "outputId": "57f971d5-467c-477d-a284-48f3c5993bb1"
      },
      "execution_count": 32,
      "outputs": [
        {
          "output_type": "execute_result",
          "data": {
            "text/plain": [
              "3"
            ]
          },
          "metadata": {},
          "execution_count": 32
        }
      ]
    },
    {
      "cell_type": "code",
      "source": [
        "def minus(x, y):\n",
        "    return x - y"
      ],
      "metadata": {
        "id": "13eLxyksp5nk"
      },
      "execution_count": 33,
      "outputs": []
    },
    {
      "cell_type": "code",
      "source": [
        "calculator(1, 2, minus)"
      ],
      "metadata": {
        "colab": {
          "base_uri": "https://localhost:8080/"
        },
        "id": "CdxuVSqIqidj",
        "outputId": "f92ca7d5-1dac-4cf5-de35-223d5eaa3df3"
      },
      "execution_count": 34,
      "outputs": [
        {
          "output_type": "execute_result",
          "data": {
            "text/plain": [
              "-1"
            ]
          },
          "metadata": {},
          "execution_count": 34
        }
      ]
    },
    {
      "cell_type": "code",
      "source": [
        "def is_greater(x, y):\n",
        "    return x > y"
      ],
      "metadata": {
        "id": "7naKsZYAqnOS"
      },
      "execution_count": 35,
      "outputs": []
    },
    {
      "cell_type": "code",
      "source": [
        "calculator(1, 2, is_greater)"
      ],
      "metadata": {
        "colab": {
          "base_uri": "https://localhost:8080/"
        },
        "id": "pLEIzc_irUXR",
        "outputId": "bd7a69c2-67fc-442e-a550-4147a165d976"
      },
      "execution_count": 36,
      "outputs": [
        {
          "output_type": "execute_result",
          "data": {
            "text/plain": [
              "False"
            ]
          },
          "metadata": {},
          "execution_count": 36
        }
      ]
    },
    {
      "cell_type": "markdown",
      "source": [
        "## 내부 함수, 함수를 리턴하는 함수"
      ],
      "metadata": {
        "id": "V5Oe2a4Sr-oa"
      }
    },
    {
      "cell_type": "markdown",
      "source": [
        "내부 함수(inner function), 지역 함수(local function):\n",
        "\n",
        "* 함수 내부에서 선언하는 함수.\n",
        "* 선언된 함수 안에서만 호출할 수 있음.(일반적으로는)\n",
        "* 선언된 함수 바깥에서는 호출할 수 없음.\n",
        "* 외부 함수의 지역 변수들(파라미터 포함)을 사용할 수 있음."
      ],
      "metadata": {
        "id": "CACn-H1IsB9H"
      }
    },
    {
      "cell_type": "code",
      "source": [
        "def make_incrementor(n):\n",
        "    # 내부 함수 선언\n",
        "    def add_n(x):\n",
        "        return x + n\n",
        "\n",
        "    # 함수 객체를 리턴.\n",
        "    return add_n"
      ],
      "metadata": {
        "id": "_nd_66B4soO9"
      },
      "execution_count": 40,
      "outputs": []
    },
    {
      "cell_type": "code",
      "source": [
        "add_n(10)   #> 내부 함수 이름을 단독으로 사용할 수는 없음."
      ],
      "metadata": {
        "colab": {
          "base_uri": "https://localhost:8080/",
          "height": 147
        },
        "id": "PH-vgV57u0Jx",
        "outputId": "9da58ec9-505f-463f-ed36-69e1be1c907e"
      },
      "execution_count": 43,
      "outputs": [
        {
          "output_type": "error",
          "ename": "NameError",
          "evalue": "name 'add_n' is not defined",
          "traceback": [
            "\u001b[0;31m---------------------------------------------------------------------------\u001b[0m",
            "\u001b[0;31mNameError\u001b[0m                                 Traceback (most recent call last)",
            "\u001b[0;32m<ipython-input-43-2838669459>\u001b[0m in \u001b[0;36m<cell line: 0>\u001b[0;34m()\u001b[0m\n\u001b[0;32m----> 1\u001b[0;31m \u001b[0madd_n\u001b[0m\u001b[0;34m(\u001b[0m\u001b[0;36m10\u001b[0m\u001b[0;34m)\u001b[0m\u001b[0;34m\u001b[0m\u001b[0;34m\u001b[0m\u001b[0m\n\u001b[0m",
            "\u001b[0;31mNameError\u001b[0m: name 'add_n' is not defined"
          ]
        }
      ]
    },
    {
      "cell_type": "code",
      "source": [
        "plus_2 = make_incrementor(2)\n",
        "print(plus_2)\n",
        "plus_2(10)"
      ],
      "metadata": {
        "colab": {
          "base_uri": "https://localhost:8080/"
        },
        "id": "96ErqGkftBV8",
        "outputId": "0000aba4-d367-4dd0-de90-5163d8f8709c"
      },
      "execution_count": 47,
      "outputs": [
        {
          "output_type": "stream",
          "name": "stdout",
          "text": [
            "<function make_incrementor.<locals>.add_n at 0x780c565634c0>\n"
          ]
        },
        {
          "output_type": "execute_result",
          "data": {
            "text/plain": [
              "12"
            ]
          },
          "metadata": {},
          "execution_count": 47
        }
      ]
    },
    {
      "cell_type": "code",
      "source": [
        "plus_10 = make_incrementor(10)\n",
        "plus_10(10)"
      ],
      "metadata": {
        "colab": {
          "base_uri": "https://localhost:8080/"
        },
        "id": "OojH42IQsBbx",
        "outputId": "a2fd1c91-8244-4892-fe73-6eb35b6f2fdf"
      },
      "execution_count": 48,
      "outputs": [
        {
          "output_type": "execute_result",
          "data": {
            "text/plain": [
              "20"
            ]
          },
          "metadata": {},
          "execution_count": 48
        }
      ]
    },
    {
      "cell_type": "code",
      "source": [
        "make_incrementor(3)(123)    # fn(123)과 동일함."
      ],
      "metadata": {
        "colab": {
          "base_uri": "https://localhost:8080/"
        },
        "id": "L84RC8PGraSh",
        "outputId": "2c8d00ce-2c4b-4de9-d5f1-cef1a0c8dc9a"
      },
      "execution_count": 50,
      "outputs": [
        {
          "output_type": "execute_result",
          "data": {
            "text/plain": [
              "126"
            ]
          },
          "metadata": {},
          "execution_count": 50
        }
      ]
    },
    {
      "cell_type": "markdown",
      "source": [
        "# 람다 표현식(Lambda Expression)\n",
        "\n",
        "* 이름이 없는 함수.\n",
        "* 함수 이름 선언 없이, 파라미터 선언과 반환 값 또는 반환 식으로 함수를 선언하는 것.\n",
        "* 람다 표현식 변수에 할당할 수 있음. **함수의 아규먼트로 람다 표현식을 사용**할 수 있음.\n",
        "\n",
        "```\n",
        "lambda param1, param2, ...: expression(식)\n",
        "```"
      ],
      "metadata": {
        "id": "_GK2M_xAwb4m"
      }
    },
    {
      "cell_type": "code",
      "source": [
        "# 함수 선언\n",
        "# def plus_one(x):\n",
        "#     return x + 1\n",
        "\n",
        "# 람다 표현식\n",
        "plus_one = lambda x : x + 1\n",
        "print(plus_one)\n",
        "plus_one(11)"
      ],
      "metadata": {
        "colab": {
          "base_uri": "https://localhost:8080/"
        },
        "id": "Ij-nHwtwxWz9",
        "outputId": "e9027767-49ca-4b40-b725-cb020704e23e"
      },
      "execution_count": 57,
      "outputs": [
        {
          "output_type": "stream",
          "name": "stdout",
          "text": [
            "<function <lambda> at 0x780c56561c60>\n"
          ]
        },
        {
          "output_type": "execute_result",
          "data": {
            "text/plain": [
              "12"
            ]
          },
          "metadata": {},
          "execution_count": 57
        }
      ]
    },
    {
      "cell_type": "code",
      "source": [
        "calculator(11, 22, lambda x , y : x + y)"
      ],
      "metadata": {
        "colab": {
          "base_uri": "https://localhost:8080/"
        },
        "id": "w0ERciQTwf4u",
        "outputId": "7369615b-1bec-40ba-c3b9-b5e6f0ed0265"
      },
      "execution_count": 59,
      "outputs": [
        {
          "output_type": "execute_result",
          "data": {
            "text/plain": [
              "33"
            ]
          },
          "metadata": {},
          "execution_count": 59
        }
      ]
    },
    {
      "cell_type": "code",
      "source": [
        "calculator(1, 2, lambda x, y : x - y)"
      ],
      "metadata": {
        "colab": {
          "base_uri": "https://localhost:8080/"
        },
        "id": "szdpr0495cKb",
        "outputId": "2ef47fcf-9568-4ad2-b625-b0d387e076cb"
      },
      "execution_count": 61,
      "outputs": [
        {
          "output_type": "execute_result",
          "data": {
            "text/plain": [
              "-1"
            ]
          },
          "metadata": {},
          "execution_count": 61
        }
      ]
    },
    {
      "cell_type": "code",
      "source": [
        "calculator(2, 3, lambda x, y : x * y)"
      ],
      "metadata": {
        "colab": {
          "base_uri": "https://localhost:8080/"
        },
        "id": "WU9i5qZF5g8T",
        "outputId": "436ed6b1-e0d6-4acf-a7e0-40465c932f77"
      },
      "execution_count": 63,
      "outputs": [
        {
          "output_type": "execute_result",
          "data": {
            "text/plain": [
              "6"
            ]
          },
          "metadata": {},
          "execution_count": 63
        }
      ]
    },
    {
      "cell_type": "code",
      "source": [
        "calculator(3, 1, lambda x, y : x > y)"
      ],
      "metadata": {
        "colab": {
          "base_uri": "https://localhost:8080/"
        },
        "id": "Qzgkf4Ku5xEj",
        "outputId": "09c7cd79-1dd9-4296-9c95-2f0f475ae29b"
      },
      "execution_count": 64,
      "outputs": [
        {
          "output_type": "execute_result",
          "data": {
            "text/plain": [
              "True"
            ]
          },
          "metadata": {},
          "execution_count": 64
        }
      ]
    },
    {
      "cell_type": "markdown",
      "source": [
        "## lambda를 아규먼트로 전달하는 예\n",
        "\n",
        "* filter : 조건을 만족하는 아이템들을 찾기.\n",
        "    * `filter(function, iterable)` : iterable의 원소들을 하나씩 순서대로 function의 아규먼트로 전달해서, function이 True를 리턴하는 원소들만 선택.\n",
        "        * function(x) ==> True/False\n",
        "* map : 아이템을 일정한 규칙에 따라서 다른 값으로 변환(매핑)\n",
        "    * `map(function, iterable)` : iterable의 원소들을 하나씩 순서대로 function 아규먼트로 전달해서, function이 리턴하는 값들을 저장.\n",
        "        * function(x) ==> object"
      ],
      "metadata": {
        "id": "qNSdkp416a2r"
      }
    },
    {
      "cell_type": "code",
      "source": [
        "import random"
      ],
      "metadata": {
        "id": "SCQG42957m-a"
      },
      "execution_count": 65,
      "outputs": []
    },
    {
      "cell_type": "code",
      "source": [
        "numbers = [random.randrange(100) for _ in range(10)]\n",
        "numbers"
      ],
      "metadata": {
        "colab": {
          "base_uri": "https://localhost:8080/"
        },
        "id": "ThrXWX_c6nwS",
        "outputId": "d0ea78ee-248b-4902-f5df-8ca088c66e11"
      },
      "execution_count": 66,
      "outputs": [
        {
          "output_type": "execute_result",
          "data": {
            "text/plain": [
              "[80, 90, 34, 35, 11, 4, 3, 84, 65, 64]"
            ]
          },
          "metadata": {},
          "execution_count": 66
        }
      ]
    },
    {
      "cell_type": "code",
      "source": [
        "# 리스트 numbers의 원소들 중에서 홀수들만 필터링.\n",
        "[x for x in numbers if x % 2]"
      ],
      "metadata": {
        "colab": {
          "base_uri": "https://localhost:8080/"
        },
        "id": "ajFP1XCWQgGj",
        "outputId": "1265b262-67d9-4da3-9cdf-2c9177907499"
      },
      "execution_count": 68,
      "outputs": [
        {
          "output_type": "execute_result",
          "data": {
            "text/plain": [
              "[35, 11, 3, 65]"
            ]
          },
          "metadata": {},
          "execution_count": 68
        }
      ]
    },
    {
      "cell_type": "code",
      "source": [
        "result = filter(lambda x : x % 2 == 1, numbers)\n",
        "print(result)\n",
        "print([result])\n",
        "list(result)"
      ],
      "metadata": {
        "colab": {
          "base_uri": "https://localhost:8080/"
        },
        "id": "F5Xim815RU0V",
        "outputId": "2aa7ed02-f9ed-468a-8517-0b59308afd8e"
      },
      "execution_count": 71,
      "outputs": [
        {
          "output_type": "stream",
          "name": "stdout",
          "text": [
            "<filter object at 0x780c3c7d2e30>\n",
            "[<filter object at 0x780c3c7d2e30>]\n"
          ]
        },
        {
          "output_type": "execute_result",
          "data": {
            "text/plain": [
              "[35, 11, 3, 65]"
            ]
          },
          "metadata": {},
          "execution_count": 71
        }
      ]
    },
    {
      "cell_type": "code",
      "source": [
        "# numbers의 원소들 중에서 짝수들만 필터링\n",
        "result2 = filter(lambda x : x % 2 == 0, numbers)\n",
        "print(list(result2))"
      ],
      "metadata": {
        "colab": {
          "base_uri": "https://localhost:8080/"
        },
        "id": "6MnHPlHtR5b7",
        "outputId": "de17a7fa-8bbf-416b-ea57-d321ebbd1b74"
      },
      "execution_count": 72,
      "outputs": [
        {
          "output_type": "stream",
          "name": "stdout",
          "text": [
            "[80, 90, 34, 4, 84, 64]\n"
          ]
        }
      ]
    },
    {
      "cell_type": "code",
      "source": [
        "# 리스트 numbers의 원소가 짝수인 경우에는 'even', 홀수인 경우에는 'odd'로 매핑\n",
        "['even' if x % 2 == 0 else 'odd' for x in numbers]"
      ],
      "metadata": {
        "colab": {
          "base_uri": "https://localhost:8080/"
        },
        "id": "SaV-_7AmS8ab",
        "outputId": "8b960510-ca66-41fc-b826-517f5b136ed2"
      },
      "execution_count": 74,
      "outputs": [
        {
          "output_type": "execute_result",
          "data": {
            "text/plain": [
              "['even', 'even', 'even', 'odd', 'odd', 'even', 'odd', 'even', 'odd', 'even']"
            ]
          },
          "metadata": {},
          "execution_count": 74
        }
      ]
    },
    {
      "cell_type": "code",
      "source": [
        "result = map(lambda x : 'even' if x % 2 == 0 else 'odd', numbers)\n",
        "list(result)"
      ],
      "metadata": {
        "colab": {
          "base_uri": "https://localhost:8080/"
        },
        "id": "XHkHai_aVDgD",
        "outputId": "e66751ad-89ad-47ec-ca31-bd2879bb6309"
      },
      "execution_count": 75,
      "outputs": [
        {
          "output_type": "execute_result",
          "data": {
            "text/plain": [
              "['even', 'even', 'even', 'odd', 'odd', 'even', 'odd', 'even', 'odd', 'even']"
            ]
          },
          "metadata": {},
          "execution_count": 75
        }
      ]
    },
    {
      "cell_type": "code",
      "source": [
        "# numbers의 원소가 짝수이면 True, 홀수이면 Flase로 매핑\n",
        "result = map(lambda x : True if x % 2 == 0 else False, numbers)\n",
        "list(result)"
      ],
      "metadata": {
        "colab": {
          "base_uri": "https://localhost:8080/"
        },
        "id": "voeNLXW0Vsoy",
        "outputId": "da3c56d8-1e24-436f-9f42-80e1936585d6"
      },
      "execution_count": 77,
      "outputs": [
        {
          "output_type": "execute_result",
          "data": {
            "text/plain": [
              "[True, True, True, False, False, True, False, True, False, True]"
            ]
          },
          "metadata": {},
          "execution_count": 77
        }
      ]
    },
    {
      "cell_type": "code",
      "source": [
        "# numbers의 원소가 0 ~ 19이면 'teen', 20 ~ 59이면 'adult', 60 이상이면 'senior'로 매핑\n",
        "# result = map(lambda x : 'teen' if x in range(0,20) 'adult' elif x in range(20,60) else 'senior', numbers)\n",
        "result = map(lambda x : 'teen' if x <= 20 else ('adult' if 20 <= x <= 59 else 'senior'), numbers)\n",
        "print(list(result))\n",
        "numbers"
      ],
      "metadata": {
        "colab": {
          "base_uri": "https://localhost:8080/"
        },
        "id": "qY8maVy-WYgb",
        "outputId": "794213c9-9d36-4e03-be78-41e1d67185f8"
      },
      "execution_count": 83,
      "outputs": [
        {
          "output_type": "stream",
          "name": "stdout",
          "text": [
            "['senior', 'senior', 'adult', 'adult', 'teen', 'teen', 'teen', 'senior', 'senior', 'senior']\n"
          ]
        },
        {
          "output_type": "execute_result",
          "data": {
            "text/plain": [
              "[80, 90, 34, 35, 11, 4, 3, 84, 65, 64]"
            ]
          },
          "metadata": {},
          "execution_count": 83
        }
      ]
    },
    {
      "cell_type": "markdown",
      "source": [
        "## filter 함수 구현"
      ],
      "metadata": {
        "id": "wX9ldMoSeU97"
      }
    },
    {
      "cell_type": "code",
      "source": [
        "def my_filter(iterable, function):\n",
        "    \"\"\"\n",
        "    iterable의 아이템들 중에서 function의 결과가 True가 되는 아이템들로 이루어진 리스트를 리턴.\n",
        "\n",
        "    @param iterable - list 또는 tuple\n",
        "    @param function - 아규먼트가 1개이고 리턴값은 True/False인 함수.\n",
        "    @return 리스트(list).\n",
        "    \"\"\"\n",
        "    # result = [] # 필터링한(조건을 만족하는) 아이템들을 저장하기 위한 빈 리스트.\n",
        "    # for x in iterable:  # iterable의 원소들을 순서대로 하나씩 순회하면서\n",
        "    #     if function(x): # 원소를 function의 아규먼트로 전달했을 때 True를 리턴하면(조건을 만족하면)\n",
        "    #         result.append(x)    # 리스트에 추가함.\n",
        "    result = [x for x in iterable if function(x)]\n",
        "\n",
        "    return result"
      ],
      "metadata": {
        "id": "zA_HVZfvebmy"
      },
      "execution_count": 84,
      "outputs": []
    },
    {
      "cell_type": "code",
      "source": [
        "numbers = [random.randrange(10) for _ in range(10)]\n",
        "print(numbers)\n",
        "evens = my_filter(numbers, lambda x: x%2 == 0)\n",
        "evens"
      ],
      "metadata": {
        "colab": {
          "base_uri": "https://localhost:8080/"
        },
        "id": "piTAWH3wgXC7",
        "outputId": "007232b7-7525-4de4-bcca-e6d575a94e9f"
      },
      "execution_count": 89,
      "outputs": [
        {
          "output_type": "stream",
          "name": "stdout",
          "text": [
            "[7, 1, 4, 8, 1, 6, 6, 3, 8, 4]\n"
          ]
        },
        {
          "output_type": "execute_result",
          "data": {
            "text/plain": [
              "[4, 8, 6, 6, 8, 4]"
            ]
          },
          "metadata": {},
          "execution_count": 89
        }
      ]
    },
    {
      "cell_type": "code",
      "source": [
        "numbers = [random.randrange(-10, 11) for _ in range(20)]\n",
        "print(numbers)\n",
        "positives = my_filter(numbers, lambda x: x > 0)\n",
        "print(positives)"
      ],
      "metadata": {
        "colab": {
          "base_uri": "https://localhost:8080/"
        },
        "id": "RpD-Eo7eh0yS",
        "outputId": "70f051d1-badf-400e-8c92-97855cea7fa8"
      },
      "execution_count": 94,
      "outputs": [
        {
          "output_type": "stream",
          "name": "stdout",
          "text": [
            "[-1, -5, -2, -10, 5, -3, -9, 4, 2, 8, 10, 9, -1, -5, -7, 7, 5, 10, 10, 9]\n",
            "[5, 4, 2, 8, 10, 9, 7, 5, 10, 10, 9]\n"
          ]
        }
      ]
    },
    {
      "cell_type": "code",
      "source": [
        "languages = ['Python', 'SQL', 'Java', 'JavaScript', 'R']\n",
        "\n",
        "# languages의 문자열들 중에서 길이가 5 이상인 문자열들을 필터링\n",
        "result = my_filter(languages, lambda x: len(x) >= 5)\n",
        "print(result)"
      ],
      "metadata": {
        "colab": {
          "base_uri": "https://localhost:8080/"
        },
        "id": "s-n8T6bpi9-L",
        "outputId": "aa8a09de-2d9f-44a8-cff7-5afbebb9c306"
      },
      "execution_count": 97,
      "outputs": [
        {
          "output_type": "stream",
          "name": "stdout",
          "text": [
            "['Python', 'JavaScript']\n"
          ]
        }
      ]
    },
    {
      "cell_type": "markdown",
      "source": [
        "## map 함수 구현"
      ],
      "metadata": {
        "id": "3Vl407z1kGnK"
      }
    },
    {
      "cell_type": "code",
      "source": [
        "def my_map(iterable, function):\n",
        "    \"\"\"\n",
        "    iterable의 원소를 함수 function의 아규먼트로 전달했을 때 그 리턴 값들을 저장한 리스트를 리턴\n",
        "\n",
        "    @param iterable - list 또는 tuple.\n",
        "    @param function - 아규먼트가 1개이고, 리턴값이 있는 함수.\n",
        "    @return list.\n",
        "    \"\"\"\n",
        "    # result = []\n",
        "    # for x in iterable:\n",
        "    #     result.append(function(x))\n",
        "\n",
        "    result = [function(x) for x in iterable]\n",
        "\n",
        "    return(result)"
      ],
      "metadata": {
        "id": "3rl88lqgkH0L"
      },
      "execution_count": 123,
      "outputs": []
    },
    {
      "cell_type": "code",
      "source": [
        "numbers = [random.randrange(-20, 20) for _ in range(10)]\n",
        "print(numbers)\n",
        "result = my_map(numbers, lambda x : x > 0)\n",
        "print(result)"
      ],
      "metadata": {
        "colab": {
          "base_uri": "https://localhost:8080/"
        },
        "id": "QnTU68OrjPiS",
        "outputId": "d804f85f-b9d8-40a6-bad5-253dd0ac1d6a"
      },
      "execution_count": 125,
      "outputs": [
        {
          "output_type": "stream",
          "name": "stdout",
          "text": [
            "[-17, -5, 1, 10, -20, 3, -17, -3, -11, -17]\n",
            "[False, False, True, True, False, True, False, False, False, False]\n"
          ]
        }
      ]
    },
    {
      "cell_type": "code",
      "source": [
        "numbers = [random.randrange(10) for _ in range(10)]\n",
        "print(numbers)\n",
        "result = my_map(numbers, lambda x: '짝수' if x%2==0 else '홀수')\n",
        "print(result)"
      ],
      "metadata": {
        "colab": {
          "base_uri": "https://localhost:8080/"
        },
        "id": "dgyZvjSGob4a",
        "outputId": "a85b656a-2131-4ead-da1a-a4d2c16c8284"
      },
      "execution_count": 126,
      "outputs": [
        {
          "output_type": "stream",
          "name": "stdout",
          "text": [
            "[8, 1, 8, 2, 6, 0, 6, 5, 4, 2]\n",
            "['짝수', '홀수', '짝수', '짝수', '짝수', '짝수', '짝수', '홀수', '짝수', '짝수']\n"
          ]
        }
      ]
    }
  ]
}
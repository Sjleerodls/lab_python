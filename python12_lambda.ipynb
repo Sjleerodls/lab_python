{
  "nbformat": 4,
  "nbformat_minor": 0,
  "metadata": {
    "colab": {
      "provenance": [],
      "toc_visible": true,
      "authorship_tag": "ABX9TyNs2e0777jcMig5hI9/9Teq",
      "include_colab_link": true
    },
    "kernelspec": {
      "name": "python3",
      "display_name": "Python 3"
    },
    "language_info": {
      "name": "python"
    }
  },
  "cells": [
    {
      "cell_type": "markdown",
      "metadata": {
        "id": "view-in-github",
        "colab_type": "text"
      },
      "source": [
        "<a href=\"https://colab.research.google.com/github/Sjleerodls/lab_python/blob/main/python12_lambda.ipynb\" target=\"_parent\"><img src=\"https://colab.research.google.com/assets/colab-badge.svg\" alt=\"Open In Colab\"/></a>"
      ]
    },
    {
      "cell_type": "markdown",
      "source": [
        "# 1급 객체(first-class object)로서의 함수"
      ],
      "metadata": {
        "id": "OsGWi3PYfu1M"
      }
    },
    {
      "cell_type": "markdown",
      "source": [
        "**함수(function)는 객체(object)다**\n",
        "\n",
        "* 객체(object) : 숫자, 문자열, 논리값, list, tuple, dict, ...        \n",
        "# 객체란 변수에 저장 할 수 있는것.\n",
        "# a = 1, a = '일', a = True, a = [1, 2, 3], a = (4, 5, 6), a = {'1' : '일', '2' : '이', ...}\n",
        "* 객체는 변수에 할당(저장)할 수 있음.\n",
        "* 객체는 함수 아규먼트로 전달 할 수 있음.\n",
        "* 객체는 함수가 리턴할 수 있음.\n",
        "* 객체는 함수 내부에서 선언하고 사용할 수 있음."
      ],
      "metadata": {
        "id": "oJOJljaQgEoh"
      }
    },
    {
      "cell_type": "code",
      "source": [
        "x = 1   # 정수 1을 변수 x에 할당\n",
        "print(x)    # 정수 객체 x를 print 함수의 아규먼트로 전달."
      ],
      "metadata": {
        "colab": {
          "base_uri": "https://localhost:8080/"
        },
        "id": "BeYnYlz8hkYA",
        "outputId": "8a6a578b-bcf8-40ab-8bdc-9bcdf5d6c467"
      },
      "execution_count": 4,
      "outputs": [
        {
          "output_type": "stream",
          "name": "stdout",
          "text": [
            "1\n"
          ]
        }
      ]
    },
    {
      "cell_type": "code",
      "source": [
        "result = len('안녕~')   # 함수 len() 리턴값을 변수 result에 할당.\n",
        "print(result)"
      ],
      "metadata": {
        "colab": {
          "base_uri": "https://localhost:8080/"
        },
        "id": "DizTA8fjhhEX",
        "outputId": "ea828c18-49b5-4343-f8c0-2f21370f540c"
      },
      "execution_count": 5,
      "outputs": [
        {
          "output_type": "stream",
          "name": "stdout",
          "text": [
            "3\n"
          ]
        }
      ]
    },
    {
      "cell_type": "code",
      "source": [
        "def double(x):\n",
        "    return x * 2"
      ],
      "metadata": {
        "id": "bH7eGgHJhd8J"
      },
      "execution_count": 6,
      "outputs": []
    },
    {
      "cell_type": "code",
      "source": [
        "print(double(11))   # double() 함수를 호출하고, 그 리턴값을 출력."
      ],
      "metadata": {
        "colab": {
          "base_uri": "https://localhost:8080/"
        },
        "id": "D_QnhUIWg_KW",
        "outputId": "209fc447-3b67-489b-d4ba-f2735eb6a993"
      },
      "execution_count": 14,
      "outputs": [
        {
          "output_type": "execute_result",
          "data": {
            "text/plain": [
              "22"
            ]
          },
          "metadata": {},
          "execution_count": 14
        }
      ]
    },
    {
      "cell_type": "code",
      "execution_count": 18,
      "metadata": {
        "colab": {
          "base_uri": "https://localhost:8080/"
        },
        "id": "dsnw0xKifpa-",
        "outputId": "b545c6f5-3325-4fc5-ab76-5f11fed0781e"
      },
      "outputs": [
        {
          "output_type": "stream",
          "name": "stdout",
          "text": [
            "<function double at 0x780c6ea1efc0>\n"
          ]
        }
      ],
      "source": [
        "print(double)   # 함수 객체 출력"
      ]
    },
    {
      "cell_type": "markdown",
      "source": [
        "## 함수를 변수에 할당"
      ],
      "metadata": {
        "id": "FlNyBL-akd54"
      }
    },
    {
      "cell_type": "code",
      "source": [
        "twice = double  # 함수 객체를 변수 twice에 할당.\n",
        "print(twice)"
      ],
      "metadata": {
        "colab": {
          "base_uri": "https://localhost:8080/"
        },
        "id": "cWwiQu24kfNZ",
        "outputId": "093c41c3-fd11-497b-d414-6312663503e3"
      },
      "execution_count": 21,
      "outputs": [
        {
          "output_type": "stream",
          "name": "stdout",
          "text": [
            "<function double at 0x780c6ea1efc0>\n"
          ]
        }
      ]
    },
    {
      "cell_type": "code",
      "source": [
        "twice(12)"
      ],
      "metadata": {
        "colab": {
          "base_uri": "https://localhost:8080/"
        },
        "id": "2rHZOPWfkoUY",
        "outputId": "572f3ed7-a886-4bc0-d0f5-9f397958d472"
      },
      "execution_count": 23,
      "outputs": [
        {
          "output_type": "execute_result",
          "data": {
            "text/plain": [
              "24"
            ]
          },
          "metadata": {},
          "execution_count": 23
        }
      ]
    },
    {
      "cell_type": "markdown",
      "source": [
        "## 아규먼트로 함수를 전달"
      ],
      "metadata": {
        "id": "uvbo-TfrpMBg"
      }
    },
    {
      "cell_type": "code",
      "source": [
        "def calculator(x, y, fn):\n",
        "    result = fn(x, y)\n",
        "    return result"
      ],
      "metadata": {
        "id": "py6gkNcGpPgw"
      },
      "execution_count": 30,
      "outputs": []
    },
    {
      "cell_type": "code",
      "source": [
        "def plus(x , y):\n",
        "    return x + y"
      ],
      "metadata": {
        "id": "pB2Mk9gplNlV"
      },
      "execution_count": 31,
      "outputs": []
    },
    {
      "cell_type": "code",
      "source": [
        "calculator(1, 2, plus)"
      ],
      "metadata": {
        "colab": {
          "base_uri": "https://localhost:8080/"
        },
        "id": "7I_7cutep3Lt",
        "outputId": "57f971d5-467c-477d-a284-48f3c5993bb1"
      },
      "execution_count": 32,
      "outputs": [
        {
          "output_type": "execute_result",
          "data": {
            "text/plain": [
              "3"
            ]
          },
          "metadata": {},
          "execution_count": 32
        }
      ]
    },
    {
      "cell_type": "code",
      "source": [
        "def minus(x, y):\n",
        "    return x - y"
      ],
      "metadata": {
        "id": "13eLxyksp5nk"
      },
      "execution_count": 33,
      "outputs": []
    },
    {
      "cell_type": "code",
      "source": [
        "calculator(1, 2, minus)"
      ],
      "metadata": {
        "colab": {
          "base_uri": "https://localhost:8080/"
        },
        "id": "CdxuVSqIqidj",
        "outputId": "f92ca7d5-1dac-4cf5-de35-223d5eaa3df3"
      },
      "execution_count": 34,
      "outputs": [
        {
          "output_type": "execute_result",
          "data": {
            "text/plain": [
              "-1"
            ]
          },
          "metadata": {},
          "execution_count": 34
        }
      ]
    },
    {
      "cell_type": "code",
      "source": [
        "def is_greater(x, y):\n",
        "    return x > y"
      ],
      "metadata": {
        "id": "7naKsZYAqnOS"
      },
      "execution_count": 35,
      "outputs": []
    },
    {
      "cell_type": "code",
      "source": [
        "calculator(1, 2, is_greater)"
      ],
      "metadata": {
        "colab": {
          "base_uri": "https://localhost:8080/"
        },
        "id": "pLEIzc_irUXR",
        "outputId": "bd7a69c2-67fc-442e-a550-4147a165d976"
      },
      "execution_count": 36,
      "outputs": [
        {
          "output_type": "execute_result",
          "data": {
            "text/plain": [
              "False"
            ]
          },
          "metadata": {},
          "execution_count": 36
        }
      ]
    },
    {
      "cell_type": "markdown",
      "source": [
        "## 내부 함수, 함수를 리턴하는 함수"
      ],
      "metadata": {
        "id": "V5Oe2a4Sr-oa"
      }
    },
    {
      "cell_type": "markdown",
      "source": [
        "내부 함수(inner function), 지역 함수(local function):\n",
        "\n",
        "* 함수 내부에서 선언하는 함수.\n",
        "* 선언된 함수 안에서만 호출할 수 있음.(일반적으로는)\n",
        "* 선언된 함수 바깥에서는 호출할 수 없음.\n",
        "* 외부 함수의 지역 변수들(파라미터 포함)을 사용할 수 있음."
      ],
      "metadata": {
        "id": "CACn-H1IsB9H"
      }
    },
    {
      "cell_type": "code",
      "source": [
        "def make_incrementor(n):\n",
        "    # 내부 함수 선언\n",
        "    def add_n(x):\n",
        "        return x + n\n",
        "\n",
        "    # 함수 객체를 리턴.\n",
        "    return add_n"
      ],
      "metadata": {
        "id": "_nd_66B4soO9"
      },
      "execution_count": 40,
      "outputs": []
    },
    {
      "cell_type": "code",
      "source": [
        "add_n(10)   #> 내부 함수 이름을 단독으로 사용할 수는 없음."
      ],
      "metadata": {
        "colab": {
          "base_uri": "https://localhost:8080/",
          "height": 147
        },
        "id": "PH-vgV57u0Jx",
        "outputId": "9da58ec9-505f-463f-ed36-69e1be1c907e"
      },
      "execution_count": 43,
      "outputs": [
        {
          "output_type": "error",
          "ename": "NameError",
          "evalue": "name 'add_n' is not defined",
          "traceback": [
            "\u001b[0;31m---------------------------------------------------------------------------\u001b[0m",
            "\u001b[0;31mNameError\u001b[0m                                 Traceback (most recent call last)",
            "\u001b[0;32m<ipython-input-43-2838669459>\u001b[0m in \u001b[0;36m<cell line: 0>\u001b[0;34m()\u001b[0m\n\u001b[0;32m----> 1\u001b[0;31m \u001b[0madd_n\u001b[0m\u001b[0;34m(\u001b[0m\u001b[0;36m10\u001b[0m\u001b[0;34m)\u001b[0m\u001b[0;34m\u001b[0m\u001b[0;34m\u001b[0m\u001b[0m\n\u001b[0m",
            "\u001b[0;31mNameError\u001b[0m: name 'add_n' is not defined"
          ]
        }
      ]
    },
    {
      "cell_type": "code",
      "source": [
        "plus_2 = make_incrementor(2)\n",
        "print(plus_2)\n",
        "plus_2(10)"
      ],
      "metadata": {
        "colab": {
          "base_uri": "https://localhost:8080/"
        },
        "id": "96ErqGkftBV8",
        "outputId": "0000aba4-d367-4dd0-de90-5163d8f8709c"
      },
      "execution_count": 47,
      "outputs": [
        {
          "output_type": "stream",
          "name": "stdout",
          "text": [
            "<function make_incrementor.<locals>.add_n at 0x780c565634c0>\n"
          ]
        },
        {
          "output_type": "execute_result",
          "data": {
            "text/plain": [
              "12"
            ]
          },
          "metadata": {},
          "execution_count": 47
        }
      ]
    },
    {
      "cell_type": "code",
      "source": [
        "plus_10 = make_incrementor(10)\n",
        "plus_10(10)"
      ],
      "metadata": {
        "colab": {
          "base_uri": "https://localhost:8080/"
        },
        "id": "OojH42IQsBbx",
        "outputId": "a2fd1c91-8244-4892-fe73-6eb35b6f2fdf"
      },
      "execution_count": 48,
      "outputs": [
        {
          "output_type": "execute_result",
          "data": {
            "text/plain": [
              "20"
            ]
          },
          "metadata": {},
          "execution_count": 48
        }
      ]
    },
    {
      "cell_type": "code",
      "source": [
        "make_incrementor(3)(123)    # fn(123)과 동일함."
      ],
      "metadata": {
        "colab": {
          "base_uri": "https://localhost:8080/"
        },
        "id": "L84RC8PGraSh",
        "outputId": "2c8d00ce-2c4b-4de9-d5f1-cef1a0c8dc9a"
      },
      "execution_count": 50,
      "outputs": [
        {
          "output_type": "execute_result",
          "data": {
            "text/plain": [
              "126"
            ]
          },
          "metadata": {},
          "execution_count": 50
        }
      ]
    },
    {
      "cell_type": "markdown",
      "source": [
        "# 람다 표현식(Lambda Expression)\n",
        "\n",
        "* 이름이 없는 함수.\n",
        "* 함수 이름 선언 없이, 파라미터 선언과 반환 값 또는 반환 식으로 함수를 선언하는 것.\n",
        "* 람다 표현식 변수에 할당할 수 있음. **함수의 아규먼트로 람다 표현식을 사용**할 수 있음.\n",
        "\n",
        "```\n",
        "lambda param1, param2, ...: expression(식)\n",
        "```"
      ],
      "metadata": {
        "id": "_GK2M_xAwb4m"
      }
    },
    {
      "cell_type": "code",
      "source": [
        "# 함수 선언\n",
        "# def plus_one(x):\n",
        "#     return x + 1\n",
        "\n",
        "# 람다 표현식\n",
        "plus_one = lambda x : x + 1\n",
        "print(plus_one)\n",
        "plus_one(11)"
      ],
      "metadata": {
        "colab": {
          "base_uri": "https://localhost:8080/"
        },
        "id": "Ij-nHwtwxWz9",
        "outputId": "e9027767-49ca-4b40-b725-cb020704e23e"
      },
      "execution_count": 57,
      "outputs": [
        {
          "output_type": "stream",
          "name": "stdout",
          "text": [
            "<function <lambda> at 0x780c56561c60>\n"
          ]
        },
        {
          "output_type": "execute_result",
          "data": {
            "text/plain": [
              "12"
            ]
          },
          "metadata": {},
          "execution_count": 57
        }
      ]
    },
    {
      "cell_type": "code",
      "source": [],
      "metadata": {
        "id": "w0ERciQTwf4u"
      },
      "execution_count": null,
      "outputs": []
    }
  ]
}
{
  "nbformat": 4,
  "nbformat_minor": 0,
  "metadata": {
    "colab": {
      "provenance": [],
      "toc_visible": true,
      "authorship_tag": "ABX9TyMoCRTbRz8Ruc7/5aJCVTiI",
      "include_colab_link": true
    },
    "kernelspec": {
      "name": "python3",
      "display_name": "Python 3"
    },
    "language_info": {
      "name": "python"
    }
  },
  "cells": [
    {
      "cell_type": "markdown",
      "metadata": {
        "id": "view-in-github",
        "colab_type": "text"
      },
      "source": [
        "<a href=\"https://colab.research.google.com/github/Sjleerodls/lab_python/blob/main/python07_tuple.ipynb\" target=\"_parent\"><img src=\"https://colab.research.google.com/assets/colab-badge.svg\" alt=\"Open In Colab\"/></a>"
      ]
    },
    {
      "cell_type": "markdown",
      "source": [
        "# 튜플 (tuple)\n",
        "\n",
        "* `tuple` : 저장된 아이템들을 변경할 수 없는 리스트.\n",
        "* 인덱스 기반의 데이터 타입.\n",
        "    * indexing : 특정 인덱스 위치의 아이템을 읽어옴.\n",
        "    * slicing : 특정 인덱스 범위의 아이템들로 이루어진 **새로운 튜플**을 만듦.\n",
        "* append, extend, insert, pop, remove, clear, ... 와 같은 함수들이 제공되지 않음."
      ],
      "metadata": {
        "id": "EfkwhPUy5a0y"
      }
    },
    {
      "cell_type": "code",
      "execution_count": 1,
      "metadata": {
        "colab": {
          "base_uri": "https://localhost:8080/"
        },
        "id": "5V5ZZ0cV5V7y",
        "outputId": "0d020707-13f0-4922-a7a7-087af0cc99db"
      },
      "outputs": [
        {
          "output_type": "stream",
          "name": "stdout",
          "text": [
            "<class 'tuple'>\n"
          ]
        },
        {
          "output_type": "execute_result",
          "data": {
            "text/plain": [
              "(1, 2, 3, 1, 1, 2)"
            ]
          },
          "metadata": {},
          "execution_count": 1
        }
      ],
      "source": [
        "numbers = (1, 2, 3, 1, 1, 2)\n",
        "print(type(numbers))\n",
        "numbers"
      ]
    },
    {
      "cell_type": "code",
      "source": [
        "len(numbers)    # 튜플의 아이템의 개수를 알고 싶을 때"
      ],
      "metadata": {
        "colab": {
          "base_uri": "https://localhost:8080/"
        },
        "id": "l1aq_ajo7fGb",
        "outputId": "ef31eb22-4118-4d72-cb93-2434f0b5f1c3"
      },
      "execution_count": 2,
      "outputs": [
        {
          "output_type": "execute_result",
          "data": {
            "text/plain": [
              "6"
            ]
          },
          "metadata": {},
          "execution_count": 2
        }
      ]
    },
    {
      "cell_type": "code",
      "source": [
        "numbers.count(1)    # list|tuple.count(value) : 리스트 또는 튜플에서 value가 나오는 횟수를 리턴."
      ],
      "metadata": {
        "colab": {
          "base_uri": "https://localhost:8080/"
        },
        "id": "Eox3HAQr7qiN",
        "outputId": "21c8eeb7-9869-435b-bc31-3fb759d7ce97"
      },
      "execution_count": 3,
      "outputs": [
        {
          "output_type": "execute_result",
          "data": {
            "text/plain": [
              "3"
            ]
          },
          "metadata": {},
          "execution_count": 3
        }
      ]
    },
    {
      "cell_type": "code",
      "source": [
        "numbers.index(3)    # list|tuple.index(value) : 리스트 또는 튜플에서 value가 처음 나오는 인덱스를 리턴."
      ],
      "metadata": {
        "colab": {
          "base_uri": "https://localhost:8080/"
        },
        "id": "ricdq-ul8WYS",
        "outputId": "abdd634a-44d1-4259-ca27-501cca26bcba"
      },
      "execution_count": 7,
      "outputs": [
        {
          "output_type": "execute_result",
          "data": {
            "text/plain": [
              "2"
            ]
          },
          "metadata": {},
          "execution_count": 7
        }
      ]
    },
    {
      "cell_type": "markdown",
      "source": [
        "# Indexing"
      ],
      "metadata": {
        "id": "tk6db-Xd9IFR"
      }
    },
    {
      "cell_type": "code",
      "source": [
        "numbers"
      ],
      "metadata": {
        "colab": {
          "base_uri": "https://localhost:8080/"
        },
        "id": "KXNAUfB39HR6",
        "outputId": "dccf1ca0-b56e-4647-9f29-ee873edaa000"
      },
      "execution_count": 31,
      "outputs": [
        {
          "output_type": "execute_result",
          "data": {
            "text/plain": [
              "(1, 2, 3, 1, 1, 2)"
            ]
          },
          "metadata": {},
          "execution_count": 31
        }
      ]
    },
    {
      "cell_type": "code",
      "source": [
        "numbers[0]  # 튜플 numbers의 첫 번째 원소"
      ],
      "metadata": {
        "colab": {
          "base_uri": "https://localhost:8080/"
        },
        "id": "H7GhOeQP9LYh",
        "outputId": "ad6910f9-2531-49c4-92b4-47d5db354d4b"
      },
      "execution_count": 33,
      "outputs": [
        {
          "output_type": "execute_result",
          "data": {
            "text/plain": [
              "1"
            ]
          },
          "metadata": {},
          "execution_count": 33
        }
      ]
    },
    {
      "cell_type": "code",
      "source": [
        "numbers[-1] # 튜플 numbers의 마지막 원소"
      ],
      "metadata": {
        "colab": {
          "base_uri": "https://localhost:8080/"
        },
        "id": "mdMZ5HJN9M2a",
        "outputId": "942c8977-a89c-4943-f225-699eac8e4a06"
      },
      "execution_count": 35,
      "outputs": [
        {
          "output_type": "execute_result",
          "data": {
            "text/plain": [
              "2"
            ]
          },
          "metadata": {},
          "execution_count": 35
        }
      ]
    },
    {
      "cell_type": "markdown",
      "source": [
        "# Slicing"
      ],
      "metadata": {
        "id": "4FqB9tNX9jIB"
      }
    },
    {
      "cell_type": "code",
      "source": [
        "numbers[:3] # 튜플에서 첫 3개 원소들을 자른 결과 튜플"
      ],
      "metadata": {
        "colab": {
          "base_uri": "https://localhost:8080/"
        },
        "id": "MVGeaV2A9ahs",
        "outputId": "b164d2b9-8349-43b7-a81d-b916b9f3d229"
      },
      "execution_count": 8,
      "outputs": [
        {
          "output_type": "execute_result",
          "data": {
            "text/plain": [
              "(1, 2, 3)"
            ]
          },
          "metadata": {},
          "execution_count": 8
        }
      ]
    },
    {
      "cell_type": "code",
      "source": [
        "numbers[-3:]    # 튜플에서 마지막 3개 원소들을 자른 결과 튜플"
      ],
      "metadata": {
        "colab": {
          "base_uri": "https://localhost:8080/"
        },
        "id": "fZmttE1k9nYJ",
        "outputId": "1538bd70-f233-487b-e3df-13fbf54c48ec"
      },
      "execution_count": 9,
      "outputs": [
        {
          "output_type": "execute_result",
          "data": {
            "text/plain": [
              "(1, 1, 2)"
            ]
          },
          "metadata": {},
          "execution_count": 9
        }
      ]
    },
    {
      "cell_type": "markdown",
      "source": [
        "# tuple과 for 반복문"
      ],
      "metadata": {
        "id": "4E-acU26Bj7h"
      }
    },
    {
      "cell_type": "code",
      "source": [
        "for x in (1, 10, -2, -20, 30):\n",
        "    print(x)"
      ],
      "metadata": {
        "colab": {
          "base_uri": "https://localhost:8080/"
        },
        "id": "CC2zflP1Bdk7",
        "outputId": "e77df3fb-984a-4dcc-e4aa-4416b86d6099"
      },
      "execution_count": 41,
      "outputs": [
        {
          "output_type": "stream",
          "name": "stdout",
          "text": [
            "1\n",
            "10\n",
            "-2\n",
            "-20\n",
            "30\n"
          ]
        }
      ]
    },
    {
      "cell_type": "code",
      "source": [
        "matrix = (\n",
        "    (1, 2, 3),\n",
        "    (4, 5, 6),\n",
        "    (7, 8, 9)\n",
        ")"
      ],
      "metadata": {
        "id": "s_ueaY9PCArJ"
      },
      "execution_count": 42,
      "outputs": []
    },
    {
      "cell_type": "code",
      "source": [
        "for row in matrix:\n",
        "    for x in row:\n",
        "        print(x, end ='\\t')\n",
        "    print()"
      ],
      "metadata": {
        "colab": {
          "base_uri": "https://localhost:8080/"
        },
        "id": "5oKZ5p8xCMW5",
        "outputId": "f1036575-17eb-4e33-bc07-a8bf93d18a39"
      },
      "execution_count": 45,
      "outputs": [
        {
          "output_type": "stream",
          "name": "stdout",
          "text": [
            "1\t2\t3\t\n",
            "4\t5\t6\t\n",
            "7\t8\t9\t\n"
          ]
        }
      ]
    },
    {
      "cell_type": "markdown",
      "source": [
        "# list | tuple decomposition(분해)"
      ],
      "metadata": {
        "id": "yTedldQADfbZ"
      }
    },
    {
      "cell_type": "code",
      "source": [
        "integers = (1, 2, 3)\n",
        "# x = integers[0]\n",
        "# y = integers[1]\n",
        "# z = integers[2]\n",
        "\n",
        "# x, y, z = integers[0], integers[1], integers[2]\n",
        "\n",
        "x, y, z = integers\n",
        "print(x, y, z)"
      ],
      "metadata": {
        "colab": {
          "base_uri": "https://localhost:8080/"
        },
        "id": "BWKnZluUDmHh",
        "outputId": "5317eb7d-98f8-4ad9-e312-048140ae5a3f"
      },
      "execution_count": 10,
      "outputs": [
        {
          "output_type": "stream",
          "name": "stdout",
          "text": [
            "1 2 3\n"
          ]
        }
      ]
    },
    {
      "cell_type": "code",
      "source": [
        "names = ['홍길동', '오쌤']\n",
        "person1, person2 = names\n",
        "print(person1, person2)"
      ],
      "metadata": {
        "colab": {
          "base_uri": "https://localhost:8080/"
        },
        "id": "IPjTLHqbE7PL",
        "outputId": "cb818b4b-b30b-4373-a819-eb31360dd306"
      },
      "execution_count": 52,
      "outputs": [
        {
          "output_type": "stream",
          "name": "stdout",
          "text": [
            "홍길동 오쌤\n"
          ]
        }
      ]
    }
  ]
}
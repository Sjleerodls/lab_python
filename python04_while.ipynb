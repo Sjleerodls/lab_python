{
  "nbformat": 4,
  "nbformat_minor": 0,
  "metadata": {
    "colab": {
      "provenance": [],
      "toc_visible": true,
      "authorship_tag": "ABX9TyPM+0zDhHP7bcncwcZsAF6c",
      "include_colab_link": true
    },
    "kernelspec": {
      "name": "python3",
      "display_name": "Python 3"
    },
    "language_info": {
      "name": "python"
    }
  },
  "cells": [
    {
      "cell_type": "markdown",
      "metadata": {
        "id": "view-in-github",
        "colab_type": "text"
      },
      "source": [
        "<a href=\"https://colab.research.google.com/github/Sjleerodls/lab_python/blob/main/python04_while.ipynb\" target=\"_parent\"><img src=\"https://colab.research.google.com/assets/colab-badge.svg\" alt=\"Open In Colab\"/></a>"
      ]
    },
    {
      "cell_type": "markdown",
      "source": [
        "# while 반복문(loop)"
      ],
      "metadata": {
        "id": "WrDe70u-rL7Z"
      }
    },
    {
      "cell_type": "markdown",
      "source": [
        "```\n",
        "[초기화 문장]\n",
        "while 조건식:\n",
        "    조건식을 만족하는 동안에 반복할 코드 블록\n",
        "    [조건을 변경할 수 있는 문장]\n",
        "```\n",
        "\n",
        "* 조건식을 만족하는 동안에 블록 내부를 실행.\n",
        "* 조건식을 만족하지 못하면 (조건식이 False가 되면) 반복을 멈춤.\n",
        "* `while 조건식` 다음에는 반드시 콜론(:)을 사용해야 함.\n",
        "* 블록 안에서 들여쓰기는 일정한 크기로 작성."
      ],
      "metadata": {
        "id": "-ZWjldj2rRa3"
      }
    },
    {
      "cell_type": "code",
      "execution_count": 4,
      "metadata": {
        "colab": {
          "base_uri": "https://localhost:8080/"
        },
        "id": "_fGdhq1WrDnA",
        "outputId": "58e2b626-9d0f-431c-8878-22e7c37ff5f9"
      },
      "outputs": [
        {
          "output_type": "stream",
          "name": "stdout",
          "text": [
            "1\n",
            "2\n",
            "3\n",
            "4\n",
            "5\n"
          ]
        }
      ],
      "source": [
        "# 1 ~ 5까지 순서대로 출력\n",
        "\n",
        "n = 1\n",
        "while n <= 5:   # 변수 n의 값이 5보다 작거나 같으면 반복\n",
        "    print(n)\n",
        "    n += 1"
      ]
    },
    {
      "cell_type": "code",
      "source": [
        "# 5 ~ 1까지 내림차순으로 출력\n",
        "\n",
        "n = 5\n",
        "while n >= 1:   # 변수 n의 값이 1보다 크거나 같을때까지 반복\n",
        "    print(n)\n",
        "    n -= 1"
      ],
      "metadata": {
        "colab": {
          "base_uri": "https://localhost:8080/"
        },
        "id": "y-5JhpMYs2Kg",
        "outputId": "caef0416-b776-4c52-d87b-121e159e6772"
      },
      "execution_count": 9,
      "outputs": [
        {
          "output_type": "stream",
          "name": "stdout",
          "text": [
            "5\n",
            "4\n",
            "3\n",
            "2\n",
            "1\n"
          ]
        }
      ]
    },
    {
      "cell_type": "code",
      "source": [
        "# 2 4 6 8 10 출력\n",
        "\n",
        "n = 2\n",
        "while n < 11:\n",
        "    print(n)\n",
        "    n += 2"
      ],
      "metadata": {
        "colab": {
          "base_uri": "https://localhost:8080/"
        },
        "id": "AkX9XK_utUdg",
        "outputId": "5c305682-5f33-4aca-c9c0-a4bb27b55f33"
      },
      "execution_count": 13,
      "outputs": [
        {
          "output_type": "stream",
          "name": "stdout",
          "text": [
            "2\n",
            "4\n",
            "6\n",
            "8\n",
            "10\n"
          ]
        }
      ]
    },
    {
      "cell_type": "code",
      "source": [
        "n = 2\n",
        "while n <= 10:  # n이 10 이하이면 반복\n",
        "    if n % 2 == 0:  # n이 짝수면\n",
        "        print(n)\n",
        "    n += 1"
      ],
      "metadata": {
        "colab": {
          "base_uri": "https://localhost:8080/"
        },
        "id": "tVXYZLSLu4sI",
        "outputId": "48d7794d-9fcc-4762-ceb3-906b8e54d041"
      },
      "execution_count": 16,
      "outputs": [
        {
          "output_type": "stream",
          "name": "stdout",
          "text": [
            "2\n",
            "4\n",
            "6\n",
            "8\n",
            "10\n"
          ]
        }
      ]
    },
    {
      "cell_type": "code",
      "source": [
        "# 9 7 5 3 1 출력\n",
        "\n",
        "n = 9\n",
        "while n > 0:\n",
        "    print(n)\n",
        "    n -= 2"
      ],
      "metadata": {
        "colab": {
          "base_uri": "https://localhost:8080/"
        },
        "id": "uRA1IhpithvQ",
        "outputId": "91070d1c-f501-407f-9a9f-24f79ac3b249"
      },
      "execution_count": 17,
      "outputs": [
        {
          "output_type": "stream",
          "name": "stdout",
          "text": [
            "9\n",
            "7\n",
            "5\n",
            "3\n",
            "1\n"
          ]
        }
      ]
    },
    {
      "cell_type": "code",
      "source": [
        "n = 9\n",
        "while n > 0:\n",
        "    if n % 2:   # if n % 2 == 1:\n",
        "        print(n)\n",
        "    n -= 1"
      ],
      "metadata": {
        "colab": {
          "base_uri": "https://localhost:8080/"
        },
        "id": "ROtiNrMSv4bm",
        "outputId": "d9330748-7f3e-4ef8-dc2a-01b6929395db"
      },
      "execution_count": 18,
      "outputs": [
        {
          "output_type": "stream",
          "name": "stdout",
          "text": [
            "9\n",
            "7\n",
            "5\n",
            "3\n",
            "1\n"
          ]
        }
      ]
    }
  ]
}